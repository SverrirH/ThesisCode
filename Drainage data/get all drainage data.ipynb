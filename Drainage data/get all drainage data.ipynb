{
 "cells": [
  {
   "cell_type": "code",
   "execution_count": 1,
   "metadata": {},
   "outputs": [],
   "source": [
    "\n",
    "import pandas as pd\n",
    "import matplotlib.pyplot as plt\n",
    "import json\n",
    "import datetime\n",
    "import numpy as np\n",
    "import pyodbc"
   ]
  },
  {
   "cell_type": "code",
   "execution_count": 2,
   "metadata": {},
   "outputs": [
    {
     "data": {
      "text/html": [
       "<div>\n",
       "<style scoped>\n",
       "    .dataframe tbody tr th:only-of-type {\n",
       "        vertical-align: middle;\n",
       "    }\n",
       "\n",
       "    .dataframe tbody tr th {\n",
       "        vertical-align: top;\n",
       "    }\n",
       "\n",
       "    .dataframe thead th {\n",
       "        text-align: right;\n",
       "    }\n",
       "</style>\n",
       "<table border=\"1\" class=\"dataframe\">\n",
       "  <thead>\n",
       "    <tr style=\"text-align: right;\">\n",
       "      <th></th>\n",
       "      <th>name:</th>\n",
       "      <th>ID</th>\n",
       "      <th>flow</th>\n",
       "      <th>combined_flow</th>\n",
       "      <th>level</th>\n",
       "      <th>veita</th>\n",
       "      <th>downstream</th>\n",
       "      <th>upstream</th>\n",
       "    </tr>\n",
       "  </thead>\n",
       "  <tbody>\n",
       "    <tr>\n",
       "      <th>0</th>\n",
       "      <td>Seilugrandi</td>\n",
       "      <td>RVK-SEI</td>\n",
       "      <td>[RS111]</td>\n",
       "      <td>[]</td>\n",
       "      <td>[HS111]</td>\n",
       "      <td>Skerjafjarðarveita</td>\n",
       "      <td>[RVK-ANA]</td>\n",
       "      <td>[]</td>\n",
       "    </tr>\n",
       "    <tr>\n",
       "      <th>1</th>\n",
       "      <td>Boðagrandi</td>\n",
       "      <td>RVK-BOD</td>\n",
       "      <td>[RS111]</td>\n",
       "      <td>[]</td>\n",
       "      <td>[HS111]</td>\n",
       "      <td>Skerjafjarðarveita</td>\n",
       "      <td>[RVK-ANA]</td>\n",
       "      <td>[]</td>\n",
       "    </tr>\n",
       "  </tbody>\n",
       "</table>\n",
       "</div>"
      ],
      "text/plain": [
       "         name:       ID     flow combined_flow    level               veita  \\\n",
       "0  Seilugrandi  RVK-SEI  [RS111]            []  [HS111]  Skerjafjarðarveita   \n",
       "1   Boðagrandi  RVK-BOD  [RS111]            []  [HS111]  Skerjafjarðarveita   \n",
       "\n",
       "  downstream upstream  \n",
       "0  [RVK-ANA]       []  \n",
       "1  [RVK-ANA]       []  "
      ]
     },
     "execution_count": 2,
     "metadata": {},
     "output_type": "execute_result"
    }
   ],
   "source": [
    "f = open('./drainage_meta_data.json', encoding='utf-8')\n",
    "df = pd.DataFrame(json.load(f)['sensors'])\n",
    "df.head(2)"
   ]
  },
  {
   "cell_type": "code",
   "execution_count": 3,
   "metadata": {},
   "outputs": [],
   "source": [
    "def sensor_data_query(ID, sensor_names):\n",
    "    full_sensor_names = []\n",
    "    for s_name in sensor_names:\n",
    "        f_name = 'F-' + ID + '-' + s_name\n",
    "        full_sensor_names.append(f_name)\n",
    "    \n",
    "    added_quotes = [\"'\" + i + \"'\" for i in full_sensor_names]\n",
    "    query = \\\n",
    "    f'''SELECT * FROM  Kerfiradur_mirror.veitur_abb_db1.hour WHERE NAME IN ({\", \".join(added_quotes)})'''\n",
    "    return query\n",
    "\n",
    "def execute_query(query):\n",
    "    \n",
    "    sql_conn = pyodbc.connect(\"\"\"DRIVER={SQL Server};\n",
    "                                SERVER=VHG;\n",
    "                                DATABASE=Kerfiradur_mirror;\n",
    "                                Trusted_Connection=yes\"\"\") \n",
    "\n",
    "    results = pd.read_sql(query, sql_conn, parse_dates=['ctime','date_time','value_dates'])\n",
    "    return results"
   ]
  },
  {
   "cell_type": "code",
   "execution_count": 4,
   "metadata": {},
   "outputs": [],
   "source": [
    "has_combined = df.loc[:,'combined_flow'].apply(len) > 0\n",
    "\n",
    "get_flow = lambda x : sensor_data_query(x['ID'], x['flow'])\n",
    "get_combined = lambda x : sensor_data_query(x['ID'], x['combined_flow'])\n",
    "get_level = lambda x : sensor_data_query(x['ID'], x['level'])\n",
    "\n",
    "df.loc[:,'flow_query'] = df.apply(get_flow,axis=1)\n",
    "df.loc[:,'level_query'] = df.apply(get_level,axis=1)\n",
    "df.loc[has_combined,'flow_query'] = df.loc[has_combined].apply(get_combined,axis=1)\n"
   ]
  },
  {
   "cell_type": "code",
   "execution_count": 5,
   "metadata": {},
   "outputs": [
    {
     "name": "stdout",
     "output_type": "stream",
     "text": [
      "SELECT * FROM  Kerfiradur_mirror.veitur_abb_db1.hour WHERE NAME IN ('F-RVK-SEI-RS111')\n",
      "SELECT * FROM  Kerfiradur_mirror.veitur_abb_db1.hour WHERE NAME IN ('F-RVK-BOD-RS111')\n",
      "SELECT * FROM  Kerfiradur_mirror.veitur_abb_db1.hour WHERE NAME IN ('F-RVK-VES-RS111')\n",
      "SELECT * FROM  Kerfiradur_mirror.veitur_abb_db1.hour WHERE NAME IN ('F-KOP-HAB-RS101')\n",
      "SELECT * FROM  Kerfiradur_mirror.veitur_abb_db1.hour WHERE NAME IN ('F-RVK-SKE-RS101', 'F-RVK-SKE-RS102', 'F-RVK-SKE-RS103', 'F-RVK-SKE-RS104')\n",
      "SELECT * FROM  Kerfiradur_mirror.veitur_abb_db1.hour WHERE NAME IN ('F-RVK-FAX-RS101', 'F-RVK-FAX-RS102', 'F-RVK-FAX-RS103', 'F-RVK-FAX-RS104')\n",
      "SELECT * FROM  Kerfiradur_mirror.veitur_abb_db1.hour WHERE NAME IN ('F-RVK-ANA-RS301-RS')\n",
      "SELECT * FROM  Kerfiradur_mirror.veitur_abb_db1.hour WHERE NAME IN ('F-MOS-HOL-RS101', 'F-MOS-HOL-RS102', 'F-MOS-HOL-RS-103')\n",
      "SELECT * FROM  Kerfiradur_mirror.veitur_abb_db1.hour WHERE NAME IN ('F-RVK-ING-RS101', 'F-RVK-ING-RS102', 'F-RVK-ING-RS103')\n",
      "SELECT * FROM  Kerfiradur_mirror.veitur_abb_db1.hour WHERE NAME IN ('F-RVK-LAU-RS101', 'F-RVK-LAU-RS102', 'F-RVK-LAU-RS103', 'F-RVK-LAU-RS104')\n",
      "SELECT * FROM  Kerfiradur_mirror.veitur_abb_db1.hour WHERE NAME IN ('F-RVK-GUF-RS101', 'F-RVK-GUF-RS102', 'F-RVK-GUF-RS103')\n",
      "SELECT * FROM  Kerfiradur_mirror.veitur_abb_db1.hour WHERE NAME IN ('F-RVK-GEL-RS101', 'F-RVK-GEL-RS102', 'F-RVK-GEL-RS103', 'F-RVK-GEL-RS104')\n",
      "SELECT * FROM  Kerfiradur_mirror.veitur_abb_db1.hour WHERE NAME IN ('F-RVK-KLE-RS301')\n"
     ]
    }
   ],
   "source": [
    "for index,ID in df.loc[:,'ID'].iteritems():\n",
    "    print(df.loc[index,'flow_query'])\n",
    "    "
   ]
  },
  {
   "cell_type": "code",
   "execution_count": 6,
   "metadata": {},
   "outputs": [],
   "source": [
    "# df"
   ]
  },
  {
   "cell_type": "code",
   "execution_count": 9,
   "metadata": {},
   "outputs": [
    {
     "name": "stdout",
     "output_type": "stream",
     "text": [
      "MOS-HOL\n",
      "flow length: 61754\n",
      "level length: 836476\n"
     ]
    }
   ],
   "source": [
    "list_flow = []\n",
    "list_level = []\n",
    "SAVE_DIR = './raw data/'\n",
    "for index,row in df.iloc[[7]].iterrows():\n",
    "    ID = row['ID']\n",
    "    filename_flow = SAVE_DIR + f'F-{ID}-RS'\n",
    "    filename_level = SAVE_DIR + f'F-{ID}-HS'\n",
    "    \n",
    "    flow_query = df.loc[index,'flow_query']\n",
    "    data_flow = execute_query(flow_query)\n",
    "    # data_flow.to_pickle(filename_flow)\n",
    "    \n",
    "    # sometimes no level meter\n",
    "    if len(row['level']) == 0:\n",
    "        pd.DataFrame().to_pickle(filename_level)\n",
    "    else:\n",
    "        level_query = df.loc[index,'level_query']\n",
    "        data_level = execute_query(level_query)\n",
    "        # data_level.to_pickle(filename_level)\n",
    "        \n",
    "    list_flow.append(data_flow)\n",
    "    list_level.append(data_level)\n",
    "    \n",
    "    print(ID)\n",
    "    print('flow length:',len(data_flow))\n",
    "    print('level length:',len(data_level))\n",
    "    \n",
    "    \n",
    "    # print(data_flow)\n",
    "    \n",
    "    "
   ]
  },
  {
   "cell_type": "code",
   "execution_count": 11,
   "metadata": {},
   "outputs": [
    {
     "data": {
      "text/plain": [
       "<AxesSubplot:>"
      ]
     },
     "execution_count": 11,
     "metadata": {},
     "output_type": "execute_result"
    },
    {
     "data": {
      "image/png": "[encoded data removed]",
      "image/svg+xml": "<?xml version=\"1.0\" encoding=\"utf-8\" standalone=\"no\"?>\r\n<!DOCTYPE svg PUBLIC \"-//W3C//DTD SVG 1.1//EN\"\r\n  \"http://www.w3.org/Graphics/SVG/1.1/DTD/svg11.dtd\">\r\n<svg height=\"692.437824pt\" version=\"1.1\" viewBox=\"0 0 1476.2075 692.437824\" width=\"1476.2075pt\" xmlns=\"http://www.w3.org/2000/svg\" xmlns:xlink=\"http://www.w3.org/1999/xlink\">\r\n <metadata>\r\n  <rdf:RDF xmlns:cc=\"http://creativecommons.org/ns#\" xmlns:dc=\"http://purl.org/dc/elements/1.1/\" xmlns:rdf=\"http://www.w3.org/1999/02/22-rdf-syntax-ns#\">\r\n   <cc:Work>\r\n    <dc:type rdf:resource=\"http://purl.org/dc/dcmitype/StillImage\"/>\r\n    <dc:date>2021-09-12T15:42:01.674968</dc:date>\r\n    <dc:format>image/svg+xml</dc:format>\r\n    <dc:creator>\r\n     <cc:Agent>\r\n      <dc:title>Matplotlib v3.4.2, https://matplotlib.org/</dc:title>\r\n     </cc:Agent>\r\n    </dc:creator>\r\n   </cc:Work>\r\n  </rdf:RDF>\r\n </metadata>\r\n <defs>\r\n  <style type=\"text/css\">*{stroke-linecap:butt;stroke-linejoin:round;}</style>\r\n </defs>\r\n <g id=\"figure_1\">\r\n  <g id=\"patch_1\">\r\n   <path d=\"M 0 692.437824 \r\nL 1476.2075 692.437824 \r\nL 1476.2075 0 \r\nL 0 0 \r\nz\r\n\" style=\"fill:none;\"/>\r\n  </g>\r\n  <g id=\"axes_1\">\r\n   <g id=\"patch_2\">\r\n    <path d=\"M 1376.265865 673.510954 \r\nL 1460.1 673.510954 \r\nL 1460.1 129.910954 \r\nL 1376.265865 129.910954 \r\nz\r\n\" style=\"fill:#ffffff;\"/>\r\n   </g>\r\n   <g id=\"matplotlib.axis_1\"/>\r\n   <g id=\"matplotlib.axis_2\"/>\r\n   <g id=\"line2d_1\">\r\n    <path clip-path=\"url(#pebefb1c3af)\" d=\"M 1418.182933 673.510954 \r\nL 1418.182933 129.910954 \r\nL 1418.182933 129.910954 \r\n\" style=\"fill:none;stroke:#404040;stroke-linecap:square;stroke-width:1.5;\"/>\r\n   </g>\r\n   <g id=\"line2d_2\">\r\n    <defs>\r\n     <path d=\"M 0 2.5 \r\nC 0.663008 2.5 1.29895 2.236584 1.767767 1.767767 \r\nC 2.236584 1.29895 2.5 0.663008 2.5 0 \r\nC 2.5 -0.663008 2.236584 -1.29895 1.767767 -1.767767 \r\nC 1.29895 -2.236584 0.663008 -2.5 0 -2.5 \r\nC -0.663008 -2.5 -1.29895 -2.236584 -1.767767 -1.767767 \r\nC -2.236584 -1.29895 -2.5 -0.663008 -2.5 0 \r\nC -2.5 0.663008 -2.236584 1.29895 -1.767767 1.767767 \r\nC -1.29895 2.236584 -0.663008 2.5 0 2.5 \r\nz\r\n\" id=\"mfc387fcc4d\" style=\"stroke:#404040;\"/>\r\n    </defs>\r\n    <g clip-path=\"url(#pebefb1c3af)\">\r\n     <use style=\"fill:#404040;stroke:#404040;\" x=\"1418.182933\" xlink:href=\"#mfc387fcc4d\" y=\"673.510954\"/>\r\n    </g>\r\n   </g>\r\n   <g id=\"line2d_3\">\r\n    <g clip-path=\"url(#pebefb1c3af)\">\r\n     <use style=\"fill:#404040;stroke:#404040;\" x=\"1418.182933\" xlink:href=\"#mfc387fcc4d\" y=\"673.510954\"/>\r\n    </g>\r\n   </g>\r\n   <g id=\"text_1\">\r\n    <!-- 2 -->\r\n    <g transform=\"translate(1460.1 677.374079)scale(0.14 -0.14)\">\r\n     <defs>\r\n      <path d=\"M 1228 531 \r\nL 3431 531 \r\nL 3431 0 \r\nL 469 0 \r\nL 469 531 \r\nQ 828 903 1448 1529 \r\nQ 2069 2156 2228 2338 \r\nQ 2531 2678 2651 2914 \r\nQ 2772 3150 2772 3378 \r\nQ 2772 3750 2511 3984 \r\nQ 2250 4219 1831 4219 \r\nQ 1534 4219 1204 4116 \r\nQ 875 4013 500 3803 \r\nL 500 4441 \r\nQ 881 4594 1212 4672 \r\nQ 1544 4750 1819 4750 \r\nQ 2544 4750 2975 4387 \r\nQ 3406 4025 3406 3419 \r\nQ 3406 3131 3298 2873 \r\nQ 3191 2616 2906 2266 \r\nQ 2828 2175 2409 1742 \r\nQ 1991 1309 1228 531 \r\nz\r\n\" id=\"DejaVuSans-32\" transform=\"scale(0.015625)\"/>\r\n     </defs>\r\n     <use xlink:href=\"#DejaVuSans-32\"/>\r\n    </g>\r\n   </g>\r\n   <g id=\"text_2\">\r\n    <!-- 2 -->\r\n    <g transform=\"translate(1367.358365 677.374079)scale(0.14 -0.14)\">\r\n     <use xlink:href=\"#DejaVuSans-32\"/>\r\n    </g>\r\n   </g>\r\n  </g>\r\n  <g id=\"axes_2\">\r\n   <g id=\"patch_3\">\r\n    <path d=\"M 65.1 673.510954 \r\nL 1322.612019 673.510954 \r\nL 1322.612019 129.910954 \r\nL 65.1 129.910954 \r\nz\r\n\" style=\"fill:#ffffff;\"/>\r\n   </g>\r\n   <g clip-path=\"url(#p5cde112bd3)\">\r\n    <image height=\"8784\" id=\"imagea763e0bde9\" style=\"image-rendering:crisp-edges;image-rendering:pixelated\" transform=\"matrix(629 0 0 0.061931 65.1 129.510954)\" width=\"2\" xlink:href=\"data:image/png;base64,\r\niVBORw0KGgoAAAANSUhEUgAAAAIAACJQCAYAAABr0oxtAAAAuklEQVR4nO3GMQEAIAwDsA5j9a+KPVjgS65M25skJ4+IiIiIiIiIiIiIiIiIiIiIiIiIiIiIiIiIiIiIiIiIiIiIiIiIiIiIiIiIiIiIiIiIiIiIiIiIiIiIiIiIiIiIiIiIiIiIiIiIiIiIiIiIiIiIiIiIiIiIiIiIiIiIiIiIiIiIiIiIiIiIiIiIiIiIiIiIiIiIiIiIiIiIiIiIiIiIiIiIiIiIiIiIiIiIiIiIiIiIiIiIiMi/LHWLRlwmibReAAAAAElFTkSuQmCC\"/>\r\n   </g>\r\n   <g id=\"matplotlib.axis_3\">\r\n    <g id=\"xtick_1\">\r\n     <g id=\"text_3\">\r\n      <!-- F-MOS-HOL-RS101 -->\r\n      <g transform=\"translate(388.074655 120.558056)rotate(-45)scale(0.16 -0.16)\">\r\n       <defs>\r\n        <path d=\"M 628 4666 \r\nL 3309 4666 \r\nL 3309 4134 \r\nL 1259 4134 \r\nL 1259 2759 \r\nL 3109 2759 \r\nL 3109 2228 \r\nL 1259 2228 \r\nL 1259 0 \r\nL 628 0 \r\nL 628 4666 \r\nz\r\n\" id=\"DejaVuSans-46\" transform=\"scale(0.015625)\"/>\r\n        <path d=\"M 313 2009 \r\nL 1997 2009 \r\nL 1997 1497 \r\nL 313 1497 \r\nL 313 2009 \r\nz\r\n\" id=\"DejaVuSans-2d\" transform=\"scale(0.015625)\"/>\r\n        <path d=\"M 628 4666 \r\nL 1569 4666 \r\nL 2759 1491 \r\nL 3956 4666 \r\nL 4897 4666 \r\nL 4897 0 \r\nL 4281 0 \r\nL 4281 4097 \r\nL 3078 897 \r\nL 2444 897 \r\nL 1241 4097 \r\nL 1241 0 \r\nL 628 0 \r\nL 628 4666 \r\nz\r\n\" id=\"DejaVuSans-4d\" transform=\"scale(0.015625)\"/>\r\n        <path d=\"M 2522 4238 \r\nQ 1834 4238 1429 3725 \r\nQ 1025 3213 1025 2328 \r\nQ 1025 1447 1429 934 \r\nQ 1834 422 2522 422 \r\nQ 3209 422 3611 934 \r\nQ 4013 1447 4013 2328 \r\nQ 4013 3213 3611 3725 \r\nQ 3209 4238 2522 4238 \r\nz\r\nM 2522 4750 \r\nQ 3503 4750 4090 4092 \r\nQ 4678 3434 4678 2328 \r\nQ 4678 1225 4090 567 \r\nQ 3503 -91 2522 -91 \r\nQ 1538 -91 948 565 \r\nQ 359 1222 359 2328 \r\nQ 359 3434 948 4092 \r\nQ 1538 4750 2522 4750 \r\nz\r\n\" id=\"DejaVuSans-4f\" transform=\"scale(0.015625)\"/>\r\n        <path d=\"M 3425 4513 \r\nL 3425 3897 \r\nQ 3066 4069 2747 4153 \r\nQ 2428 4238 2131 4238 \r\nQ 1616 4238 1336 4038 \r\nQ 1056 3838 1056 3469 \r\nQ 1056 3159 1242 3001 \r\nQ 1428 2844 1947 2747 \r\nL 2328 2669 \r\nQ 3034 2534 3370 2195 \r\nQ 3706 1856 3706 1288 \r\nQ 3706 609 3251 259 \r\nQ 2797 -91 1919 -91 \r\nQ 1588 -91 1214 -16 \r\nQ 841 59 441 206 \r\nL 441 856 \r\nQ 825 641 1194 531 \r\nQ 1563 422 1919 422 \r\nQ 2459 422 2753 634 \r\nQ 3047 847 3047 1241 \r\nQ 3047 1584 2836 1778 \r\nQ 2625 1972 2144 2069 \r\nL 1759 2144 \r\nQ 1053 2284 737 2584 \r\nQ 422 2884 422 3419 \r\nQ 422 4038 858 4394 \r\nQ 1294 4750 2059 4750 \r\nQ 2388 4750 2728 4690 \r\nQ 3069 4631 3425 4513 \r\nz\r\n\" id=\"DejaVuSans-53\" transform=\"scale(0.015625)\"/>\r\n        <path d=\"M 628 4666 \r\nL 1259 4666 \r\nL 1259 2753 \r\nL 3553 2753 \r\nL 3553 4666 \r\nL 4184 4666 \r\nL 4184 0 \r\nL 3553 0 \r\nL 3553 2222 \r\nL 1259 2222 \r\nL 1259 0 \r\nL 628 0 \r\nL 628 4666 \r\nz\r\n\" id=\"DejaVuSans-48\" transform=\"scale(0.015625)\"/>\r\n        <path d=\"M 628 4666 \r\nL 1259 4666 \r\nL 1259 531 \r\nL 3531 531 \r\nL 3531 0 \r\nL 628 0 \r\nL 628 4666 \r\nz\r\n\" id=\"DejaVuSans-4c\" transform=\"scale(0.015625)\"/>\r\n        <path d=\"M 2841 2188 \r\nQ 3044 2119 3236 1894 \r\nQ 3428 1669 3622 1275 \r\nL 4263 0 \r\nL 3584 0 \r\nL 2988 1197 \r\nQ 2756 1666 2539 1819 \r\nQ 2322 1972 1947 1972 \r\nL 1259 1972 \r\nL 1259 0 \r\nL 628 0 \r\nL 628 4666 \r\nL 2053 4666 \r\nQ 2853 4666 3247 4331 \r\nQ 3641 3997 3641 3322 \r\nQ 3641 2881 3436 2590 \r\nQ 3231 2300 2841 2188 \r\nz\r\nM 1259 4147 \r\nL 1259 2491 \r\nL 2053 2491 \r\nQ 2509 2491 2742 2702 \r\nQ 2975 2913 2975 3322 \r\nQ 2975 3731 2742 3939 \r\nQ 2509 4147 2053 4147 \r\nL 1259 4147 \r\nz\r\n\" id=\"DejaVuSans-52\" transform=\"scale(0.015625)\"/>\r\n        <path d=\"M 794 531 \r\nL 1825 531 \r\nL 1825 4091 \r\nL 703 3866 \r\nL 703 4441 \r\nL 1819 4666 \r\nL 2450 4666 \r\nL 2450 531 \r\nL 3481 531 \r\nL 3481 0 \r\nL 794 0 \r\nL 794 531 \r\nz\r\n\" id=\"DejaVuSans-31\" transform=\"scale(0.015625)\"/>\r\n        <path d=\"M 2034 4250 \r\nQ 1547 4250 1301 3770 \r\nQ 1056 3291 1056 2328 \r\nQ 1056 1369 1301 889 \r\nQ 1547 409 2034 409 \r\nQ 2525 409 2770 889 \r\nQ 3016 1369 3016 2328 \r\nQ 3016 3291 2770 3770 \r\nQ 2525 4250 2034 4250 \r\nz\r\nM 2034 4750 \r\nQ 2819 4750 3233 4129 \r\nQ 3647 3509 3647 2328 \r\nQ 3647 1150 3233 529 \r\nQ 2819 -91 2034 -91 \r\nQ 1250 -91 836 529 \r\nQ 422 1150 422 2328 \r\nQ 422 3509 836 4129 \r\nQ 1250 4750 2034 4750 \r\nz\r\n\" id=\"DejaVuSans-30\" transform=\"scale(0.015625)\"/>\r\n       </defs>\r\n       <use xlink:href=\"#DejaVuSans-46\"/>\r\n       <use x=\"57.519531\" xlink:href=\"#DejaVuSans-2d\"/>\r\n       <use x=\"93.603516\" xlink:href=\"#DejaVuSans-4d\"/>\r\n       <use x=\"179.882812\" xlink:href=\"#DejaVuSans-4f\"/>\r\n       <use x=\"258.59375\" xlink:href=\"#DejaVuSans-53\"/>\r\n       <use x=\"322.070312\" xlink:href=\"#DejaVuSans-2d\"/>\r\n       <use x=\"358.154297\" xlink:href=\"#DejaVuSans-48\"/>\r\n       <use x=\"433.349609\" xlink:href=\"#DejaVuSans-4f\"/>\r\n       <use x=\"512.060547\" xlink:href=\"#DejaVuSans-4c\"/>\r\n       <use x=\"566.023438\" xlink:href=\"#DejaVuSans-2d\"/>\r\n       <use x=\"602.107422\" xlink:href=\"#DejaVuSans-52\"/>\r\n       <use x=\"671.589844\" xlink:href=\"#DejaVuSans-53\"/>\r\n       <use x=\"735.066406\" xlink:href=\"#DejaVuSans-31\"/>\r\n       <use x=\"798.689453\" xlink:href=\"#DejaVuSans-30\"/>\r\n       <use x=\"862.3125\" xlink:href=\"#DejaVuSans-31\"/>\r\n      </g>\r\n     </g>\r\n    </g>\r\n    <g id=\"xtick_2\">\r\n     <g id=\"text_4\">\r\n      <!-- F-MOS-HOL-RS102 -->\r\n      <g transform=\"translate(1016.830665 120.558056)rotate(-45)scale(0.16 -0.16)\">\r\n       <use xlink:href=\"#DejaVuSans-46\"/>\r\n       <use x=\"57.519531\" xlink:href=\"#DejaVuSans-2d\"/>\r\n       <use x=\"93.603516\" xlink:href=\"#DejaVuSans-4d\"/>\r\n       <use x=\"179.882812\" xlink:href=\"#DejaVuSans-4f\"/>\r\n       <use x=\"258.59375\" xlink:href=\"#DejaVuSans-53\"/>\r\n       <use x=\"322.070312\" xlink:href=\"#DejaVuSans-2d\"/>\r\n       <use x=\"358.154297\" xlink:href=\"#DejaVuSans-48\"/>\r\n       <use x=\"433.349609\" xlink:href=\"#DejaVuSans-4f\"/>\r\n       <use x=\"512.060547\" xlink:href=\"#DejaVuSans-4c\"/>\r\n       <use x=\"566.023438\" xlink:href=\"#DejaVuSans-2d\"/>\r\n       <use x=\"602.107422\" xlink:href=\"#DejaVuSans-52\"/>\r\n       <use x=\"671.589844\" xlink:href=\"#DejaVuSans-53\"/>\r\n       <use x=\"735.066406\" xlink:href=\"#DejaVuSans-31\"/>\r\n       <use x=\"798.689453\" xlink:href=\"#DejaVuSans-30\"/>\r\n       <use x=\"862.3125\" xlink:href=\"#DejaVuSans-32\"/>\r\n      </g>\r\n     </g>\r\n    </g>\r\n   </g>\r\n   <g id=\"matplotlib.axis_4\">\r\n    <g id=\"ytick_1\">\r\n     <g id=\"text_5\">\r\n      <!-- 1 -->\r\n      <g transform=\"translate(45.375 137.540334)scale(0.2 -0.2)\">\r\n       <use xlink:href=\"#DejaVuSans-31\"/>\r\n      </g>\r\n     </g>\r\n    </g>\r\n    <g id=\"ytick_2\">\r\n     <g id=\"text_6\">\r\n      <!-- 8784 -->\r\n      <g transform=\"translate(7.2 681.078449)scale(0.2 -0.2)\">\r\n       <defs>\r\n        <path d=\"M 2034 2216 \r\nQ 1584 2216 1326 1975 \r\nQ 1069 1734 1069 1313 \r\nQ 1069 891 1326 650 \r\nQ 1584 409 2034 409 \r\nQ 2484 409 2743 651 \r\nQ 3003 894 3003 1313 \r\nQ 3003 1734 2745 1975 \r\nQ 2488 2216 2034 2216 \r\nz\r\nM 1403 2484 \r\nQ 997 2584 770 2862 \r\nQ 544 3141 544 3541 \r\nQ 544 4100 942 4425 \r\nQ 1341 4750 2034 4750 \r\nQ 2731 4750 3128 4425 \r\nQ 3525 4100 3525 3541 \r\nQ 3525 3141 3298 2862 \r\nQ 3072 2584 2669 2484 \r\nQ 3125 2378 3379 2068 \r\nQ 3634 1759 3634 1313 \r\nQ 3634 634 3220 271 \r\nQ 2806 -91 2034 -91 \r\nQ 1263 -91 848 271 \r\nQ 434 634 434 1313 \r\nQ 434 1759 690 2068 \r\nQ 947 2378 1403 2484 \r\nz\r\nM 1172 3481 \r\nQ 1172 3119 1398 2916 \r\nQ 1625 2713 2034 2713 \r\nQ 2441 2713 2670 2916 \r\nQ 2900 3119 2900 3481 \r\nQ 2900 3844 2670 4047 \r\nQ 2441 4250 2034 4250 \r\nQ 1625 4250 1398 4047 \r\nQ 1172 3844 1172 3481 \r\nz\r\n\" id=\"DejaVuSans-38\" transform=\"scale(0.015625)\"/>\r\n        <path d=\"M 525 4666 \r\nL 3525 4666 \r\nL 3525 4397 \r\nL 1831 0 \r\nL 1172 0 \r\nL 2766 4134 \r\nL 525 4134 \r\nL 525 4666 \r\nz\r\n\" id=\"DejaVuSans-37\" transform=\"scale(0.015625)\"/>\r\n        <path d=\"M 2419 4116 \r\nL 825 1625 \r\nL 2419 1625 \r\nL 2419 4116 \r\nz\r\nM 2253 4666 \r\nL 3047 4666 \r\nL 3047 1625 \r\nL 3713 1625 \r\nL 3713 1100 \r\nL 3047 1100 \r\nL 3047 0 \r\nL 2419 0 \r\nL 2419 1100 \r\nL 313 1100 \r\nL 313 1709 \r\nL 2253 4666 \r\nz\r\n\" id=\"DejaVuSans-34\" transform=\"scale(0.015625)\"/>\r\n       </defs>\r\n       <use xlink:href=\"#DejaVuSans-38\"/>\r\n       <use x=\"63.623047\" xlink:href=\"#DejaVuSans-37\"/>\r\n       <use x=\"127.246094\" xlink:href=\"#DejaVuSans-38\"/>\r\n       <use x=\"190.869141\" xlink:href=\"#DejaVuSans-34\"/>\r\n      </g>\r\n     </g>\r\n    </g>\r\n   </g>\r\n   <g id=\"line2d_4\">\r\n    <path clip-path=\"url(#p5cde112bd3)\" d=\"M 693.85601 673.510954 \r\nL 693.85601 129.910954 \r\n\" style=\"fill:none;stroke:#ffffff;stroke-linecap:square;stroke-width:1.5;\"/>\r\n   </g>\r\n  </g>\r\n </g>\r\n <defs>\r\n  <clipPath id=\"pebefb1c3af\">\r\n   <rect height=\"543.6\" width=\"83.834135\" x=\"1376.265865\" y=\"129.910954\"/>\r\n  </clipPath>\r\n  <clipPath id=\"p5cde112bd3\">\r\n   <rect height=\"543.6\" width=\"1257.512019\" x=\"65.1\" y=\"129.910954\"/>\r\n  </clipPath>\r\n </defs>\r\n</svg>\r\n",
      "text/plain": [
       "<Figure size 1800x720 with 2 Axes>"
      ]
     },
     "metadata": {
      "needs_background": "light"
     },
     "output_type": "display_data"
    }
   ],
   "source": [
    "from missingno import matrix\n",
    "test_matrix = list_flow[0].pivot_table(values='Val',columns = 'Name',index = 'CTime')\n",
    "tmp_index = pd.date_range(datetime.datetime(2020,1,1,0,0,0),datetime.datetime(2020,12,31,23,59,59),freq='1h')\n",
    "matrix(test_matrix.reindex(tmp_index))"
   ]
  },
  {
   "cell_type": "code",
   "execution_count": null,
   "metadata": {},
   "outputs": [],
   "source": []
  }
 ],
 "metadata": {
  "interpreter": {
   "hash": "a83e6c65817a0dc38ad80d83bcc7368794a9208202ce93c3fa662d6b76cb7e1b"
  },
  "kernelspec": {
   "display_name": "Python 3.8.10 64-bit ('hitaveitulikan': conda)",
   "name": "python3"
  },
  "language_info": {
   "codemirror_mode": {
    "name": "ipython",
    "version": 3
   },
   "file_extension": ".py",
   "mimetype": "text/x-python",
   "name": "python",
   "nbconvert_exporter": "python",
   "pygments_lexer": "ipython3",
   "version": "3.8.10"
  },
  "orig_nbformat": 4
 },
 "nbformat": 4,
 "nbformat_minor": 2
}

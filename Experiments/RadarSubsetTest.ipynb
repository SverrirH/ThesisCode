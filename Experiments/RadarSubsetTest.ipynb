{
 "cells": [
  {
   "cell_type": "code",
   "execution_count": 1,
   "metadata": {},
   "outputs": [],
   "source": [
    "import wandb\n",
    "import datetime\n",
    "import argparse\n",
    "import numpy as np\n",
    "from train_and_test import train_and_test\n",
    "from helpers import get_NWP_data, get_rain_gauge_or_radar_data\n",
    "from helpers import sw_func, find_experiment_directory, make_name_string\n",
    "from helpers import use_old_forecasts_as_observations\n",
    "from evaluator import only_MSE_and_GSS\n",
    "import sys\n",
    "from tensorflow import device\n",
    "\n",
    "from models.model import model\n",
    "\n",
    "\n",
    "# Fixed paramters\n",
    "project = \"Thesis Experiment 2 and 3\"\n",
    "d_start = datetime.datetime(2015, 1, 1)\n",
    "d_end = datetime.datetime(2019, 12, 31, 23, 59, 59)\n",
    "max_lag = 24\n",
    "pred_dist = 60\n",
    "t_roll = 24\n",
    "threshold_dict = {\n",
    "    \"RVK-GEL\": [0, 100, 200, 300, 400, 500, 600, 700, 800, 900, 1000],\n",
    "    \"RVK-BOD\": [0, 15,  30,  45,  60,  75,  90,  105, 120, 135, 150],\n",
    "}\n",
    "thresholds = np.array(list(threshold_dict.values()))\n",
    "temperature_name = \"1475_T\"\n",
    "\n",
    "experiment_dir = find_experiment_directory()\n",
    "data_directory = f\"{experiment_dir}/Data/\"\n",
    "save_dir = f\"{experiment_dir}/predictions/\"\n",
    "\n",
    "early_stopper_params = {\n",
    "    'monitor': 'val_loss',\n",
    "    'min_delta': 0,\n",
    "    'patience': 20,\n",
    "    'verbose': 0,\n",
    "    'mode': 'min',\n",
    "    'baseline': None,\n",
    "    'restore_best_weights': True,\n",
    "    }\n",
    "\n",
    "evaluation_config = {\n",
    "    'eval_forecast_start': 24,\n",
    "    'eval_forecast_end':30,\n",
    "}\n"
   ]
  },
  {
   "cell_type": "code",
   "execution_count": 50,
   "metadata": {},
   "outputs": [],
   "source": [
    "parser = argparse.ArgumentParser()\n",
    "parser.add_argument(\"-r\",\"--regularization\",type=float,default=0.1,metavar=\"regularization\",)\n",
    "parser.add_argument(\"-u\",\"--units\",type=int,default=0,metavar=\"units\",)\n",
    "parser.add_argument(\"-f\",\"--filters\",type=int,default=0,metavar=\"filters\",)\n",
    "parser.add_argument(\"-l\",\"--lr\",type=float,default=0.1,metavar=\"lr\",)\n",
    "parser.add_argument(\"-w\",\"--weights\",type=str,default='a',metavar=\"lr\",)\n",
    "parser.add_argument(\"-b\",\"--batch_size\",type=int,default=256,metavar=\"batch_size\",)\n",
    "parser.add_argument(\"-d\",\"--data_source\",type=str,default='gauge',metavar=\"data_source\",)\n",
    "parser.add_argument(\"-o\",\"--obs\",type=int,default='3',metavar=\"obs\",)\n",
    "args = parser.parse_args([\n",
    "                \"--regularization\",  \"0.1\",\n",
    "                \"--units\",           \"3\",\n",
    "                \"--filters\",         \"0\",\n",
    "                \"--lr\",              \"0.1\",\n",
    "                \"--batch_size\",      \"8\",\n",
    "                \"--data_source\",     \"radar\",\n",
    "                \"--obs\",             \"4\",\n",
    "            ])\n",
    "    "
   ]
  },
  {
   "cell_type": "markdown",
   "metadata": {},
   "source": [
    "# Segja \"Gauge\" en nota radar"
   ]
  },
  {
   "cell_type": "code",
   "execution_count": 51,
   "metadata": {},
   "outputs": [],
   "source": [
    "\n",
    "config_model = {\n",
    "    'regularization':args.regularization,\n",
    "    'units':args.units,\n",
    "    'filters':args.filters,\n",
    "    \n",
    "    'lr': args.lr,\n",
    "    'batch_size': args.batch_size,\n",
    "    'data_source': args.data_source,\n",
    "    'obs': args.obs,\n",
    "    'using:':'gauge'\n",
    "}\n",
    "    \n",
    "    \n",
    "relative_weights = [1.0,1.0,1.0,1.0,1.0,1.0,1.0,1.0,1.0,1.0]\n",
    "sample_weights_function = lambda x : sw_func(x, thresholds, relative_weights)\n"
   ]
  },
  {
   "cell_type": "code",
   "execution_count": null,
   "metadata": {},
   "outputs": [],
   "source": []
  },
  {
   "cell_type": "code",
   "execution_count": 52,
   "metadata": {},
   "outputs": [],
   "source": [
    "\n",
    "X1r,X1g,X2,X3,Y = get_rain_gauge_or_radar_data(threshold_dict,temperature_name,config_model['obs'],d_start,d_end)"
   ]
  },
  {
   "cell_type": "code",
   "execution_count": 53,
   "metadata": {},
   "outputs": [
    {
     "data": {
      "text/html": [
       "Finishing last run (ID:iasqy3vo) before initializing another..."
      ],
      "text/plain": [
       "<IPython.core.display.HTML object>"
      ]
     },
     "metadata": {},
     "output_type": "display_data"
    },
    {
     "data": {
      "text/html": [
       "<br/>Waiting for W&B process to finish, PID 35804... <strong style=\"color:green\">(success).</strong>"
      ],
      "text/plain": [
       "<IPython.core.display.HTML object>"
      ]
     },
     "metadata": {},
     "output_type": "display_data"
    },
    {
     "data": {
      "text/html": [
       "<style>\n",
       "    table.wandb td:nth-child(1) { padding: 0 10px; text-align: right }\n",
       "    .wandb-row { display: flex; flex-direction: row; flex-wrap: wrap; width: 100% }\n",
       "    .wandb-col { display: flex; flex-direction: column; flex-basis: 100%; flex: 1; padding: 10px; }\n",
       "    </style>\n",
       "<div class=\"wandb-row\"><div class=\"wandb-col\">\n",
       "<h3>Run history:</h3><br/><table class=\"wandb\"><tr><td>epoch</td><td>▁▁▂▂▂▃▃▃▄▄▄▅▅▅▆▆▆▇▇▇██</td></tr><tr><td>loss</td><td>█▂▁▁▁▁▁▁▁▁▁▁▁▁▁▁▁▁▁▁▁▁</td></tr><tr><td>lr</td><td>███████▃▃▃▃▃▃▃▁▁▁▁▁▁▁▁</td></tr><tr><td>val_loss</td><td>█▁▃▃▃▃▃▃▃▃▃▃▃▃▃▃▃▃▃▃▃▃</td></tr></table><br/></div><div class=\"wandb-col\">\n",
       "<h3>Run summary:</h3><br/><table class=\"wandb\"><tr><td>best_epoch</td><td>1</td></tr><tr><td>best_val_loss</td><td>7595.32617</td></tr><tr><td>epoch</td><td>21</td></tr><tr><td>loss</td><td>9529.58008</td></tr><tr><td>lr</td><td>0.0027</td></tr><tr><td>val_loss</td><td>7916.41113</td></tr></table>\n",
       "</div></div>\n",
       "Synced 4 W&B file(s), 0 media file(s), 0 artifact file(s) and 1 other file(s)\n",
       "<br/>Synced <strong style=\"color:#cdcd00\">easy-shape-21</strong>: <a href=\"https://wandb.ai/sverrirhd/RadarVsGauge/runs/iasqy3vo\" target=\"_blank\">https://wandb.ai/sverrirhd/RadarVsGauge/runs/iasqy3vo</a><br/>\n",
       "Find logs at: <code>.\\wandb\\run-20211127_201444-iasqy3vo\\logs</code><br/>\n"
      ],
      "text/plain": [
       "<IPython.core.display.HTML object>"
      ]
     },
     "metadata": {},
     "output_type": "display_data"
    },
    {
     "data": {
      "text/html": [
       "Successfully finished last run (ID:iasqy3vo). Initializing new run:<br/>"
      ],
      "text/plain": [
       "<IPython.core.display.HTML object>"
      ]
     },
     "metadata": {},
     "output_type": "display_data"
    },
    {
     "data": {
      "text/html": [
       "\n",
       "                    Syncing run <strong><a href=\"https://wandb.ai/sverrirhd/RadarVsGauge/runs/3q9c8gy4\" target=\"_blank\">exalted-blaze-22</a></strong> to <a href=\"https://wandb.ai/sverrirhd/RadarVsGauge\" target=\"_blank\">Weights & Biases</a> (<a href=\"https://docs.wandb.com/integrations/jupyter.html\" target=\"_blank\">docs</a>).<br/>\n",
       "\n",
       "                "
      ],
      "text/plain": [
       "<IPython.core.display.HTML object>"
      ]
     },
     "metadata": {},
     "output_type": "display_data"
    }
   ],
   "source": [
    "radar_index = 215\n",
    "\n",
    "config_model = {\n",
    "    'regularization':args.regularization,\n",
    "    'units':args.units,\n",
    "    'filters':args.filters,\n",
    "    \n",
    "    'lr': args.lr,\n",
    "    'batch_size': args.batch_size,\n",
    "    'data_source': args.data_source,\n",
    "    'obs': args.obs,\n",
    "    'using:':'radar',\n",
    "    'radar_index':radar_index\n",
    "}\n",
    "\n",
    "# 9 block mean:\n",
    "# [:,:,[radar_index,radar_index+1,radar_index-1,\n",
    "#                                    radar_index+20,radar_index+1+20,radar_index-1+20,\n",
    "#                                    radar_index-20,radar_index+1-20,radar_index-1-20,]].mean(axis=-1)[...,np.newaxis]\n",
    "    \n",
    "X_radar = np.concatenate([X1r,X2, X3],axis=-1)\n",
    "X = X_radar.astype('float32')\n",
    "run = wandb.init(config=config_model, project='RadarVsGauge')\n",
    "with device('cpu:0'):\n",
    "    model_results = train_and_test(\n",
    "        model_constructor=model_constructor,\n",
    "        input_data=X,\n",
    "        output_data=Y,\n",
    "        weight_func=sample_weights_function,\n",
    "        config=config_model,\n",
    "    )\n",
    "    \n",
    "minimum_eval_dict = only_MSE_and_GSS(model_results[\"iop\"],sample_weights_function,evaluation_config)\n",
    "wandb.log(minimum_eval_dict['summary'])"
   ]
  },
  {
   "cell_type": "code",
   "execution_count": 5,
   "metadata": {},
   "outputs": [
    {
     "name": "stderr",
     "output_type": "stream",
     "text": [
      "Failed to detect the name of this notebook, you can set it manually with the WANDB_NOTEBOOK_NAME environment variable to enable code saving.\n",
      "wandb: Currently logged in as: sverrirhd (use `wandb login --relogin` to force relogin)\n",
      "C:\\Users\\sverrirhd\\Anaconda3\\envs\\thesis\\lib\\site-packages\\IPython\\html.py:12: ShimWarning: The `IPython.html` package has been deprecated since IPython 4.0. You should import from `notebook` instead. `IPython.html.widgets` has moved to `ipywidgets`.\n",
      "  warn(\"The `IPython.html` package has been deprecated since IPython 4.0. \"\n"
     ]
    },
    {
     "data": {
      "text/html": [
       "\n",
       "                    Syncing run <strong><a href=\"https://wandb.ai/sverrirhd/RadarVsGauge/runs/kv2vljd8\" target=\"_blank\">astral-oath-7</a></strong> to <a href=\"https://wandb.ai/sverrirhd/RadarVsGauge\" target=\"_blank\">Weights & Biases</a> (<a href=\"https://docs.wandb.com/integrations/jupyter.html\" target=\"_blank\">docs</a>).<br/>\n",
       "\n",
       "                "
      ],
      "text/plain": [
       "<IPython.core.display.HTML object>"
      ]
     },
     "metadata": {},
     "output_type": "display_data"
    }
   ],
   "source": [
    "config_model = {\n",
    "    'regularization':args.regularization,\n",
    "    'units':args.units,\n",
    "    'filters':args.filters,\n",
    "    \n",
    "    'lr': args.lr,\n",
    "    'batch_size': args.batch_size,\n",
    "    'data_source': args.data_source,\n",
    "    'obs': args.obs,\n",
    "    'using:':'gauge'\n",
    "}\n",
    "    \n",
    "\n",
    "X_gauge = np.concatenate([X1g, X2, X3],axis=-1)\n",
    "\n",
    "X = X_gauge.astype('float32')\n",
    "Y = Y.reshape(-1,2).astype('float32')\n",
    "\n",
    "model_constructor = lambda : model(config_model)\n",
    "run = wandb.init(config=config_model, project='RadarVsGauge')\n",
    "with device('cpu:0'):\n",
    "    model_results = train_and_test(\n",
    "        model_constructor=model_constructor,\n",
    "        input_data=X,\n",
    "        output_data=Y,\n",
    "        weight_func=sample_weights_function,\n",
    "        config=config_model,\n",
    "    )\n",
    "    \n",
    "minimum_eval_dict = only_MSE_and_GSS(model_results[\"iop\"],sample_weights_function,evaluation_config)\n",
    "wandb.log(minimum_eval_dict['summary'])"
   ]
  },
  {
   "cell_type": "code",
   "execution_count": 16,
   "metadata": {},
   "outputs": [
    {
     "data": {
      "text/html": [
       "Finishing last run (ID:2tceiqbx) before initializing another..."
      ],
      "text/plain": [
       "<IPython.core.display.HTML object>"
      ]
     },
     "metadata": {},
     "output_type": "display_data"
    },
    {
     "data": {
      "text/html": [
       "<br/>Waiting for W&B process to finish, PID 22444... <strong style=\"color:green\">(success).</strong>"
      ],
      "text/plain": [
       "<IPython.core.display.HTML object>"
      ]
     },
     "metadata": {},
     "output_type": "display_data"
    },
    {
     "data": {
      "text/html": [
       "<style>\n",
       "    table.wandb td:nth-child(1) { padding: 0 10px; text-align: right }\n",
       "    .wandb-row { display: flex; flex-direction: row; flex-wrap: wrap; width: 100% }\n",
       "    .wandb-col { display: flex; flex-direction: column; flex-basis: 100%; flex: 1; padding: 10px; }\n",
       "    </style>\n",
       "<div class=\"wandb-row\"><div class=\"wandb-col\">\n",
       "<h3>Run history:</h3><br/><table class=\"wandb\"><tr><td>GSS_val_0</td><td>▁</td></tr><tr><td>GSS_val_1</td><td>▁</td></tr><tr><td>GSS_val_average</td><td>▁</td></tr><tr><td>epoch</td><td>▁▂▂▃▄▅▅▆▇▁▂▂▃▄▅▅▆▇▇█▂▂▃▄▁▂▃▃▄▅▅▁▂▃▃▄▅▆▆▇</td></tr><tr><td>loss</td><td>█▄▃▂▂▁▁▁▁▇▂▁▁▁▁▁▁▁▁▁▁▁▁▁▇▁▁▁▁▁▁▂▁▁▁▁▁▁▁▁</td></tr><tr><td>lr</td><td>███████▃▂█████▃▃▂▁▁▁██▃▂███▃▃▂▁██▃▃▂▂▂▁▁</td></tr><tr><td>total_mean_absolute_error</td><td>▁</td></tr><tr><td>total_mean_squared_error</td><td>▁</td></tr><tr><td>total_weighted_mean_absolute_error</td><td>▁</td></tr><tr><td>total_weighted_mean_squared_error</td><td>▁</td></tr><tr><td>val_loss</td><td>█▅▃▂▂▂▂▂▂█▃▂▂▂▂▂▂▂▂▂▃▃▃▃▆▁▁▁▁▁▁▂▁▁▁▁▁▁▁▁</td></tr></table><br/></div><div class=\"wandb-col\">\n",
       "<h3>Run summary:</h3><br/><table class=\"wandb\"><tr><td>GSS_val_0</td><td>0.19206</td></tr><tr><td>GSS_val_1</td><td>0.07679</td></tr><tr><td>GSS_val_average</td><td>0.13443</td></tr><tr><td>best_epoch</td><td>35</td></tr><tr><td>best_val_loss</td><td>2684.0271</td></tr><tr><td>epoch</td><td>55</td></tr><tr><td>loss</td><td>5536.52832</td></tr><tr><td>lr</td><td>0.00024</td></tr><tr><td>total_mean_absolute_error</td><td>32.38057</td></tr><tr><td>total_mean_squared_error</td><td>4767.1875</td></tr><tr><td>total_weighted_mean_absolute_error</td><td>32.38057</td></tr><tr><td>total_weighted_mean_squared_error</td><td>4767.18756</td></tr><tr><td>val_loss</td><td>2685.2019</td></tr></table>\n",
       "</div></div>\n",
       "Synced 4 W&B file(s), 0 media file(s), 0 artifact file(s) and 1 other file(s)\n",
       "<br/>Synced <strong style=\"color:#cdcd00\">smooth-pond-12</strong>: <a href=\"https://wandb.ai/sverrirhd/RadarVsGauge/runs/2tceiqbx\" target=\"_blank\">https://wandb.ai/sverrirhd/RadarVsGauge/runs/2tceiqbx</a><br/>\n",
       "Find logs at: <code>.\\wandb\\run-20211127_200143-2tceiqbx\\logs</code><br/>\n"
      ],
      "text/plain": [
       "<IPython.core.display.HTML object>"
      ]
     },
     "metadata": {},
     "output_type": "display_data"
    },
    {
     "data": {
      "text/html": [
       "Successfully finished last run (ID:2tceiqbx). Initializing new run:<br/>"
      ],
      "text/plain": [
       "<IPython.core.display.HTML object>"
      ]
     },
     "metadata": {},
     "output_type": "display_data"
    },
    {
     "data": {
      "text/html": [
       "\n",
       "                    Syncing run <strong><a href=\"https://wandb.ai/sverrirhd/RadarVsGauge/runs/2pa0k7g3\" target=\"_blank\">eternal-water-13</a></strong> to <a href=\"https://wandb.ai/sverrirhd/RadarVsGauge\" target=\"_blank\">Weights & Biases</a> (<a href=\"https://docs.wandb.com/integrations/jupyter.html\" target=\"_blank\">docs</a>).<br/>\n",
       "\n",
       "                "
      ],
      "text/plain": [
       "<IPython.core.display.HTML object>"
      ]
     },
     "metadata": {},
     "output_type": "display_data"
    },
    {
     "ename": "KeyboardInterrupt",
     "evalue": "",
     "output_type": "error",
     "traceback": [
      "\u001b[1;31m---------------------------------------------------------------------------\u001b[0m",
      "\u001b[1;31mKeyboardInterrupt\u001b[0m                         Traceback (most recent call last)",
      "\u001b[1;32mC:\\Users\\SVERRI~1\\AppData\\Local\\Temp/ipykernel_17204/3649971011.py\u001b[0m in \u001b[0;36m<module>\u001b[1;34m\u001b[0m\n\u001b[0;32m     23\u001b[0m \u001b[0mrun\u001b[0m \u001b[1;33m=\u001b[0m \u001b[0mwandb\u001b[0m\u001b[1;33m.\u001b[0m\u001b[0minit\u001b[0m\u001b[1;33m(\u001b[0m\u001b[0mconfig\u001b[0m\u001b[1;33m=\u001b[0m\u001b[0mconfig_model\u001b[0m\u001b[1;33m,\u001b[0m \u001b[0mproject\u001b[0m\u001b[1;33m=\u001b[0m\u001b[1;34m'RadarVsGauge'\u001b[0m\u001b[1;33m)\u001b[0m\u001b[1;33m\u001b[0m\u001b[1;33m\u001b[0m\u001b[0m\n\u001b[0;32m     24\u001b[0m \u001b[1;32mwith\u001b[0m \u001b[0mdevice\u001b[0m\u001b[1;33m(\u001b[0m\u001b[1;34m'cpu:0'\u001b[0m\u001b[1;33m)\u001b[0m\u001b[1;33m:\u001b[0m\u001b[1;33m\u001b[0m\u001b[1;33m\u001b[0m\u001b[0m\n\u001b[1;32m---> 25\u001b[1;33m     model_results = train_and_test(\n\u001b[0m\u001b[0;32m     26\u001b[0m         \u001b[0mmodel_constructor\u001b[0m\u001b[1;33m=\u001b[0m\u001b[0mmodel_constructor\u001b[0m\u001b[1;33m,\u001b[0m\u001b[1;33m\u001b[0m\u001b[1;33m\u001b[0m\u001b[0m\n\u001b[0;32m     27\u001b[0m         \u001b[0minput_data\u001b[0m\u001b[1;33m=\u001b[0m\u001b[0mX\u001b[0m\u001b[1;33m,\u001b[0m\u001b[1;33m\u001b[0m\u001b[1;33m\u001b[0m\u001b[0m\n",
      "\u001b[1;32mc:\\Users\\sverrirhd\\Google Drive\\Skóli\\DTU\\Thesis\\Programming\\Experiments\\train_and_test.py\u001b[0m in \u001b[0;36mtrain_and_test\u001b[1;34m(model_constructor, input_data, output_data, weight_func, config, standardizer, save_models, **fit_kwargs)\u001b[0m\n\u001b[0;32m     51\u001b[0m                   weight_func=weight_func)\n\u001b[0;32m     52\u001b[0m \u001b[1;33m\u001b[0m\u001b[0m\n\u001b[1;32m---> 53\u001b[1;33m         \u001b[0mfold_data\u001b[0m\u001b[1;33m[\u001b[0m\u001b[1;34m'Y_train_pred'\u001b[0m\u001b[1;33m]\u001b[0m \u001b[1;33m=\u001b[0m \u001b[0mmodel\u001b[0m\u001b[1;33m.\u001b[0m\u001b[0mpredict\u001b[0m\u001b[1;33m(\u001b[0m\u001b[0mfold_data\u001b[0m\u001b[1;33m[\u001b[0m\u001b[1;34m'X_train'\u001b[0m\u001b[1;33m]\u001b[0m\u001b[1;33m)\u001b[0m\u001b[1;33m\u001b[0m\u001b[1;33m\u001b[0m\u001b[0m\n\u001b[0m\u001b[0;32m     54\u001b[0m         \u001b[0mfold_data\u001b[0m\u001b[1;33m[\u001b[0m\u001b[1;34m'Y_val_pred'\u001b[0m\u001b[1;33m]\u001b[0m \u001b[1;33m=\u001b[0m \u001b[0mmodel\u001b[0m\u001b[1;33m.\u001b[0m\u001b[0mpredict\u001b[0m\u001b[1;33m(\u001b[0m\u001b[0mfold_data\u001b[0m\u001b[1;33m[\u001b[0m\u001b[1;34m'X_val'\u001b[0m\u001b[1;33m]\u001b[0m\u001b[1;33m)\u001b[0m\u001b[1;33m\u001b[0m\u001b[1;33m\u001b[0m\u001b[0m\n\u001b[0;32m     55\u001b[0m \u001b[1;33m\u001b[0m\u001b[0m\n",
      "\u001b[1;32mc:\\Users\\sverrirhd\\Google Drive\\Skóli\\DTU\\Thesis\\Programming\\Experiments\\models\\model.py\u001b[0m in \u001b[0;36mpredict\u001b[1;34m(self, X)\u001b[0m\n\u001b[0;32m     83\u001b[0m \u001b[1;33m\u001b[0m\u001b[0m\n\u001b[0;32m     84\u001b[0m     \u001b[1;32mdef\u001b[0m \u001b[0mpredict\u001b[0m\u001b[1;33m(\u001b[0m\u001b[0mself\u001b[0m\u001b[1;33m,\u001b[0m \u001b[0mX\u001b[0m\u001b[1;33m)\u001b[0m\u001b[1;33m:\u001b[0m\u001b[1;33m\u001b[0m\u001b[1;33m\u001b[0m\u001b[0m\n\u001b[1;32m---> 85\u001b[1;33m         \u001b[1;32mreturn\u001b[0m \u001b[0mself\u001b[0m\u001b[1;33m.\u001b[0m\u001b[0mmodel\u001b[0m\u001b[1;33m.\u001b[0m\u001b[0mpredict\u001b[0m\u001b[1;33m(\u001b[0m\u001b[0mX\u001b[0m\u001b[1;33m)\u001b[0m\u001b[1;33m\u001b[0m\u001b[1;33m\u001b[0m\u001b[0m\n\u001b[0m",
      "\u001b[1;32m~\\Anaconda3\\envs\\thesis\\lib\\site-packages\\keras\\engine\\training.py\u001b[0m in \u001b[0;36mpredict\u001b[1;34m(self, x, batch_size, verbose, steps, callbacks, max_queue_size, workers, use_multiprocessing)\u001b[0m\n\u001b[0;32m   1749\u001b[0m           \u001b[1;32mfor\u001b[0m \u001b[0mstep\u001b[0m \u001b[1;32min\u001b[0m \u001b[0mdata_handler\u001b[0m\u001b[1;33m.\u001b[0m\u001b[0msteps\u001b[0m\u001b[1;33m(\u001b[0m\u001b[1;33m)\u001b[0m\u001b[1;33m:\u001b[0m\u001b[1;33m\u001b[0m\u001b[1;33m\u001b[0m\u001b[0m\n\u001b[0;32m   1750\u001b[0m             \u001b[0mcallbacks\u001b[0m\u001b[1;33m.\u001b[0m\u001b[0mon_predict_batch_begin\u001b[0m\u001b[1;33m(\u001b[0m\u001b[0mstep\u001b[0m\u001b[1;33m)\u001b[0m\u001b[1;33m\u001b[0m\u001b[1;33m\u001b[0m\u001b[0m\n\u001b[1;32m-> 1751\u001b[1;33m             \u001b[0mtmp_batch_outputs\u001b[0m \u001b[1;33m=\u001b[0m \u001b[0mself\u001b[0m\u001b[1;33m.\u001b[0m\u001b[0mpredict_function\u001b[0m\u001b[1;33m(\u001b[0m\u001b[0miterator\u001b[0m\u001b[1;33m)\u001b[0m\u001b[1;33m\u001b[0m\u001b[1;33m\u001b[0m\u001b[0m\n\u001b[0m\u001b[0;32m   1752\u001b[0m             \u001b[1;32mif\u001b[0m \u001b[0mdata_handler\u001b[0m\u001b[1;33m.\u001b[0m\u001b[0mshould_sync\u001b[0m\u001b[1;33m:\u001b[0m\u001b[1;33m\u001b[0m\u001b[1;33m\u001b[0m\u001b[0m\n\u001b[0;32m   1753\u001b[0m               \u001b[0mcontext\u001b[0m\u001b[1;33m.\u001b[0m\u001b[0masync_wait\u001b[0m\u001b[1;33m(\u001b[0m\u001b[1;33m)\u001b[0m\u001b[1;33m\u001b[0m\u001b[1;33m\u001b[0m\u001b[0m\n",
      "\u001b[1;32m~\\Anaconda3\\envs\\thesis\\lib\\site-packages\\tensorflow\\python\\eager\\def_function.py\u001b[0m in \u001b[0;36m__call__\u001b[1;34m(self, *args, **kwds)\u001b[0m\n\u001b[0;32m    883\u001b[0m \u001b[1;33m\u001b[0m\u001b[0m\n\u001b[0;32m    884\u001b[0m       \u001b[1;32mwith\u001b[0m \u001b[0mOptionalXlaContext\u001b[0m\u001b[1;33m(\u001b[0m\u001b[0mself\u001b[0m\u001b[1;33m.\u001b[0m\u001b[0m_jit_compile\u001b[0m\u001b[1;33m)\u001b[0m\u001b[1;33m:\u001b[0m\u001b[1;33m\u001b[0m\u001b[1;33m\u001b[0m\u001b[0m\n\u001b[1;32m--> 885\u001b[1;33m         \u001b[0mresult\u001b[0m \u001b[1;33m=\u001b[0m \u001b[0mself\u001b[0m\u001b[1;33m.\u001b[0m\u001b[0m_call\u001b[0m\u001b[1;33m(\u001b[0m\u001b[1;33m*\u001b[0m\u001b[0margs\u001b[0m\u001b[1;33m,\u001b[0m \u001b[1;33m**\u001b[0m\u001b[0mkwds\u001b[0m\u001b[1;33m)\u001b[0m\u001b[1;33m\u001b[0m\u001b[1;33m\u001b[0m\u001b[0m\n\u001b[0m\u001b[0;32m    886\u001b[0m \u001b[1;33m\u001b[0m\u001b[0m\n\u001b[0;32m    887\u001b[0m       \u001b[0mnew_tracing_count\u001b[0m \u001b[1;33m=\u001b[0m \u001b[0mself\u001b[0m\u001b[1;33m.\u001b[0m\u001b[0mexperimental_get_tracing_count\u001b[0m\u001b[1;33m(\u001b[0m\u001b[1;33m)\u001b[0m\u001b[1;33m\u001b[0m\u001b[1;33m\u001b[0m\u001b[0m\n",
      "\u001b[1;32m~\\Anaconda3\\envs\\thesis\\lib\\site-packages\\tensorflow\\python\\eager\\def_function.py\u001b[0m in \u001b[0;36m_call\u001b[1;34m(self, *args, **kwds)\u001b[0m\n\u001b[0;32m    922\u001b[0m       \u001b[1;31m# In this case we have not created variables on the first call. So we can\u001b[0m\u001b[1;33m\u001b[0m\u001b[1;33m\u001b[0m\u001b[1;33m\u001b[0m\u001b[0m\n\u001b[0;32m    923\u001b[0m       \u001b[1;31m# run the first trace but we should fail if variables are created.\u001b[0m\u001b[1;33m\u001b[0m\u001b[1;33m\u001b[0m\u001b[1;33m\u001b[0m\u001b[0m\n\u001b[1;32m--> 924\u001b[1;33m       \u001b[0mresults\u001b[0m \u001b[1;33m=\u001b[0m \u001b[0mself\u001b[0m\u001b[1;33m.\u001b[0m\u001b[0m_stateful_fn\u001b[0m\u001b[1;33m(\u001b[0m\u001b[1;33m*\u001b[0m\u001b[0margs\u001b[0m\u001b[1;33m,\u001b[0m \u001b[1;33m**\u001b[0m\u001b[0mkwds\u001b[0m\u001b[1;33m)\u001b[0m\u001b[1;33m\u001b[0m\u001b[1;33m\u001b[0m\u001b[0m\n\u001b[0m\u001b[0;32m    925\u001b[0m       \u001b[1;32mif\u001b[0m \u001b[0mself\u001b[0m\u001b[1;33m.\u001b[0m\u001b[0m_created_variables\u001b[0m \u001b[1;32mand\u001b[0m \u001b[1;32mnot\u001b[0m \u001b[0mALLOW_DYNAMIC_VARIABLE_CREATION\u001b[0m\u001b[1;33m:\u001b[0m\u001b[1;33m\u001b[0m\u001b[1;33m\u001b[0m\u001b[0m\n\u001b[0;32m    926\u001b[0m         raise ValueError(\"Creating variables on a non-first call to a function\"\n",
      "\u001b[1;32m~\\Anaconda3\\envs\\thesis\\lib\\site-packages\\tensorflow\\python\\eager\\function.py\u001b[0m in \u001b[0;36m__call__\u001b[1;34m(self, *args, **kwargs)\u001b[0m\n\u001b[0;32m   3037\u001b[0m       (graph_function,\n\u001b[0;32m   3038\u001b[0m        filtered_flat_args) = self._maybe_define_function(args, kwargs)\n\u001b[1;32m-> 3039\u001b[1;33m     return graph_function._call_flat(\n\u001b[0m\u001b[0;32m   3040\u001b[0m         filtered_flat_args, captured_inputs=graph_function.captured_inputs)  # pylint: disable=protected-access\n\u001b[0;32m   3041\u001b[0m \u001b[1;33m\u001b[0m\u001b[0m\n",
      "\u001b[1;32m~\\Anaconda3\\envs\\thesis\\lib\\site-packages\\tensorflow\\python\\eager\\function.py\u001b[0m in \u001b[0;36m_call_flat\u001b[1;34m(self, args, captured_inputs, cancellation_manager)\u001b[0m\n\u001b[0;32m   1961\u001b[0m         and executing_eagerly):\n\u001b[0;32m   1962\u001b[0m       \u001b[1;31m# No tape is watching; skip to running the function.\u001b[0m\u001b[1;33m\u001b[0m\u001b[1;33m\u001b[0m\u001b[1;33m\u001b[0m\u001b[0m\n\u001b[1;32m-> 1963\u001b[1;33m       return self._build_call_outputs(self._inference_function.call(\n\u001b[0m\u001b[0;32m   1964\u001b[0m           ctx, args, cancellation_manager=cancellation_manager))\n\u001b[0;32m   1965\u001b[0m     forward_backward = self._select_forward_and_backward_functions(\n",
      "\u001b[1;32m~\\Anaconda3\\envs\\thesis\\lib\\site-packages\\tensorflow\\python\\eager\\function.py\u001b[0m in \u001b[0;36mcall\u001b[1;34m(self, ctx, args, cancellation_manager)\u001b[0m\n\u001b[0;32m    589\u001b[0m       \u001b[1;32mwith\u001b[0m \u001b[0m_InterpolateFunctionError\u001b[0m\u001b[1;33m(\u001b[0m\u001b[0mself\u001b[0m\u001b[1;33m)\u001b[0m\u001b[1;33m:\u001b[0m\u001b[1;33m\u001b[0m\u001b[1;33m\u001b[0m\u001b[0m\n\u001b[0;32m    590\u001b[0m         \u001b[1;32mif\u001b[0m \u001b[0mcancellation_manager\u001b[0m \u001b[1;32mis\u001b[0m \u001b[1;32mNone\u001b[0m\u001b[1;33m:\u001b[0m\u001b[1;33m\u001b[0m\u001b[1;33m\u001b[0m\u001b[0m\n\u001b[1;32m--> 591\u001b[1;33m           outputs = execute.execute(\n\u001b[0m\u001b[0;32m    592\u001b[0m               \u001b[0mstr\u001b[0m\u001b[1;33m(\u001b[0m\u001b[0mself\u001b[0m\u001b[1;33m.\u001b[0m\u001b[0msignature\u001b[0m\u001b[1;33m.\u001b[0m\u001b[0mname\u001b[0m\u001b[1;33m)\u001b[0m\u001b[1;33m,\u001b[0m\u001b[1;33m\u001b[0m\u001b[1;33m\u001b[0m\u001b[0m\n\u001b[0;32m    593\u001b[0m               \u001b[0mnum_outputs\u001b[0m\u001b[1;33m=\u001b[0m\u001b[0mself\u001b[0m\u001b[1;33m.\u001b[0m\u001b[0m_num_outputs\u001b[0m\u001b[1;33m,\u001b[0m\u001b[1;33m\u001b[0m\u001b[1;33m\u001b[0m\u001b[0m\n",
      "\u001b[1;32m~\\Anaconda3\\envs\\thesis\\lib\\site-packages\\tensorflow\\python\\eager\\execute.py\u001b[0m in \u001b[0;36mquick_execute\u001b[1;34m(op_name, num_outputs, inputs, attrs, ctx, name)\u001b[0m\n\u001b[0;32m     57\u001b[0m   \u001b[1;32mtry\u001b[0m\u001b[1;33m:\u001b[0m\u001b[1;33m\u001b[0m\u001b[1;33m\u001b[0m\u001b[0m\n\u001b[0;32m     58\u001b[0m     \u001b[0mctx\u001b[0m\u001b[1;33m.\u001b[0m\u001b[0mensure_initialized\u001b[0m\u001b[1;33m(\u001b[0m\u001b[1;33m)\u001b[0m\u001b[1;33m\u001b[0m\u001b[1;33m\u001b[0m\u001b[0m\n\u001b[1;32m---> 59\u001b[1;33m     tensors = pywrap_tfe.TFE_Py_Execute(ctx._handle, device_name, op_name,\n\u001b[0m\u001b[0;32m     60\u001b[0m                                         inputs, attrs, num_outputs)\n\u001b[0;32m     61\u001b[0m   \u001b[1;32mexcept\u001b[0m \u001b[0mcore\u001b[0m\u001b[1;33m.\u001b[0m\u001b[0m_NotOkStatusException\u001b[0m \u001b[1;32mas\u001b[0m \u001b[0me\u001b[0m\u001b[1;33m:\u001b[0m\u001b[1;33m\u001b[0m\u001b[1;33m\u001b[0m\u001b[0m\n",
      "\u001b[1;31mKeyboardInterrupt\u001b[0m: "
     ]
    }
   ],
   "source": [
    "radar_index = 215\n",
    "\n",
    "config_model = {\n",
    "    'regularization':args.regularization,\n",
    "    'units':args.units,\n",
    "    'filters':args.filters,\n",
    "    \n",
    "    'lr': args.lr,\n",
    "    'batch_size': args.batch_size,\n",
    "    'data_source': args.data_source,\n",
    "    'obs': args.obs,\n",
    "    'using:':'radar',\n",
    "    'radar_index':radar_index\n",
    "}\n",
    "\n",
    "# 9 block mean:\n",
    "# [:,:,[radar_index,radar_index+1,radar_index-1,\n",
    "#                                    radar_index+20,radar_index+1+20,radar_index-1+20,\n",
    "#                                    radar_index-20,radar_index+1-20,radar_index-1-20,]].mean(axis=-1)[...,np.newaxis]\n",
    "    \n",
    "X_radar = np.concatenate([X1r,X2, X3],axis=-1)\n",
    "X = X_radar.astype('float32')\n",
    "run = wandb.init(config=config_model, project='RadarVsGauge')\n",
    "with device('cpu:0'):\n",
    "    model_results = train_and_test(\n",
    "        model_constructor=model_constructor,\n",
    "        input_data=X,\n",
    "        output_data=Y,\n",
    "        weight_func=sample_weights_function,\n",
    "        config=config_model,\n",
    "    )\n",
    "    \n",
    "minimum_eval_dict = only_MSE_and_GSS(model_results[\"iop\"],sample_weights_function,evaluation_config)\n",
    "wandb.log(minimum_eval_dict['summary'])"
   ]
  },
  {
   "cell_type": "code",
   "execution_count": 7,
   "metadata": {},
   "outputs": [],
   "source": []
  },
  {
   "cell_type": "markdown",
   "metadata": {},
   "source": [
    "# A few random pixels around"
   ]
  },
  {
   "cell_type": "code",
   "execution_count": null,
   "metadata": {},
   "outputs": [],
   "source": [
    "model_results"
   ]
  },
  {
   "cell_type": "code",
   "execution_count": null,
   "metadata": {},
   "outputs": [],
   "source": [
    "\n",
    "# run = wandb.init(config=config_model, project=project)\n",
    "# with device('cpu:0'):\n",
    "\n",
    "\n",
    "predictions = {fold:{'Y_val_pred':model_results['iop'][fold]['Y_val_pred'].astype('float32'),\n",
    "                        'Y_train_pred':model_results['iop'][fold]['Y_train_pred'].astype('float32')} for fold in range(5)}\n",
    "file_name = make_name_string('Predictions',config_model)\n",
    "np.save(save_dir + file_name,predictions, allow_pickle=True)\n",
    "\n",
    "minimum_eval_dict = only_MSE_and_GSS(model_results[\"iop\"],sample_weights_function,evaluation_config)\n",
    "wandb.log(minimum_eval_dict['summary'])\n",
    "run.finish()\n"
   ]
  }
 ],
 "metadata": {
  "interpreter": {
   "hash": "37b26b0919f3eebb53e1fb9d1c196dfd7351d15ccc4a50e8438da0372db545ef"
  },
  "kernelspec": {
   "display_name": "Python 3.8.10 64-bit ('gis_wradlib_torch': conda)",
   "language": "python",
   "name": "python3"
  },
  "language_info": {
   "codemirror_mode": {
    "name": "ipython",
    "version": 3
   },
   "file_extension": ".py",
   "mimetype": "text/x-python",
   "name": "python",
   "nbconvert_exporter": "python",
   "pygments_lexer": "ipython3",
   "version": "3.9.5"
  },
  "orig_nbformat": 4
 },
 "nbformat": 4,
 "nbformat_minor": 2
}

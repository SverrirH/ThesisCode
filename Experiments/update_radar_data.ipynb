{
 "cells": [
  {
   "cell_type": "code",
   "execution_count": 1,
   "metadata": {},
   "outputs": [],
   "source": [
    "import numpy as np\n",
    "import wradlib as wrl\n",
    "def to_rainfall(radar_data,a,b):\n",
    "    return wrl.zr.z_to_r(wrl.trafo.idecibel(radar_data), a=a, b=b)\n",
    "compute_rain = lambda x : to_rainfall(x,200,1.6)\n",
    "radar_curr = './Data/20x20cappi_rainfall.pkl'\n",
    "radar_new = '../Radar - runoff/40x40radar_echo_1_25km.pkl'\n",
    "df_radar_4040 = np.load(radar_new,allow_pickle=True)\n",
    "columns2020 = np.arange(1600).reshape(40,40)[10:-10,10:-10].ravel()\n",
    "df_radar_new = df_radar_4040.loc[:,columns2020]\n",
    "df_radar_new.columns = np.arange(20**2)\n",
    "df_radar_new = compute_rain(df_radar_new)\n",
    "df_radar_new.to_pickle(radar_curr)"
   ]
  },
  {
   "cell_type": "code",
   "execution_count": 3,
   "metadata": {},
   "outputs": [],
   "source": []
  }
 ],
 "metadata": {
  "interpreter": {
   "hash": "37b26b0919f3eebb53e1fb9d1c196dfd7351d15ccc4a50e8438da0372db545ef"
  },
  "kernelspec": {
   "display_name": "Python 3.8.10 64-bit ('gis_wradlib_torch': conda)",
   "language": "python",
   "name": "python3"
  },
  "language_info": {
   "codemirror_mode": {
    "name": "ipython",
    "version": 3
   },
   "file_extension": ".py",
   "mimetype": "text/x-python",
   "name": "python",
   "nbconvert_exporter": "python",
   "pygments_lexer": "ipython3",
   "version": "3.8.10"
  },
  "orig_nbformat": 4
 },
 "nbformat": 4,
 "nbformat_minor": 2
}

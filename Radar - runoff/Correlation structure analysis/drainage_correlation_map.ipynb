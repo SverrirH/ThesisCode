{
 "cells": [
  {
   "cell_type": "code",
   "execution_count": 1,
   "source": [
    "import numpy as np\r\n",
    "import pandas as pd\r\n",
    "import datetime\r\n",
    "import matplotlib.pyplot as plt\r\n",
    "import wradlib as wrl\r\n",
    "from glob import glob\r\n",
    "from numpy.lib.stride_tricks import sliding_window_view\r\n",
    "from matplotlib import cm\r\n",
    "from matplotlib import colors"
   ],
   "outputs": [],
   "metadata": {}
  },
  {
   "cell_type": "code",
   "execution_count": 5,
   "source": [
    "\r\n",
    "\r\n",
    "dt_start = datetime.datetime(2020,1,1,0,0,0)\r\n",
    "dt_end = datetime.datetime(2020,12,31,23,59,59)\r\n",
    "new_index = pd.date_range(dt_start,dt_end, freq='1h')\r\n",
    "\r\n",
    "DIR_data = 'C:/Users/sverrirhd/vedurgogn/'\r\n",
    "URL_dates = glob(DIR_data + '??_file_dates.npy')\r\n",
    "URL_missing_indexes = glob(DIR_data + '??_missing_indexes.npy')\r\n",
    "\r\n",
    "dates = []\r\n",
    "for i in range(12):\r\n",
    "    tmp_missing = np.load(URL_missing_indexes[i])\r\n",
    "    tmp_dates = np.load(URL_dates[i],allow_pickle=True)\r\n",
    "    tmp_dates = np.delete(tmp_dates,tmp_missing)\r\n",
    "    dates.append(tmp_dates)\r\n",
    "dates = np.concatenate(dates,axis=0)\r\n",
    "\r\n",
    "# Drainage and radar data\r\n",
    "df_map = pd.read_pickle('../40times60_CAPPI_raw').resample('1h').sum()\r\n",
    "df_target = pd.read_pickle('../../Drainage data/all_drainage_data_uncorrected.pkl')\r\n",
    "\r\n",
    "# Remove/reduce effect of cycle\r\n",
    "cycle_length = 24\r\n",
    "remove_cycle = lambda x,c : (np.nanmax([x[c],0]) + (x.diff(c).cumsum()/c).shift(c))\r\n",
    "remove_season = lambda x : x - x.rolling(24*7*2,min_periods = 0).min()\r\n",
    "\r\n",
    "# for col in df_target:\r\n",
    "#     df_target.loc[:,col] = remove_cycle(df_target.loc[:,col],cycle_length)\r\n",
    "#     df_target.loc[:,col] = remove_season(df_target.loc[:,col])\r\n",
    "    \r\n",
    "target = df_target\r\n",
    "input_2d = df_map\r\n",
    "\r\n",
    "input_2d = input_2d.reindex(new_index)\r\n",
    "target = target.reindex(new_index)\r\n",
    "target = target.drop('MOS-HOL',axis='columns').interpolate(method='linear')\r\n",
    "\r\n",
    "input_2d = input_2d.values\r\n",
    "target = target.values"
   ],
   "outputs": [],
   "metadata": {}
  },
  {
   "cell_type": "code",
   "execution_count": 13,
   "source": [
    "\r\n",
    "def in_batches(func, data, batch_size):\r\n",
    "    n = len(data)\r\n",
    "    n_batches = n//batch_size + int(np.ceil(n % batch_size,))\r\n",
    "    output = []\r\n",
    "    for i in range(n_batches):\r\n",
    "        func_ret = func(data[i*batch_size:(i+1)*batch_size])\r\n",
    "        output.append(func_ret)\r\n",
    "        del func_ret\r\n",
    "    return output\r\n",
    "\r\n",
    "def to_rainfall(radar_data):    \r\n",
    "    a,b = 200.,1.6\r\n",
    "    gain,offset = 0.5, -32\r\n",
    "    return wrl.zr.z_to_r(wrl.trafo.idecibel(offset + gain * radar_data), a=200, b=1.6)\r\n"
   ],
   "outputs": [],
   "metadata": {}
  },
  {
   "cell_type": "code",
   "execution_count": 15,
   "source": [
    "# correlations = np.corrcoef(input_2d.reshape(-1,40*60),target.reshape(-1,12),rowvar=False, )\r\n",
    "# f,axes = plt.subplots(3,4,figsize=(16,5))\r\n",
    "# for i,ax in enumerate(axes.ravel()):\r\n",
    "#     ax.imshow(as_rainfall_tmp[-i+1,:-12].T)\r\n",
    "#     # ax.colorbar()\r\n",
    "# plt.tight_layout()\r\n",
    "# plt.show()"
   ],
   "outputs": [],
   "metadata": {}
  },
  {
   "cell_type": "code",
   "execution_count": null,
   "source": [],
   "outputs": [],
   "metadata": {}
  },
  {
   "cell_type": "code",
   "execution_count": null,
   "source": [
    "from scipy.sparse import load_npz,save_npz\r\n",
    "\r\n",
    "radar_csc = load_npz(DIR_data + 'radar_2020_sparse_csc_matrix.npz')\r\n",
    "\r\n",
    "first_layer = radar_csc[:,:420*120].toarray()\r\n",
    "second_layer = radar_csc[:,420*120:420*120*2].toarray()\r\n",
    "third_layer = radar_csc[:,420*120*2:420*120*3].toarray()\r\n",
    "\r\n",
    "del radar_csc"
   ],
   "outputs": [],
   "metadata": {}
  },
  {
   "cell_type": "code",
   "execution_count": 7,
   "source": [
    "def rainfall_and_mean(indexes,layer):\r\n",
    "    subset = layer[indexes.astype(int)]\r\n",
    "    subset_rainfall = to_rainfall(subset)\r\n",
    "    accumulated_rainfall = subset_rainfall.sum(axis=0)\r\n",
    "    return accumulated_rainfall\r\n",
    "\r\n",
    "def correlate_pixel(series,lag = 0):\r\n",
    "    radar_values = np.roll(series.values,lag).reshape(-1,1)\r\n",
    "    drainage_values = target.reshape(-1,12)\r\n",
    "    return np.corrcoef(radar_values,drainage_values,rowvar=False)[:,0]\r\n",
    "\r\n",
    "\r\n",
    "exclude = pd.Series(dates,dates)\r\n",
    "index_include = pd.Series(np.arange(len(exclude)),index = exclude.index)\r\n",
    "hourly_aggregate_indexes = index_include.groupby(pd.Grouper(freq='1h')).apply(np.array)"
   ],
   "outputs": [],
   "metadata": {}
  },
  {
   "cell_type": "code",
   "execution_count": null,
   "source": [],
   "outputs": [],
   "metadata": {}
  },
  {
   "cell_type": "code",
   "execution_count": 10,
   "source": [
    "first_layer_correlation_file = 'first_layer_correlation_with_drainage_sensors.csv'\r\n",
    "\r\n",
    "hourly_rainfall_first_layer = hourly_aggregate_indexes.apply(lambda x : rainfall_and_mean(x,first_layer))\r\n",
    "hourly_rainfall_first_layer = pd.DataFrame(np.array((list(hourly_rainfall_first_layer.values))),hourly_rainfall_first_layer.index)\r\n",
    "correlations = hourly_rainfall_first_layer.apply(correlate_pixel)\r\n",
    "correlations = correlations.iloc[1:]\r\n",
    "correlations.index = df_target.drop('MOS-HOL',axis='columns').columns\r\n",
    "# correlations.to_csv(first_layer_correlation_file)\r\n",
    "# correlations = pd.read_csv(first_layer_correlation_file)"
   ],
   "outputs": [
    {
     "output_type": "error",
     "ename": "NameError",
     "evalue": "name 'first_layer' is not defined",
     "traceback": [
      "\u001b[1;31m---------------------------------------------------------------------------\u001b[0m",
      "\u001b[1;31mNameError\u001b[0m                                 Traceback (most recent call last)",
      "\u001b[1;32mC:\\Users\\SVERRI~1\\AppData\\Local\\Temp/ipykernel_30792/2720007106.py\u001b[0m in \u001b[0;36m<module>\u001b[1;34m\u001b[0m\n\u001b[0;32m      1\u001b[0m \u001b[0mfirst_layer_correlation_file\u001b[0m \u001b[1;33m=\u001b[0m \u001b[1;34m'first_layer_correlation_with_drainage_sensors.csv'\u001b[0m\u001b[1;33m\u001b[0m\u001b[1;33m\u001b[0m\u001b[0m\n\u001b[0;32m      2\u001b[0m \u001b[1;33m\u001b[0m\u001b[0m\n\u001b[1;32m----> 3\u001b[1;33m \u001b[0mhourly_rainfall_first_layer\u001b[0m \u001b[1;33m=\u001b[0m \u001b[0mhourly_aggregate_indexes\u001b[0m\u001b[1;33m.\u001b[0m\u001b[0mapply\u001b[0m\u001b[1;33m(\u001b[0m\u001b[1;32mlambda\u001b[0m \u001b[0mx\u001b[0m \u001b[1;33m:\u001b[0m \u001b[0mrainfall_and_mean\u001b[0m\u001b[1;33m(\u001b[0m\u001b[0mx\u001b[0m\u001b[1;33m,\u001b[0m\u001b[0mfirst_layer\u001b[0m\u001b[1;33m)\u001b[0m\u001b[1;33m)\u001b[0m\u001b[1;33m\u001b[0m\u001b[1;33m\u001b[0m\u001b[0m\n\u001b[0m\u001b[0;32m      4\u001b[0m \u001b[0mhourly_rainfall_first_layer\u001b[0m \u001b[1;33m=\u001b[0m \u001b[0mpd\u001b[0m\u001b[1;33m.\u001b[0m\u001b[0mDataFrame\u001b[0m\u001b[1;33m(\u001b[0m\u001b[0mnp\u001b[0m\u001b[1;33m.\u001b[0m\u001b[0marray\u001b[0m\u001b[1;33m(\u001b[0m\u001b[1;33m(\u001b[0m\u001b[0mlist\u001b[0m\u001b[1;33m(\u001b[0m\u001b[0mhourly_rainfall_first_layer\u001b[0m\u001b[1;33m.\u001b[0m\u001b[0mvalues\u001b[0m\u001b[1;33m)\u001b[0m\u001b[1;33m)\u001b[0m\u001b[1;33m)\u001b[0m\u001b[1;33m,\u001b[0m\u001b[0mhourly_rainfall_first_layer\u001b[0m\u001b[1;33m.\u001b[0m\u001b[0mindex\u001b[0m\u001b[1;33m)\u001b[0m\u001b[1;33m\u001b[0m\u001b[1;33m\u001b[0m\u001b[0m\n\u001b[0;32m      5\u001b[0m \u001b[1;31m# correlations = hourly_rainfall_first_layer.apply(correlate_pixel)\u001b[0m\u001b[1;33m\u001b[0m\u001b[1;33m\u001b[0m\u001b[1;33m\u001b[0m\u001b[0m\n",
      "\u001b[1;32m~\\Anaconda3\\envs\\gis_wradlib_torch\\lib\\site-packages\\pandas\\core\\series.py\u001b[0m in \u001b[0;36mapply\u001b[1;34m(self, func, convert_dtype, args, **kwargs)\u001b[0m\n\u001b[0;32m   4354\u001b[0m         \u001b[0mdtype\u001b[0m\u001b[1;33m:\u001b[0m \u001b[0mfloat64\u001b[0m\u001b[1;33m\u001b[0m\u001b[1;33m\u001b[0m\u001b[0m\n\u001b[0;32m   4355\u001b[0m         \"\"\"\n\u001b[1;32m-> 4356\u001b[1;33m         \u001b[1;32mreturn\u001b[0m \u001b[0mSeriesApply\u001b[0m\u001b[1;33m(\u001b[0m\u001b[0mself\u001b[0m\u001b[1;33m,\u001b[0m \u001b[0mfunc\u001b[0m\u001b[1;33m,\u001b[0m \u001b[0mconvert_dtype\u001b[0m\u001b[1;33m,\u001b[0m \u001b[0margs\u001b[0m\u001b[1;33m,\u001b[0m \u001b[0mkwargs\u001b[0m\u001b[1;33m)\u001b[0m\u001b[1;33m.\u001b[0m\u001b[0mapply\u001b[0m\u001b[1;33m(\u001b[0m\u001b[1;33m)\u001b[0m\u001b[1;33m\u001b[0m\u001b[1;33m\u001b[0m\u001b[0m\n\u001b[0m\u001b[0;32m   4357\u001b[0m \u001b[1;33m\u001b[0m\u001b[0m\n\u001b[0;32m   4358\u001b[0m     def _reduce(\n",
      "\u001b[1;32m~\\Anaconda3\\envs\\gis_wradlib_torch\\lib\\site-packages\\pandas\\core\\apply.py\u001b[0m in \u001b[0;36mapply\u001b[1;34m(self)\u001b[0m\n\u001b[0;32m   1034\u001b[0m             \u001b[1;32mreturn\u001b[0m \u001b[0mself\u001b[0m\u001b[1;33m.\u001b[0m\u001b[0mapply_str\u001b[0m\u001b[1;33m(\u001b[0m\u001b[1;33m)\u001b[0m\u001b[1;33m\u001b[0m\u001b[1;33m\u001b[0m\u001b[0m\n\u001b[0;32m   1035\u001b[0m \u001b[1;33m\u001b[0m\u001b[0m\n\u001b[1;32m-> 1036\u001b[1;33m         \u001b[1;32mreturn\u001b[0m \u001b[0mself\u001b[0m\u001b[1;33m.\u001b[0m\u001b[0mapply_standard\u001b[0m\u001b[1;33m(\u001b[0m\u001b[1;33m)\u001b[0m\u001b[1;33m\u001b[0m\u001b[1;33m\u001b[0m\u001b[0m\n\u001b[0m\u001b[0;32m   1037\u001b[0m \u001b[1;33m\u001b[0m\u001b[0m\n\u001b[0;32m   1038\u001b[0m     \u001b[1;32mdef\u001b[0m \u001b[0magg\u001b[0m\u001b[1;33m(\u001b[0m\u001b[0mself\u001b[0m\u001b[1;33m)\u001b[0m\u001b[1;33m:\u001b[0m\u001b[1;33m\u001b[0m\u001b[1;33m\u001b[0m\u001b[0m\n",
      "\u001b[1;32m~\\Anaconda3\\envs\\gis_wradlib_torch\\lib\\site-packages\\pandas\\core\\apply.py\u001b[0m in \u001b[0;36mapply_standard\u001b[1;34m(self)\u001b[0m\n\u001b[0;32m   1090\u001b[0m                 \u001b[1;31m# List[Union[Callable[..., Any], str]]]]]\"; expected\u001b[0m\u001b[1;33m\u001b[0m\u001b[1;33m\u001b[0m\u001b[1;33m\u001b[0m\u001b[0m\n\u001b[0;32m   1091\u001b[0m                 \u001b[1;31m# \"Callable[[Any], Any]\"\u001b[0m\u001b[1;33m\u001b[0m\u001b[1;33m\u001b[0m\u001b[1;33m\u001b[0m\u001b[0m\n\u001b[1;32m-> 1092\u001b[1;33m                 mapped = lib.map_infer(\n\u001b[0m\u001b[0;32m   1093\u001b[0m                     \u001b[0mvalues\u001b[0m\u001b[1;33m,\u001b[0m\u001b[1;33m\u001b[0m\u001b[1;33m\u001b[0m\u001b[0m\n\u001b[0;32m   1094\u001b[0m                     \u001b[0mf\u001b[0m\u001b[1;33m,\u001b[0m  \u001b[1;31m# type: ignore[arg-type]\u001b[0m\u001b[1;33m\u001b[0m\u001b[1;33m\u001b[0m\u001b[0m\n",
      "\u001b[1;32m~\\Anaconda3\\envs\\gis_wradlib_torch\\lib\\site-packages\\pandas\\_libs\\lib.pyx\u001b[0m in \u001b[0;36mpandas._libs.lib.map_infer\u001b[1;34m()\u001b[0m\n",
      "\u001b[1;32mC:\\Users\\SVERRI~1\\AppData\\Local\\Temp/ipykernel_30792/2720007106.py\u001b[0m in \u001b[0;36m<lambda>\u001b[1;34m(x)\u001b[0m\n\u001b[0;32m      1\u001b[0m \u001b[0mfirst_layer_correlation_file\u001b[0m \u001b[1;33m=\u001b[0m \u001b[1;34m'first_layer_correlation_with_drainage_sensors.csv'\u001b[0m\u001b[1;33m\u001b[0m\u001b[1;33m\u001b[0m\u001b[0m\n\u001b[0;32m      2\u001b[0m \u001b[1;33m\u001b[0m\u001b[0m\n\u001b[1;32m----> 3\u001b[1;33m \u001b[0mhourly_rainfall_first_layer\u001b[0m \u001b[1;33m=\u001b[0m \u001b[0mhourly_aggregate_indexes\u001b[0m\u001b[1;33m.\u001b[0m\u001b[0mapply\u001b[0m\u001b[1;33m(\u001b[0m\u001b[1;32mlambda\u001b[0m \u001b[0mx\u001b[0m \u001b[1;33m:\u001b[0m \u001b[0mrainfall_and_mean\u001b[0m\u001b[1;33m(\u001b[0m\u001b[0mx\u001b[0m\u001b[1;33m,\u001b[0m\u001b[0mfirst_layer\u001b[0m\u001b[1;33m)\u001b[0m\u001b[1;33m)\u001b[0m\u001b[1;33m\u001b[0m\u001b[1;33m\u001b[0m\u001b[0m\n\u001b[0m\u001b[0;32m      4\u001b[0m \u001b[0mhourly_rainfall_first_layer\u001b[0m \u001b[1;33m=\u001b[0m \u001b[0mpd\u001b[0m\u001b[1;33m.\u001b[0m\u001b[0mDataFrame\u001b[0m\u001b[1;33m(\u001b[0m\u001b[0mnp\u001b[0m\u001b[1;33m.\u001b[0m\u001b[0marray\u001b[0m\u001b[1;33m(\u001b[0m\u001b[1;33m(\u001b[0m\u001b[0mlist\u001b[0m\u001b[1;33m(\u001b[0m\u001b[0mhourly_rainfall_first_layer\u001b[0m\u001b[1;33m.\u001b[0m\u001b[0mvalues\u001b[0m\u001b[1;33m)\u001b[0m\u001b[1;33m)\u001b[0m\u001b[1;33m)\u001b[0m\u001b[1;33m,\u001b[0m\u001b[0mhourly_rainfall_first_layer\u001b[0m\u001b[1;33m.\u001b[0m\u001b[0mindex\u001b[0m\u001b[1;33m)\u001b[0m\u001b[1;33m\u001b[0m\u001b[1;33m\u001b[0m\u001b[0m\n\u001b[0;32m      5\u001b[0m \u001b[1;31m# correlations = hourly_rainfall_first_layer.apply(correlate_pixel)\u001b[0m\u001b[1;33m\u001b[0m\u001b[1;33m\u001b[0m\u001b[1;33m\u001b[0m\u001b[0m\n",
      "\u001b[1;31mNameError\u001b[0m: name 'first_layer' is not defined"
     ]
    }
   ],
   "metadata": {}
  },
  {
   "cell_type": "code",
   "execution_count": 9,
   "source": [
    "second_layer_correlation_file = 'second_layer_correlation_with_drainage_sensors.csv'\r\n",
    "hourly_rainfall_second_layer = hourly_aggregate_indexes.apply(lambda x : rainfall_and_mean(x,second_layer))\r\n",
    "hourly_rainfall_second_layer = pd.DataFrame(np.array((list(hourly_rainfall_second_layer.values))),hourly_rainfall_second_layer.index)\r\n",
    "correlations2 = hourly_rainfall_second_layer.apply(correlate_pixel)\r\n",
    "correlations2 = correlations2.iloc[1:]\r\n",
    "correlations2.index = df_target.drop('MOS-HOL',axis='columns').columns\r\n",
    "# correlations2.to_csv(second_layer_correlation_file)\r\n",
    "# correlations2 = pd.read_csv(second_layer_correlation_file)"
   ],
   "outputs": [
    {
     "output_type": "error",
     "ename": "NameError",
     "evalue": "name 'second_layer' is not defined",
     "traceback": [
      "\u001b[1;31m---------------------------------------------------------------------------\u001b[0m",
      "\u001b[1;31mNameError\u001b[0m                                 Traceback (most recent call last)",
      "\u001b[1;32mC:\\Users\\SVERRI~1\\AppData\\Local\\Temp/ipykernel_30792/650947203.py\u001b[0m in \u001b[0;36m<module>\u001b[1;34m\u001b[0m\n\u001b[0;32m      1\u001b[0m \u001b[0msecond_layer_correlation_file\u001b[0m \u001b[1;33m=\u001b[0m \u001b[1;34m'second_layer_correlation_with_drainage_sensors.csv'\u001b[0m\u001b[1;33m\u001b[0m\u001b[1;33m\u001b[0m\u001b[0m\n\u001b[1;32m----> 2\u001b[1;33m \u001b[0mhourly_rainfall_second_layer\u001b[0m \u001b[1;33m=\u001b[0m \u001b[0mhourly_aggregate_indexes\u001b[0m\u001b[1;33m.\u001b[0m\u001b[0mapply\u001b[0m\u001b[1;33m(\u001b[0m\u001b[1;32mlambda\u001b[0m \u001b[0mx\u001b[0m \u001b[1;33m:\u001b[0m \u001b[0mrainfall_and_mean\u001b[0m\u001b[1;33m(\u001b[0m\u001b[0mx\u001b[0m\u001b[1;33m,\u001b[0m\u001b[0msecond_layer\u001b[0m\u001b[1;33m)\u001b[0m\u001b[1;33m)\u001b[0m\u001b[1;33m\u001b[0m\u001b[1;33m\u001b[0m\u001b[0m\n\u001b[0m\u001b[0;32m      3\u001b[0m \u001b[0mhourly_rainfall_second_layer\u001b[0m \u001b[1;33m=\u001b[0m \u001b[0mpd\u001b[0m\u001b[1;33m.\u001b[0m\u001b[0mDataFrame\u001b[0m\u001b[1;33m(\u001b[0m\u001b[0mnp\u001b[0m\u001b[1;33m.\u001b[0m\u001b[0marray\u001b[0m\u001b[1;33m(\u001b[0m\u001b[1;33m(\u001b[0m\u001b[0mlist\u001b[0m\u001b[1;33m(\u001b[0m\u001b[0mhourly_rainfall_second_layer\u001b[0m\u001b[1;33m.\u001b[0m\u001b[0mvalues\u001b[0m\u001b[1;33m)\u001b[0m\u001b[1;33m)\u001b[0m\u001b[1;33m)\u001b[0m\u001b[1;33m,\u001b[0m\u001b[0mhourly_rainfall_second_layer\u001b[0m\u001b[1;33m.\u001b[0m\u001b[0mindex\u001b[0m\u001b[1;33m)\u001b[0m\u001b[1;33m\u001b[0m\u001b[1;33m\u001b[0m\u001b[0m\n\u001b[0;32m      4\u001b[0m \u001b[0mcorrelations2\u001b[0m \u001b[1;33m=\u001b[0m \u001b[0mhourly_rainfall_second_layer\u001b[0m\u001b[1;33m.\u001b[0m\u001b[0mapply\u001b[0m\u001b[1;33m(\u001b[0m\u001b[0mcorrelate_pixel\u001b[0m\u001b[1;33m)\u001b[0m\u001b[1;33m\u001b[0m\u001b[1;33m\u001b[0m\u001b[0m\n\u001b[0;32m      5\u001b[0m \u001b[0mcorrelations2\u001b[0m \u001b[1;33m=\u001b[0m \u001b[0mcorrelations2\u001b[0m\u001b[1;33m.\u001b[0m\u001b[0miloc\u001b[0m\u001b[1;33m[\u001b[0m\u001b[1;36m1\u001b[0m\u001b[1;33m:\u001b[0m\u001b[1;33m]\u001b[0m\u001b[1;33m\u001b[0m\u001b[1;33m\u001b[0m\u001b[0m\n",
      "\u001b[1;32m~\\Anaconda3\\envs\\gis_wradlib_torch\\lib\\site-packages\\pandas\\core\\series.py\u001b[0m in \u001b[0;36mapply\u001b[1;34m(self, func, convert_dtype, args, **kwargs)\u001b[0m\n\u001b[0;32m   4354\u001b[0m         \u001b[0mdtype\u001b[0m\u001b[1;33m:\u001b[0m \u001b[0mfloat64\u001b[0m\u001b[1;33m\u001b[0m\u001b[1;33m\u001b[0m\u001b[0m\n\u001b[0;32m   4355\u001b[0m         \"\"\"\n\u001b[1;32m-> 4356\u001b[1;33m         \u001b[1;32mreturn\u001b[0m \u001b[0mSeriesApply\u001b[0m\u001b[1;33m(\u001b[0m\u001b[0mself\u001b[0m\u001b[1;33m,\u001b[0m \u001b[0mfunc\u001b[0m\u001b[1;33m,\u001b[0m \u001b[0mconvert_dtype\u001b[0m\u001b[1;33m,\u001b[0m \u001b[0margs\u001b[0m\u001b[1;33m,\u001b[0m \u001b[0mkwargs\u001b[0m\u001b[1;33m)\u001b[0m\u001b[1;33m.\u001b[0m\u001b[0mapply\u001b[0m\u001b[1;33m(\u001b[0m\u001b[1;33m)\u001b[0m\u001b[1;33m\u001b[0m\u001b[1;33m\u001b[0m\u001b[0m\n\u001b[0m\u001b[0;32m   4357\u001b[0m \u001b[1;33m\u001b[0m\u001b[0m\n\u001b[0;32m   4358\u001b[0m     def _reduce(\n",
      "\u001b[1;32m~\\Anaconda3\\envs\\gis_wradlib_torch\\lib\\site-packages\\pandas\\core\\apply.py\u001b[0m in \u001b[0;36mapply\u001b[1;34m(self)\u001b[0m\n\u001b[0;32m   1034\u001b[0m             \u001b[1;32mreturn\u001b[0m \u001b[0mself\u001b[0m\u001b[1;33m.\u001b[0m\u001b[0mapply_str\u001b[0m\u001b[1;33m(\u001b[0m\u001b[1;33m)\u001b[0m\u001b[1;33m\u001b[0m\u001b[1;33m\u001b[0m\u001b[0m\n\u001b[0;32m   1035\u001b[0m \u001b[1;33m\u001b[0m\u001b[0m\n\u001b[1;32m-> 1036\u001b[1;33m         \u001b[1;32mreturn\u001b[0m \u001b[0mself\u001b[0m\u001b[1;33m.\u001b[0m\u001b[0mapply_standard\u001b[0m\u001b[1;33m(\u001b[0m\u001b[1;33m)\u001b[0m\u001b[1;33m\u001b[0m\u001b[1;33m\u001b[0m\u001b[0m\n\u001b[0m\u001b[0;32m   1037\u001b[0m \u001b[1;33m\u001b[0m\u001b[0m\n\u001b[0;32m   1038\u001b[0m     \u001b[1;32mdef\u001b[0m \u001b[0magg\u001b[0m\u001b[1;33m(\u001b[0m\u001b[0mself\u001b[0m\u001b[1;33m)\u001b[0m\u001b[1;33m:\u001b[0m\u001b[1;33m\u001b[0m\u001b[1;33m\u001b[0m\u001b[0m\n",
      "\u001b[1;32m~\\Anaconda3\\envs\\gis_wradlib_torch\\lib\\site-packages\\pandas\\core\\apply.py\u001b[0m in \u001b[0;36mapply_standard\u001b[1;34m(self)\u001b[0m\n\u001b[0;32m   1090\u001b[0m                 \u001b[1;31m# List[Union[Callable[..., Any], str]]]]]\"; expected\u001b[0m\u001b[1;33m\u001b[0m\u001b[1;33m\u001b[0m\u001b[1;33m\u001b[0m\u001b[0m\n\u001b[0;32m   1091\u001b[0m                 \u001b[1;31m# \"Callable[[Any], Any]\"\u001b[0m\u001b[1;33m\u001b[0m\u001b[1;33m\u001b[0m\u001b[1;33m\u001b[0m\u001b[0m\n\u001b[1;32m-> 1092\u001b[1;33m                 mapped = lib.map_infer(\n\u001b[0m\u001b[0;32m   1093\u001b[0m                     \u001b[0mvalues\u001b[0m\u001b[1;33m,\u001b[0m\u001b[1;33m\u001b[0m\u001b[1;33m\u001b[0m\u001b[0m\n\u001b[0;32m   1094\u001b[0m                     \u001b[0mf\u001b[0m\u001b[1;33m,\u001b[0m  \u001b[1;31m# type: ignore[arg-type]\u001b[0m\u001b[1;33m\u001b[0m\u001b[1;33m\u001b[0m\u001b[0m\n",
      "\u001b[1;32m~\\Anaconda3\\envs\\gis_wradlib_torch\\lib\\site-packages\\pandas\\_libs\\lib.pyx\u001b[0m in \u001b[0;36mpandas._libs.lib.map_infer\u001b[1;34m()\u001b[0m\n",
      "\u001b[1;32mC:\\Users\\SVERRI~1\\AppData\\Local\\Temp/ipykernel_30792/650947203.py\u001b[0m in \u001b[0;36m<lambda>\u001b[1;34m(x)\u001b[0m\n\u001b[0;32m      1\u001b[0m \u001b[0msecond_layer_correlation_file\u001b[0m \u001b[1;33m=\u001b[0m \u001b[1;34m'second_layer_correlation_with_drainage_sensors.csv'\u001b[0m\u001b[1;33m\u001b[0m\u001b[1;33m\u001b[0m\u001b[0m\n\u001b[1;32m----> 2\u001b[1;33m \u001b[0mhourly_rainfall_second_layer\u001b[0m \u001b[1;33m=\u001b[0m \u001b[0mhourly_aggregate_indexes\u001b[0m\u001b[1;33m.\u001b[0m\u001b[0mapply\u001b[0m\u001b[1;33m(\u001b[0m\u001b[1;32mlambda\u001b[0m \u001b[0mx\u001b[0m \u001b[1;33m:\u001b[0m \u001b[0mrainfall_and_mean\u001b[0m\u001b[1;33m(\u001b[0m\u001b[0mx\u001b[0m\u001b[1;33m,\u001b[0m\u001b[0msecond_layer\u001b[0m\u001b[1;33m)\u001b[0m\u001b[1;33m)\u001b[0m\u001b[1;33m\u001b[0m\u001b[1;33m\u001b[0m\u001b[0m\n\u001b[0m\u001b[0;32m      3\u001b[0m \u001b[0mhourly_rainfall_second_layer\u001b[0m \u001b[1;33m=\u001b[0m \u001b[0mpd\u001b[0m\u001b[1;33m.\u001b[0m\u001b[0mDataFrame\u001b[0m\u001b[1;33m(\u001b[0m\u001b[0mnp\u001b[0m\u001b[1;33m.\u001b[0m\u001b[0marray\u001b[0m\u001b[1;33m(\u001b[0m\u001b[1;33m(\u001b[0m\u001b[0mlist\u001b[0m\u001b[1;33m(\u001b[0m\u001b[0mhourly_rainfall_second_layer\u001b[0m\u001b[1;33m.\u001b[0m\u001b[0mvalues\u001b[0m\u001b[1;33m)\u001b[0m\u001b[1;33m)\u001b[0m\u001b[1;33m)\u001b[0m\u001b[1;33m,\u001b[0m\u001b[0mhourly_rainfall_second_layer\u001b[0m\u001b[1;33m.\u001b[0m\u001b[0mindex\u001b[0m\u001b[1;33m)\u001b[0m\u001b[1;33m\u001b[0m\u001b[1;33m\u001b[0m\u001b[0m\n\u001b[0;32m      4\u001b[0m \u001b[0mcorrelations2\u001b[0m \u001b[1;33m=\u001b[0m \u001b[0mhourly_rainfall_second_layer\u001b[0m\u001b[1;33m.\u001b[0m\u001b[0mapply\u001b[0m\u001b[1;33m(\u001b[0m\u001b[0mcorrelate_pixel\u001b[0m\u001b[1;33m)\u001b[0m\u001b[1;33m\u001b[0m\u001b[1;33m\u001b[0m\u001b[0m\n\u001b[0;32m      5\u001b[0m \u001b[0mcorrelations2\u001b[0m \u001b[1;33m=\u001b[0m \u001b[0mcorrelations2\u001b[0m\u001b[1;33m.\u001b[0m\u001b[0miloc\u001b[0m\u001b[1;33m[\u001b[0m\u001b[1;36m1\u001b[0m\u001b[1;33m:\u001b[0m\u001b[1;33m]\u001b[0m\u001b[1;33m\u001b[0m\u001b[1;33m\u001b[0m\u001b[0m\n",
      "\u001b[1;31mNameError\u001b[0m: name 'second_layer' is not defined"
     ]
    }
   ],
   "metadata": {}
  },
  {
   "cell_type": "code",
   "execution_count": null,
   "source": [
    "third_layer_correlation_file = 'third_layer_correlation_with_drainage_sensors.csv'\r\n",
    "hourly_rainfall_third_layer = hourly_aggregate_indexes.apply(lambda x : rainfall_and_mean(x,third_layer))\r\n",
    "hourly_rainfall_third_layer = pd.DataFrame(np.array((list(hourly_rainfall_third_layer.values))),hourly_rainfall_third_layer.index)\r\n",
    "correlations3 = hourly_rainfall_third_layer.apply(correlate_pixel)\r\n",
    "correlations3 = correlations3.iloc[1:]\r\n",
    "correlations3.index = df_target.drop('MOS-HOL',axis='columns').columns\r\n",
    "# correlations3.to_csv(third_layer_correlation_file)\r\n",
    "# correlations3 = pd.read_csv(third_layer_correlation_file)"
   ],
   "outputs": [],
   "metadata": {}
  },
  {
   "cell_type": "code",
   "execution_count": 11,
   "source": [
    "\r\n",
    "l = 5\r\n",
    "lag_values = np.arange(-100,200,4)\r\n",
    "for shift_0 in range(-5,5):\r\n",
    "    for shift_1 in range(-5,5):\r\n",
    "        means = []\r\n",
    "        for l in lag_values:\r\n",
    "            correlate_pixel_lag = lambda x:correlate_pixel(x,lag = l)\r\n",
    "            # corr_vals = hourly_rainfall_first_layer.iloc[:,[5075]].apply(correlate_pixel_lag)\r\n",
    "            corr_vals = hourly_rainfall_first_layer.iloc[:,[5075+shift_0*420 + shift_1]].apply(correlate_pixel_lag)\r\n",
    "            means.append(corr_vals)\r\n",
    "            \r\n",
    "        plt.plot(lag_values,[i.iloc[5] for i in means])\r\n",
    "        print(lag_values[np.argmax([i.iloc[5] for i in means])],end=',')\r\n"
   ],
   "outputs": [
    {
     "output_type": "error",
     "ename": "NameError",
     "evalue": "name 'hourly_rainfall_first_layer' is not defined",
     "traceback": [
      "\u001b[1;31m---------------------------------------------------------------------------\u001b[0m",
      "\u001b[1;31mNameError\u001b[0m                                 Traceback (most recent call last)",
      "\u001b[1;32mC:\\Users\\SVERRI~1\\AppData\\Local\\Temp/ipykernel_30792/1281884949.py\u001b[0m in \u001b[0;36m<module>\u001b[1;34m\u001b[0m\n\u001b[0;32m      7\u001b[0m             \u001b[0mcorrelate_pixel_lag\u001b[0m \u001b[1;33m=\u001b[0m \u001b[1;32mlambda\u001b[0m \u001b[0mx\u001b[0m\u001b[1;33m:\u001b[0m\u001b[0mcorrelate_pixel\u001b[0m\u001b[1;33m(\u001b[0m\u001b[0mx\u001b[0m\u001b[1;33m,\u001b[0m\u001b[0mlag\u001b[0m \u001b[1;33m=\u001b[0m \u001b[0ml\u001b[0m\u001b[1;33m)\u001b[0m\u001b[1;33m\u001b[0m\u001b[1;33m\u001b[0m\u001b[0m\n\u001b[0;32m      8\u001b[0m             \u001b[1;31m# corr_vals = hourly_rainfall_first_layer.iloc[:,[5075]].apply(correlate_pixel_lag)\u001b[0m\u001b[1;33m\u001b[0m\u001b[1;33m\u001b[0m\u001b[1;33m\u001b[0m\u001b[0m\n\u001b[1;32m----> 9\u001b[1;33m             \u001b[0mcorr_vals\u001b[0m \u001b[1;33m=\u001b[0m \u001b[0mhourly_rainfall_first_layer\u001b[0m\u001b[1;33m.\u001b[0m\u001b[0miloc\u001b[0m\u001b[1;33m[\u001b[0m\u001b[1;33m:\u001b[0m\u001b[1;33m,\u001b[0m\u001b[1;33m[\u001b[0m\u001b[1;36m5075\u001b[0m\u001b[1;33m+\u001b[0m\u001b[0mshift_0\u001b[0m\u001b[1;33m*\u001b[0m\u001b[1;36m420\u001b[0m \u001b[1;33m+\u001b[0m \u001b[0mshift_1\u001b[0m\u001b[1;33m]\u001b[0m\u001b[1;33m]\u001b[0m\u001b[1;33m.\u001b[0m\u001b[0mapply\u001b[0m\u001b[1;33m(\u001b[0m\u001b[0mcorrelate_pixel_lag\u001b[0m\u001b[1;33m)\u001b[0m\u001b[1;33m\u001b[0m\u001b[1;33m\u001b[0m\u001b[0m\n\u001b[0m\u001b[0;32m     10\u001b[0m             \u001b[0mmeans\u001b[0m\u001b[1;33m.\u001b[0m\u001b[0mappend\u001b[0m\u001b[1;33m(\u001b[0m\u001b[0mcorr_vals\u001b[0m\u001b[1;33m)\u001b[0m\u001b[1;33m\u001b[0m\u001b[1;33m\u001b[0m\u001b[0m\n\u001b[0;32m     11\u001b[0m \u001b[1;33m\u001b[0m\u001b[0m\n",
      "\u001b[1;31mNameError\u001b[0m: name 'hourly_rainfall_first_layer' is not defined"
     ]
    }
   ],
   "metadata": {}
  },
  {
   "cell_type": "code",
   "execution_count": null,
   "source": [
    "# tmp_2d = correlations2.loc['RVK-SKE'].values.reshape((420,120))\r\n",
    "# window_size = (50,50)\r\n",
    "# tmp_sliding_windows = sliding_window_view(tmp_2d,window_size)\r\n",
    "# best_window = tmp_sliding_windows.sum(axis=(-1,-2)).reshape(-1).argmax()\r\n",
    "\r\n",
    "# tmp_area = tmp_sliding_windows.reshape((-1,) + window_size)[best_window]\r\n",
    "# max_0 = np.max(np.abs(correlations3.loc['RVK-SKE']))\r\n",
    "# divnorm_0 = colors.TwoSlopeNorm(vmin=-max_0, vcenter=0., vmax=max_0)\r\n",
    "# plt.imshow(tmp_area,cmap='RdBu',norm=divnorm_0)\r\n",
    "# tmp_sliding_windows.shape,best_window\r\n",
    "\r\n"
   ],
   "outputs": [],
   "metadata": {}
  },
  {
   "cell_type": "code",
   "execution_count": null,
   "source": [
    "# best_pixel_BOD = correlations2.loc['RVK-BOD'].argmax()\r\n",
    "# best_pixel_BOD_values = second_layer[:,best_pixel_BOD]\r\n",
    "\r\n",
    "# plt.plot(dates,best_pixel_BOD_values)\r\n",
    "# plt.plot(df_target.loc[new_index,'RVK-BOD'])\r\n",
    "# plt.show()\r\n",
    "# hourly_sum_BOD = pd.DataFrame(best_pixel_BOD_values,dates).resample('1h').sum().loc[new_index]\r\n",
    "# plt.scatter(hourly_sum_BOD,df_target.loc[new_index,'RVK-BOD'],s = 0.1)\r\n",
    "# plt.show()"
   ],
   "outputs": [],
   "metadata": {}
  },
  {
   "cell_type": "code",
   "execution_count": null,
   "source": [
    "# plt.plot(pd.Series(best_pixel_VES_values,dates).groupby(pd.Grouper(freq='1h')).sum())\r\n",
    "# plt.twinx().plot(df_target.loc[new_index,'RVK-VES'],color='red')\r\n",
    "# plt.xlim(datetime.datetime(2020,1,1),datetime.datetime(2020,2,1))\r\n",
    "# plt.show()"
   ],
   "outputs": [],
   "metadata": {}
  },
  {
   "cell_type": "code",
   "execution_count": null,
   "source": [
    "# best_pixel_VES = correlations.loc['RVK-VES'].argmax()\r\n",
    "# best_pixel_VES_values = first_layer[:,best_pixel_VES]\r\n",
    "\r\n",
    "# plt.plot(dates,best_pixel_VES_values)\r\n",
    "# plt.plot(df_target.loc[new_index,'RVK-VES'])\r\n",
    "# plt.show()\r\n",
    "\r\n",
    "# plt.plot(dates,best_pixel_VES_values)\r\n",
    "# plt.plot(df_target.loc[new_index,'RVK-VES'])\r\n",
    "# plt.xlim(datetime.datetime(2020,1,1),datetime.datetime(2020,2,1))\r\n",
    "# plt.show()\r\n",
    "\r\n",
    "# hourly_sum_VES = pd.DataFrame(best_pixel_VES_values,dates).resample('1h').sum().loc[new_index]\r\n",
    "# plt.scatter(hourly_sum_VES,df_target.loc[new_index,'RVK-VES'],s = 0.1)\r\n",
    "# plt.show()"
   ],
   "outputs": [],
   "metadata": {}
  },
  {
   "cell_type": "code",
   "execution_count": null,
   "source": [
    "# df_inputs.temperature.plot()\r\n",
    "# print(np.corrcoef(df_inputs.radiation.fillna(0).values,df_target.loc[new_index,'RVK-VES'].fillna(method='ffill')))\r\n",
    "# print(np.corrcoef(df_inputs.moist_pressure.fillna(0).values,df_target.loc[new_index,'RVK-VES'].fillna(method='ffill')))\r\n",
    "# df_target.loc[new_index,'RVK-VES'].plot()"
   ],
   "outputs": [],
   "metadata": {}
  },
  {
   "cell_type": "code",
   "execution_count": null,
   "source": [
    "# df_inputs = pd.read_pickle('./2020_input_data_four_areas')\r\n",
    "# df_inputs.head()\r\n",
    "# plt.figure(figsize=(15,5))\r\n",
    "# df_target.loc[new_index,'RVK-VES'].plot()\r\n"
   ],
   "outputs": [],
   "metadata": {}
  },
  {
   "cell_type": "code",
   "execution_count": null,
   "source": [
    "\r\n",
    "f,axes = plt.subplots(12,3,figsize=(8*3,12*8))\r\n",
    "r_vec = np.arange(0,240000,2000) + 1000\r\n",
    "az_vec = np.arange(0,360+1,0.86)\r\n",
    "for i in range(12):\r\n",
    "    \r\n",
    "    arr_0 = correlations.values[i,:].reshape(420,120)\r\n",
    "    arr_1 = correlations2.values[i,:].reshape(420,120)\r\n",
    "    arr_2 = correlations3.values[i,:].reshape(420,120)\r\n",
    "    \r\n",
    "    max_0 = np.max(np.abs(arr_0))\r\n",
    "    max_1 = np.max(np.abs(arr_1))\r\n",
    "    max_2 = np.max(np.abs(arr_2))\r\n",
    "    \r\n",
    "    divnorm_0 = colors.TwoSlopeNorm(vmin=-max_0, vcenter=0., vmax=max_0)\r\n",
    "    divnorm_1 = colors.TwoSlopeNorm(vmin=-max_1, vcenter=0., vmax=max_1)\r\n",
    "    divnorm_2 = colors.TwoSlopeNorm(vmin=-max_2, vcenter=0., vmax=max_2)\r\n",
    "    \r\n",
    "    img0 = wrl.vis.plot_ppi(arr_0, r = r_vec, az = az_vec, ax=axes[i,0],cmap='RdBu',norm=divnorm_0)\r\n",
    "    img1 = wrl.vis.plot_ppi(arr_1, r = r_vec, az = az_vec, ax=axes[i,1],cmap='RdBu',norm=divnorm_1)\r\n",
    "    img2 = wrl.vis.plot_ppi(arr_2, r = r_vec, az = az_vec, ax=axes[i,2],cmap='RdBu',norm=divnorm_2)\r\n",
    "\r\n",
    "    # plt.imshow(correlations.values[i,:].reshape(420,120).T)\r\n",
    "    plt.colorbar(img0[1],ax = axes[i,0])\r\n",
    "    plt.colorbar(img1[1],ax = axes[i,1])\r\n",
    "    plt.colorbar(img2[1],ax = axes[i,2])\r\n",
    "    axes[i,0].set_title(df_target.columns[i] + ' - ' + 'First layer')\r\n",
    "    axes[i,1].set_title(df_target.columns[i] + ' - ' + 'Second layer')\r\n",
    "    axes[i,2].set_title(df_target.columns[i] + ' - ' + 'Third layer')\r\n",
    "\r\n",
    "plt.tight_layout()\r\n",
    "plt.savefig('./radar_drainage_correlation_map.png')\r\n",
    "plt.close()\r\n",
    "# plt.show()"
   ],
   "outputs": [],
   "metadata": {}
  },
  {
   "cell_type": "markdown",
   "source": [
    "# plot correlations over geographical locations"
   ],
   "metadata": {}
  },
  {
   "cell_type": "code",
   "execution_count": null,
   "source": [
    "\r\n",
    "import geopandas as gpd\r\n",
    "from pyproj import Transformer\r\n",
    "\r\n",
    "transformer_gps_isl = Transformer.from_crs(\"epsg:4326\", \"epsg:3057\" ) # Umbreyta GPS staðsetningu yfir í cartesian hnit fyrir Ísland\r\n",
    "transformer_isl_gps = Transformer.from_crs(\"epsg:3057\", \"epsg:4326\") # Umbreyta cartesian hnitum aftur í GPS hnit\r\n",
    "\r\n",
    "DIR_map = 'C:/Users/sverrirhd/Google Drive/Skóli/DTU/Thesis/Programming/Example code/Jonas example of rain data'\r\n",
    "DIR_data = 'C:/Users/sverrirhd/vedurgogn/'\r\n",
    "\r\n",
    "bg_map_file = f'{DIR_map}/Iceland_map/geoBoundariesSimplified-3_0_0-ISL-ADM0.shp'\r\n",
    "URL_pixel_coords_save = DIR_data + 'radar_pixel_coords.npy'\r\n",
    "URL_radar_coords_save = DIR_data + 'radar_raw_pixel_coords_gps.npy'\r\n",
    "radar_coords = np.load(URL_pixel_coords_save)\r\n",
    "radar_raw_gps_coords = np.load(URL_radar_coords_save)\r\n",
    "\r\n",
    "\r\n",
    "plot_title = 'Correlations over Reykjavík'\r\n",
    "\r\n",
    "bg_map = gpd.read_file(bg_map_file)"
   ],
   "outputs": [],
   "metadata": {}
  },
  {
   "cell_type": "markdown",
   "source": [
    "## Recreate the CAPPI patches and extract their locations"
   ],
   "metadata": {}
  },
  {
   "cell_type": "code",
   "execution_count": null,
   "source": [
    "ix,iy = 188168//602,188168%602\r\n",
    "x_shift = 1\r\n",
    "y_shift = -1\r\n",
    "print('pixel center:',ix,iy)\r\n",
    "X_margin = 20 #  pixels\r\n",
    "y_margin = 30 #  pixels\r\n",
    "H,W = 2*X_margin,2*y_margin\r\n",
    "ix_start = ix + x_shift - X_margin\r\n",
    "ix_end = ix + x_shift + X_margin\r\n",
    "iy_start = iy + y_shift - y_margin\r\n",
    "iy_end = iy + y_shift + y_margin\r\n",
    "\r\n",
    "radar_patch_coords = radar_coords.reshape((602,602,-1))[ix_start:ix_end,iy_start:iy_end,:2].reshape(-1,2)\r\n",
    "radar_patch_coords_gps = [transformer_isl_gps.transform(a,b) for a,b in radar_patch_coords]\r\n",
    "radar_patch_coords_gps = np.array(radar_patch_coords_gps)"
   ],
   "outputs": [],
   "metadata": {}
  },
  {
   "cell_type": "code",
   "execution_count": null,
   "source": [
    "\r\n",
    "radar_patches = []\r\n",
    "for i in range(12):\r\n",
    "    radar_tmp = np.load(DIR_data + f'CAPPI_{i}.npy')\r\n",
    "    radar_tmp = radar_tmp.reshape(-1,602,602)\r\n",
    "    tmp_patches = radar_tmp[:,ix_start:ix_end,iy_start:iy_end]\r\n",
    "    tmp_rainfall_patch = to_rainfall(tmp_patches)\r\n",
    "    radar_patches.append(tmp_rainfall_patch)\r\n",
    "radar_patches = np.concatenate(radar_patches,axis = 0)\r\n"
   ],
   "outputs": [],
   "metadata": {}
  },
  {
   "cell_type": "code",
   "execution_count": null,
   "source": [
    "def correlate_pixel(series,lag = 0):\r\n",
    "    radar_values = np.roll(series.values,lag).reshape(-1,1)\r\n",
    "    drainage_values = target.reshape(-1,12)\r\n",
    "    return np.corrcoef(radar_values,drainage_values,rowvar=False)[:,0]\r\n",
    "\r\n",
    "l = 1\r\n",
    "correlate_pixel_lag = lambda x:correlate_pixel(x,lag = l)\r\n",
    "correlation_grid = df_map.apply(correlate_pixel_lag).iloc[1:]\r\n",
    "correlation_grid.index = df_target.drop('MOS-HOL',axis='columns').columns"
   ],
   "outputs": [],
   "metadata": {}
  },
  {
   "cell_type": "code",
   "execution_count": null,
   "source": [
    "f,axes = plt.subplots(3,4,figsize=(16,12))\r\n",
    "\r\n",
    "for i,ax in enumerate(axes.ravel()):\r\n",
    "    im = ax.imshow(correlation_grid.iloc[i].values.reshape((H,W))[::-1])\r\n",
    "    plt.colorbar(im, ax=ax)"
   ],
   "outputs": [],
   "metadata": {}
  },
  {
   "cell_type": "code",
   "execution_count": null,
   "source": [
    "x_coords = radar_patch_coords_gps[:,1].reshape(H,W)\r\n",
    "y_coords = radar_patch_coords_gps[:,0].reshape(H,W)"
   ],
   "outputs": [],
   "metadata": {}
  },
  {
   "cell_type": "code",
   "execution_count": null,
   "source": [
    "lag_values = range(-10,10)\r\n",
    "for l in lag_values:\r\n",
    "    correlate_pixel_lag = lambda x:correlate_pixel(x,lag = l)\r\n",
    "    correlation_grid = df_map.apply(correlate_pixel_lag).iloc[1:]\r\n",
    "    correlation_grid.index = df_target.drop('MOS-HOL',axis='columns').columns\r\n",
    "\r\n",
    "    f,axes = plt.subplots(4,3,figsize=(3*10,4*7))\r\n",
    "\r\n",
    "    for i,ax in enumerate(axes.ravel()):\r\n",
    "        arr = correlation_grid.iloc[i].values.reshape(H,W)\r\n",
    "        # arr_max = np.max(np.abs(arr))\r\n",
    "        divnorm = colors.TwoSlopeNorm(vcenter=0.,)\r\n",
    "        bg_map.plot(edgecolor=\"black\",facecolor='lightgrey',ax = ax)\r\n",
    "        img = ax.pcolormesh(x_coords,\r\n",
    "                            y_coords,\r\n",
    "                            arr[:-1,:-1],\r\n",
    "                            shading='flat',\r\n",
    "                            alpha = 0.65,\r\n",
    "                            cmap='RdBu',\r\n",
    "                            norm=divnorm\r\n",
    "                            ) #\r\n",
    "                \r\n",
    "        \r\n",
    "        ax.set_xlim(-22.6,-21.25)\r\n",
    "        ax.set_ylim(63.95,64.35)\r\n",
    "        ax.set_title(correlation_grid.index[i],fontsize=20)\r\n",
    "        plt.colorbar(img,ax = ax)\r\n",
    "        \r\n",
    "    plt.tight_layout()\r\n",
    "    plt.savefig(f'./cappi_correlation_lag_map_series/Correlations_overlayed_on_map_lag{l}.png')\r\n",
    "    plt.close()"
   ],
   "outputs": [],
   "metadata": {}
  },
  {
   "cell_type": "markdown",
   "source": [
    "# And now with the raw radar pixels instead"
   ],
   "metadata": {}
  },
  {
   "cell_type": "code",
   "execution_count": null,
   "source": [],
   "outputs": [],
   "metadata": {}
  },
  {
   "cell_type": "code",
   "execution_count": null,
   "source": [
    "# plt.imshow(hourly_rainfall_second_layer.iloc[0,:].values.reshape(420,120)[])"
   ],
   "outputs": [],
   "metadata": {}
  },
  {
   "cell_type": "code",
   "execution_count": null,
   "source": [
    "# indexes_of_interest = np.arange(hourly_rainfall_first_layer.shape[-1]).reshape(420,120)[:,:40].ravel()\r\n",
    "# correlate_pixel_lag = lambda x:correlate_pixel(x,lag = 44)\r\n",
    "# correlation_grid = hourly_rainfall_second_layer.iloc[:,indexes_of_interest].apply(correlate_pixel_lag).iloc[1:]\r\n",
    "# correlation_grid.index = df_target.drop('MOS-HOL',axis='columns').columns"
   ],
   "outputs": [],
   "metadata": {}
  },
  {
   "cell_type": "code",
   "execution_count": null,
   "source": [
    "# def compute_cell_edges(x_coords,y_coords):\r\n",
    "#     x_diff = x_coords[:-1] - x_coords[1:]\r\n",
    "#     x_diff = np.append(x_diff,x_diff[-1])\r\n",
    "#     x_corner = x_coords - x_diff/2\r\n",
    "#     x_corner = np.append(x_corner, x_corner[-1 + ])\r\n",
    "    \r\n",
    "#     y_diff = y_coords[:-1] - y_coords[1:]\r\n",
    "#     y_diff = np.append(y_diff,y_diff[-1])\r\n",
    "#     y_corner = y_coords - y_diff/2\r\n",
    "    \r\n",
    "    \r\n",
    "    \r\n",
    "#     return x_coords - cell_start\r\n",
    "    "
   ],
   "outputs": [],
   "metadata": {}
  },
  {
   "cell_type": "code",
   "execution_count": null,
   "source": [
    "r_vec = np.arange(0,240000,2000) + 1000\r\n",
    "az_vec = np.arange(0,360+1,0.86)\r\n",
    "range_from = 10\r\n",
    "range_to = 35\r\n",
    "angle_from = int((420/42)*5)\r\n",
    "angle_to = int(420/4 + 420//36) \r\n",
    "\r\n",
    "indexes_of_interest = np.arange(hourly_rainfall_first_layer.shape[-1]).reshape(420,120)[angle_from:angle_to,range_from:range_to].ravel()\r\n",
    "\r\n",
    "coords_of_interest_0 = radar_raw_gps_coords[indexes_of_interest]\r\n",
    "coords_of_interest_1 = radar_raw_gps_coords[indexes_of_interest + 50400]\r\n",
    "coords_of_interest_2 = radar_raw_gps_coords[indexes_of_interest + 2*50400]\r\n",
    "\r\n",
    "x_coords_radar_0 = coords_of_interest_0[:,1].reshape(angle_to-angle_from,range_to-range_from)\r\n",
    "y_coords_radar_0 = coords_of_interest_0[:,0].reshape(angle_to-angle_from,range_to-range_from)\r\n",
    "\r\n",
    "x_coords_radar_1 = coords_of_interest_1[:,1].reshape(angle_to-angle_from,range_to-range_from)\r\n",
    "y_coords_radar_1 = coords_of_interest_1[:,0].reshape(angle_to-angle_from,range_to-range_from)\r\n",
    "\r\n",
    "x_coords_radar_2 = coords_of_interest_2[:,1].reshape(angle_to-angle_from,range_to-range_from)\r\n",
    "y_coords_radar_2 = coords_of_interest_2[:,0].reshape(angle_to-angle_from,range_to-range_from)\r\n",
    "\r\n"
   ],
   "outputs": [],
   "metadata": {}
  },
  {
   "cell_type": "code",
   "execution_count": null,
   "source": [
    "# ax = plt.gca()\r\n",
    "# bg_map.plot(edgecolor=\"black\",facecolor='lightgrey',ax=ax)\r\n",
    "# img0 = ax.pcolormesh(x_coords_radar_0,\r\n",
    "#                       y_coords_radar_0,\r\n",
    "#                       correlation_grid_0,\r\n",
    "#                             shading='nearest',\r\n",
    "#                             alpha = 0.65,\r\n",
    "#                             cmap='RdBu',\r\n",
    "#                             norm=divnorm) #\r\n",
    "\r\n",
    "# ax.set_xlim(-22.6,-21.25)\r\n",
    "# ax.set_ylim(63.95,64.35)\r\n",
    "# ax.set_title(correlation_grid.index[i],fontsize=20)"
   ],
   "outputs": [],
   "metadata": {}
  },
  {
   "cell_type": "code",
   "execution_count": null,
   "source": [],
   "outputs": [],
   "metadata": {}
  },
  {
   "cell_type": "code",
   "execution_count": null,
   "source": [
    "# hourly_rainfall_first_layer"
   ],
   "outputs": [],
   "metadata": {}
  },
  {
   "cell_type": "code",
   "execution_count": null,
   "source": [
    "corr_dict = {}\r\n",
    "\r\n",
    "corr_grid_index = df_target.drop('MOS-HOL',axis='columns').columns\r\n",
    "lag_values = np.arange(-10,10,1)\r\n",
    "# for l in np.arange(0,45,5):\r\n",
    "for l in lag_values:\r\n",
    "    print(l)\r\n",
    "    if (l,2) in corr_dict.keys():\r\n",
    "        continue\r\n",
    "    else: \r\n",
    "        correlate_pixel_lag = lambda x:correlate_pixel(x,lag = l)\r\n",
    "        correlation_grid_0 = hourly_rainfall_first_layer.iloc[:,indexes_of_interest].apply(correlate_pixel_lag).iloc[1:]\r\n",
    "        correlation_grid_1 = hourly_rainfall_second_layer.iloc[:,indexes_of_interest].apply(correlate_pixel_lag).iloc[1:]\r\n",
    "        correlation_grid_2 = hourly_rainfall_third_layer.iloc[:,indexes_of_interest].apply(correlate_pixel_lag).iloc[1:]\r\n",
    "        \r\n",
    "        corr_dict[l,0] = correlation_grid_0\r\n",
    "        corr_dict[l,1] = correlation_grid_1\r\n",
    "        corr_dict[l,2] = correlation_grid_2\r\n",
    "        \r\n",
    "    \r\n",
    "    # for i in range(12):\r\n",
    "    #     print(l,i)\r\n",
    "    #     if (l,i,0) in corr_dict.keys():\r\n",
    "    #         continue\r\n",
    "    #     correlation_grid_0_curr = correlation_grid_0.iloc[i].values.reshape(angle_to-angle_from,range_to-range_from)\r\n",
    "    #     correlation_grid_1_curr = correlation_grid_1.iloc[i].values.reshape(angle_to-angle_from,range_to-range_from)\r\n",
    "    #     correlation_grid_2_curr = correlation_grid_2.iloc[i].values.reshape(angle_to-angle_from,range_to-range_from)\r\n",
    "\r\n",
    "    #     corr_dict[(l,i,0)] = correlation_grid_0_curr\r\n",
    "    #     corr_dict[(l,i,1)] = correlation_grid_1_curr\r\n",
    "    #     corr_dict[(l,i,2)] = correlation_grid_2_curr\r\n",
    "\r\n",
    "\r\n"
   ],
   "outputs": [],
   "metadata": {}
  },
  {
   "cell_type": "code",
   "execution_count": null,
   "source": [
    "RVK_VES = pd.DataFrame([corr_dict[i].iloc[7] for i in corr_dict if i[1] == 1], index = lag_values)\r\n",
    "RVK_VES_tensor = RVK_VES.values.reshape((len(lag_values),angle_to-angle_from,range_to-range_from))"
   ],
   "outputs": [],
   "metadata": {}
  },
  {
   "cell_type": "code",
   "execution_count": null,
   "source": [
    "for i in RVK_VES_tensor:\r\n",
    "    plt.imshow(i.T)\r\n",
    "    plt.show()"
   ],
   "outputs": [],
   "metadata": {}
  },
  {
   "cell_type": "code",
   "execution_count": null,
   "source": [
    "map_coords_tmp = np.transpose(np.array([x_coords_radar_1,y_coords_radar_1,]),(1,2,0))\r\n",
    "coords_list = []\r\n",
    "for i in lag_values:\r\n",
    "    lag_coord = np.full(map_coords_tmp.shape[:-1] + (1,),i)*100\r\n",
    "    lag_layer_list = np.concatenate([map_coords_tmp,lag_coord],-1)\r\n",
    "    coords_list.append(lag_layer_list)\r\n",
    "    \r\n",
    "tensor_coords = np.array(coords_list)"
   ],
   "outputs": [],
   "metadata": {}
  },
  {
   "cell_type": "code",
   "execution_count": null,
   "source": [
    "cmap = cm.ScalarMappable(norm = colors.Normalize(vmin=-0.04, vmax=0.2))\r\n",
    "# cmap = cm.ScalarMappable(cmap = cm.get_cmap('seismic'))\r\n",
    "# cmap = cm.get_cmap('seismic')"
   ],
   "outputs": [],
   "metadata": {}
  },
  {
   "cell_type": "code",
   "execution_count": null,
   "source": [
    "norm = colors.Normalize(vmin=-0.04, vmax=0.2)\r\n",
    "cmap = cm.seismic\r\n",
    "\r\n",
    "m = cm.ScalarMappable(norm=norm, cmap=cmap)\r\n"
   ],
   "outputs": [],
   "metadata": {}
  },
  {
   "cell_type": "code",
   "execution_count": null,
   "source": [
    "# import geopandas as gpd\r\n",
    "# import shapely\r\n",
    "\r\n",
    "# iceland_polygons = []\r\n",
    "# iceland_polygons_isl = []\r\n",
    "\r\n",
    "# for poly in iceland_polygons_tmp:\r\n",
    "#     poly_gps = np.array(poly.exterior.coords.xy).T[:,[1,0]]\r\n",
    "#     poly_isl = [transformer_gps_isl.transform(x,y) for x,y in poly_gps]\r\n",
    "#     iceland_polygons.append(shapely.geometry.polygon.Polygon(poly_gps))\r\n",
    "#     iceland_polygons_isl.append(shapely.geometry.polygon.Polygon(poly_isl))\r\n",
    "# mainland_id = np.argmax([x.area for x in iceland_polygons])\r\n",
    "    \r\n",
    "# points = np.array(iceland_polygons_isl[mainland_id].exterior.coords.xy).T\r\n",
    "# points = np.c_[points,np.zeros(len(points)) + 0.12]\r\n",
    "# lines = np.c_[np.arange(0,len(points)),np.arange(1,len(points)+1)]\r\n",
    "# lines[-1,1] = 0\r\n",
    "\r\n",
    "# # colors = [[1, 0, 0] for i in range(len(lines))]\r\n",
    "# line_set = o3d.geometry.LineSet(\r\n",
    "#     points=o3d.utility.Vector3dVector(points),\r\n",
    "#     lines=o3d.utility.Vector2iVector(lines),\r\n",
    "# )"
   ],
   "outputs": [],
   "metadata": {}
  },
  {
   "cell_type": "code",
   "execution_count": null,
   "source": [
    "# import open3d as o3d\r\n",
    "# points_ = tensor_coords.reshape(-1,3)\r\n",
    "# points_ = np.array([transformer_gps_isl.transform(b,a) + (c,) for a,b,c in points_])\r\n",
    "# colors_ = m.to_rgba(RVK_VES_tensor.reshape(-1))[:,:-1]\r\n",
    "\r\n",
    "# pcd = o3d.geometry.PointCloud()\r\n",
    "# pcd.points = o3d.utility.Vector3dVector(points_)\r\n",
    "# pcd.colors = o3d.utility.Vector3dVector(colors_)\r\n",
    "\r\n",
    "# o3d.visualization.draw_geometries( [line_set,pcd])"
   ],
   "outputs": [],
   "metadata": {}
  },
  {
   "cell_type": "markdown",
   "source": [
    "# Blob detection in 3D\r\n"
   ],
   "metadata": {}
  },
  {
   "cell_type": "code",
   "execution_count": null,
   "source": [
    "print([(i,a) for i,a in enumerate(df_target.columns)])"
   ],
   "outputs": [],
   "metadata": {}
  },
  {
   "cell_type": "code",
   "execution_count": null,
   "source": [
    "params = []\r\n",
    "for sensor_index in range(12):\r\n",
    "    for layer in range(3):\r\n",
    "        for agg_func in [np.sum,np.max,np.min,np.argmax,np.argmin]:\r\n",
    "            params.append((sensor_index,layer,agg_func))\r\n",
    "# np.random.shuffle(params)"
   ],
   "outputs": [],
   "metadata": {}
  },
  {
   "cell_type": "code",
   "execution_count": null,
   "source": [
    "from sklearn.mixture import GaussianMixture\r\n",
    "\r\n",
    "\r\n",
    "# sensor_index = 7\r\n",
    "# layer = 2\r\n",
    "# agg_func = np.sum\r\n",
    "###\r\n",
    "\r\n",
    "for sensor_index,layer,agg_func in params:\r\n",
    "    sensor_name = df_target.drop('MOS-HOL',axis='columns').columns[sensor_index]\r\n",
    "    file_name = sensor_name + '_' + agg_func.__name__ + '_' + f'layer{layer}'\r\n",
    "    \r\n",
    "    # if glob(file_name)\r\n",
    "    search_string = './*/'+file_name+'*'\r\n",
    "    if len(glob(search_string)) > 0:\r\n",
    "        continue\r\n",
    "    if layer == 0:\r\n",
    "        x_coords_tmp,y_coords_tmp = x_coords_radar_0,y_coords_radar_0\r\n",
    "    if layer == 1:\r\n",
    "        x_coords_tmp,y_coords_tmp = x_coords_radar_1,y_coords_radar_1\r\n",
    "    if layer == 2:\r\n",
    "        x_coords_tmp,y_coords_tmp = x_coords_radar_2,y_coords_radar_2\r\n",
    "\r\n",
    "\r\n",
    "    RVK_sensor = pd.DataFrame([corr_dict[i].iloc[sensor_index] for i in corr_dict if i[1] == layer], index = lag_values)\r\n",
    "    RVK_sensor_tensor = RVK_sensor.values.reshape((len(lag_values),angle_to-angle_from,range_to-range_from))\r\n",
    "\r\n",
    "\r\n",
    "    plt.figure(figsize=(10,6))\r\n",
    "    ax=plt.gca()\r\n",
    "    bg_map.plot(edgecolor=\"black\",facecolor='lightgrey',ax=ax)\r\n",
    "    img = ax.pcolormesh(x_coords_tmp,\r\n",
    "                        y_coords_tmp,\r\n",
    "                        agg_func(RVK_sensor_tensor,axis=0),\r\n",
    "                            shading='flat',\r\n",
    "                            alpha = 0.65,\r\n",
    "                            # norm=divnorm\r\n",
    "                            ) #\r\n",
    "    plt.colorbar(img,ax = ax)\r\n",
    "    ax.set_title(file_name)\r\n",
    "    ax.set_xlim(-22.6,-21.25)\r\n",
    "    ax.set_ylim(63.95,64.35)\r\n",
    "\r\n",
    "    \r\n",
    "    plt.savefig(f'./correlation_agg/{file_name}.png')\r\n",
    "    # plt.show()\r\n",
    "    plt.close()"
   ],
   "outputs": [],
   "metadata": {}
  },
  {
   "cell_type": "code",
   "execution_count": null,
   "source": [
    "RVK_VES_tensor.shape"
   ],
   "outputs": [],
   "metadata": {}
  },
  {
   "cell_type": "code",
   "execution_count": null,
   "source": [
    "\r\n",
    "gm = GaussianMixture(n_components=4, n_init = 10, max_iter = 100).fit(RVK_VES_tensor.reshape(-1,1))\r\n",
    "classifications = gm.predict(RVK_VES_tensor.reshape(-1,1))\r\n",
    "classification_tensor = classifications.reshape(RVK_VES_tensor.shape)\r\n",
    "\r\n",
    "for class_ in range(4):\r\n",
    "    bg_map.plot(edgecolor=\"black\",facecolor='lightgrey')\r\n",
    "    plt.pcolormesh(x_coords_radar_0,\r\n",
    "                y_coords_radar_0,\r\n",
    "                (classification_tensor == class_).sum(axis=0),\r\n",
    "                            shading='nearest',\r\n",
    "                            alpha = 0.65,\r\n",
    "                            # norm=divnorm\r\n",
    "                            ) #\r\n",
    "\r\n",
    "    plt.title(df_target.columns[sensor_index])\r\n",
    "    plt.xlim(-22.6,-21.25)\r\n",
    "    plt.ylim(63.95,64.35)\r\n",
    "    plt.show()"
   ],
   "outputs": [],
   "metadata": {}
  },
  {
   "cell_type": "code",
   "execution_count": null,
   "source": [],
   "outputs": [],
   "metadata": {}
  },
  {
   "cell_type": "code",
   "execution_count": null,
   "source": [],
   "outputs": [],
   "metadata": {}
  },
  {
   "cell_type": "code",
   "execution_count": null,
   "source": [
    "plt.imshow(classification_tensor.mean(axis=0))"
   ],
   "outputs": [],
   "metadata": {}
  },
  {
   "cell_type": "code",
   "execution_count": null,
   "source": [
    "plt.hist(RVK_VES_tensor.ravel(),bins=np.linspace(-0.05,0.2,100))\r\n",
    "plt.vlines(gm.means_,0,3000,color='red')\r\n",
    "plt.show()"
   ],
   "outputs": [],
   "metadata": {}
  },
  {
   "cell_type": "code",
   "execution_count": null,
   "source": [
    "corr_dict.keys()"
   ],
   "outputs": [],
   "metadata": {}
  },
  {
   "cell_type": "code",
   "execution_count": 73,
   "source": [
    "\r\n",
    "iterator = 0\r\n",
    "for l in lag_values:  \r\n",
    "    \r\n",
    "    iterator +=1\r\n",
    "    f,axes = plt.subplots(12,3,figsize=(3*8,12*5))\r\n",
    "        \r\n",
    "    correlation_grid_0 = corr_dict[(l,0)]\r\n",
    "    correlation_grid_1 = corr_dict[(l,1)]\r\n",
    "    correlation_grid_2 = corr_dict[(l,2)]\r\n",
    "    \r\n",
    "    if (l,0) in corr_dict.keys():\r\n",
    "        for i in range(12):\r\n",
    "            correlation_grid_0_curr = correlation_grid_0.iloc[i].values.reshape(angle_to-angle_from,range_to-range_from)\r\n",
    "            correlation_grid_1_curr = correlation_grid_1.iloc[i].values.reshape(angle_to-angle_from,range_to-range_from)\r\n",
    "            correlation_grid_2_curr = correlation_grid_2.iloc[i].values.reshape(angle_to-angle_from,range_to-range_from)\r\n",
    "\r\n",
    "            \r\n",
    "            divnorm = colors.TwoSlopeNorm(vcenter=0.,)\r\n",
    "            bg_map.plot(edgecolor=\"black\",facecolor='lightgrey',ax = axes[i,0])\r\n",
    "            bg_map.plot(edgecolor=\"black\",facecolor='lightgrey',ax = axes[i,1])\r\n",
    "            bg_map.plot(edgecolor=\"black\",facecolor='lightgrey',ax = axes[i,2])\r\n",
    "            \r\n",
    "            img0 = axes[i,0].pcolormesh(x_coords_radar_0,\r\n",
    "                                    y_coords_radar_0,\r\n",
    "                                    correlation_grid_0_curr,\r\n",
    "                                    shading='flat',\r\n",
    "                                    alpha = 0.65,\r\n",
    "                                    cmap='seismic',\r\n",
    "                                    norm=divnorm\r\n",
    "                                    ) #\r\n",
    "            \r\n",
    "            img1 = axes[i,1].pcolormesh(x_coords_radar_1,\r\n",
    "                                        y_coords_radar_1,\r\n",
    "                                        correlation_grid_1_curr,\r\n",
    "                                        shading='flat',\r\n",
    "                                        alpha = 0.65,\r\n",
    "                                        cmap='seismic',\r\n",
    "                                        norm=divnorm\r\n",
    "                                        ) #\r\n",
    "                \r\n",
    "            img2 = axes[i,2].pcolormesh(x_coords_radar_2,\r\n",
    "                                        y_coords_radar_2,\r\n",
    "                                        correlation_grid_2_curr,\r\n",
    "                                        shading='flat',\r\n",
    "                                        alpha = 0.65,\r\n",
    "                                        cmap='seismic',\r\n",
    "                                        norm=divnorm\r\n",
    "                                        ) #\r\n",
    "            \r\n",
    "            axes[i,0].set_xlim(-22.6,-21.25)\r\n",
    "            axes[i,0].set_ylim(63.95,64.35)\r\n",
    "            axes[i,0].set_title(correlation_grid.index[i],fontsize=20)\r\n",
    "            \r\n",
    "            axes[i,1].set_xlim(-22.6,-21.25)\r\n",
    "            axes[i,1].set_ylim(63.95,64.35)\r\n",
    "            axes[i,1].set_title(correlation_grid.index[i],fontsize=20)\r\n",
    "            \r\n",
    "            axes[i,2].set_xlim(-22.6,-21.25)\r\n",
    "            axes[i,2].set_ylim(63.95,64.35)\r\n",
    "            axes[i,2].set_title(correlation_grid.index[i],fontsize=20)\r\n",
    "            \r\n",
    "            plt.colorbar(img0, ax = axes[i,0])\r\n",
    "            plt.colorbar(img1, ax = axes[i,1])\r\n",
    "            plt.colorbar(img2, ax = axes[i,2])\r\n",
    "        \r\n",
    "    plt.tight_layout()\r\n",
    "    plt.savefig(f'./pixel_correlation_lag_map_series/Correlations_overlayed_on_map_{iterator}_lag_{l}.png')\r\n",
    "    plt.close()"
   ],
   "outputs": [
    {
     "output_type": "error",
     "ename": "KeyboardInterrupt",
     "evalue": "",
     "traceback": [
      "\u001b[1;31m---------------------------------------------------------------------------\u001b[0m",
      "\u001b[1;31mKeyboardInterrupt\u001b[0m                         Traceback (most recent call last)",
      "\u001b[1;32mC:\\Users\\SVERRI~1\\AppData\\Local\\Temp/ipykernel_1544/210776222.py\u001b[0m in \u001b[0;36m<module>\u001b[1;34m\u001b[0m\n\u001b[0;32m     61\u001b[0m \u001b[1;33m\u001b[0m\u001b[0m\n\u001b[0;32m     62\u001b[0m             \u001b[0mplt\u001b[0m\u001b[1;33m.\u001b[0m\u001b[0mcolorbar\u001b[0m\u001b[1;33m(\u001b[0m\u001b[0mimg0\u001b[0m\u001b[1;33m,\u001b[0m \u001b[0max\u001b[0m \u001b[1;33m=\u001b[0m \u001b[0maxes\u001b[0m\u001b[1;33m[\u001b[0m\u001b[0mi\u001b[0m\u001b[1;33m,\u001b[0m\u001b[1;36m0\u001b[0m\u001b[1;33m]\u001b[0m\u001b[1;33m)\u001b[0m\u001b[1;33m\u001b[0m\u001b[1;33m\u001b[0m\u001b[0m\n\u001b[1;32m---> 63\u001b[1;33m             \u001b[0mplt\u001b[0m\u001b[1;33m.\u001b[0m\u001b[0mcolorbar\u001b[0m\u001b[1;33m(\u001b[0m\u001b[0mimg1\u001b[0m\u001b[1;33m,\u001b[0m \u001b[0max\u001b[0m \u001b[1;33m=\u001b[0m \u001b[0maxes\u001b[0m\u001b[1;33m[\u001b[0m\u001b[0mi\u001b[0m\u001b[1;33m,\u001b[0m\u001b[1;36m1\u001b[0m\u001b[1;33m]\u001b[0m\u001b[1;33m)\u001b[0m\u001b[1;33m\u001b[0m\u001b[1;33m\u001b[0m\u001b[0m\n\u001b[0m\u001b[0;32m     64\u001b[0m             \u001b[0mplt\u001b[0m\u001b[1;33m.\u001b[0m\u001b[0mcolorbar\u001b[0m\u001b[1;33m(\u001b[0m\u001b[0mimg2\u001b[0m\u001b[1;33m,\u001b[0m \u001b[0max\u001b[0m \u001b[1;33m=\u001b[0m \u001b[0maxes\u001b[0m\u001b[1;33m[\u001b[0m\u001b[0mi\u001b[0m\u001b[1;33m,\u001b[0m\u001b[1;36m2\u001b[0m\u001b[1;33m]\u001b[0m\u001b[1;33m)\u001b[0m\u001b[1;33m\u001b[0m\u001b[1;33m\u001b[0m\u001b[0m\n\u001b[0;32m     65\u001b[0m \u001b[1;33m\u001b[0m\u001b[0m\n",
      "\u001b[1;32m~\\Anaconda3\\envs\\gis_wradlib_torch\\lib\\site-packages\\matplotlib\\pyplot.py\u001b[0m in \u001b[0;36mcolorbar\u001b[1;34m(mappable, cax, ax, **kw)\u001b[0m\n\u001b[0;32m   2354\u001b[0m                                \u001b[1;34m'an image (with imshow) or a contour set ('\u001b[0m\u001b[1;33m\u001b[0m\u001b[1;33m\u001b[0m\u001b[0m\n\u001b[0;32m   2355\u001b[0m                                'with contourf).')\n\u001b[1;32m-> 2356\u001b[1;33m     \u001b[0mret\u001b[0m \u001b[1;33m=\u001b[0m \u001b[0mgcf\u001b[0m\u001b[1;33m(\u001b[0m\u001b[1;33m)\u001b[0m\u001b[1;33m.\u001b[0m\u001b[0mcolorbar\u001b[0m\u001b[1;33m(\u001b[0m\u001b[0mmappable\u001b[0m\u001b[1;33m,\u001b[0m \u001b[0mcax\u001b[0m\u001b[1;33m=\u001b[0m\u001b[0mcax\u001b[0m\u001b[1;33m,\u001b[0m \u001b[0max\u001b[0m\u001b[1;33m=\u001b[0m\u001b[0max\u001b[0m\u001b[1;33m,\u001b[0m \u001b[1;33m**\u001b[0m\u001b[0mkw\u001b[0m\u001b[1;33m)\u001b[0m\u001b[1;33m\u001b[0m\u001b[1;33m\u001b[0m\u001b[0m\n\u001b[0m\u001b[0;32m   2357\u001b[0m     \u001b[1;32mreturn\u001b[0m \u001b[0mret\u001b[0m\u001b[1;33m\u001b[0m\u001b[1;33m\u001b[0m\u001b[0m\n\u001b[0;32m   2358\u001b[0m \u001b[1;33m\u001b[0m\u001b[0m\n",
      "\u001b[1;32m~\\Anaconda3\\envs\\gis_wradlib_torch\\lib\\site-packages\\matplotlib\\figure.py\u001b[0m in \u001b[0;36mcolorbar\u001b[1;34m(self, mappable, cax, ax, use_gridspec, **kw)\u001b[0m\n\u001b[0;32m   1171\u001b[0m                              'panchor']\n\u001b[0;32m   1172\u001b[0m         \u001b[0mcb_kw\u001b[0m \u001b[1;33m=\u001b[0m \u001b[1;33m{\u001b[0m\u001b[0mk\u001b[0m\u001b[1;33m:\u001b[0m \u001b[0mv\u001b[0m \u001b[1;32mfor\u001b[0m \u001b[0mk\u001b[0m\u001b[1;33m,\u001b[0m \u001b[0mv\u001b[0m \u001b[1;32min\u001b[0m \u001b[0mkw\u001b[0m\u001b[1;33m.\u001b[0m\u001b[0mitems\u001b[0m\u001b[1;33m(\u001b[0m\u001b[1;33m)\u001b[0m \u001b[1;32mif\u001b[0m \u001b[0mk\u001b[0m \u001b[1;32mnot\u001b[0m \u001b[1;32min\u001b[0m \u001b[0mNON_COLORBAR_KEYS\u001b[0m\u001b[1;33m}\u001b[0m\u001b[1;33m\u001b[0m\u001b[1;33m\u001b[0m\u001b[0m\n\u001b[1;32m-> 1173\u001b[1;33m         \u001b[0mcb\u001b[0m \u001b[1;33m=\u001b[0m \u001b[0mcbar\u001b[0m\u001b[1;33m.\u001b[0m\u001b[0mColorbar\u001b[0m\u001b[1;33m(\u001b[0m\u001b[0mcax\u001b[0m\u001b[1;33m,\u001b[0m \u001b[0mmappable\u001b[0m\u001b[1;33m,\u001b[0m \u001b[1;33m**\u001b[0m\u001b[0mcb_kw\u001b[0m\u001b[1;33m)\u001b[0m\u001b[1;33m\u001b[0m\u001b[1;33m\u001b[0m\u001b[0m\n\u001b[0m\u001b[0;32m   1174\u001b[0m \u001b[1;33m\u001b[0m\u001b[0m\n\u001b[0;32m   1175\u001b[0m         \u001b[0mself\u001b[0m\u001b[1;33m.\u001b[0m\u001b[0msca\u001b[0m\u001b[1;33m(\u001b[0m\u001b[0mcurrent_ax\u001b[0m\u001b[1;33m)\u001b[0m\u001b[1;33m\u001b[0m\u001b[1;33m\u001b[0m\u001b[0m\n",
      "\u001b[1;32m~\\Anaconda3\\envs\\gis_wradlib_torch\\lib\\site-packages\\matplotlib\\colorbar.py\u001b[0m in \u001b[0;36m__init__\u001b[1;34m(self, ax, mappable, **kwargs)\u001b[0m\n\u001b[0;32m   1195\u001b[0m             \u001b[1;32mif\u001b[0m \u001b[0misinstance\u001b[0m\u001b[1;33m(\u001b[0m\u001b[0mmappable\u001b[0m\u001b[1;33m,\u001b[0m \u001b[0mmartist\u001b[0m\u001b[1;33m.\u001b[0m\u001b[0mArtist\u001b[0m\u001b[1;33m)\u001b[0m\u001b[1;33m:\u001b[0m\u001b[1;33m\u001b[0m\u001b[1;33m\u001b[0m\u001b[0m\n\u001b[0;32m   1196\u001b[0m                 \u001b[0m_add_disjoint_kwargs\u001b[0m\u001b[1;33m(\u001b[0m\u001b[0mkwargs\u001b[0m\u001b[1;33m,\u001b[0m \u001b[0malpha\u001b[0m\u001b[1;33m=\u001b[0m\u001b[0mmappable\u001b[0m\u001b[1;33m.\u001b[0m\u001b[0mget_alpha\u001b[0m\u001b[1;33m(\u001b[0m\u001b[1;33m)\u001b[0m\u001b[1;33m)\u001b[0m\u001b[1;33m\u001b[0m\u001b[1;33m\u001b[0m\u001b[0m\n\u001b[1;32m-> 1197\u001b[1;33m             \u001b[0msuper\u001b[0m\u001b[1;33m(\u001b[0m\u001b[1;33m)\u001b[0m\u001b[1;33m.\u001b[0m\u001b[0m__init__\u001b[0m\u001b[1;33m(\u001b[0m\u001b[0max\u001b[0m\u001b[1;33m,\u001b[0m \u001b[1;33m**\u001b[0m\u001b[0mkwargs\u001b[0m\u001b[1;33m)\u001b[0m\u001b[1;33m\u001b[0m\u001b[1;33m\u001b[0m\u001b[0m\n\u001b[0m\u001b[0;32m   1198\u001b[0m \u001b[1;33m\u001b[0m\u001b[0m\n\u001b[0;32m   1199\u001b[0m         \u001b[0mmappable\u001b[0m\u001b[1;33m.\u001b[0m\u001b[0mcolorbar\u001b[0m \u001b[1;33m=\u001b[0m \u001b[0mself\u001b[0m\u001b[1;33m\u001b[0m\u001b[1;33m\u001b[0m\u001b[0m\n",
      "\u001b[1;32m~\\Anaconda3\\envs\\gis_wradlib_torch\\lib\\site-packages\\matplotlib\\_api\\deprecation.py\u001b[0m in \u001b[0;36mwrapper\u001b[1;34m(*args, **kwargs)\u001b[0m\n\u001b[0;32m    469\u001b[0m                 \u001b[1;34m\"parameter will become keyword-only %(removal)s.\"\u001b[0m\u001b[1;33m,\u001b[0m\u001b[1;33m\u001b[0m\u001b[1;33m\u001b[0m\u001b[0m\n\u001b[0;32m    470\u001b[0m                 name=name, obj_type=f\"parameter of {func.__name__}()\")\n\u001b[1;32m--> 471\u001b[1;33m         \u001b[1;32mreturn\u001b[0m \u001b[0mfunc\u001b[0m\u001b[1;33m(\u001b[0m\u001b[1;33m*\u001b[0m\u001b[0margs\u001b[0m\u001b[1;33m,\u001b[0m \u001b[1;33m**\u001b[0m\u001b[0mkwargs\u001b[0m\u001b[1;33m)\u001b[0m\u001b[1;33m\u001b[0m\u001b[1;33m\u001b[0m\u001b[0m\n\u001b[0m\u001b[0;32m    472\u001b[0m \u001b[1;33m\u001b[0m\u001b[0m\n\u001b[0;32m    473\u001b[0m     \u001b[1;32mreturn\u001b[0m \u001b[0mwrapper\u001b[0m\u001b[1;33m\u001b[0m\u001b[1;33m\u001b[0m\u001b[0m\n",
      "\u001b[1;32m~\\Anaconda3\\envs\\gis_wradlib_torch\\lib\\site-packages\\matplotlib\\colorbar.py\u001b[0m in \u001b[0;36m__init__\u001b[1;34m(self, ax, cmap, norm, alpha, values, boundaries, orientation, ticklocation, extend, spacing, ticks, format, drawedges, filled, extendfrac, extendrect, label)\u001b[0m\n\u001b[0;32m    509\u001b[0m         \u001b[1;32melse\u001b[0m\u001b[1;33m:\u001b[0m\u001b[1;33m\u001b[0m\u001b[1;33m\u001b[0m\u001b[0m\n\u001b[0;32m    510\u001b[0m             \u001b[0mself\u001b[0m\u001b[1;33m.\u001b[0m\u001b[0mformatter\u001b[0m \u001b[1;33m=\u001b[0m \u001b[0mformat\u001b[0m  \u001b[1;31m# Assume it is a Formatter or None\u001b[0m\u001b[1;33m\u001b[0m\u001b[1;33m\u001b[0m\u001b[0m\n\u001b[1;32m--> 511\u001b[1;33m         \u001b[0mself\u001b[0m\u001b[1;33m.\u001b[0m\u001b[0mdraw_all\u001b[0m\u001b[1;33m(\u001b[0m\u001b[1;33m)\u001b[0m\u001b[1;33m\u001b[0m\u001b[1;33m\u001b[0m\u001b[0m\n\u001b[0m\u001b[0;32m    512\u001b[0m \u001b[1;33m\u001b[0m\u001b[0m\n\u001b[0;32m    513\u001b[0m     \u001b[1;32mdef\u001b[0m \u001b[0m_extend_lower\u001b[0m\u001b[1;33m(\u001b[0m\u001b[0mself\u001b[0m\u001b[1;33m)\u001b[0m\u001b[1;33m:\u001b[0m\u001b[1;33m\u001b[0m\u001b[1;33m\u001b[0m\u001b[0m\n",
      "\u001b[1;32m~\\Anaconda3\\envs\\gis_wradlib_torch\\lib\\site-packages\\matplotlib\\colorbar.py\u001b[0m in \u001b[0;36mdraw_all\u001b[1;34m(self)\u001b[0m\n\u001b[0;32m    545\u001b[0m         \u001b[0mself\u001b[0m\u001b[1;33m.\u001b[0m\u001b[0mupdate_ticks\u001b[0m\u001b[1;33m(\u001b[0m\u001b[1;33m)\u001b[0m\u001b[1;33m\u001b[0m\u001b[1;33m\u001b[0m\u001b[0m\n\u001b[0;32m    546\u001b[0m         \u001b[1;32mif\u001b[0m \u001b[0mself\u001b[0m\u001b[1;33m.\u001b[0m\u001b[0mfilled\u001b[0m\u001b[1;33m:\u001b[0m\u001b[1;33m\u001b[0m\u001b[1;33m\u001b[0m\u001b[0m\n\u001b[1;32m--> 547\u001b[1;33m             \u001b[0mself\u001b[0m\u001b[1;33m.\u001b[0m\u001b[0m_add_solids\u001b[0m\u001b[1;33m(\u001b[0m\u001b[0mX\u001b[0m\u001b[1;33m,\u001b[0m \u001b[0mY\u001b[0m\u001b[1;33m,\u001b[0m \u001b[0mself\u001b[0m\u001b[1;33m.\u001b[0m\u001b[0m_values\u001b[0m\u001b[1;33m[\u001b[0m\u001b[1;33m:\u001b[0m\u001b[1;33m,\u001b[0m \u001b[0mnp\u001b[0m\u001b[1;33m.\u001b[0m\u001b[0mnewaxis\u001b[0m\u001b[1;33m]\u001b[0m\u001b[1;33m)\u001b[0m\u001b[1;33m\u001b[0m\u001b[1;33m\u001b[0m\u001b[0m\n\u001b[0m\u001b[0;32m    548\u001b[0m \u001b[1;33m\u001b[0m\u001b[0m\n\u001b[0;32m    549\u001b[0m     \u001b[1;33m@\u001b[0m\u001b[0m_api\u001b[0m\u001b[1;33m.\u001b[0m\u001b[0mdeprecated\u001b[0m\u001b[1;33m(\u001b[0m\u001b[1;34m\"3.3\"\u001b[0m\u001b[1;33m)\u001b[0m\u001b[1;33m\u001b[0m\u001b[1;33m\u001b[0m\u001b[0m\n",
      "\u001b[1;32m~\\Anaconda3\\envs\\gis_wradlib_torch\\lib\\site-packages\\matplotlib\\colorbar.py\u001b[0m in \u001b[0;36m_add_solids\u001b[1;34m(self, X, Y, C)\u001b[0m\n\u001b[0;32m    787\u001b[0m             \u001b[0mself\u001b[0m\u001b[1;33m.\u001b[0m\u001b[0m_add_solids_patches\u001b[0m\u001b[1;33m(\u001b[0m\u001b[0mX\u001b[0m\u001b[1;33m,\u001b[0m \u001b[0mY\u001b[0m\u001b[1;33m,\u001b[0m \u001b[0mC\u001b[0m\u001b[1;33m,\u001b[0m \u001b[0mmappable\u001b[0m\u001b[1;33m)\u001b[0m\u001b[1;33m\u001b[0m\u001b[1;33m\u001b[0m\u001b[0m\n\u001b[0;32m    788\u001b[0m         \u001b[1;32melse\u001b[0m\u001b[1;33m:\u001b[0m\u001b[1;33m\u001b[0m\u001b[1;33m\u001b[0m\u001b[0m\n\u001b[1;32m--> 789\u001b[1;33m             \u001b[0mself\u001b[0m\u001b[1;33m.\u001b[0m\u001b[0m_add_solids_pcolormesh\u001b[0m\u001b[1;33m(\u001b[0m\u001b[0mX\u001b[0m\u001b[1;33m,\u001b[0m \u001b[0mY\u001b[0m\u001b[1;33m,\u001b[0m \u001b[0mC\u001b[0m\u001b[1;33m)\u001b[0m\u001b[1;33m\u001b[0m\u001b[1;33m\u001b[0m\u001b[0m\n\u001b[0m\u001b[0;32m    790\u001b[0m         self.dividers.set_segments(\n\u001b[0;32m    791\u001b[0m             np.dstack([X, Y])[1:-1] if self.drawedges else [])\n",
      "\u001b[1;32m~\\Anaconda3\\envs\\gis_wradlib_torch\\lib\\site-packages\\matplotlib\\colorbar.py\u001b[0m in \u001b[0;36m_add_solids_pcolormesh\u001b[1;34m(self, X, Y, C)\u001b[0m\n\u001b[0;32m    796\u001b[0m             \u001b[1;31m# trim the last one to be compatible with old behavior.\u001b[0m\u001b[1;33m\u001b[0m\u001b[1;33m\u001b[0m\u001b[1;33m\u001b[0m\u001b[0m\n\u001b[0;32m    797\u001b[0m             \u001b[0mC\u001b[0m \u001b[1;33m=\u001b[0m \u001b[0mC\u001b[0m\u001b[1;33m[\u001b[0m\u001b[1;33m:\u001b[0m\u001b[1;33m-\u001b[0m\u001b[1;36m1\u001b[0m\u001b[1;33m]\u001b[0m\u001b[1;33m\u001b[0m\u001b[1;33m\u001b[0m\u001b[0m\n\u001b[1;32m--> 798\u001b[1;33m         self.solids = self.ax.pcolormesh(\n\u001b[0m\u001b[0;32m    799\u001b[0m             \u001b[0mX\u001b[0m\u001b[1;33m,\u001b[0m \u001b[0mY\u001b[0m\u001b[1;33m,\u001b[0m \u001b[0mC\u001b[0m\u001b[1;33m,\u001b[0m \u001b[0mcmap\u001b[0m\u001b[1;33m=\u001b[0m\u001b[0mself\u001b[0m\u001b[1;33m.\u001b[0m\u001b[0mcmap\u001b[0m\u001b[1;33m,\u001b[0m \u001b[0mnorm\u001b[0m\u001b[1;33m=\u001b[0m\u001b[0mself\u001b[0m\u001b[1;33m.\u001b[0m\u001b[0mnorm\u001b[0m\u001b[1;33m,\u001b[0m \u001b[0malpha\u001b[0m\u001b[1;33m=\u001b[0m\u001b[0mself\u001b[0m\u001b[1;33m.\u001b[0m\u001b[0malpha\u001b[0m\u001b[1;33m,\u001b[0m\u001b[1;33m\u001b[0m\u001b[1;33m\u001b[0m\u001b[0m\n\u001b[0;32m    800\u001b[0m             edgecolors='none', shading='flat')\n",
      "\u001b[1;32m~\\Anaconda3\\envs\\gis_wradlib_torch\\lib\\site-packages\\matplotlib\\__init__.py\u001b[0m in \u001b[0;36minner\u001b[1;34m(ax, data, *args, **kwargs)\u001b[0m\n\u001b[0;32m   1359\u001b[0m     \u001b[1;32mdef\u001b[0m \u001b[0minner\u001b[0m\u001b[1;33m(\u001b[0m\u001b[0max\u001b[0m\u001b[1;33m,\u001b[0m \u001b[1;33m*\u001b[0m\u001b[0margs\u001b[0m\u001b[1;33m,\u001b[0m \u001b[0mdata\u001b[0m\u001b[1;33m=\u001b[0m\u001b[1;32mNone\u001b[0m\u001b[1;33m,\u001b[0m \u001b[1;33m**\u001b[0m\u001b[0mkwargs\u001b[0m\u001b[1;33m)\u001b[0m\u001b[1;33m:\u001b[0m\u001b[1;33m\u001b[0m\u001b[1;33m\u001b[0m\u001b[0m\n\u001b[0;32m   1360\u001b[0m         \u001b[1;32mif\u001b[0m \u001b[0mdata\u001b[0m \u001b[1;32mis\u001b[0m \u001b[1;32mNone\u001b[0m\u001b[1;33m:\u001b[0m\u001b[1;33m\u001b[0m\u001b[1;33m\u001b[0m\u001b[0m\n\u001b[1;32m-> 1361\u001b[1;33m             \u001b[1;32mreturn\u001b[0m \u001b[0mfunc\u001b[0m\u001b[1;33m(\u001b[0m\u001b[0max\u001b[0m\u001b[1;33m,\u001b[0m \u001b[1;33m*\u001b[0m\u001b[0mmap\u001b[0m\u001b[1;33m(\u001b[0m\u001b[0msanitize_sequence\u001b[0m\u001b[1;33m,\u001b[0m \u001b[0margs\u001b[0m\u001b[1;33m)\u001b[0m\u001b[1;33m,\u001b[0m \u001b[1;33m**\u001b[0m\u001b[0mkwargs\u001b[0m\u001b[1;33m)\u001b[0m\u001b[1;33m\u001b[0m\u001b[1;33m\u001b[0m\u001b[0m\n\u001b[0m\u001b[0;32m   1362\u001b[0m \u001b[1;33m\u001b[0m\u001b[0m\n\u001b[0;32m   1363\u001b[0m         \u001b[0mbound\u001b[0m \u001b[1;33m=\u001b[0m \u001b[0mnew_sig\u001b[0m\u001b[1;33m.\u001b[0m\u001b[0mbind\u001b[0m\u001b[1;33m(\u001b[0m\u001b[0max\u001b[0m\u001b[1;33m,\u001b[0m \u001b[1;33m*\u001b[0m\u001b[0margs\u001b[0m\u001b[1;33m,\u001b[0m \u001b[1;33m**\u001b[0m\u001b[0mkwargs\u001b[0m\u001b[1;33m)\u001b[0m\u001b[1;33m\u001b[0m\u001b[1;33m\u001b[0m\u001b[0m\n",
      "\u001b[1;32m~\\Anaconda3\\envs\\gis_wradlib_torch\\lib\\site-packages\\matplotlib\\axes\\_axes.py\u001b[0m in \u001b[0;36mpcolormesh\u001b[1;34m(self, alpha, norm, cmap, vmin, vmax, shading, antialiased, *args, **kwargs)\u001b[0m\n\u001b[0;32m   6213\u001b[0m             \u001b[0mcoords\u001b[0m \u001b[1;33m=\u001b[0m \u001b[0mtrans_to_data\u001b[0m\u001b[1;33m.\u001b[0m\u001b[0mtransform\u001b[0m\u001b[1;33m(\u001b[0m\u001b[0mcoords\u001b[0m\u001b[1;33m)\u001b[0m\u001b[1;33m\u001b[0m\u001b[1;33m\u001b[0m\u001b[0m\n\u001b[0;32m   6214\u001b[0m \u001b[1;33m\u001b[0m\u001b[0m\n\u001b[1;32m-> 6215\u001b[1;33m         \u001b[0mself\u001b[0m\u001b[1;33m.\u001b[0m\u001b[0madd_collection\u001b[0m\u001b[1;33m(\u001b[0m\u001b[0mcollection\u001b[0m\u001b[1;33m,\u001b[0m \u001b[0mautolim\u001b[0m\u001b[1;33m=\u001b[0m\u001b[1;32mFalse\u001b[0m\u001b[1;33m)\u001b[0m\u001b[1;33m\u001b[0m\u001b[1;33m\u001b[0m\u001b[0m\n\u001b[0m\u001b[0;32m   6216\u001b[0m \u001b[1;33m\u001b[0m\u001b[0m\n\u001b[0;32m   6217\u001b[0m         \u001b[0mminx\u001b[0m\u001b[1;33m,\u001b[0m \u001b[0mminy\u001b[0m \u001b[1;33m=\u001b[0m \u001b[0mnp\u001b[0m\u001b[1;33m.\u001b[0m\u001b[0mmin\u001b[0m\u001b[1;33m(\u001b[0m\u001b[0mcoords\u001b[0m\u001b[1;33m,\u001b[0m \u001b[0maxis\u001b[0m\u001b[1;33m=\u001b[0m\u001b[1;36m0\u001b[0m\u001b[1;33m)\u001b[0m\u001b[1;33m\u001b[0m\u001b[1;33m\u001b[0m\u001b[0m\n",
      "\u001b[1;32m~\\Anaconda3\\envs\\gis_wradlib_torch\\lib\\site-packages\\matplotlib\\axes\\_base.py\u001b[0m in \u001b[0;36madd_collection\u001b[1;34m(self, collection, autolim)\u001b[0m\n\u001b[0;32m   2055\u001b[0m \u001b[1;33m\u001b[0m\u001b[0m\n\u001b[0;32m   2056\u001b[0m         \u001b[1;32mif\u001b[0m \u001b[0mcollection\u001b[0m\u001b[1;33m.\u001b[0m\u001b[0mget_clip_path\u001b[0m\u001b[1;33m(\u001b[0m\u001b[1;33m)\u001b[0m \u001b[1;32mis\u001b[0m \u001b[1;32mNone\u001b[0m\u001b[1;33m:\u001b[0m\u001b[1;33m\u001b[0m\u001b[1;33m\u001b[0m\u001b[0m\n\u001b[1;32m-> 2057\u001b[1;33m             \u001b[0mcollection\u001b[0m\u001b[1;33m.\u001b[0m\u001b[0mset_clip_path\u001b[0m\u001b[1;33m(\u001b[0m\u001b[0mself\u001b[0m\u001b[1;33m.\u001b[0m\u001b[0mpatch\u001b[0m\u001b[1;33m)\u001b[0m\u001b[1;33m\u001b[0m\u001b[1;33m\u001b[0m\u001b[0m\n\u001b[0m\u001b[0;32m   2058\u001b[0m \u001b[1;33m\u001b[0m\u001b[0m\n\u001b[0;32m   2059\u001b[0m         \u001b[1;32mif\u001b[0m \u001b[0mautolim\u001b[0m\u001b[1;33m:\u001b[0m\u001b[1;33m\u001b[0m\u001b[1;33m\u001b[0m\u001b[0m\n",
      "\u001b[1;32m~\\Anaconda3\\envs\\gis_wradlib_torch\\lib\\site-packages\\matplotlib\\artist.py\u001b[0m in \u001b[0;36mset_clip_path\u001b[1;34m(self, path, transform)\u001b[0m\n\u001b[0;32m    778\u001b[0m             \u001b[1;32mif\u001b[0m \u001b[0misinstance\u001b[0m\u001b[1;33m(\u001b[0m\u001b[0mpath\u001b[0m\u001b[1;33m,\u001b[0m \u001b[0mRectangle\u001b[0m\u001b[1;33m)\u001b[0m\u001b[1;33m:\u001b[0m\u001b[1;33m\u001b[0m\u001b[1;33m\u001b[0m\u001b[0m\n\u001b[0;32m    779\u001b[0m                 self.clipbox = TransformedBbox(Bbox.unit(),\n\u001b[1;32m--> 780\u001b[1;33m                                                path.get_transform())\n\u001b[0m\u001b[0;32m    781\u001b[0m                 \u001b[0mself\u001b[0m\u001b[1;33m.\u001b[0m\u001b[0m_clippath\u001b[0m \u001b[1;33m=\u001b[0m \u001b[1;32mNone\u001b[0m\u001b[1;33m\u001b[0m\u001b[1;33m\u001b[0m\u001b[0m\n\u001b[0;32m    782\u001b[0m                 \u001b[0msuccess\u001b[0m \u001b[1;33m=\u001b[0m \u001b[1;32mTrue\u001b[0m\u001b[1;33m\u001b[0m\u001b[1;33m\u001b[0m\u001b[0m\n",
      "\u001b[1;32m~\\Anaconda3\\envs\\gis_wradlib_torch\\lib\\site-packages\\matplotlib\\patches.py\u001b[0m in \u001b[0;36mget_transform\u001b[1;34m(self)\u001b[0m\n\u001b[0;32m    271\u001b[0m     \u001b[1;32mdef\u001b[0m \u001b[0mget_transform\u001b[0m\u001b[1;33m(\u001b[0m\u001b[0mself\u001b[0m\u001b[1;33m)\u001b[0m\u001b[1;33m:\u001b[0m\u001b[1;33m\u001b[0m\u001b[1;33m\u001b[0m\u001b[0m\n\u001b[0;32m    272\u001b[0m         \u001b[1;34m\"\"\"Return the `~.transforms.Transform` applied to the `Patch`.\"\"\"\u001b[0m\u001b[1;33m\u001b[0m\u001b[1;33m\u001b[0m\u001b[0m\n\u001b[1;32m--> 273\u001b[1;33m         \u001b[1;32mreturn\u001b[0m \u001b[0mself\u001b[0m\u001b[1;33m.\u001b[0m\u001b[0mget_patch_transform\u001b[0m\u001b[1;33m(\u001b[0m\u001b[1;33m)\u001b[0m \u001b[1;33m+\u001b[0m \u001b[0martist\u001b[0m\u001b[1;33m.\u001b[0m\u001b[0mArtist\u001b[0m\u001b[1;33m.\u001b[0m\u001b[0mget_transform\u001b[0m\u001b[1;33m(\u001b[0m\u001b[0mself\u001b[0m\u001b[1;33m)\u001b[0m\u001b[1;33m\u001b[0m\u001b[1;33m\u001b[0m\u001b[0m\n\u001b[0m\u001b[0;32m    274\u001b[0m \u001b[1;33m\u001b[0m\u001b[0m\n\u001b[0;32m    275\u001b[0m     \u001b[1;32mdef\u001b[0m \u001b[0mget_data_transform\u001b[0m\u001b[1;33m(\u001b[0m\u001b[0mself\u001b[0m\u001b[1;33m)\u001b[0m\u001b[1;33m:\u001b[0m\u001b[1;33m\u001b[0m\u001b[1;33m\u001b[0m\u001b[0m\n",
      "\u001b[1;32m~\\Anaconda3\\envs\\gis_wradlib_torch\\lib\\site-packages\\matplotlib\\patches.py\u001b[0m in \u001b[0;36mget_patch_transform\u001b[1;34m(self)\u001b[0m\n\u001b[0;32m    777\u001b[0m         \u001b[0mbbox\u001b[0m \u001b[1;33m=\u001b[0m \u001b[0mself\u001b[0m\u001b[1;33m.\u001b[0m\u001b[0mget_bbox\u001b[0m\u001b[1;33m(\u001b[0m\u001b[1;33m)\u001b[0m\u001b[1;33m\u001b[0m\u001b[1;33m\u001b[0m\u001b[0m\n\u001b[0;32m    778\u001b[0m         return (transforms.BboxTransformTo(bbox)\n\u001b[1;32m--> 779\u001b[1;33m                 + transforms.Affine2D().rotate_deg_around(\n\u001b[0m\u001b[0;32m    780\u001b[0m                     bbox.x0, bbox.y0, self.angle))\n\u001b[0;32m    781\u001b[0m \u001b[1;33m\u001b[0m\u001b[0m\n",
      "\u001b[1;32m~\\Anaconda3\\envs\\gis_wradlib_torch\\lib\\site-packages\\matplotlib\\transforms.py\u001b[0m in \u001b[0;36mrotate_deg_around\u001b[1;34m(self, x, y, degrees)\u001b[0m\n\u001b[0;32m   2000\u001b[0m         \u001b[1;31m# Cast to float to avoid wraparound issues with uint8's\u001b[0m\u001b[1;33m\u001b[0m\u001b[1;33m\u001b[0m\u001b[1;33m\u001b[0m\u001b[0m\n\u001b[0;32m   2001\u001b[0m         \u001b[0mx\u001b[0m\u001b[1;33m,\u001b[0m \u001b[0my\u001b[0m \u001b[1;33m=\u001b[0m \u001b[0mfloat\u001b[0m\u001b[1;33m(\u001b[0m\u001b[0mx\u001b[0m\u001b[1;33m)\u001b[0m\u001b[1;33m,\u001b[0m \u001b[0mfloat\u001b[0m\u001b[1;33m(\u001b[0m\u001b[0my\u001b[0m\u001b[1;33m)\u001b[0m\u001b[1;33m\u001b[0m\u001b[1;33m\u001b[0m\u001b[0m\n\u001b[1;32m-> 2002\u001b[1;33m         \u001b[1;32mreturn\u001b[0m \u001b[0mself\u001b[0m\u001b[1;33m.\u001b[0m\u001b[0mtranslate\u001b[0m\u001b[1;33m(\u001b[0m\u001b[1;33m-\u001b[0m\u001b[0mx\u001b[0m\u001b[1;33m,\u001b[0m \u001b[1;33m-\u001b[0m\u001b[0my\u001b[0m\u001b[1;33m)\u001b[0m\u001b[1;33m.\u001b[0m\u001b[0mrotate_deg\u001b[0m\u001b[1;33m(\u001b[0m\u001b[0mdegrees\u001b[0m\u001b[1;33m)\u001b[0m\u001b[1;33m.\u001b[0m\u001b[0mtranslate\u001b[0m\u001b[1;33m(\u001b[0m\u001b[0mx\u001b[0m\u001b[1;33m,\u001b[0m \u001b[0my\u001b[0m\u001b[1;33m)\u001b[0m\u001b[1;33m\u001b[0m\u001b[1;33m\u001b[0m\u001b[0m\n\u001b[0m\u001b[0;32m   2003\u001b[0m \u001b[1;33m\u001b[0m\u001b[0m\n\u001b[0;32m   2004\u001b[0m     \u001b[1;32mdef\u001b[0m \u001b[0mtranslate\u001b[0m\u001b[1;33m(\u001b[0m\u001b[0mself\u001b[0m\u001b[1;33m,\u001b[0m \u001b[0mtx\u001b[0m\u001b[1;33m,\u001b[0m \u001b[0mty\u001b[0m\u001b[1;33m)\u001b[0m\u001b[1;33m:\u001b[0m\u001b[1;33m\u001b[0m\u001b[1;33m\u001b[0m\u001b[0m\n",
      "\u001b[1;32m~\\Anaconda3\\envs\\gis_wradlib_torch\\lib\\site-packages\\matplotlib\\transforms.py\u001b[0m in \u001b[0;36mrotate_deg\u001b[1;34m(self, degrees)\u001b[0m\n\u001b[0;32m   1978\u001b[0m         \u001b[1;32mand\u001b[0m \u001b[1;33m:\u001b[0m\u001b[0mmeth\u001b[0m\u001b[1;33m:\u001b[0m\u001b[0;31m`\u001b[0m\u001b[0mscale\u001b[0m\u001b[0;31m`\u001b[0m\u001b[1;33m.\u001b[0m\u001b[1;33m\u001b[0m\u001b[1;33m\u001b[0m\u001b[0m\n\u001b[0;32m   1979\u001b[0m         \"\"\"\n\u001b[1;32m-> 1980\u001b[1;33m         \u001b[1;32mreturn\u001b[0m \u001b[0mself\u001b[0m\u001b[1;33m.\u001b[0m\u001b[0mrotate\u001b[0m\u001b[1;33m(\u001b[0m\u001b[0mmath\u001b[0m\u001b[1;33m.\u001b[0m\u001b[0mradians\u001b[0m\u001b[1;33m(\u001b[0m\u001b[0mdegrees\u001b[0m\u001b[1;33m)\u001b[0m\u001b[1;33m)\u001b[0m\u001b[1;33m\u001b[0m\u001b[1;33m\u001b[0m\u001b[0m\n\u001b[0m\u001b[0;32m   1981\u001b[0m \u001b[1;33m\u001b[0m\u001b[0m\n\u001b[0;32m   1982\u001b[0m     \u001b[1;32mdef\u001b[0m \u001b[0mrotate_around\u001b[0m\u001b[1;33m(\u001b[0m\u001b[0mself\u001b[0m\u001b[1;33m,\u001b[0m \u001b[0mx\u001b[0m\u001b[1;33m,\u001b[0m \u001b[0my\u001b[0m\u001b[1;33m,\u001b[0m \u001b[0mtheta\u001b[0m\u001b[1;33m)\u001b[0m\u001b[1;33m:\u001b[0m\u001b[1;33m\u001b[0m\u001b[1;33m\u001b[0m\u001b[0m\n",
      "\u001b[1;32m~\\Anaconda3\\envs\\gis_wradlib_torch\\lib\\site-packages\\matplotlib\\transforms.py\u001b[0m in \u001b[0;36mrotate\u001b[1;34m(self, theta)\u001b[0m\n\u001b[0;32m   1966\u001b[0m         rotate_mtx = np.array([[a, -b, 0.0], [b, a, 0.0], [0.0, 0.0, 1.0]],\n\u001b[0;32m   1967\u001b[0m                               float)\n\u001b[1;32m-> 1968\u001b[1;33m         \u001b[0mself\u001b[0m\u001b[1;33m.\u001b[0m\u001b[0m_mtx\u001b[0m \u001b[1;33m=\u001b[0m \u001b[0mnp\u001b[0m\u001b[1;33m.\u001b[0m\u001b[0mdot\u001b[0m\u001b[1;33m(\u001b[0m\u001b[0mrotate_mtx\u001b[0m\u001b[1;33m,\u001b[0m \u001b[0mself\u001b[0m\u001b[1;33m.\u001b[0m\u001b[0m_mtx\u001b[0m\u001b[1;33m)\u001b[0m\u001b[1;33m\u001b[0m\u001b[1;33m\u001b[0m\u001b[0m\n\u001b[0m\u001b[0;32m   1969\u001b[0m         \u001b[0mself\u001b[0m\u001b[1;33m.\u001b[0m\u001b[0minvalidate\u001b[0m\u001b[1;33m(\u001b[0m\u001b[1;33m)\u001b[0m\u001b[1;33m\u001b[0m\u001b[1;33m\u001b[0m\u001b[0m\n\u001b[0;32m   1970\u001b[0m         \u001b[1;32mreturn\u001b[0m \u001b[0mself\u001b[0m\u001b[1;33m\u001b[0m\u001b[1;33m\u001b[0m\u001b[0m\n",
      "\u001b[1;32m<__array_function__ internals>\u001b[0m in \u001b[0;36mdot\u001b[1;34m(*args, **kwargs)\u001b[0m\n",
      "\u001b[1;31mKeyboardInterrupt\u001b[0m: "
     ]
    }
   ],
   "metadata": {}
  },
  {
   "cell_type": "code",
   "execution_count": null,
   "source": [
    "# ax = plt.gca()\r\n",
    "# bg_map.plot(edgecolor=\"black\",facecolor='lightgrey',ax = ax)\r\n",
    "# img = ax.pcolormesh(x_coords_radar,\r\n",
    "#                     y_coords_radar,\r\n",
    "#                     correlation_grid_0,\r\n",
    "#                     shading='nearest',\r\n",
    "#                     alpha = 0.65,\r\n",
    "#                     cmap='RdBu',\r\n",
    "#                     norm=divnorm) #\r\n",
    "        \r\n",
    "# ax.set_xlim(-22.6,-21.25)\r\n",
    "# ax.set_ylim(63.95,64.35)\r\n",
    "# plt.show()\r\n",
    "\r\n",
    "\r\n",
    "# f,axes = plt.subplots(12,3,figsize=(8*3,12*8))\r\n",
    "# r_vec = np.arange(0,240000,2000) + 1000\r\n",
    "# az_vec = np.arange(0,360+1,0.86)\r\n",
    "# for i in range(12):\r\n",
    "    \r\n",
    "#     arr_0 = correlations.values[i,:].reshape(420,120)\r\n",
    "#     arr_1 = correlations2.values[i,:].reshape(420,120)\r\n",
    "#     arr_2 = correlations3.values[i,:].reshape(420,120)\r\n",
    "    \r\n",
    "#     max_0 = np.max(np.abs(arr_0))\r\n",
    "#     max_1 = np.max(np.abs(arr_1))\r\n",
    "#     max_2 = np.max(np.abs(arr_2))\r\n",
    "    \r\n",
    "#     divnorm_0 = colors.TwoSlopeNorm(vmin=-max_0, vcenter=0., vmax=max_0)\r\n",
    "#     divnorm_1 = colors.TwoSlopeNorm(vmin=-max_1, vcenter=0., vmax=max_1)\r\n",
    "#     divnorm_2 = colors.TwoSlopeNorm(vmin=-max_2, vcenter=0., vmax=max_2)\r\n",
    "    \r\n",
    "#     img0 = wrl.vis.plot_ppi(arr_0, r = r_vec, az = az_vec, ax=axes[i,0],cmap='RdBu',norm=divnorm_0)\r\n",
    "#     img1 = wrl.vis.plot_ppi(arr_1, r = r_vec, az = az_vec, ax=axes[i,1],cmap='RdBu',norm=divnorm_1)\r\n",
    "#     img2 = wrl.vis.plot_ppi(arr_2, r = r_vec, az = az_vec, ax=axes[i,2],cmap='RdBu',norm=divnorm_2)\r\n",
    "\r\n",
    "#     # plt.imshow(correlations.values[i,:].reshape(420,120).T)\r\n",
    "#     plt.colorbar(img0[1],ax = axes[i,0])\r\n",
    "#     plt.colorbar(img1[1],ax = axes[i,1])\r\n",
    "#     plt.colorbar(img2[1],ax = axes[i,2])\r\n",
    "#     axes[i,0].set_title(df_target.columns[i] + ' - ' + 'First layer')\r\n",
    "#     axes[i,1].set_title(df_target.columns[i] + ' - ' + 'Second layer')\r\n",
    "#     axes[i,2].set_title(df_target.columns[i] + ' - ' + 'Third layer')\r\n",
    "\r\n",
    "# plt.tight_layout()\r\n",
    "# plt.savefig('./radar_drainage_correlation_map.png')\r\n",
    "# plt.close()\r\n",
    "# # plt.show()"
   ],
   "outputs": [],
   "metadata": {}
  }
 ],
 "metadata": {
  "orig_nbformat": 4,
  "language_info": {
   "name": "python",
   "version": "3.8.10",
   "mimetype": "text/x-python",
   "codemirror_mode": {
    "name": "ipython",
    "version": 3
   },
   "pygments_lexer": "ipython3",
   "nbconvert_exporter": "python",
   "file_extension": ".py"
  },
  "kernelspec": {
   "name": "python3",
   "display_name": "Python 3.8.10 64-bit ('gis_wradlib_torch': conda)"
  },
  "interpreter": {
   "hash": "37b26b0919f3eebb53e1fb9d1c196dfd7351d15ccc4a50e8438da0372db545ef"
  }
 },
 "nbformat": 4,
 "nbformat_minor": 2
}
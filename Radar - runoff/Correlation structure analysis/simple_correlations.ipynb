{
    "cells": [
        {
            "cell_type": "code",
            "execution_count": 1,
            "source": [
                "import numpy as np\r\n",
                "import pandas as pd\r\n",
                "import datetime\r\n",
                "import matplotlib.pyplot as plt\r\n",
                "import wradlib as wrl\r\n",
                "from glob import glob\r\n",
                "from numpy.lib.stride_tricks import sliding_window_view\r\n",
                "from matplotlib import cm\r\n",
                "from matplotlib import colors\r\n",
                "\r\n",
                "dt_start = datetime.datetime(2020,1,1,0,0,0)\r\n",
                "dt_end = datetime.datetime(2020,12,31,23,59,59)\r\n",
                "new_index = pd.date_range(dt_start,dt_end, freq='1h')\r\n",
                "\r\n",
                "DIR_data = 'C:/Users/sverrirhd/vedurgogn/'\r\n",
                "URL_dates = glob(DIR_data + '??_file_dates.npy')\r\n",
                "URL_missing_indexes = glob(DIR_data + '??_missing_indexes.npy')\r\n"
            ],
            "outputs": [],
            "metadata": {}
        },
        {
            "cell_type": "code",
            "execution_count": null,
            "source": [
                "from scipy.sparse import load_npz,save_npz\r\n",
                "\r\n",
                "radar_csc = load_npz(DIR_data + 'radar_2020_sparse_csc_matrix.npz')\r\n",
                "\r\n",
                "first_layer = radar_csc[:,:420*120].toarray()\r\n",
                "second_layer = radar_csc[:,420*120:420*120*2].toarray()\r\n",
                "third_layer = radar_csc[:,420*120*2:420*120*3].toarray()\r\n",
                "\r\n",
                "del radar_csc"
            ],
            "outputs": [],
            "metadata": {}
        },
        {
            "cell_type": "code",
            "execution_count": null,
            "source": [],
            "outputs": [],
            "metadata": {}
        },
        {
            "cell_type": "code",
            "execution_count": null,
            "source": [],
            "outputs": [],
            "metadata": {}
        }
    ],
    "metadata": {
        "orig_nbformat": 4,
        "language_info": {
            "name": "python",
            "version": "3.8.10",
            "mimetype": "text/x-python",
            "codemirror_mode": {
                "name": "ipython",
                "version": 3
            },
            "pygments_lexer": "ipython3",
            "nbconvert_exporter": "python",
            "file_extension": ".py"
        },
        "kernelspec": {
            "name": "python3",
            "display_name": "Python 3.8.10 64-bit ('gis_wradlib_torch': conda)"
        },
        "interpreter": {
            "hash": "37b26b0919f3eebb53e1fb9d1c196dfd7351d15ccc4a50e8438da0372db545ef"
        }
    },
    "nbformat": 4,
    "nbformat_minor": 2
}
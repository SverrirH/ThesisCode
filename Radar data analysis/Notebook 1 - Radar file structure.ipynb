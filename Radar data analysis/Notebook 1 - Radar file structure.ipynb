{
 "metadata": {
  "language_info": {
   "codemirror_mode": {
    "name": "ipython",
    "version": 3
   },
   "file_extension": ".py",
   "mimetype": "text/x-python",
   "name": "python",
   "nbconvert_exporter": "python",
   "pygments_lexer": "ipython3",
   "version": "3.8.10"
  },
  "orig_nbformat": 4,
  "kernelspec": {
   "name": "python3",
   "display_name": "Python 3.8.10 64-bit ('gis': conda)"
  },
  "interpreter": {
   "hash": "d3097f1e5c7055f118f88d760c978df7ff640f4d73953d2d446ef314f28e381d"
  }
 },
 "nbformat": 4,
 "nbformat_minor": 2,
 "cells": [
  {
   "cell_type": "code",
   "execution_count": 1,
   "metadata": {},
   "outputs": [],
   "source": [
    "import numpy as np"
   ]
  },
  {
   "cell_type": "code",
   "execution_count": 2,
   "metadata": {},
   "outputs": [],
   "source": [
    "import glob"
   ]
  },
  {
   "cell_type": "code",
   "execution_count": 3,
   "metadata": {},
   "outputs": [],
   "source": [
    "DIR_data = 'C:/Users/sverrirhd/vedurgogn/'\n",
    "DIR_curr = 'C:/Users/sverrirhd/Google Drive/Skóli/DTU/Thesis/Programming/Example code/Jonas example of rain data'\n",
    "\n",
    "DIR_radar = DIR_data + '/radar/2020/'"
   ]
  },
  {
   "cell_type": "code",
   "execution_count": 4,
   "metadata": {},
   "outputs": [],
   "source": [
    "radar_months = glob.glob(DIR_radar+'*')"
   ]
  },
  {
   "cell_type": "code",
   "execution_count": 5,
   "metadata": {},
   "outputs": [],
   "source": [
    "radar_january = glob.glob(radar_months[0]+'/*')"
   ]
  },
  {
   "cell_type": "code",
   "execution_count": 6,
   "metadata": {},
   "outputs": [],
   "source": [
    "URL_radar_sample = radar_january[0]"
   ]
  },
  {
   "cell_type": "code",
   "execution_count": 7,
   "metadata": {},
   "outputs": [
    {
     "output_type": "execute_result",
     "data": {
      "text/plain": [
       "'C:/Users/sverrirhd/vedurgogn//radar/2020\\\\202001\\\\2020010100000000dBZ.vol.hdf5'"
      ]
     },
     "metadata": {},
     "execution_count": 7
    }
   ],
   "source": [
    "URL_radar_sample"
   ]
  },
  {
   "cell_type": "code",
   "execution_count": 8,
   "metadata": {},
   "outputs": [],
   "source": [
    "import h5py"
   ]
  },
  {
   "cell_type": "code",
   "execution_count": 9,
   "metadata": {},
   "outputs": [],
   "source": [
    "f = h5py.File(URL_radar_sample,'r')"
   ]
  },
  {
   "cell_type": "code",
   "execution_count": 10,
   "metadata": {},
   "outputs": [
    {
     "output_type": "execute_result",
     "data": {
      "text/plain": [
       "{'dataset1': <HDF5 group \"/dataset1\" (4 members)>,\n",
       " 'dataset2': <HDF5 group \"/dataset2\" (4 members)>,\n",
       " 'dataset3': <HDF5 group \"/dataset3\" (4 members)>,\n",
       " 'dataset4': <HDF5 group \"/dataset4\" (4 members)>,\n",
       " 'dataset5': <HDF5 group \"/dataset5\" (4 members)>,\n",
       " 'dataset6': <HDF5 group \"/dataset6\" (4 members)>,\n",
       " 'dataset7': <HDF5 group \"/dataset7\" (4 members)>,\n",
       " 'dataset8': <HDF5 group \"/dataset8\" (4 members)>,\n",
       " 'how': <HDF5 group \"/how\" (0 members)>,\n",
       " 'what': <HDF5 group \"/what\" (0 members)>,\n",
       " 'where': <HDF5 group \"/where\" (0 members)>}"
      ]
     },
     "metadata": {},
     "execution_count": 10
    }
   ],
   "source": [
    "f_dict = dict(f)\n",
    "f_dict"
   ]
  },
  {
   "cell_type": "code",
   "execution_count": 11,
   "metadata": {},
   "outputs": [
    {
     "output_type": "stream",
     "name": "stdout",
     "text": [
      "meta data: [{}, {}, {}]\ntag: dataset1\n\tmeta data [{}, {}, {}]\ntag: dataset2\n\tmeta data [{}, {}, {}]\ntag: dataset3\n\tmeta data [{}, {}, {}]\ntag: dataset4\n\tmeta data [{}, {}, {}]\ntag: dataset5\n\tmeta data [{}, {}, {}]\ntag: dataset6\n\tmeta data [{}, {}, {}]\ntag: dataset7\n\tmeta data [{}, {}, {}]\ntag: dataset8\n\tmeta data [{}, {}, {}]\n"
     ]
    }
   ],
   "source": [
    "meta_tags = ['how','what','where']\n",
    "f_data_tags = [key for key in f_dict.keys() if key not in meta_tags]\n",
    "print('meta data:',[dict(f_dict[tag]) for tag in meta_tags])\n",
    "\n",
    "for tag in f_data_tags:\n",
    "    print('tag:',tag)\n",
    "    print('\\tmeta data', [dict(f_dict[tag][m_tag]) for m_tag in meta_tags])\n",
    "    [dict(f_dict[tag]) for tag in f_data_tags]\n"
   ]
  },
  {
   "cell_type": "code",
   "execution_count": 65,
   "metadata": {},
   "outputs": [],
   "source": []
  },
  {
   "cell_type": "code",
   "execution_count": 12,
   "metadata": {},
   "outputs": [
    {
     "output_type": "stream",
     "name": "stdout",
     "text": [
      "dataset: dataset1\ntag: data1\nKind of data:\n\t {'data': <HDF5 dataset \"data\": shape (420, 120), type \"|u1\">, 'what': <HDF5 group \"/dataset1/data1/what\" (0 members)>}\n\ndataset: dataset2\ntag: data1\nKind of data:\n\t {'data': <HDF5 dataset \"data\": shape (420, 120), type \"|u1\">, 'what': <HDF5 group \"/dataset2/data1/what\" (0 members)>}\n\ndataset: dataset3\ntag: data1\nKind of data:\n\t {'data': <HDF5 dataset \"data\": shape (420, 120), type \"|u1\">, 'what': <HDF5 group \"/dataset3/data1/what\" (0 members)>}\n\ndataset: dataset4\ntag: data1\nKind of data:\n\t {'data': <HDF5 dataset \"data\": shape (420, 120), type \"|u1\">, 'what': <HDF5 group \"/dataset4/data1/what\" (0 members)>}\n\ndataset: dataset5\ntag: data1\nKind of data:\n\t {'data': <HDF5 dataset \"data\": shape (420, 120), type \"|u1\">, 'what': <HDF5 group \"/dataset5/data1/what\" (0 members)>}\n\ndataset: dataset6\ntag: data1\nKind of data:\n\t {'data': <HDF5 dataset \"data\": shape (420, 120), type \"|u1\">, 'what': <HDF5 group \"/dataset6/data1/what\" (0 members)>}\n\ndataset: dataset7\ntag: data1\nKind of data:\n\t {'data': <HDF5 dataset \"data\": shape (420, 120), type \"|u1\">, 'what': <HDF5 group \"/dataset7/data1/what\" (0 members)>}\n\ndataset: dataset8\ntag: data1\nKind of data:\n\t {'data': <HDF5 dataset \"data\": shape (420, 120), type \"|u1\">, 'what': <HDF5 group \"/dataset8/data1/what\" (0 members)>}\n\n"
     ]
    }
   ],
   "source": [
    "data_dict = {}\n",
    "for tag in f_data_tags:\n",
    "    print('dataset:',tag)\n",
    "    tmp_data = f_dict[tag]\n",
    "    tmp_non_meta_tags = [i for i in tmp_data.keys() if i not in meta_tags]\n",
    "\n",
    "    for n_tag in tmp_non_meta_tags:\n",
    "        print('tag:',n_tag)\n",
    "        print('Kind of data:\\n\\t',dict(tmp_data[n_tag]))\n",
    "        data_dict[tag + n_tag] = tmp_data[n_tag]['data']\n",
    "    print()"
   ]
  },
  {
   "cell_type": "code",
   "execution_count": 39,
   "metadata": {},
   "outputs": [
    {
     "output_type": "execute_result",
     "data": {
      "text/plain": [
       "{}"
      ]
     },
     "metadata": {},
     "execution_count": 39
    }
   ],
   "source": []
  },
  {
   "cell_type": "code",
   "execution_count": 13,
   "metadata": {},
   "outputs": [],
   "source": [
    "dataset1 = f['dataset1']"
   ]
  },
  {
   "cell_type": "code",
   "execution_count": 15,
   "metadata": {},
   "outputs": [
    {
     "output_type": "execute_result",
     "data": {
      "text/plain": [
       "<HDF5 group \"/dataset1\" (4 members)>"
      ]
     },
     "metadata": {},
     "execution_count": 15
    }
   ],
   "source": [
    "dataset1"
   ]
  }
 ]
}
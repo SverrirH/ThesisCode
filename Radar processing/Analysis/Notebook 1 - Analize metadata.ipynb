{
 "cells": [
  {
   "cell_type": "markdown",
   "metadata": {},
   "source": [
    "# Notebook objective\n",
    "- Extract the main information and export into a file to help with processing of radar data"
   ]
  },
  {
   "cell_type": "code",
   "execution_count": 10,
   "metadata": {},
   "outputs": [],
   "source": [
    "import urllib.request\n",
    "import tarfile\n",
    "import wradlib as wrl\n",
    "import h5py\n",
    "import numpy as np\n",
    "import glob\n",
    "import datetime\n",
    "import re\n",
    "import pandas as pd\n",
    "import matplotlib.pyplot as plt"
   ]
  },
  {
   "cell_type": "code",
   "execution_count": 68,
   "metadata": {},
   "outputs": [],
   "source": [
    "df_rough_meta_all = pd.read_csv('./file_metadata.csv',index_col=0)\n",
    "df_meta = pd.read_csv('./new_files_metadata.csv',index_col=0)"
   ]
  },
  {
   "cell_type": "code",
   "execution_count": 23,
   "metadata": {},
   "outputs": [],
   "source": [
    "attr_counts = df_meta.loc[:,'0'].value_counts()"
   ]
  },
  {
   "cell_type": "code",
   "execution_count": 24,
   "metadata": {},
   "outputs": [
    {
     "data": {
      "text/plain": [
       "/dataset1/data1/data/attrs/CLASS             292395\n",
       "/dataset2/data1/data/attrs/CLASS             292395\n",
       "/dataset2/where/attrs/nrays                  292395\n",
       "/dataset2/where/attrs/nbins                  292395\n",
       "/dataset2/where/attrs/elangle                292395\n",
       "                                              ...  \n",
       "/dataset12/data1/what/attrs/undetect          10576\n",
       "/dataset12/data1/what/attrs/quantity          10576\n",
       "/dataset12/data1/what/attrs/offset            10576\n",
       "/dataset12/data1/what/attrs/nodata            10576\n",
       "/dataset12/data1/data/attrs/IMAGE_VERSION     10576\n",
       "Name: 0, Length: 244, dtype: int64"
      ]
     },
     "execution_count": 24,
     "metadata": {},
     "output_type": "execute_result"
    }
   ],
   "source": [
    "attr_counts"
   ]
  },
  {
   "cell_type": "code",
   "execution_count": 33,
   "metadata": {},
   "outputs": [
    {
     "data": {
      "text/html": [
       "<div>\n",
       "<style scoped>\n",
       "    .dataframe tbody tr th:only-of-type {\n",
       "        vertical-align: middle;\n",
       "    }\n",
       "\n",
       "    .dataframe tbody tr th {\n",
       "        vertical-align: top;\n",
       "    }\n",
       "\n",
       "    .dataframe thead th {\n",
       "        text-align: right;\n",
       "    }\n",
       "</style>\n",
       "<table border=\"1\" class=\"dataframe\">\n",
       "  <thead>\n",
       "    <tr style=\"text-align: right;\">\n",
       "      <th></th>\n",
       "      <th>1</th>\n",
       "    </tr>\n",
       "    <tr>\n",
       "      <th>0</th>\n",
       "      <th></th>\n",
       "    </tr>\n",
       "  </thead>\n",
       "  <tbody>\n",
       "    <tr>\n",
       "      <th>/dataset1/data1/data/attrs/CLASS</th>\n",
       "      <td>292395</td>\n",
       "    </tr>\n",
       "    <tr>\n",
       "      <th>/dataset1/data1/data/attrs/IMAGE_VERSION</th>\n",
       "      <td>292395</td>\n",
       "    </tr>\n",
       "    <tr>\n",
       "      <th>/dataset1/data1/what/attrs/gain</th>\n",
       "      <td>292395</td>\n",
       "    </tr>\n",
       "    <tr>\n",
       "      <th>/dataset1/data1/what/attrs/nodata</th>\n",
       "      <td>292395</td>\n",
       "    </tr>\n",
       "    <tr>\n",
       "      <th>/dataset1/data1/what/attrs/offset</th>\n",
       "      <td>292395</td>\n",
       "    </tr>\n",
       "    <tr>\n",
       "      <th>...</th>\n",
       "      <td>...</td>\n",
       "    </tr>\n",
       "    <tr>\n",
       "      <th>/what/attrs/time</th>\n",
       "      <td>292395</td>\n",
       "    </tr>\n",
       "    <tr>\n",
       "      <th>/what/attrs/version</th>\n",
       "      <td>292395</td>\n",
       "    </tr>\n",
       "    <tr>\n",
       "      <th>/where/attrs/height</th>\n",
       "      <td>292395</td>\n",
       "    </tr>\n",
       "    <tr>\n",
       "      <th>/where/attrs/lat</th>\n",
       "      <td>292395</td>\n",
       "    </tr>\n",
       "    <tr>\n",
       "      <th>/where/attrs/lon</th>\n",
       "      <td>292395</td>\n",
       "    </tr>\n",
       "  </tbody>\n",
       "</table>\n",
       "<p>244 rows × 1 columns</p>\n",
       "</div>"
      ],
      "text/plain": [
       "                                               1\n",
       "0                                               \n",
       "/dataset1/data1/data/attrs/CLASS          292395\n",
       "/dataset1/data1/data/attrs/IMAGE_VERSION  292395\n",
       "/dataset1/data1/what/attrs/gain           292395\n",
       "/dataset1/data1/what/attrs/nodata         292395\n",
       "/dataset1/data1/what/attrs/offset         292395\n",
       "...                                          ...\n",
       "/what/attrs/time                          292395\n",
       "/what/attrs/version                       292395\n",
       "/where/attrs/height                       292395\n",
       "/where/attrs/lat                          292395\n",
       "/where/attrs/lon                          292395\n",
       "\n",
       "[244 rows x 1 columns]"
      ]
     },
     "execution_count": 33,
     "metadata": {},
     "output_type": "execute_result"
    }
   ],
   "source": [
    "attr_value_counts"
   ]
  },
  {
   "cell_type": "code",
   "execution_count": 37,
   "metadata": {},
   "outputs": [],
   "source": [
    "attr_value_counts = df_meta.groupby(['0','1']).count()\n"
   ]
  },
  {
   "cell_type": "code",
   "execution_count": 174,
   "metadata": {},
   "outputs": [
    {
     "data": {
      "text/html": [
       "<div>\n",
       "<style scoped>\n",
       "    .dataframe tbody tr th:only-of-type {\n",
       "        vertical-align: middle;\n",
       "    }\n",
       "\n",
       "    .dataframe tbody tr th {\n",
       "        vertical-align: top;\n",
       "    }\n",
       "\n",
       "    .dataframe thead th {\n",
       "        text-align: right;\n",
       "    }\n",
       "</style>\n",
       "<table border=\"1\" class=\"dataframe\">\n",
       "  <thead>\n",
       "    <tr style=\"text-align: right;\">\n",
       "      <th></th>\n",
       "      <th>0</th>\n",
       "      <th>1</th>\n",
       "      <th>url</th>\n",
       "    </tr>\n",
       "  </thead>\n",
       "  <tbody>\n",
       "    <tr>\n",
       "      <th>0</th>\n",
       "      <td>/dataset1/data1/data/attrs/CLASS</td>\n",
       "      <td>b'IMAGE'</td>\n",
       "      <td>292395</td>\n",
       "    </tr>\n",
       "    <tr>\n",
       "      <th>1</th>\n",
       "      <td>/dataset1/data1/data/attrs/IMAGE_VERSION</td>\n",
       "      <td>b'1.2'</td>\n",
       "      <td>292395</td>\n",
       "    </tr>\n",
       "    <tr>\n",
       "      <th>2</th>\n",
       "      <td>/dataset1/data1/what/attrs/gain</td>\n",
       "      <td>0.5</td>\n",
       "      <td>292395</td>\n",
       "    </tr>\n",
       "    <tr>\n",
       "      <th>3</th>\n",
       "      <td>/dataset1/data1/what/attrs/nodata</td>\n",
       "      <td>-1.0</td>\n",
       "      <td>292395</td>\n",
       "    </tr>\n",
       "    <tr>\n",
       "      <th>4</th>\n",
       "      <td>/dataset1/data1/what/attrs/offset</td>\n",
       "      <td>-32.0</td>\n",
       "      <td>292395</td>\n",
       "    </tr>\n",
       "    <tr>\n",
       "      <th>...</th>\n",
       "      <td>...</td>\n",
       "      <td>...</td>\n",
       "      <td>...</td>\n",
       "    </tr>\n",
       "    <tr>\n",
       "      <th>676385</th>\n",
       "      <td>/what/attrs/time</td>\n",
       "      <td>b'235915'</td>\n",
       "      <td>2</td>\n",
       "    </tr>\n",
       "    <tr>\n",
       "      <th>676386</th>\n",
       "      <td>/what/attrs/version</td>\n",
       "      <td>b'H5rad 2.0'</td>\n",
       "      <td>292395</td>\n",
       "    </tr>\n",
       "    <tr>\n",
       "      <th>676387</th>\n",
       "      <td>/where/attrs/height</td>\n",
       "      <td>0.0</td>\n",
       "      <td>292395</td>\n",
       "    </tr>\n",
       "    <tr>\n",
       "      <th>676388</th>\n",
       "      <td>/where/attrs/lat</td>\n",
       "      <td>64.025</td>\n",
       "      <td>292395</td>\n",
       "    </tr>\n",
       "    <tr>\n",
       "      <th>676389</th>\n",
       "      <td>/where/attrs/lon</td>\n",
       "      <td>-22.636</td>\n",
       "      <td>292395</td>\n",
       "    </tr>\n",
       "  </tbody>\n",
       "</table>\n",
       "<p>676390 rows × 3 columns</p>\n",
       "</div>"
      ],
      "text/plain": [
       "                                               0             1     url\n",
       "0               /dataset1/data1/data/attrs/CLASS      b'IMAGE'  292395\n",
       "1       /dataset1/data1/data/attrs/IMAGE_VERSION        b'1.2'  292395\n",
       "2                /dataset1/data1/what/attrs/gain           0.5  292395\n",
       "3              /dataset1/data1/what/attrs/nodata          -1.0  292395\n",
       "4              /dataset1/data1/what/attrs/offset         -32.0  292395\n",
       "...                                          ...           ...     ...\n",
       "676385                          /what/attrs/time     b'235915'       2\n",
       "676386                       /what/attrs/version  b'H5rad 2.0'  292395\n",
       "676387                       /where/attrs/height           0.0  292395\n",
       "676388                          /where/attrs/lat        64.025  292395\n",
       "676389                          /where/attrs/lon       -22.636  292395\n",
       "\n",
       "[676390 rows x 3 columns]"
      ]
     },
     "execution_count": 174,
     "metadata": {},
     "output_type": "execute_result"
    }
   ],
   "source": [
    "attr_value_counts.reset_index()"
   ]
  },
  {
   "cell_type": "code",
   "execution_count": 176,
   "metadata": {},
   "outputs": [
    {
     "data": {
      "text/html": [
       "<div>\n",
       "<style scoped>\n",
       "    .dataframe tbody tr th:only-of-type {\n",
       "        vertical-align: middle;\n",
       "    }\n",
       "\n",
       "    .dataframe tbody tr th {\n",
       "        vertical-align: top;\n",
       "    }\n",
       "\n",
       "    .dataframe thead th {\n",
       "        text-align: right;\n",
       "    }\n",
       "</style>\n",
       "<table border=\"1\" class=\"dataframe\">\n",
       "  <thead>\n",
       "    <tr style=\"text-align: right;\">\n",
       "      <th></th>\n",
       "      <th></th>\n",
       "      <th>url</th>\n",
       "    </tr>\n",
       "    <tr>\n",
       "      <th>0</th>\n",
       "      <th>1</th>\n",
       "      <th></th>\n",
       "    </tr>\n",
       "  </thead>\n",
       "  <tbody>\n",
       "    <tr>\n",
       "      <th>/dataset1/data1/what/attrs/nodata</th>\n",
       "      <th>-1.0</th>\n",
       "      <td>292395</td>\n",
       "    </tr>\n",
       "    <tr>\n",
       "      <th>/dataset10/data1/what/attrs/nodata</th>\n",
       "      <th>-1.0</th>\n",
       "      <td>10577</td>\n",
       "    </tr>\n",
       "    <tr>\n",
       "      <th>/dataset11/data1/what/attrs/nodata</th>\n",
       "      <th>-1.0</th>\n",
       "      <td>10576</td>\n",
       "    </tr>\n",
       "    <tr>\n",
       "      <th>/dataset12/data1/what/attrs/nodata</th>\n",
       "      <th>-1.0</th>\n",
       "      <td>10576</td>\n",
       "    </tr>\n",
       "    <tr>\n",
       "      <th>/dataset2/data1/what/attrs/nodata</th>\n",
       "      <th>-1.0</th>\n",
       "      <td>292395</td>\n",
       "    </tr>\n",
       "    <tr>\n",
       "      <th>/dataset3/data1/what/attrs/nodata</th>\n",
       "      <th>-1.0</th>\n",
       "      <td>292241</td>\n",
       "    </tr>\n",
       "    <tr>\n",
       "      <th>/dataset4/data1/what/attrs/nodata</th>\n",
       "      <th>-1.0</th>\n",
       "      <td>291933</td>\n",
       "    </tr>\n",
       "    <tr>\n",
       "      <th>/dataset5/data1/what/attrs/nodata</th>\n",
       "      <th>-1.0</th>\n",
       "      <td>291854</td>\n",
       "    </tr>\n",
       "    <tr>\n",
       "      <th>/dataset6/data1/what/attrs/nodata</th>\n",
       "      <th>-1.0</th>\n",
       "      <td>291765</td>\n",
       "    </tr>\n",
       "    <tr>\n",
       "      <th>/dataset7/data1/what/attrs/nodata</th>\n",
       "      <th>-1.0</th>\n",
       "      <td>291738</td>\n",
       "    </tr>\n",
       "    <tr>\n",
       "      <th>/dataset8/data1/what/attrs/nodata</th>\n",
       "      <th>-1.0</th>\n",
       "      <td>291688</td>\n",
       "    </tr>\n",
       "    <tr>\n",
       "      <th>/dataset9/data1/what/attrs/nodata</th>\n",
       "      <th>-1.0</th>\n",
       "      <td>10581</td>\n",
       "    </tr>\n",
       "  </tbody>\n",
       "</table>\n",
       "</div>"
      ],
      "text/plain": [
       "                                            url\n",
       "0                                  1           \n",
       "/dataset1/data1/what/attrs/nodata  -1.0  292395\n",
       "/dataset10/data1/what/attrs/nodata -1.0   10577\n",
       "/dataset11/data1/what/attrs/nodata -1.0   10576\n",
       "/dataset12/data1/what/attrs/nodata -1.0   10576\n",
       "/dataset2/data1/what/attrs/nodata  -1.0  292395\n",
       "/dataset3/data1/what/attrs/nodata  -1.0  292241\n",
       "/dataset4/data1/what/attrs/nodata  -1.0  291933\n",
       "/dataset5/data1/what/attrs/nodata  -1.0  291854\n",
       "/dataset6/data1/what/attrs/nodata  -1.0  291765\n",
       "/dataset7/data1/what/attrs/nodata  -1.0  291738\n",
       "/dataset8/data1/what/attrs/nodata  -1.0  291688\n",
       "/dataset9/data1/what/attrs/nodata  -1.0   10581"
      ]
     },
     "execution_count": 176,
     "metadata": {},
     "output_type": "execute_result"
    }
   ],
   "source": [
    "attr_value_counts[['nodata' in x for x in attr_value_counts.reset_index().loc[:,'0']]]"
   ]
  },
  {
   "cell_type": "code",
   "execution_count": 178,
   "metadata": {},
   "outputs": [
    {
     "data": {
      "text/html": [
       "<div>\n",
       "<style scoped>\n",
       "    .dataframe tbody tr th:only-of-type {\n",
       "        vertical-align: middle;\n",
       "    }\n",
       "\n",
       "    .dataframe tbody tr th {\n",
       "        vertical-align: top;\n",
       "    }\n",
       "\n",
       "    .dataframe thead th {\n",
       "        text-align: right;\n",
       "    }\n",
       "</style>\n",
       "<table border=\"1\" class=\"dataframe\">\n",
       "  <thead>\n",
       "    <tr style=\"text-align: right;\">\n",
       "      <th></th>\n",
       "      <th></th>\n",
       "      <th>url</th>\n",
       "    </tr>\n",
       "    <tr>\n",
       "      <th>0</th>\n",
       "      <th>1</th>\n",
       "      <th></th>\n",
       "    </tr>\n",
       "  </thead>\n",
       "  <tbody>\n",
       "    <tr>\n",
       "      <th>/dataset1/data1/what/attrs/gain</th>\n",
       "      <th>0.5</th>\n",
       "      <td>292395</td>\n",
       "    </tr>\n",
       "    <tr>\n",
       "      <th>/dataset1/data1/what/attrs/nodata</th>\n",
       "      <th>-1.0</th>\n",
       "      <td>292395</td>\n",
       "    </tr>\n",
       "    <tr>\n",
       "      <th>/dataset1/data1/what/attrs/offset</th>\n",
       "      <th>-32.0</th>\n",
       "      <td>292395</td>\n",
       "    </tr>\n",
       "    <tr>\n",
       "      <th>/dataset1/data1/what/attrs/quantity</th>\n",
       "      <th>b'DBZH'</th>\n",
       "      <td>292395</td>\n",
       "    </tr>\n",
       "    <tr>\n",
       "      <th>/dataset1/data1/what/attrs/undetect</th>\n",
       "      <th>0.0</th>\n",
       "      <td>292395</td>\n",
       "    </tr>\n",
       "  </tbody>\n",
       "</table>\n",
       "</div>"
      ],
      "text/plain": [
       "                                                url\n",
       "0                                   1              \n",
       "/dataset1/data1/what/attrs/gain     0.5      292395\n",
       "/dataset1/data1/what/attrs/nodata   -1.0     292395\n",
       "/dataset1/data1/what/attrs/offset   -32.0    292395\n",
       "/dataset1/data1/what/attrs/quantity b'DBZH'  292395\n",
       "/dataset1/data1/what/attrs/undetect 0.0      292395"
      ]
     },
     "execution_count": 178,
     "metadata": {},
     "output_type": "execute_result"
    }
   ],
   "source": [
    "attr_value_counts[['dataset1/data1/what' in x for x in attr_value_counts.reset_index().loc[:,'0']]]"
   ]
  },
  {
   "cell_type": "code",
   "execution_count": 52,
   "metadata": {},
   "outputs": [],
   "source": [
    "attr_value_unique_counts = attr_value_counts.groupby(attr_value_counts.index.get_level_values(0)).count().sort_values('url')"
   ]
  },
  {
   "cell_type": "code",
   "execution_count": 53,
   "metadata": {},
   "outputs": [
    {
     "data": {
      "text/html": [
       "<div>\n",
       "<style scoped>\n",
       "    .dataframe tbody tr th:only-of-type {\n",
       "        vertical-align: middle;\n",
       "    }\n",
       "\n",
       "    .dataframe tbody tr th {\n",
       "        vertical-align: top;\n",
       "    }\n",
       "\n",
       "    .dataframe thead th {\n",
       "        text-align: right;\n",
       "    }\n",
       "</style>\n",
       "<table border=\"1\" class=\"dataframe\">\n",
       "  <thead>\n",
       "    <tr style=\"text-align: right;\">\n",
       "      <th></th>\n",
       "      <th>url</th>\n",
       "    </tr>\n",
       "    <tr>\n",
       "      <th>0</th>\n",
       "      <th></th>\n",
       "    </tr>\n",
       "  </thead>\n",
       "  <tbody>\n",
       "    <tr>\n",
       "      <th>/dataset1/data1/data/attrs/CLASS</th>\n",
       "      <td>1</td>\n",
       "    </tr>\n",
       "    <tr>\n",
       "      <th>/dataset5/how/attrs/azangles</th>\n",
       "      <td>1</td>\n",
       "    </tr>\n",
       "    <tr>\n",
       "      <th>/dataset5/what/attrs/product</th>\n",
       "      <td>1</td>\n",
       "    </tr>\n",
       "    <tr>\n",
       "      <th>/dataset5/where/attrs/a1gate</th>\n",
       "      <td>1</td>\n",
       "    </tr>\n",
       "    <tr>\n",
       "      <th>/dataset5/where/attrs/nbins</th>\n",
       "      <td>1</td>\n",
       "    </tr>\n",
       "    <tr>\n",
       "      <th>...</th>\n",
       "      <td>...</td>\n",
       "    </tr>\n",
       "    <tr>\n",
       "      <th>/what/attrs/time</th>\n",
       "      <td>4901</td>\n",
       "    </tr>\n",
       "    <tr>\n",
       "      <th>/dataset1/what/attrs/endtime</th>\n",
       "      <td>4901</td>\n",
       "    </tr>\n",
       "    <tr>\n",
       "      <th>/dataset1/what/attrs/starttime</th>\n",
       "      <td>4901</td>\n",
       "    </tr>\n",
       "    <tr>\n",
       "      <th>/how/attrs/startepochs</th>\n",
       "      <td>292354</td>\n",
       "    </tr>\n",
       "    <tr>\n",
       "      <th>/how/attrs/stopepochs</th>\n",
       "      <td>292395</td>\n",
       "    </tr>\n",
       "  </tbody>\n",
       "</table>\n",
       "<p>244 rows × 1 columns</p>\n",
       "</div>"
      ],
      "text/plain": [
       "                                     url\n",
       "0                                       \n",
       "/dataset1/data1/data/attrs/CLASS       1\n",
       "/dataset5/how/attrs/azangles           1\n",
       "/dataset5/what/attrs/product           1\n",
       "/dataset5/where/attrs/a1gate           1\n",
       "/dataset5/where/attrs/nbins            1\n",
       "...                                  ...\n",
       "/what/attrs/time                    4901\n",
       "/dataset1/what/attrs/endtime        4901\n",
       "/dataset1/what/attrs/starttime      4901\n",
       "/how/attrs/startepochs            292354\n",
       "/how/attrs/stopepochs             292395\n",
       "\n",
       "[244 rows x 1 columns]"
      ]
     },
     "execution_count": 53,
     "metadata": {},
     "output_type": "execute_result"
    }
   ],
   "source": [
    "attr_value_unique_counts"
   ]
  },
  {
   "cell_type": "code",
   "execution_count": 65,
   "metadata": {},
   "outputs": [],
   "source": [
    "all_gains = df_meta.loc[df_meta.loc[:,'0'].str.contains('gain')]\n",
    "all_offsets = df_meta.loc[df_meta.loc[:,'0'].str.contains('offset')]"
   ]
  },
  {
   "cell_type": "markdown",
   "metadata": {},
   "source": [
    "# Only variable parameters:\n",
    "- elangle\n",
    "- enddate & startdate\n",
    "- date\n",
    "- time\n"
   ]
  },
  {
   "cell_type": "code",
   "execution_count": 66,
   "metadata": {},
   "outputs": [
    {
     "name": "stdout",
     "output_type": "stream",
     "text": [
      "0.5    2378319\n",
      "Name: 1, dtype: int64\n",
      "-32.0    2378319\n",
      "Name: 1, dtype: int64\n"
     ]
    }
   ],
   "source": [
    "print(all_gains.loc[:,'1'].value_counts())\n",
    "print(all_offsets.loc[:,'1'].value_counts())"
   ]
  },
  {
   "cell_type": "code",
   "execution_count": 42,
   "metadata": {},
   "outputs": [
    {
     "data": {
      "text/html": [
       "<div>\n",
       "<style scoped>\n",
       "    .dataframe tbody tr th:only-of-type {\n",
       "        vertical-align: middle;\n",
       "    }\n",
       "\n",
       "    .dataframe tbody tr th {\n",
       "        vertical-align: top;\n",
       "    }\n",
       "\n",
       "    .dataframe thead th {\n",
       "        text-align: right;\n",
       "    }\n",
       "</style>\n",
       "<table border=\"1\" class=\"dataframe\">\n",
       "  <thead>\n",
       "    <tr style=\"text-align: right;\">\n",
       "      <th></th>\n",
       "      <th></th>\n",
       "      <th>url</th>\n",
       "    </tr>\n",
       "    <tr>\n",
       "      <th>0</th>\n",
       "      <th>1</th>\n",
       "      <th></th>\n",
       "    </tr>\n",
       "  </thead>\n",
       "  <tbody>\n",
       "    <tr>\n",
       "      <th>/how/attrs/startepochs</th>\n",
       "      <th>1597482847</th>\n",
       "      <td>1</td>\n",
       "    </tr>\n",
       "    <tr>\n",
       "      <th rowspan=\"4\" valign=\"top\">/how/attrs/stopepochs</th>\n",
       "      <th>1542212723</th>\n",
       "      <td>1</td>\n",
       "    </tr>\n",
       "    <tr>\n",
       "      <th>1542213023</th>\n",
       "      <td>1</td>\n",
       "    </tr>\n",
       "    <tr>\n",
       "      <th>1542213319</th>\n",
       "      <td>1</td>\n",
       "    </tr>\n",
       "    <tr>\n",
       "      <th>1542213620</th>\n",
       "      <td>1</td>\n",
       "    </tr>\n",
       "    <tr>\n",
       "      <th>...</th>\n",
       "      <th>...</th>\n",
       "      <td>...</td>\n",
       "    </tr>\n",
       "    <tr>\n",
       "      <th>/dataset2/what/attrs/product</th>\n",
       "      <th>b'SCAN'</th>\n",
       "      <td>292395</td>\n",
       "    </tr>\n",
       "    <tr>\n",
       "      <th>/dataset2/how/attrs/azangles</th>\n",
       "      <th>b'0:0.856934,0.856934:1.71387,1.71387:2.5708,2.5708:3.42773,3.42773:4.28467,4.28467:5.1416,5.1416:5.99854,5.99854:6.85547,6.85547:7.7124,7.7124:8.56934,8.56934:9.42627,9.42627:10.2832,10.2832:11.1401,11.1401:11.9971,11.9971:12.854,12.854:13.7109,13.7109:14.5679,14.5679:15.4248,15.4248:16.2817,16.2817:17.1387,17.1387:17.9956,17.9956:18.8525,18.8525:19.7095,19.7095:20.5664,20.5664:21.4233,21.4233:22.2803,22.2803:23.1372,23.1372:23.9941,23.9941:24.8511,24.8511:25.708,25.708:26.5649,26.5649:27.4219,27.4219:28.2788,28.2788:29.1357,29.1357:29.9927,29.9927:30.8496,30.8496:31.7065,31.7065:32.5635,32.5635:33.4204,33.4204:34.2773,34.2773:35.1343,35.1343:35.9912,35.9912:36.8481,36.8481:37.7051,37.7051:38.562,38.562:39.4189,39.4189:40.2759,40.2759:41.1328,41.1328:41.9897,41.9897:42.8467,42.8467:43.7036,43.7036:44.5605,44.5605:45.4175,45.4175:46.2744,46.2744:47.1313,47.1313:47.9883,47.9883:48.8452,48.8452:49.7021,49.7021:50.5591,50.5591:51.416,51.416:52.2729,52.2729:53.1299,53.1299:53.9868,53.9868:54.8438,54.8438:55.7007,55.7007:56.5576,56.5576:57.4146,57.4146:58.2715,58.2715:59.1284,59.1284:59.9854,59.9854:60.8423,60.8423:61.6992,61.6992:62.5562,62.5562:63.4131,63.4131:64.27,64.27:65.127,65.127:65.9839,65.9839:66.8408,66.8408:67.6978,67.6978:68.5547,68.5547:69.4116,69.4116:70.2686,70.2686:71.1255,71.1255:71.9824,71.9824:72.8394,72.8394:73.6963,73.6963:74.5532,74.5532:75.4102,75.4102:76.2671,76.2671:77.124,77.124:77.981,77.981:78.8379,78.8379:79.6948,79.6948:80.5518,80.5518:81.4087,81.4087:82.2656,82.2656:83.1226,83.1226:83.9795,83.9795:84.8364,84.8364:85.6934,85.6934:86.5503,86.5503:87.4072,87.4072:88.2642,88.2642:89.1211,89.1211:89.978,89.978:90.835,90.835:91.6919,91.6919:92.5488,92.5488:93.4058,93.4058:94.2627,94.2627:95.1196,95.1196:95.9766,95.9766:96.8335,96.8335:97.6904,97.6904:98.5474,98.5474:99.4043,99.4043:100.261,100.261:101.118,101.118:101.975,101.975:102.832,102.832:103.689,103.689:104.546,104.546:105.403,105.403:106.26,106.26:107.117,107.117:107.974,107.974:108.831,108.831:109.688,109.688:110.544,110.544:111.401,111.401:112.258,112.258:113.115,113.115:113.972,113.972:114.829,114.829:115.686,115.686:116.543,116.543:117.4,117.4:118.257,118.257:119.114,119.114:119.971,119.971:120.828,120.828:121.685,121.685:122.542,122.542:123.398,123.398:124.255,124.255:125.112,125.112:125.969,125.969:126.826,126.826:127.683,127.683:128.54,128.54:129.397,129.397:130.254,130.254:131.111,131.111:131.968,131.968:132.825,132.825:133.682,133.682:134.539,134.539:135.396,135.396:136.252,136.252:137.109,137.109:137.966,137.966:138.823,138.823:139.68,139.68:140.537,140.537:141.394,141.394:142.251,142.251:143.108,143.108:143.965,143.965:144.822,144.822:145.679,145.679:146.536,146.536:147.393,147.393:148.25,148.25:149.106,149.106:149.963,149.963:150.82,150.82:151.677,151.677:152.534,152.534:153.391,153.391:154.248,154.248:155.105,155.105:155.962,155.962:156.819,156.819:157.676,157.676:158.533,158.533:159.39,159.39:160.247,160.247:161.104,161.104:161.96,161.96:162.817,162.817:163.674,163.674:164.531,164.531:165.388,165.388:166.245,166.245:167.102,167.102:167.959,167.959:168.816,168.816:169.673,169.673:170.53,170.53:171.387,171.387:172.244,172.244:173.101,173.101:173.958,173.958:174.814,174.814:175.671,175.671:176.528,176.528:177.385,177.385:178.242,178.242:179.099,179.099:179.956,179.956:180.813,180.813:181.67,181.67:182.527,182.527:183.384,183.384:184.241,184.241:185.098,185.098:185.955,185.955:186.812,186.812:187.668,187.668:188.525,188.525:189.382,189.382:190.239,190.239:191.096,191.096:191.953,191.953:192.81,192.81:193.667,193.667:194.524,194.524:195.381,195.381:196.238,196.238:197.095,197.095:197.952,197.952:198.809,198.809:199.666,199.666:200.522,200.522:201.379,201.379:202.236,202.236:203.093,203.093:203.95,203.95:204.807,204.807:205.664,205.664:206.521,206.521:207.378,207.378:208.235,208.235:209.092,209.092:209.949,209.949:210.806,210.806:211.663,211.663:212.52,212.52:213.376,213.376:214.233,214.233:215.09,215.09:215.947,215.947:216.804,216.804:217.661,217.661:218.518,218.518:219.375,219.375:220.232,220.232:221.089,221.089:221.946,221.946:222.803,222.803:223.66,223.66:224.517,224.517:225.374,225.374:226.23,226.23:227.087,227.087:227.944,227.944:228.801,228.801:229.658,229.658:230.515,230.515:231.372,231.372:232.229,232.229:233.086,233.086:233.943,233.943:234.8,234.8:235.657,235.657:236.514,236.514:237.371,237.371:238.228,238.228:239.084,239.084:239.941,239.941:240.798,240.798:241.655,241.655:242.512,242.512:243.369,243.369:244.226,244.226:245.083,245.083:245.94,245.94:246.797,246.797:247.654,247.654:248.511,248.511:249.368,249.368:250.225,250.225:251.082,251.082:251.938,251.938:252.795,252.795:253.652,253.652:254.509,254.509:255.366,255.366:256.223,256.223:257.08,257.08:257.937,257.937:258.794,258.794:259.651,259.651:260.508,260.508:261.365,261.365:262.222,262.222:263.079,263.079:263.936,263.936:264.792,264.792:265.649,265.649:266.506,266.506:267.363,267.363:268.22,268.22:269.077,269.077:269.934,269.934:270.791,270.791:271.648,271.648:272.505,272.505:273.362,273.362:274.219,274.219:275.076,275.076:275.933,275.933:276.79,276.79:277.646,277.646:278.503,278.503:279.36,279.36:280.217,280.217:281.074,281.074:281.931,281.931:282.788,282.788:283.645,283.645:284.502,284.502:285.359,285.359:286.216,286.216:287.073,287.073:287.93,287.93:288.787,288.787:289.644,289.644:290.5,290.5:291.357,291.357:292.214,292.214:293.071,293.071:293.928,293.928:294.785,294.785:295.642,295.642:296.499,296.499:297.356,297.356:298.213,298.213:299.07,299.07:299.927,299.927:300.784,300.784:301.641,301.641:302.498,302.498:303.354,303.354:304.211,304.211:305.068,305.068:305.925,305.925:306.782,306.782:307.639,307.639:308.496,308.496:309.353,309.353:310.21,310.21:311.067,311.067:311.924,311.924:312.781,312.781:313.638,313.638:314.495,314.495:315.352,315.352:316.208,316.208:317.065,317.065:317.922,317.922:318.779,318.779:319.636,319.636:320.493,320.493:321.35,321.35:322.207,322.207:323.064,323.064:323.921,323.921:324.778,324.778:325.635,325.635:326.492,326.492:327.349,327.349:328.206,328.206:329.062,329.062:329.919,329.919:330.776,330.776:331.633,331.633:332.49,332.49:333.347,333.347:334.204,334.204:335.061,335.061:335.918,335.918:336.775,336.775:337.632,337.632:338.489,338.489:339.346,339.346:340.203,340.203:341.06,341.06:341.917,341.917:342.773,342.773:343.63,343.63:344.487,344.487:345.344,345.344:346.201,346.201:347.058,347.058:347.915,347.915:348.772,348.772:349.629,349.629:350.486,350.486:351.343,351.343:352.2,352.2:353.057,353.057:353.914,353.914:354.771,354.771:355.627,355.627:356.484,356.484:357.341,357.341:358.198,358.198:359.055,359.055:359.912'</th>\n",
       "      <td>292395</td>\n",
       "    </tr>\n",
       "    <tr>\n",
       "      <th>/dataset2/data1/what/attrs/undetect</th>\n",
       "      <th>0.0</th>\n",
       "      <td>292395</td>\n",
       "    </tr>\n",
       "    <tr>\n",
       "      <th>/dataset2/data1/what/attrs/offset</th>\n",
       "      <th>-32.0</th>\n",
       "      <td>292395</td>\n",
       "    </tr>\n",
       "    <tr>\n",
       "      <th>/where/attrs/lon</th>\n",
       "      <th>-22.636</th>\n",
       "      <td>292395</td>\n",
       "    </tr>\n",
       "  </tbody>\n",
       "</table>\n",
       "<p>676390 rows × 1 columns</p>\n",
       "</div>"
      ],
      "text/plain": [
       "                                                                                           url\n",
       "0                                   1                                                         \n",
       "/how/attrs/startepochs              1597482847                                               1\n",
       "/how/attrs/stopepochs               1542212723                                               1\n",
       "                                    1542213023                                               1\n",
       "                                    1542213319                                               1\n",
       "                                    1542213620                                               1\n",
       "...                                                                                        ...\n",
       "/dataset2/what/attrs/product        b'SCAN'                                             292395\n",
       "/dataset2/how/attrs/azangles        b'0:0.856934,0.856934:1.71387,1.71387:2.5708,2....  292395\n",
       "/dataset2/data1/what/attrs/undetect 0.0                                                 292395\n",
       "/dataset2/data1/what/attrs/offset   -32.0                                               292395\n",
       "/where/attrs/lon                    -22.636                                             292395\n",
       "\n",
       "[676390 rows x 1 columns]"
      ]
     },
     "execution_count": 42,
     "metadata": {},
     "output_type": "execute_result"
    }
   ],
   "source": [
    "attr_value_counts.sort_values('url')"
   ]
  },
  {
   "cell_type": "code",
   "execution_count": 38,
   "metadata": {},
   "outputs": [
    {
     "data": {
      "text/html": [
       "<div>\n",
       "<style scoped>\n",
       "    .dataframe tbody tr th:only-of-type {\n",
       "        vertical-align: middle;\n",
       "    }\n",
       "\n",
       "    .dataframe tbody tr th {\n",
       "        vertical-align: top;\n",
       "    }\n",
       "\n",
       "    .dataframe thead th {\n",
       "        text-align: right;\n",
       "    }\n",
       "</style>\n",
       "<table border=\"1\" class=\"dataframe\">\n",
       "  <thead>\n",
       "    <tr style=\"text-align: right;\">\n",
       "      <th></th>\n",
       "      <th></th>\n",
       "      <th>url</th>\n",
       "    </tr>\n",
       "    <tr>\n",
       "      <th>0</th>\n",
       "      <th>1</th>\n",
       "      <th></th>\n",
       "    </tr>\n",
       "  </thead>\n",
       "  <tbody>\n",
       "    <tr>\n",
       "      <th>/dataset1/data1/data/attrs/CLASS</th>\n",
       "      <th>b'IMAGE'</th>\n",
       "      <td>292395</td>\n",
       "    </tr>\n",
       "    <tr>\n",
       "      <th>/dataset1/data1/data/attrs/IMAGE_VERSION</th>\n",
       "      <th>b'1.2'</th>\n",
       "      <td>292395</td>\n",
       "    </tr>\n",
       "    <tr>\n",
       "      <th>/dataset1/data1/what/attrs/gain</th>\n",
       "      <th>0.5</th>\n",
       "      <td>292395</td>\n",
       "    </tr>\n",
       "    <tr>\n",
       "      <th>/dataset1/data1/what/attrs/nodata</th>\n",
       "      <th>-1.0</th>\n",
       "      <td>292395</td>\n",
       "    </tr>\n",
       "    <tr>\n",
       "      <th>/dataset1/data1/what/attrs/offset</th>\n",
       "      <th>-32.0</th>\n",
       "      <td>292395</td>\n",
       "    </tr>\n",
       "    <tr>\n",
       "      <th>...</th>\n",
       "      <th>...</th>\n",
       "      <td>...</td>\n",
       "    </tr>\n",
       "    <tr>\n",
       "      <th>/what/attrs/time</th>\n",
       "      <th>b'235915'</th>\n",
       "      <td>2</td>\n",
       "    </tr>\n",
       "    <tr>\n",
       "      <th>/what/attrs/version</th>\n",
       "      <th>b'H5rad 2.0'</th>\n",
       "      <td>292395</td>\n",
       "    </tr>\n",
       "    <tr>\n",
       "      <th>/where/attrs/height</th>\n",
       "      <th>0.0</th>\n",
       "      <td>292395</td>\n",
       "    </tr>\n",
       "    <tr>\n",
       "      <th>/where/attrs/lat</th>\n",
       "      <th>64.025</th>\n",
       "      <td>292395</td>\n",
       "    </tr>\n",
       "    <tr>\n",
       "      <th>/where/attrs/lon</th>\n",
       "      <th>-22.636</th>\n",
       "      <td>292395</td>\n",
       "    </tr>\n",
       "  </tbody>\n",
       "</table>\n",
       "<p>676390 rows × 1 columns</p>\n",
       "</div>"
      ],
      "text/plain": [
       "                                                          url\n",
       "0                                        1                   \n",
       "/dataset1/data1/data/attrs/CLASS         b'IMAGE'      292395\n",
       "/dataset1/data1/data/attrs/IMAGE_VERSION b'1.2'        292395\n",
       "/dataset1/data1/what/attrs/gain          0.5           292395\n",
       "/dataset1/data1/what/attrs/nodata        -1.0          292395\n",
       "/dataset1/data1/what/attrs/offset        -32.0         292395\n",
       "...                                                       ...\n",
       "/what/attrs/time                         b'235915'          2\n",
       "/what/attrs/version                      b'H5rad 2.0'  292395\n",
       "/where/attrs/height                      0.0           292395\n",
       "/where/attrs/lat                         64.025        292395\n",
       "/where/attrs/lon                         -22.636       292395\n",
       "\n",
       "[676390 rows x 1 columns]"
      ]
     },
     "execution_count": 38,
     "metadata": {},
     "output_type": "execute_result"
    }
   ],
   "source": [
    "attr_value_counts"
   ]
  },
  {
   "cell_type": "code",
   "execution_count": 167,
   "metadata": {},
   "outputs": [
    {
     "data": {
      "text/html": [
       "<div>\n",
       "<style scoped>\n",
       "    .dataframe tbody tr th:only-of-type {\n",
       "        vertical-align: middle;\n",
       "    }\n",
       "\n",
       "    .dataframe tbody tr th {\n",
       "        vertical-align: top;\n",
       "    }\n",
       "\n",
       "    .dataframe thead th {\n",
       "        text-align: right;\n",
       "    }\n",
       "</style>\n",
       "<table border=\"1\" class=\"dataframe\">\n",
       "  <thead>\n",
       "    <tr style=\"text-align: right;\">\n",
       "      <th></th>\n",
       "      <th></th>\n",
       "      <th>url</th>\n",
       "    </tr>\n",
       "    <tr>\n",
       "      <th>0</th>\n",
       "      <th>1</th>\n",
       "      <th></th>\n",
       "    </tr>\n",
       "  </thead>\n",
       "  <tbody>\n",
       "    <tr>\n",
       "      <th>/dataset1/data1/data/attrs/CLASS</th>\n",
       "      <th>b'IMAGE'</th>\n",
       "      <td>292395</td>\n",
       "    </tr>\n",
       "    <tr>\n",
       "      <th>/dataset1/data1/data/attrs/IMAGE_VERSION</th>\n",
       "      <th>b'1.2'</th>\n",
       "      <td>292395</td>\n",
       "    </tr>\n",
       "    <tr>\n",
       "      <th>/dataset1/data1/what/attrs/gain</th>\n",
       "      <th>0.5</th>\n",
       "      <td>292395</td>\n",
       "    </tr>\n",
       "    <tr>\n",
       "      <th>/dataset1/data1/what/attrs/nodata</th>\n",
       "      <th>-1.0</th>\n",
       "      <td>292395</td>\n",
       "    </tr>\n",
       "    <tr>\n",
       "      <th>/dataset1/data1/what/attrs/offset</th>\n",
       "      <th>-32.0</th>\n",
       "      <td>292395</td>\n",
       "    </tr>\n",
       "    <tr>\n",
       "      <th>...</th>\n",
       "      <th>...</th>\n",
       "      <td>...</td>\n",
       "    </tr>\n",
       "    <tr>\n",
       "      <th>/what/attrs/time</th>\n",
       "      <th>b'235915'</th>\n",
       "      <td>2</td>\n",
       "    </tr>\n",
       "    <tr>\n",
       "      <th>/what/attrs/version</th>\n",
       "      <th>b'H5rad 2.0'</th>\n",
       "      <td>292395</td>\n",
       "    </tr>\n",
       "    <tr>\n",
       "      <th>/where/attrs/height</th>\n",
       "      <th>0.0</th>\n",
       "      <td>292395</td>\n",
       "    </tr>\n",
       "    <tr>\n",
       "      <th>/where/attrs/lat</th>\n",
       "      <th>64.025</th>\n",
       "      <td>292395</td>\n",
       "    </tr>\n",
       "    <tr>\n",
       "      <th>/where/attrs/lon</th>\n",
       "      <th>-22.636</th>\n",
       "      <td>292395</td>\n",
       "    </tr>\n",
       "  </tbody>\n",
       "</table>\n",
       "<p>676390 rows × 1 columns</p>\n",
       "</div>"
      ],
      "text/plain": [
       "                                                          url\n",
       "0                                        1                   \n",
       "/dataset1/data1/data/attrs/CLASS         b'IMAGE'      292395\n",
       "/dataset1/data1/data/attrs/IMAGE_VERSION b'1.2'        292395\n",
       "/dataset1/data1/what/attrs/gain          0.5           292395\n",
       "/dataset1/data1/what/attrs/nodata        -1.0          292395\n",
       "/dataset1/data1/what/attrs/offset        -32.0         292395\n",
       "...                                                       ...\n",
       "/what/attrs/time                         b'235915'          2\n",
       "/what/attrs/version                      b'H5rad 2.0'  292395\n",
       "/where/attrs/height                      0.0           292395\n",
       "/where/attrs/lat                         64.025        292395\n",
       "/where/attrs/lon                         -22.636       292395\n",
       "\n",
       "[676390 rows x 1 columns]"
      ]
     },
     "execution_count": 167,
     "metadata": {},
     "output_type": "execute_result"
    }
   ],
   "source": [
    "attr_value_counts"
   ]
  },
  {
   "cell_type": "code",
   "execution_count": 71,
   "metadata": {},
   "outputs": [],
   "source": [
    "df_rough_meta_all.loc[:,'ctime'] = pd.to_datetime(df_rough_meta_all.loc[:,'ctime'])"
   ]
  },
  {
   "cell_type": "code",
   "execution_count": 166,
   "metadata": {},
   "outputs": [
    {
     "data": {
      "text/plain": [
       "array([255], dtype=uint8)"
      ]
     },
     "execution_count": 166,
     "metadata": {},
     "output_type": "execute_result"
    }
   ],
   "source": [
    "np.array([-1],dtype='uint8')"
   ]
  },
  {
   "cell_type": "code",
   "execution_count": 124,
   "metadata": {},
   "outputs": [
    {
     "data": {
      "text/plain": [
       "(17515.0, 17622.0)"
      ]
     },
     "execution_count": 124,
     "metadata": {},
     "output_type": "execute_result"
    },
    {
     "data": {
      "image/png": "[encoded data removed]",
      "text/plain": [
       "<Figure size 432x288 with 1 Axes>"
      ]
     },
     "metadata": {
      "needs_background": "light"
     },
     "output_type": "display_data"
    }
   ],
   "source": [
    "n_unique_per_timestamp = df_rough_meta_all.groupby(['ctime','extension']).count().groupby(['ctime']).count().sort_values('url').loc[:,'url']\n",
    "n_unique_per_timestamp = n_unique_per_timestamp.sort_index()\n",
    "\n",
    "n_unique_per_timestamp.plot()\n",
    "plt.xlim(datetime.datetime(2017,12,15),datetime.datetime(2018,4,1))"
   ]
  },
  {
   "cell_type": "code",
   "execution_count": 132,
   "metadata": {},
   "outputs": [],
   "source": [
    "# Individually check when a file is missing\n",
    "timestamp_is_present = df_rough_meta_all.groupby(['ctime','extension']).count().groupby(['ctime','extension']).count().loc[:,'url']\n",
    "\n",
    "# Split by filetype\n",
    "timestamp_is_present_H5 = timestamp_is_present.loc[timestamp_is_present.index.get_level_values(1) == '.H5']\n",
    "timestamp_is_present_HDF5 = timestamp_is_present.loc[timestamp_is_present.index.get_level_values(1) != '.H5']\n",
    "\n",
    "# remove filetype index\n",
    "timestamp_is_present_H5.index = timestamp_is_present_H5.index.get_level_values(0)\n",
    "timestamp_is_present_HDF5.index = timestamp_is_present_HDF5.index.get_level_values(0)\n",
    "\n",
    "# Resample\n",
    "timestamp_is_present_H5_resampled = timestamp_is_present_H5.resample('900S').sum().fillna(0)\n",
    "timestamp_is_present_HDF5_resampled = timestamp_is_present_HDF5.resample('900S').sum().fillna(0)\n",
    "\n",
    "# replace index with datetimeindex\n",
    "timestamp_is_present_HDF5_resampled.index = pd.DatetimeIndex(timestamp_is_present_HDF5_resampled.index)\n",
    "timestamp_is_present_H5_resampled.index = pd.DatetimeIndex(timestamp_is_present_H5_resampled.index)"
   ]
  },
  {
   "cell_type": "code",
   "execution_count": null,
   "metadata": {},
   "outputs": [],
   "source": []
  },
  {
   "cell_type": "code",
   "execution_count": 161,
   "metadata": {},
   "outputs": [
    {
     "data": {
      "image/png": "[encoded data removed]",
      "text/plain": [
       "<Figure size 1080x144 with 1 Axes>"
      ]
     },
     "metadata": {
      "needs_background": "light"
     },
     "output_type": "display_data"
    },
    {
     "data": {
      "image/png": "[encoded data removed]",
      "text/plain": [
       "<Figure size 1080x144 with 1 Axes>"
      ]
     },
     "metadata": {
      "needs_background": "light"
     },
     "output_type": "display_data"
    }
   ],
   "source": [
    "plt.figure(figsize=(15,2))\n",
    "plt.plot(timestamp_is_present_H5_resampled)\n",
    "plt.plot(timestamp_is_present_HDF5_resampled)\n",
    "plt.show()\n",
    "\n",
    "plt.figure(figsize=(15,2))\n",
    "plt.plot(timestamp_is_present_H5_resampled)\n",
    "plt.plot(timestamp_is_present_HDF5_resampled+1.5)\n",
    "plt.xlim(datetime.datetime(2017,12,15),datetime.datetime(2018,4,1))\n",
    "plt.ylim(0,3.5)\n",
    "plt.show()"
   ]
  },
  {
   "cell_type": "code",
   "execution_count": 165,
   "metadata": {},
   "outputs": [
    {
     "data": {
      "image/png": "[encoded data removed]",
      "text/plain": [
       "<Figure size 1080x144 with 1 Axes>"
      ]
     },
     "metadata": {
      "needs_background": "light"
     },
     "output_type": "display_data"
    }
   ],
   "source": [
    "\n",
    "plt.figure(figsize=(15,2))\n",
    "plt.plot(timestamp_is_present_H5_resampled)\n",
    "plt.plot(timestamp_is_present_HDF5_resampled+2)\n",
    "plt.xlim(datetime.datetime(2018,2,8),datetime.datetime(2018,3,15))\n",
    "plt.ylim(0,3.5)\n",
    "plt.show()"
   ]
  },
  {
   "cell_type": "code",
   "execution_count": 153,
   "metadata": {},
   "outputs": [
    {
     "data": {
      "text/plain": [
       "ctime\n",
       "2015-01-01 00:00:00   NaN\n",
       "2015-01-01 00:15:00   NaN\n",
       "2015-01-01 00:30:00   NaN\n",
       "2015-01-01 00:45:00   NaN\n",
       "2015-01-01 01:00:00   NaN\n",
       "                       ..\n",
       "2020-12-31 22:45:00   NaN\n",
       "2020-12-31 23:00:00   NaN\n",
       "2020-12-31 23:15:00   NaN\n",
       "2020-12-31 23:30:00   NaN\n",
       "2020-12-31 23:45:00   NaN\n",
       "Freq: 900S, Name: url, Length: 210432, dtype: float64"
      ]
     },
     "execution_count": 153,
     "metadata": {},
     "output_type": "execute_result"
    }
   ],
   "source": [
    "(timestamp_is_present_HDF5_resampled - timestamp_is_present_H5_resampled) "
   ]
  },
  {
   "cell_type": "code",
   "execution_count": null,
   "metadata": {},
   "outputs": [],
   "source": []
  },
  {
   "cell_type": "code",
   "execution_count": 163,
   "metadata": {},
   "outputs": [
    {
     "data": {
      "text/plain": [
       "[<matplotlib.lines.Line2D at 0x16e43deb700>]"
      ]
     },
     "execution_count": 163,
     "metadata": {},
     "output_type": "execute_result"
    },
    {
     "data": {
      "image/png": "[encoded data removed]",
      "text/plain": [
       "<Figure size 1080x144 with 1 Axes>"
      ]
     },
     "metadata": {
      "needs_background": "light"
     },
     "output_type": "display_data"
    }
   ],
   "source": [
    "plt.figure(figsize=(15,2))\n",
    "plt.plot(timestamp_is_present_HDF5_resampled - timestamp_is_present_H5_resampled)\n"
   ]
  },
  {
   "cell_type": "markdown",
   "metadata": {},
   "source": [
    "# Compare when files are missing"
   ]
  },
  {
   "cell_type": "code",
   "execution_count": 130,
   "metadata": {},
   "outputs": [
    {
     "data": {
      "text/plain": [
       "ctime\n",
       "2015-01-01 00:00:00    1.0\n",
       "2015-01-01 00:15:00    1.0\n",
       "2015-01-01 00:30:00    1.0\n",
       "2015-01-01 00:45:00    1.0\n",
       "2015-01-01 01:00:00    1.0\n",
       "                      ... \n",
       "2018-03-20 22:45:00    1.0\n",
       "2018-03-20 23:00:00    1.0\n",
       "2018-03-20 23:15:00    1.0\n",
       "2018-03-20 23:30:00    1.0\n",
       "2018-03-20 23:45:00    1.0\n",
       "Freq: 900S, Name: url, Length: 112800, dtype: float64"
      ]
     },
     "execution_count": 130,
     "metadata": {},
     "output_type": "execute_result"
    }
   ],
   "source": [
    "timestamp_is_present_H5_resampled"
   ]
  },
  {
   "cell_type": "code",
   "execution_count": null,
   "metadata": {},
   "outputs": [],
   "source": []
  },
  {
   "cell_type": "markdown",
   "metadata": {},
   "source": [
    "# Helper functions\n"
   ]
  }
 ],
 "metadata": {
  "interpreter": {
   "hash": "37b26b0919f3eebb53e1fb9d1c196dfd7351d15ccc4a50e8438da0372db545ef"
  },
  "kernelspec": {
   "display_name": "Python 3.8.10 64-bit ('gis_wradlib_torch': conda)",
   "name": "python3"
  },
  "language_info": {
   "codemirror_mode": {
    "name": "ipython",
    "version": 3
   },
   "file_extension": ".py",
   "mimetype": "text/x-python",
   "name": "python",
   "nbconvert_exporter": "python",
   "pygments_lexer": "ipython3",
   "version": "3.8.10"
  },
  "orig_nbformat": 4
 },
 "nbformat": 4,
 "nbformat_minor": 2
}

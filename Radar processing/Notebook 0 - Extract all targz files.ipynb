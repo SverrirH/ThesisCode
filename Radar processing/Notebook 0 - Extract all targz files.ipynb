{
 "cells": [
  {
   "cell_type": "code",
   "execution_count": 2,
   "metadata": {},
   "outputs": [],
   "source": [
    "import urllib.request\n",
    "import tarfile\n",
    "import wradlib as wrl\n",
    "import h5py\n",
    "import numpy as np\n",
    "import glob\n",
    "import datetime"
   ]
  },
  {
   "cell_type": "markdown",
   "metadata": {},
   "source": [
    "# Extract all tar.gz files"
   ]
  },
  {
   "cell_type": "code",
   "execution_count": 3,
   "metadata": {},
   "outputs": [
    {
     "name": "stdout",
     "output_type": "stream",
     "text": [
      "G:/radar\\201608\n",
      "G:/radar\\201609\n",
      "G:/radar\\201610\n",
      "G:/radar\\201611\n"
     ]
    }
   ],
   "source": [
    "# DIR_data = 'C:/Users/sverrirhd/vedurgogn/'\n",
    "DIR_data = 'G:'\n",
    "DIR_radar = DIR_data + '/radar/'\n",
    "month_urls = glob.glob(DIR_radar + '*')\n",
    "for m_url in month_urls[20:]:\n",
    "    file_names = glob.glob(m_url + '/*')\n",
    "    print(m_url)\n",
    "    for f_name in file_names:\n",
    "        if 'tar.gz' in f_name:\n",
    "            thetarfile = tarfile.open(f_name, mode=\"r\")\n",
    "            already_exists = [(m_url + '\\\\' + i.name[2:]) in file_names for i in thetarfile.getmembers()]\n",
    "            if all(already_exists):\n",
    "                thetarfile.close()\n",
    "                continue\n",
    "            else:\n",
    "                print(f_name)\n",
    "                thetarfile.extractall(m_url + '/')\n",
    "                thetarfile.close()"
   ]
  },
  {
   "cell_type": "code",
   "execution_count": null,
   "metadata": {},
   "outputs": [],
   "source": []
  }
 ],
 "metadata": {
  "interpreter": {
   "hash": "37b26b0919f3eebb53e1fb9d1c196dfd7351d15ccc4a50e8438da0372db545ef"
  },
  "kernelspec": {
   "display_name": "Python 3.8.10 64-bit ('gis_wradlib_torch': conda)",
   "name": "python3"
  },
  "language_info": {
   "codemirror_mode": {
    "name": "ipython",
    "version": 3
   },
   "file_extension": ".py",
   "mimetype": "text/x-python",
   "name": "python",
   "nbconvert_exporter": "python",
   "pygments_lexer": "ipython3",
   "version": "3.8.10"
  },
  "orig_nbformat": 4
 },
 "nbformat": 4,
 "nbformat_minor": 2
}

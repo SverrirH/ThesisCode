{
 "cells": [
  {
   "cell_type": "markdown",
   "metadata": {},
   "source": [
    "# imports"
   ]
  },
  {
   "cell_type": "code",
   "execution_count": 15,
   "metadata": {},
   "outputs": [],
   "source": [
    "import pandas as pd\n",
    "import numpy as np\n",
    "import matplotlib.pyplot as plt\n",
    "from glob import glob\n",
    "import wradlib as wrl\n",
    "import datetime\n",
    "from pyproj import Transformer\n",
    "from osgeo import osr\n",
    "import re\n",
    "from tqdm import tqdm\n",
    "\n",
    "transformer_gps_isl = Transformer.from_crs(\"epsg:4326\", \"epsg:3057\" ) # Umbreyta GPS staðsetningu yfir í cartesian hnit fyrir Ísland\n",
    "transformer_isl_gps = Transformer.from_crs(\"epsg:3057\", \"epsg:4326\") # Umbreyta cartesian hnitum aftur í GPS hnit"
   ]
  },
  {
   "cell_type": "markdown",
   "metadata": {},
   "source": [
    "# Data and variables"
   ]
  },
  {
   "cell_type": "code",
   "execution_count": 16,
   "metadata": {},
   "outputs": [
    {
     "data": {
      "text/plain": [
       "0"
      ]
     },
     "execution_count": 16,
     "metadata": {},
     "output_type": "execute_result"
    }
   ],
   "source": [
    "# DIR_vedur = 'C:/Users/sverrirhd/vedurgogn/'\n",
    "DIR_vedur = 'F:/'\n",
    "# DIR_vedur = 'G:/'\n",
    "DIR_save = 'F:/CAPPI/'\n",
    "# DIR_save = 'C:/Users/sverrirhd/OneDrive/CAPPI/'\n",
    "\n",
    "df_meta = pd.read_csv('./Analysis/file_metadata.csv',index_col=0)\n",
    "df_meta.url = df_meta.url.str.replace('C:/Users/sverrirhd/vedurgogn//',DIR_vedur)\n",
    "df_meta.ctime = pd.to_datetime(df_meta.ctime)\n",
    "df_meta.loc[:,'year and month'] = df_meta.ctime.apply(lambda x : str(x.year) + '%02d' % x.month)\n",
    "months = df_meta.loc[:,'year and month'].sort_index().values\n",
    "month_urls = glob(DIR_vedur + '/radar/[0-9]*')\n",
    "\n",
    "proj = osr.SpatialReference()\n",
    "proj.ImportFromEPSG(3057)"
   ]
  },
  {
   "cell_type": "code",
   "execution_count": null,
   "metadata": {},
   "outputs": [],
   "source": []
  },
  {
   "cell_type": "markdown",
   "metadata": {},
   "source": [
    "# Metadata that matters for later:\n",
    "- Variables that relate to radar-rainfall estimation:\n",
    "    - gain\n",
    "    - nodata\n",
    "    - offset\n",
    "    - etc. "
   ]
  },
  {
   "cell_type": "markdown",
   "metadata": {},
   "source": [
    "# For H5 files"
   ]
  },
  {
   "cell_type": "code",
   "execution_count": 17,
   "metadata": {},
   "outputs": [],
   "source": [
    "# List of all h5 files\n",
    "df_meta_h5 = df_meta.loc[df_meta.loc[:,'extension'] == '.H5']\n",
    "df_meta_h5_group_lists = df_meta_h5.groupby('ctime').apply(lambda x: list(x.index))\n"
   ]
  },
  {
   "cell_type": "code",
   "execution_count": 18,
   "metadata": {},
   "outputs": [
    {
     "name": "stdout",
     "output_type": "stream",
     "text": [
      "255\n",
      "157\n",
      "160\n",
      "157\n",
      "152\n",
      "150\n",
      "142\n",
      "130\n",
      "123\n",
      "112\n",
      "69\n",
      "66\n"
     ]
    }
   ],
   "source": [
    "\n",
    "# starting strategy\n",
    "current_strategy = np.array([ 0.5,  0.9,  1.3,  2.4,  3.5,  4.5,  6. ,  8. , 10. , 15. , 25. , 40. ])\n",
    "\n",
    "# For experimentation\n",
    "single_scan_indexes = df_meta_h5_group_lists[0]\n",
    "single_scan = df_meta.loc[single_scan_indexes]\n",
    "single_scan = single_scan.sort_values('angle')\n",
    "\n",
    "# find elevation angles\n",
    "n_scans = len(single_scan)\n",
    "elangles = single_scan.angle.values\n",
    "\n",
    "# find coordinates from each scan (Likely redundant)\n",
    "tmp_urls = single_scan.loc[:,'url'].values\n",
    "raw_list = [wrl.io.read_generic_hdf5(i) for i in tmp_urls]\n",
    "\n",
    "sitecoords_list = []\n",
    "for raw in raw_list:\n",
    "    sitecoords = (raw[\"where\"]['attrs'][\"lon\"], raw[\"where\"]['attrs'][\"lat\"],\n",
    "            raw[\"where\"]['attrs'][\"height\"])\n",
    "    sitecoords_list.append(sitecoords)\n",
    "    print(raw['scan1/data']['data'].max())\n",
    "    \n",
    "# check that they are all the same    \n",
    "assert np.all(np.array(sitecoords_list) == sitecoords_list[0])"
   ]
  },
  {
   "cell_type": "code",
   "execution_count": 19,
   "metadata": {},
   "outputs": [
    {
     "data": {
      "text/plain": [
       "<matplotlib.image.AxesImage at 0x1b188861190>"
      ]
     },
     "execution_count": 19,
     "metadata": {},
     "output_type": "execute_result"
    },
    {
     "data": {
      "image/png": "[encoded data removed]",
      "text/plain": [
       "<Figure size 432x288 with 1 Axes>"
      ]
     },
     "metadata": {
      "needs_background": "light"
     },
     "output_type": "display_data"
    }
   ],
   "source": [
    "plt.imshow(raw_list[0]['scan1/data']['data'])"
   ]
  },
  {
   "cell_type": "code",
   "execution_count": 20,
   "metadata": {},
   "outputs": [],
   "source": [
    "# F:/radar\\201501\\NORPOL240_MIDNESHE_00_5_20150101_0000_O.H5"
   ]
  },
  {
   "cell_type": "code",
   "execution_count": 21,
   "metadata": {},
   "outputs": [
    {
     "data": {
      "text/plain": [
       "'F:/radar\\\\201501\\\\NORPOL240_MIDNESHE_00_5_20150101_0000_O.H5'"
      ]
     },
     "execution_count": 21,
     "metadata": {},
     "output_type": "execute_result"
    }
   ],
   "source": [
    "(df_meta.iloc[0,0]) # 'F:/radar\\\\201501\\\\NORPOL240_MIDNESHE_00_5_20150101_0000_O.H5'"
   ]
  },
  {
   "cell_type": "markdown",
   "metadata": {},
   "source": [
    "## Help function for old filetype strategy extraction"
   ]
  },
  {
   "cell_type": "code",
   "execution_count": 22,
   "metadata": {},
   "outputs": [],
   "source": [
    "def get_new_gridder(raw_list):\n",
    "    elangles = []\n",
    "    xyz = np.array([]).reshape((-1, 3))\n",
    "    data = np.array([])\n",
    "    \n",
    "    for i,raw in enumerate(raw_list):\n",
    "        # Radar strategy\n",
    "        elangle = raw['where']['attrs']['angle']\n",
    "        n_az = raw['where']['attrs']['ysize']\n",
    "        n_range = raw['where']['attrs']['xsize']\n",
    "        rscale = raw['where']['attrs']['xscale']\n",
    "        rstart = 1  #  Unsure about this\n",
    "        \n",
    "        \n",
    "        elangles.append(elangle)\n",
    "        az = np.arange(0., 360., 360. / n_az)\n",
    "        rstart = rstart * 1000.\n",
    "        r = np.arange(rstart,\n",
    "                    rstart + n_range * rscale,\n",
    "                    rscale)\n",
    "        xyz_ = wrl.vpr.volcoords_from_polar(sitecoords, elangle, az, r, proj)\n",
    "        \n",
    "        \n",
    "        # Data \n",
    "        gain = raw['scan1/what']['attrs']['gain']\n",
    "        offset = raw['scan1/what']['attrs']['offset']\n",
    "        raw_data = raw['scan1/data']['data']\n",
    "        data_ = offset + gain * raw_data\n",
    "        \n",
    "        xyz, data = np.vstack((xyz, xyz_)), np.append(data, data_.ravel())\n",
    "    \n",
    "    # generate 3-D Cartesian target grid coordinates\n",
    "    maxrange = 250_000. #meters?\n",
    "    minelev = np.min(elangles) # degrees?\n",
    "    maxelev = np.max(elangles) # degrees?\n",
    "    maxalt = 12000. # metere?\n",
    "    horiz_res = 833.\n",
    "    vert_res = 100.\n",
    "    desired_height = 1250\n",
    "\n",
    "    trgxyz, trgshape = wrl.vpr.make_3d_grid(sitecoords  = sitecoords,\n",
    "                                            proj = proj,\n",
    "                                            maxrange = maxrange,\n",
    "                                            maxalt = maxalt,\n",
    "                                            horiz_res = horiz_res,\n",
    "                                            vert_res = vert_res)\n",
    "\n",
    "    CAPPI_layer_idx = int((desired_height - 0)/(maxalt - 0) * trgshape[0])\n",
    "\n",
    "    trgxyz_subset = trgxyz.reshape(list(trgshape) + [3])[CAPPI_layer_idx]\n",
    "    trgxyz_subset = trgxyz_subset.reshape(-1,3)\n",
    "\n",
    "    gridder = wrl.vpr.PseudoCAPPI(polcoords = xyz,\n",
    "                            gridcoords = trgxyz_subset,\n",
    "                            gridshape = trgshape[1:], \n",
    "                            maxrange = maxrange,\n",
    "                            minelev = minelev,\n",
    "                            maxelev = maxelev)\n",
    "\n",
    "    # vol = np.ma.masked_invalid(gridder(data).reshape(trgshape[1:]))\n",
    "\n",
    "    return gridder,trgshape\n"
   ]
  },
  {
   "cell_type": "code",
   "execution_count": 23,
   "metadata": {},
   "outputs": [],
   "source": [
    "gridder_dict = {}\n",
    "trgshape_dict = {}"
   ]
  },
  {
   "cell_type": "code",
   "execution_count": 24,
   "metadata": {},
   "outputs": [],
   "source": [
    "# df_meta_h5_group_lists.loc[missing_dates[:,0]]"
   ]
  },
  {
   "cell_type": "code",
   "execution_count": 25,
   "metadata": {},
   "outputs": [
    {
     "name": "stderr",
     "output_type": "stream",
     "text": [
      "Processing 201612:   0%|          | 0/2931 [00:00<?, ?it/s]"
     ]
    },
    {
     "name": "stdout",
     "output_type": "stream",
     "text": [
      "new strategy: [0.5, 0.9, 1.3, 2.4, 3.5, 4.5, 6.0, 8.0, 10.0, 15.0, 25.0, 40.0]\n",
      "new strategy: [0.5, 0.9, 1.3, 2.4, 3.5, 4.5, 6.0, 8.0, 10.0, 15.0, 25.0, 40.0]\n"
     ]
    },
    {
     "name": "stderr",
     "output_type": "stream",
     "text": [
      "Processing 201612:  41%|████      | 1190/2931 [01:16<01:49, 15.95it/s]"
     ]
    },
    {
     "name": "stdout",
     "output_type": "stream",
     "text": [
      "new strategy: [0.5, 0.9, 1.3, 2.4, 3.5, 4.5, 6.0, 8.0, 10.0, 12.0, 15.0, 20.0]\n",
      "new strategy: [0.5, 0.9, 1.3, 2.4, 3.5, 4.5, 6.0, 8.0, 10.0, 12.0, 15.0, 20.0]\n"
     ]
    },
    {
     "name": "stderr",
     "output_type": "stream",
     "text": [
      "Processing 201612:  41%|████      | 1198/2931 [01:21<08:04,  3.58it/s]"
     ]
    },
    {
     "name": "stdout",
     "output_type": "stream",
     "text": [
      "new strategy: [0.5, 0.9, 1.3, 2.4, 3.5, 4.5, 6.0, 8.0, 10.0, 15.0, 25.0, 40.0]\n"
     ]
    },
    {
     "name": "stderr",
     "output_type": "stream",
     "text": [
      "Processing 201612:  48%|████▊     | 1409/2931 [01:36<01:21, 18.58it/s]"
     ]
    },
    {
     "name": "stdout",
     "output_type": "stream",
     "text": [
      "I tried - but was misunderstood!\n"
     ]
    },
    {
     "name": "stderr",
     "output_type": "stream",
     "text": [
      "Processing 201612: 100%|██████████| 2931/2931 [04:56<00:00,  9.87it/s]\n",
      "Processing 201701:  73%|███████▎  | 2166/2976 [04:55<01:25,  9.43it/s]"
     ]
    },
    {
     "name": "stdout",
     "output_type": "stream",
     "text": [
      "I tried - but was misunderstood!\n"
     ]
    },
    {
     "name": "stderr",
     "output_type": "stream",
     "text": [
      "Processing 201701: 100%|██████████| 2976/2976 [06:46<00:00,  7.32it/s]\n",
      "Processing 201702:  12%|█▏        | 313/2687 [00:44<04:30,  8.77it/s]"
     ]
    },
    {
     "name": "stdout",
     "output_type": "stream",
     "text": [
      "I tried - but was misunderstood!\n"
     ]
    },
    {
     "name": "stderr",
     "output_type": "stream",
     "text": [
      "Processing 201702: 100%|██████████| 2687/2687 [06:14<00:00,  7.18it/s]\n",
      "Processing 201703:  92%|█████████▏| 2670/2912 [05:48<00:41,  5.82it/s]"
     ]
    },
    {
     "name": "stdout",
     "output_type": "stream",
     "text": [
      "new strategy: [0.5, 0.9, 1.3, 2.4, 3.5, 4.5, 6.0, 8.0, 10.0, 12.0, 15.0, 20.0]\n"
     ]
    },
    {
     "name": "stderr",
     "output_type": "stream",
     "text": [
      "Processing 201703: 100%|██████████| 2912/2912 [06:22<00:00,  7.62it/s]\n",
      "Processing 201704: 100%|██████████| 2880/2880 [06:24<00:00,  7.49it/s]\n",
      "Processing 201705: 100%|██████████| 2976/2976 [06:34<00:00,  7.54it/s]\n",
      "Processing 201706: 100%|██████████| 2880/2880 [06:08<00:00,  7.81it/s]\n",
      "Processing 201707:  23%|██▎       | 690/2976 [01:26<04:17,  8.87it/s]"
     ]
    },
    {
     "name": "stdout",
     "output_type": "stream",
     "text": [
      "I tried - but was misunderstood!\n"
     ]
    },
    {
     "name": "stderr",
     "output_type": "stream",
     "text": [
      "Processing 201707:  85%|████████▍ | 2527/2976 [05:30<00:51,  8.68it/s]"
     ]
    },
    {
     "name": "stdout",
     "output_type": "stream",
     "text": [
      "I tried - but was misunderstood!\n"
     ]
    },
    {
     "name": "stderr",
     "output_type": "stream",
     "text": [
      "Processing 201707: 100%|██████████| 2976/2976 [06:32<00:00,  7.58it/s]\n",
      "Processing 201708:  32%|███▏      | 963/2974 [02:06<03:49,  8.76it/s]"
     ]
    },
    {
     "name": "stdout",
     "output_type": "stream",
     "text": [
      "I tried - but was misunderstood!\n"
     ]
    },
    {
     "name": "stderr",
     "output_type": "stream",
     "text": [
      "Processing 201708:  42%|████▏     | 1252/2974 [02:43<03:38,  7.87it/s]"
     ]
    },
    {
     "name": "stdout",
     "output_type": "stream",
     "text": [
      "I tried - but was misunderstood!\n"
     ]
    },
    {
     "name": "stderr",
     "output_type": "stream",
     "text": [
      "Processing 201708: 100%|██████████| 2974/2974 [06:27<00:00,  7.68it/s]\n",
      "Processing 201709:  45%|████▍     | 1264/2840 [02:50<02:56,  8.95it/s]"
     ]
    },
    {
     "name": "stdout",
     "output_type": "stream",
     "text": [
      "I tried - but was misunderstood!\n"
     ]
    },
    {
     "name": "stderr",
     "output_type": "stream",
     "text": [
      "Processing 201709:  99%|█████████▉| 2824/2840 [06:31<00:01,  8.83it/s]"
     ]
    },
    {
     "name": "stdout",
     "output_type": "stream",
     "text": [
      "I tried - but was misunderstood!\n"
     ]
    },
    {
     "name": "stderr",
     "output_type": "stream",
     "text": [
      "Processing 201709: 100%|██████████| 2840/2840 [06:33<00:00,  7.22it/s]\n",
      "Processing 201710: 100%|██████████| 2976/2976 [06:51<00:00,  7.24it/s]\n",
      "Processing 201711: 100%|██████████| 2763/2763 [06:24<00:00,  7.18it/s]\n",
      "Processing 201712:  56%|█████▌    | 1671/2971 [03:56<02:27,  8.81it/s]"
     ]
    },
    {
     "name": "stdout",
     "output_type": "stream",
     "text": [
      "I tried - but was misunderstood!\n"
     ]
    },
    {
     "name": "stderr",
     "output_type": "stream",
     "text": [
      "Processing 201712: 100%|██████████| 2971/2971 [07:07<00:00,  6.95it/s]\n",
      "Processing 201801: 100%|██████████| 2970/2970 [07:10<00:00,  6.90it/s]\n",
      "Processing 201802:  71%|███████   | 1875/2645 [04:34<01:42,  7.53it/s]"
     ]
    },
    {
     "name": "stdout",
     "output_type": "stream",
     "text": [
      "I tried - but was misunderstood!\n"
     ]
    },
    {
     "name": "stderr",
     "output_type": "stream",
     "text": [
      "Processing 201802: 100%|██████████| 2645/2645 [12:49<00:00,  3.44it/s]\n",
      "Processing 201803:  21%|██▏       | 410/1908 [01:18<05:30,  4.53it/s]"
     ]
    },
    {
     "name": "stdout",
     "output_type": "stream",
     "text": [
      "I tried - but was misunderstood!\n"
     ]
    },
    {
     "name": "stderr",
     "output_type": "stream",
     "text": [
      "Processing 201803: 100%|██████████| 1908/1908 [06:12<00:00,  5.12it/s]\n"
     ]
    }
   ],
   "source": [
    "# Monthly indicators for filtering\n",
    "df_start_end = pd.concat([df_meta_h5.groupby('year and month').min().loc[:,'ctime'],df_meta_h5.groupby('year and month').max().loc[:,'ctime']],axis=1)\n",
    "df_start_end.columns = ['start','end']\n",
    "\n",
    "# initialization so the variables are defined outside the scope of the for loop\n",
    "gridder, trgshape = None,None \n",
    "current_strategy = list() # No starting strategy\n",
    "\n",
    "# one month at a time for easier debugging\n",
    "for index,row in df_start_end.iterrows():\n",
    "    # Names for checking and saving\n",
    "    URL_CAPPI = f'{DIR_save}CAPPI_{index}.npy'\n",
    "    URL_mask = f'{DIR_save}CAPPI_MASK_{index}.npy'\n",
    "    URL_urls = f'{DIR_save}urls{index}.npy'\n",
    "    URL_problematic_indexes = f'{DIR_save}problematic_indexes{index}.npy'\n",
    "    URL_descriptive_data = f'{DIR_save}descriptive_data{index}.npy'\n",
    "    \n",
    "    # Check if it already exists\n",
    "    len_URL_CAPPI = len(glob(URL_CAPPI)) > 0\n",
    "    len_URL_mask = len(glob(URL_mask)) > 0\n",
    "    len_URL_urls = len(glob(URL_urls)) > 0\n",
    "    len_URL_problematic_indexes = len(glob(URL_problematic_indexes)) > 0\n",
    "    len_URL_descriptive_data = len(glob(URL_descriptive_data)) > 0\n",
    "    if all([\n",
    "        len_URL_CAPPI,\n",
    "        len_URL_mask,\n",
    "        len_URL_urls,\n",
    "        len_URL_problematic_indexes,\n",
    "        len_URL_descriptive_data\n",
    "        ]):\n",
    "        continue\n",
    "    # timestamps for first and last images of month\n",
    "    start = row['start']\n",
    "    end = row['end']\n",
    "    \n",
    "    # Subset of month\n",
    "    monthly_subset = df_meta_h5_group_lists.loc[start:end]\n",
    "\n",
    "    len_subset = len(monthly_subset)\n",
    "    monthly_vols = []\n",
    "    monthly_masks = []\n",
    "    urls = []\n",
    "    problematic_indexes = []\n",
    "    descriptive_data = {}\n",
    "    # Iterate over radar slices\n",
    "    pbar = tqdm(range(len_subset))\n",
    "    pbar.set_description(\"Processing %s\" % index)\n",
    "    for indx,single_scan_indexes in zip(pbar,monthly_subset):\n",
    "        # if indx % 25 == 0:        \n",
    "        #     print(f'{indx} of {len_subset}',end='\\r')\n",
    "        single_scan = df_meta.loc[single_scan_indexes]\n",
    "        single_scan = single_scan.sort_values('angle')\n",
    "        # find elevation angles\n",
    "        n_scans = len(single_scan)\n",
    "        elangles = list(single_scan.angle.values)\n",
    "        elangle_string = str(elangles)\n",
    "        \n",
    "        # Stop the run if the angles have changed\n",
    "        if (elangle_string not in gridder_dict.keys()) or (elangle_string not in trgshape_dict.keys()):\n",
    "            print('new strategy:',elangles)\n",
    "            gridder,trgshape = get_new_gridder(raw_list)\n",
    "            gridder_dict[elangle_string] = gridder\n",
    "            trgshape_dict[elangle_string] = trgshape\n",
    "            \n",
    "\n",
    "        if elangles != current_strategy:\n",
    "            print('new strategy:',elangles)\n",
    "            gridder,trgshape = get_new_gridder(raw_list)\n",
    "            current_strategy = elangles\n",
    "\n",
    "        # Can crash if a file is corrupted\n",
    "        tmp_urls = single_scan.url\n",
    "        try:\n",
    "            raw_list = [wrl.io.read_generic_hdf5(i) for i in tmp_urls]\n",
    "        except KeyboardInterrupt: # for early stopping\n",
    "            print('I tried!')\n",
    "            assert False\n",
    "        except:\n",
    "            print('I tried - but was misunderstood!')\n",
    "            problematic_indexes.append(single_scan_indexes)\n",
    "            continue # just skip the whole thing\n",
    "        \n",
    "\n",
    "        data = []\n",
    "        descriptive_data_tmp = {}\n",
    "        for i,raw in enumerate(raw_list):\n",
    "            # Data \n",
    "            gain = raw['scan1/what']['attrs']['gain']\n",
    "            offset = raw['scan1/what']['attrs']['offset']\n",
    "            raw_data = raw['scan1/data']['data']\n",
    "            descriptive_data_tmp[i] = {}\n",
    "            descriptive_data_tmp[i]['gain'] = gain\n",
    "            descriptive_data_tmp[i]['offset'] = offset\n",
    "            data.append(raw_data)\n",
    "            \n",
    "        data = np.array(data,dtype=float)\n",
    "        data[data == 255] = np.nan\n",
    "\n",
    "        descriptive_data[index] = descriptive_data_tmp\n",
    "        # compute CAPPI\n",
    "        vol = np.ma.masked_invalid(gridder(data.ravel()).reshape(trgshape[1:]))\n",
    "        mask = np.ma.getmask(vol)\n",
    "        \n",
    "        # only save these together so one isn't without the other\n",
    "        monthly_vols.append(vol)\n",
    "        monthly_masks.append(mask)\n",
    "        urls.append(tmp_urls) \n",
    "\n",
    "    CAPPI_tensor = np.round(np.array(monthly_vols),0).astype('uint8')\n",
    "    CAPPI_tensor_mask = np.array(monthly_masks)\n",
    "    \n",
    "    np.save(URL_CAPPI,CAPPI_tensor,allow_pickle=True)\n",
    "    np.save(URL_mask,CAPPI_tensor_mask,allow_pickle=True)\n",
    "    np.save(URL_urls,urls,allow_pickle=True)\n",
    "    ############### \n",
    "    np.save(URL_problematic_indexes,problematic_indexes,allow_pickle=True)\n",
    "    np.save(URL_descriptive_data,descriptive_data,allow_pickle=True)\n",
    "    #6.59it/s - 07:31"
   ]
  },
  {
   "cell_type": "markdown",
   "metadata": {},
   "source": [
    "## Sanity check - if processing looks ok"
   ]
  },
  {
   "cell_type": "code",
   "execution_count": 26,
   "metadata": {},
   "outputs": [],
   "source": [
    "# import cv2\n",
    "# import os\n",
    "\n",
    "# image_folder = 'images'\n",
    "# video_name = 'video.avi'\n",
    "\n",
    "# # images = [img for img in os.listdir(image_folder) if img.endswith(\".png\")]\n",
    "# # frame = cv2.imread(os.path.join(image_folder, images[0]))\n",
    "# height, width, layers = monthly_vols_matrix[0].shape\n",
    "\n",
    "# video = cv2.VideoWriter(video_name, 0, 1, (width,height))\n",
    "\n",
    "# for i,image in enumerate(monthly_vols_matrix[:100]):\n",
    "#     scaled_image = (image + 31) / (140)\n",
    "#     scaled_image = np.array(scaled_image)\n",
    "#     scaled_image[np.isnan(scaled_image)] = 0\n",
    "#     plt.imshow(scaled_image)\n",
    "#     plt.savefig(f'./images/image_{i}.png')\n",
    "#     # plt.show()\n",
    "#     # video.write(scaled_image)\n",
    "\n",
    "# cv2.destroyAllWindows()\n",
    "# video.release()"
   ]
  },
  {
   "cell_type": "code",
   "execution_count": 27,
   "metadata": {},
   "outputs": [
    {
     "name": "stdout",
     "output_type": "stream",
     "text": [
      "0\n",
      "1\n",
      "2\n",
      "3\n",
      "4\n",
      "5\n",
      "6\n",
      "7\n",
      "8\n",
      "9\n",
      "10\n",
      "11\n"
     ]
    }
   ],
   "source": [
    "elangles = []\n",
    "\n",
    "xyz = np.array([]).reshape((-1, 3))\n",
    "data = np.array([])\n",
    "for i,raw in enumerate(raw_list):\n",
    "    print(i)\n",
    "    \n",
    "    # Radar strategy\n",
    "    elangle = raw['where']['attrs']['angle']\n",
    "    n_az = raw['where']['attrs']['ysize']\n",
    "    n_range = raw['where']['attrs']['xsize']\n",
    "    rscale = raw['where']['attrs']['xscale']\n",
    "    rstart = 1  #  Unsure about this\n",
    "    \n",
    "    \n",
    "    elangles.append(elangle)\n",
    "    az = np.arange(0., 360., 360. / n_az)\n",
    "    rstart = rstart * 1000.\n",
    "    r = np.arange(rstart,\n",
    "                  rstart + n_range * rscale,\n",
    "                  rscale)\n",
    "    xyz_ = wrl.vpr.volcoords_from_polar(sitecoords, elangle, az, r, proj)\n",
    "    \n",
    "    \n",
    "    # Data \n",
    "    gain = raw['scan1/what']['attrs']['gain']\n",
    "    offset = raw['scan1/what']['attrs']['offset']\n",
    "    raw_data = raw['scan1/data']['data']\n",
    "    data_ = offset + gain * raw_data\n",
    "    \n",
    "    xyz, data = np.vstack((xyz, xyz_)), np.append(data, data_.ravel())\n",
    "    \n",
    "    \n"
   ]
  },
  {
   "cell_type": "code",
   "execution_count": 28,
   "metadata": {},
   "outputs": [],
   "source": [
    "# xyz.mean(axis=0)"
   ]
  },
  {
   "cell_type": "code",
   "execution_count": 29,
   "metadata": {},
   "outputs": [
    {
     "data": {
      "text/plain": [
       "<matplotlib.image.AxesImage at 0x1b196e2be20>"
      ]
     },
     "execution_count": 29,
     "metadata": {},
     "output_type": "execute_result"
    },
    {
     "data": {
      "image/png": "[encoded data removed]",
      "text/plain": [
       "<Figure size 432x288 with 1 Axes>"
      ]
     },
     "metadata": {
      "needs_background": "light"
     },
     "output_type": "display_data"
    }
   ],
   "source": [
    "# generate 3-D Cartesian target grid coordinates\n",
    "maxrange = 250_000. #meters?\n",
    "minelev = np.min(elangles) # degrees?\n",
    "maxelev = np.max(elangles) # degrees?\n",
    "maxalt = 12000. # metere?\n",
    "horiz_res = 833.\n",
    "vert_res = 100.\n",
    "\n",
    "\n",
    "trgxyz, trgshape = wrl.vpr.make_3d_grid(sitecoords  = sitecoords,\n",
    "                                    proj = proj,\n",
    "                                    maxrange = maxrange,\n",
    "                                    maxalt = maxalt,\n",
    "                                    horiz_res = horiz_res,\n",
    "                                    vert_res = vert_res)\n",
    "\n",
    "CAPPI_layer_idx = int((2000 - 0)/(maxalt - 0) * trgshape[0]) # 2000 meters\n",
    "\n",
    "trgxyz_subset = trgxyz.reshape(list(trgshape) + [3])[CAPPI_layer_idx]\n",
    "trgxyz_subset = trgxyz_subset.reshape(-1,3)\n",
    "\n",
    "gridder = wrl.vpr.PseudoCAPPI(polcoords = xyz,\n",
    "                        gridcoords = trgxyz_subset,\n",
    "                        gridshape = trgshape[1:], \n",
    "                        maxrange = maxrange,\n",
    "                        minelev = minelev,\n",
    "                        maxelev = maxelev)\n",
    "\n",
    "vol = np.ma.masked_invalid(gridder(data).reshape(trgshape[1:]))\n",
    "plt.imshow(vol)"
   ]
  },
  {
   "cell_type": "code",
   "execution_count": 30,
   "metadata": {},
   "outputs": [],
   "source": [
    "# np.save('CAPPI_pixel_coords.npy',trgxyz_subset)"
   ]
  },
  {
   "cell_type": "code",
   "execution_count": null,
   "metadata": {},
   "outputs": [],
   "source": []
  },
  {
   "cell_type": "code",
   "execution_count": 31,
   "metadata": {},
   "outputs": [],
   "source": [
    "# import geopandas as gpd\n",
    "# sitecoords = (-22.636, 64.025, 45.0)\n",
    "\n",
    "# postnr = gpd.read_file('../Radar data analysis/Radar visualization/Shapefiles/postnr/postnrs.shp')\n",
    "# coords = trgxyz_subset# np.load('../Radar processing/CAPPI_pixel_coords.npy')\n",
    "\n",
    "# transformer_gps_isl = Transformer.from_crs(\"epsg:4326\", \"epsg:3057\" ) # Umbreyta GPS staðsetningu yfir í cartesian hnit fyrir Ísland\n",
    "# transformer_isl_gps = Transformer.from_crs(\"epsg:3057\", \"epsg:4326\") # Umbreyta cartesian hnitum aftur í GPS hnit\n",
    "\n",
    "# radar_x,radar_y = transformer_gps_isl.transform(sitecoords[1],sitecoords[0])\n",
    "# gauge_x,gauge_y = transformer_gps_isl.transform(64.1275,-21.902)\n",
    "\n",
    "\n",
    "# radar_width_in_image = (602*240/250+1)\n",
    "# pixel_distance = ((coords[:,:2] - [gauge_x,gauge_y])**2).sum(axis=1)**0.5\n",
    "# idx_closest_pixel = pixel_distance.argmin()\n",
    "# pixel_distance[idx_closest_pixel],idx_closest_pixel\n",
    "# gauge_idx,gauge_idy = idx_closest_pixel//602,idx_closest_pixel%602"
   ]
  },
  {
   "cell_type": "code",
   "execution_count": 32,
   "metadata": {},
   "outputs": [],
   "source": [
    "# ((np.array([radar_x - gauge_x,radar_y - gauge_y])**2).sum())**0.5"
   ]
  },
  {
   "cell_type": "code",
   "execution_count": 33,
   "metadata": {},
   "outputs": [],
   "source": [
    "# margin = 10\n",
    "\n",
    "# CAPPI_indexes = np.arange(602**2).reshape(602,602)\n",
    "# cappi_idx = CAPPI_indexes[gauge_idx-margin:gauge_idx+margin,gauge_idy-margin:gauge_idy+margin].ravel()\n",
    "\n",
    "# plt.figure(figsize=(15,15))\n",
    "# pixels_handle = plt.scatter(coords[cappi_idx,0],coords[cappi_idx,1],s = 100,marker = 's',edgecolors='black')\n",
    "\n",
    "# postnr.geometry.plot(ax = plt.gca(),alpha = 0.2,color='white')\n",
    "\n",
    "# radar_handle = plt.scatter(radar_x,radar_y,c ='red',marker = 'x',s = 90)\n",
    "# gauge_handle = plt.scatter(gauge_x,gauge_y,c ='red',marker = '*',s = 90)\n",
    "\n",
    "# plt.scatter(475151.43, 537577.96)\n",
    "# plt.scatter(537577.96,475151.43)\n",
    "# # plt.ylim(gauge_y - 30_000,gauge_y + 20_000)\n",
    "# # plt.xlim(gauge_x - 50_000,gauge_x + 20_000)\n",
    "# # plt.xticks([],[])\n",
    "# # plt.yticks([],[])\n",
    "# plt.gca().set_facecolor((0.267004, 0.004874, 0.329415, 1.0))\n",
    "# plt.title('Data overview',fontsize=25)\n",
    "# plt.legend([radar_handle,gauge_handle,pixels_handle],['Radar','Primary Rain-gauge','CAPPI pixels'],loc = 'upper left',fontsize=15)\n",
    "# plt.show()"
   ]
  },
  {
   "cell_type": "code",
   "execution_count": 34,
   "metadata": {},
   "outputs": [
    {
     "data": {
      "text/plain": [
       "{'gain': 0.4,\n",
       " 'nodata': 255.0,\n",
       " 'offset': -30.0,\n",
       " 'product': b'SCAN',\n",
       " 'quantity': b'DBZ',\n",
       " 'startdate': b'20180321',\n",
       " 'starttime': b'000114',\n",
       " 'stopdate': b'20180321',\n",
       " 'stoptime': b'000144',\n",
       " 'undetect': 0.0,\n",
       " 'WMO': 2334,\n",
       " 'azmethod': b'RANDOM',\n",
       " 'beamwidth': 0.9,\n",
       " 'binmethod': b'AVERAGE',\n",
       " 'doppler': 0,\n",
       " 'highprf': 250,\n",
       " 'lowprf': 250,\n",
       " 'place': b'Keflavik',\n",
       " 'pulsewidth': 2.0,\n",
       " 'radar_fail': 0,\n",
       " 'radar_msg': b'f94 4f9 000 000 8ff:',\n",
       " 'rpm': 2.0,\n",
       " 'software': b'PARTEC2',\n",
       " 'system': b'ERIC',\n",
       " 'wavelength': 5.35,\n",
       " 'date': b'20180320',\n",
       " 'object': b'SCAN',\n",
       " 'sets': 1,\n",
       " 'time': b'235500',\n",
       " 'version': b'H5rad 1.2'}"
      ]
     },
     "execution_count": 34,
     "metadata": {},
     "output_type": "execute_result"
    }
   ],
   "source": [
    "meta_data = dict()\n",
    "meta_data_0 = raw_list[0]['scan1/what']['attrs']\n",
    "meta_data_1 = raw_list[0]['how']['attrs']\n",
    "meta_data_2 = raw_list[0]['what']['attrs']\n",
    "\n",
    "meta_data.update(meta_data_0)\n",
    "meta_data.update(meta_data_1)\n",
    "meta_data.update(meta_data_2)\n",
    "meta_data"
   ]
  },
  {
   "cell_type": "code",
   "execution_count": 35,
   "metadata": {},
   "outputs": [
    {
     "data": {
      "text/plain": [
       "0                .H5\n",
       "1                .H5\n",
       "2                .H5\n",
       "3                .H5\n",
       "4                .H5\n",
       "             ...    \n",
       "1625949    .vol.hdf5\n",
       "1625950    .vol.hdf5\n",
       "1625951    .vol.hdf5\n",
       "1625952    .vol.hdf5\n",
       "1625953    .vol.hdf5\n",
       "Name: extension, Length: 1625463, dtype: object"
      ]
     },
     "execution_count": 35,
     "metadata": {},
     "output_type": "execute_result"
    }
   ],
   "source": [
    "df_meta.loc[:,'extension'] "
   ]
  },
  {
   "cell_type": "markdown",
   "metadata": {},
   "source": [
    "# For hdf5 files"
   ]
  },
  {
   "cell_type": "code",
   "execution_count": 36,
   "metadata": {},
   "outputs": [],
   "source": [
    "df_meta_hdf5 = df_meta.loc[df_meta.loc[:,'extension'] == '.vol.hdf5']\n",
    "df_meta_hdf5_group_lists = df_meta_hdf5.groupby('ctime').apply(lambda x: list(x.index))\n"
   ]
  },
  {
   "cell_type": "code",
   "execution_count": 37,
   "metadata": {},
   "outputs": [],
   "source": [
    "# starting strategy\n",
    "current_strategy = np.array([ 0.5,  0.9,  1.3,  2.4,  3.5,  4.5,  6. ,  8. , 10. , 15. , 25. , 40. ])\n"
   ]
  },
  {
   "cell_type": "code",
   "execution_count": 38,
   "metadata": {},
   "outputs": [],
   "source": [
    "# For experimentation\n",
    "single_scan_indexes = df_meta_hdf5_group_lists[0]\n",
    "single_scan = df_meta.loc[single_scan_indexes]\n",
    "single_scan = single_scan.sort_values('angle')\n",
    "\n",
    "# find elevation angles\n",
    "n_scans = len(single_scan)\n",
    "\n",
    "# find coordinates from each scan (redundant for unified files)\n",
    "tmp_urls = single_scan.loc[:,'url'].values\n",
    "raw_list = [wrl.io.read_generic_hdf5(i) for i in tmp_urls]\n",
    "\n",
    "sitecoords_list = []\n",
    "for raw in raw_list:\n",
    "    sitecoords = (raw[\"where\"]['attrs'][\"lon\"], raw[\"where\"]['attrs'][\"lat\"],\n",
    "            raw[\"where\"]['attrs'][\"height\"])\n",
    "    sitecoords_list.append(sitecoords)\n",
    "    \n",
    "# check that they are all the same    \n",
    "assert np.all(np.array(sitecoords_list) == sitecoords_list[0])"
   ]
  },
  {
   "cell_type": "code",
   "execution_count": 39,
   "metadata": {},
   "outputs": [],
   "source": [
    "# Monthly indicators for filtering\n",
    "df_start_end = pd.concat([df_meta_hdf5.groupby('year and month').min().loc[:,'ctime'],df_meta_hdf5.groupby('year and month').max().loc[:,'ctime']],axis=1)\n",
    "df_start_end.columns = ['start','end']\n",
    "\n",
    "# initialization so the variables are defined outside the scope of the for loop\n",
    "gridder, trgshape = None,None \n",
    "current_strategy = list() # No starting strategy\n"
   ]
  },
  {
   "cell_type": "markdown",
   "metadata": {},
   "source": [
    "## Helper functions"
   ]
  },
  {
   "cell_type": "code",
   "execution_count": 40,
   "metadata": {},
   "outputs": [],
   "source": [
    "def get_hdf5_elangles(raw):\n",
    "    wherelist = [i for i in raw.keys() if len(re.findall('dataset[0-9]*/where',i)) > 0]\n",
    "    elangles = sorted([raw[wherekey]['attrs']['elangle'] for wherekey in wherelist])\n",
    "    return elangles\n",
    "\n",
    "def get_hdf5_data(raw):\n",
    "    datalist = np.array([i for i in raw.keys() if len(re.findall('dataset[0-9]*/data1/data',i)) > 0])\n",
    "    data_order = [int(re.findall('dataset[0-9]*/',data_name)[0][7:-1]) for data_name in datalist]\n",
    "    data_argsort = np.argsort(data_order)\n",
    "    sorted_data = datalist[data_argsort]\n",
    "    data_list = [raw[datakey]['data'] for datakey in sorted_data]\n",
    "    \n",
    "    # This is just for consistency with other data insertion method\n",
    "    data =  np.array([])\n",
    "    for data_ in data_list:\n",
    "        data = np.append(data, data_.ravel())\n",
    "    \n",
    "    return data\n"
   ]
  },
  {
   "cell_type": "code",
   "execution_count": 41,
   "metadata": {},
   "outputs": [],
   "source": [
    "\n",
    "def get_new_gridder_hdf5(raw):\n",
    "    elangles = []\n",
    "    xyz = np.array([]).reshape((-1, 3))\n",
    "    data = np.array([])\n",
    "\n",
    "    elangles = get_hdf5_elangles(raw)\n",
    "    n_scans = len(elangles)\n",
    "\n",
    "    for i in range(n_scans):\n",
    "        # get the scan metadata for each elevation\n",
    "        where = raw[\"dataset%d/where\" % (i + 1)]['attrs']\n",
    "        what = raw[\"dataset%d/data1/what\" % (i + 1)]['attrs']\n",
    "\n",
    "        az = np.arange(0., 360., 360. / where[\"nrays\"])\n",
    "        rstart = where[\"rstart\"] * 1000.\n",
    "        r = np.arange(rstart,\n",
    "                      rstart + where[\"nbins\"] * where[\"rscale\"],\n",
    "                      where[\"rscale\"])\n",
    "\n",
    "        # derive 3-D Cartesian coordinate tuples\n",
    "        xyz_ = wrl.vpr.volcoords_from_polar(\n",
    "            sitecoords, where[\"elangle\"], az, r, proj)\n",
    "        xyz = np.vstack((xyz, xyz_))\n",
    "\n",
    "    # generate 3-D Cartesian target grid coordinates\n",
    "    maxrange = 250_000. #meters?\n",
    "    minelev = np.min(elangles) # degrees?\n",
    "    maxelev = np.max(elangles) # degrees?\n",
    "    maxalt = 12000. # metere?\n",
    "    horiz_res = 833.\n",
    "    vert_res = 100.\n",
    "    desired_height = 1250\n",
    "\n",
    "    \n",
    "    \n",
    "    trgxyz, trgshape = wrl.vpr.make_3d_grid(sitecoords  = sitecoords,\n",
    "                                        proj = proj,\n",
    "                                        maxrange = maxrange,\n",
    "                                        maxalt = maxalt,\n",
    "                                        horiz_res = horiz_res,\n",
    "                                        vert_res = vert_res)\n",
    "    \n",
    "    # CAPPI_layer_idx = int((2000 - 0)/(maxalt - 0) * trgshape[0]) # 2000 meters\n",
    "    CAPPI_layer_idx = int((desired_height - 0)/(maxalt - 0) * trgshape[0])\n",
    "\n",
    "    trgxyz_subset = trgxyz.reshape(list(trgshape) + [3])[CAPPI_layer_idx]\n",
    "    trgxyz_subset = trgxyz_subset.reshape(-1,3)\n",
    "\n",
    "    gridder = wrl.vpr.PseudoCAPPI(polcoords = xyz,\n",
    "                            gridcoords = trgxyz_subset,\n",
    "                            gridshape = trgshape[1:], \n",
    "                            maxrange = maxrange,\n",
    "                            minelev = minelev,\n",
    "                            maxelev = maxelev)\n",
    "    \n",
    "    return gridder,trgshape"
   ]
  },
  {
   "cell_type": "code",
   "execution_count": null,
   "metadata": {},
   "outputs": [],
   "source": []
  },
  {
   "cell_type": "code",
   "execution_count": 42,
   "metadata": {},
   "outputs": [],
   "source": [
    "gridder_dict = {}\n",
    "trgshape_dict = {}"
   ]
  },
  {
   "cell_type": "code",
   "execution_count": null,
   "metadata": {},
   "outputs": [],
   "source": []
  },
  {
   "cell_type": "code",
   "execution_count": 43,
   "metadata": {},
   "outputs": [
    {
     "name": "stderr",
     "output_type": "stream",
     "text": [
      "Processing 201801: 100%|██████████| 2970/2970 [03:55<00:00, 12.63it/s]\n",
      "Processing 201802: 100%|██████████| 2603/2603 [04:29<00:00,  9.66it/s]\n",
      "Processing 201803: 100%|██████████| 2958/2958 [05:13<00:00,  9.44it/s]\n",
      "Processing 201804: 100%|██████████| 4289/4289 [06:57<00:00, 10.28it/s]\n",
      "Processing 201805: 100%|██████████| 8906/8906 [11:49<00:00, 12.56it/s]\n",
      "Processing 201806: 100%|██████████| 8629/8629 [11:16<00:00, 12.76it/s]\n",
      "Processing 201807: 100%|██████████| 8926/8926 [11:23<00:00, 13.05it/s]\n",
      "Processing 201808: 100%|██████████| 8928/8928 [11:44<00:00, 12.68it/s]\n",
      "Processing 201809: 100%|██████████| 8628/8628 [10:46<00:00, 13.34it/s]\n",
      "Processing 201810: 100%|██████████| 8768/8768 [10:40<00:00, 13.70it/s]\n",
      "Processing 201811: 100%|██████████| 8641/8641 [11:18<00:00, 12.74it/s]\n",
      "Processing 201812: 100%|██████████| 8825/8825 [13:23<00:00, 10.98it/s]\n",
      "Processing 201901: 100%|██████████| 8870/8870 [13:09<00:00, 11.24it/s]\n",
      "Processing 201902: 100%|██████████| 8011/8011 [12:21<00:00, 10.80it/s]\n",
      "Processing 201903: 100%|██████████| 8877/8877 [12:27<00:00, 11.87it/s]\n",
      "Processing 201904: 100%|██████████| 8535/8535 [11:09<00:00, 12.74it/s]\n",
      "Processing 201905: 100%|██████████| 8924/8924 [10:58<00:00, 13.55it/s]\n",
      "Processing 201906: 100%|██████████| 8566/8566 [12:01<00:00, 11.87it/s]\n",
      "Processing 201907: 100%|██████████| 8927/8927 [11:52<00:00, 12.53it/s]\n",
      "Processing 201908: 100%|██████████| 8926/8926 [10:42<00:00, 13.88it/s]\n",
      "Processing 201909: 100%|██████████| 8588/8588 [10:27<00:00, 13.68it/s]\n",
      "Processing 201910: 100%|██████████| 8605/8605 [10:25<00:00, 13.77it/s]\n",
      "Processing 201911: 100%|██████████| 8459/8459 [10:14<00:00, 13.76it/s]\n",
      "Processing 201912: 100%|██████████| 8877/8877 [11:04<00:00, 13.36it/s]\n",
      "Processing 202001: 100%|██████████| 8921/8921 [10:06<00:00, 14.70it/s]\n",
      "Processing 202002: 100%|██████████| 8331/8331 [08:49<00:00, 15.72it/s]\n",
      "Processing 202003: 100%|██████████| 8925/8925 [09:44<00:00, 15.28it/s]\n",
      "Processing 202004: 100%|██████████| 8551/8551 [09:20<00:00, 15.26it/s]\n",
      "Processing 202005: 100%|██████████| 8922/8922 [09:49<00:00, 15.14it/s]\n",
      "Processing 202006: 100%|██████████| 8639/8639 [09:17<00:00, 15.50it/s]\n",
      "Processing 202007: 100%|██████████| 8928/8928 [09:36<00:00, 15.49it/s]\n",
      "Processing 202008: 100%|██████████| 8928/8928 [09:35<00:00, 15.50it/s]\n",
      "Processing 202009: 100%|██████████| 8608/8608 [09:25<00:00, 15.23it/s]\n",
      "Processing 202010: 100%|██████████| 8846/8846 [09:40<00:00, 15.23it/s]\n",
      "Processing 202011: 100%|██████████| 8632/8632 [15:48:51<00:00,  6.60s/it] \n"
     ]
    },
    {
     "ename": "FileNotFoundError",
     "evalue": "[Errno 2] No such file or directory: 'F:/CAPPI/CAPPI_202011_hdf5.npy'",
     "output_type": "error",
     "traceback": [
      "\u001b[1;31m---------------------------------------------------------------------------\u001b[0m",
      "\u001b[1;31mFileNotFoundError\u001b[0m                         Traceback (most recent call last)",
      "\u001b[1;32mC:\\Users\\SVERRI~1\\AppData\\Local\\Temp/ipykernel_24076/3423158680.py\u001b[0m in \u001b[0;36m<module>\u001b[1;34m\u001b[0m\n\u001b[0;32m     78\u001b[0m \u001b[1;33m\u001b[0m\u001b[0m\n\u001b[0;32m     79\u001b[0m \u001b[1;33m\u001b[0m\u001b[0m\n\u001b[1;32m---> 80\u001b[1;33m     \u001b[0mnp\u001b[0m\u001b[1;33m.\u001b[0m\u001b[0msave\u001b[0m\u001b[1;33m(\u001b[0m\u001b[0mURL_CAPPI\u001b[0m\u001b[1;33m,\u001b[0m\u001b[0mCAPPI_tensor\u001b[0m\u001b[1;33m,\u001b[0m\u001b[0mallow_pickle\u001b[0m\u001b[1;33m=\u001b[0m\u001b[1;32mTrue\u001b[0m\u001b[1;33m)\u001b[0m\u001b[1;33m\u001b[0m\u001b[1;33m\u001b[0m\u001b[0m\n\u001b[0m\u001b[0;32m     81\u001b[0m     \u001b[0mnp\u001b[0m\u001b[1;33m.\u001b[0m\u001b[0msave\u001b[0m\u001b[1;33m(\u001b[0m\u001b[0mURL_mask\u001b[0m\u001b[1;33m,\u001b[0m\u001b[0mCAPPI_tensor_mask\u001b[0m\u001b[1;33m,\u001b[0m\u001b[0mallow_pickle\u001b[0m\u001b[1;33m=\u001b[0m\u001b[1;32mTrue\u001b[0m\u001b[1;33m)\u001b[0m\u001b[1;33m\u001b[0m\u001b[1;33m\u001b[0m\u001b[0m\n\u001b[0;32m     82\u001b[0m     \u001b[0mnp\u001b[0m\u001b[1;33m.\u001b[0m\u001b[0msave\u001b[0m\u001b[1;33m(\u001b[0m\u001b[0mURL_urls\u001b[0m\u001b[1;33m,\u001b[0m\u001b[0murls\u001b[0m\u001b[1;33m,\u001b[0m\u001b[0mallow_pickle\u001b[0m\u001b[1;33m=\u001b[0m\u001b[1;32mTrue\u001b[0m\u001b[1;33m)\u001b[0m\u001b[1;33m\u001b[0m\u001b[1;33m\u001b[0m\u001b[0m\n",
      "\u001b[1;32m<__array_function__ internals>\u001b[0m in \u001b[0;36msave\u001b[1;34m(*args, **kwargs)\u001b[0m\n",
      "\u001b[1;32m~\\Anaconda3\\envs\\gis_wradlib_torch\\lib\\site-packages\\numpy\\lib\\npyio.py\u001b[0m in \u001b[0;36msave\u001b[1;34m(file, arr, allow_pickle, fix_imports)\u001b[0m\n\u001b[0;32m    523\u001b[0m         \u001b[1;32mif\u001b[0m \u001b[1;32mnot\u001b[0m \u001b[0mfile\u001b[0m\u001b[1;33m.\u001b[0m\u001b[0mendswith\u001b[0m\u001b[1;33m(\u001b[0m\u001b[1;34m'.npy'\u001b[0m\u001b[1;33m)\u001b[0m\u001b[1;33m:\u001b[0m\u001b[1;33m\u001b[0m\u001b[1;33m\u001b[0m\u001b[0m\n\u001b[0;32m    524\u001b[0m             \u001b[0mfile\u001b[0m \u001b[1;33m=\u001b[0m \u001b[0mfile\u001b[0m \u001b[1;33m+\u001b[0m \u001b[1;34m'.npy'\u001b[0m\u001b[1;33m\u001b[0m\u001b[1;33m\u001b[0m\u001b[0m\n\u001b[1;32m--> 525\u001b[1;33m         \u001b[0mfile_ctx\u001b[0m \u001b[1;33m=\u001b[0m \u001b[0mopen\u001b[0m\u001b[1;33m(\u001b[0m\u001b[0mfile\u001b[0m\u001b[1;33m,\u001b[0m \u001b[1;34m\"wb\"\u001b[0m\u001b[1;33m)\u001b[0m\u001b[1;33m\u001b[0m\u001b[1;33m\u001b[0m\u001b[0m\n\u001b[0m\u001b[0;32m    526\u001b[0m \u001b[1;33m\u001b[0m\u001b[0m\n\u001b[0;32m    527\u001b[0m     \u001b[1;32mwith\u001b[0m \u001b[0mfile_ctx\u001b[0m \u001b[1;32mas\u001b[0m \u001b[0mfid\u001b[0m\u001b[1;33m:\u001b[0m\u001b[1;33m\u001b[0m\u001b[1;33m\u001b[0m\u001b[0m\n",
      "\u001b[1;31mFileNotFoundError\u001b[0m: [Errno 2] No such file or directory: 'F:/CAPPI/CAPPI_202011_hdf5.npy'"
     ]
    }
   ],
   "source": [
    "# one month at a time for easier debugging\n",
    "for index,row in df_start_end.iterrows():\n",
    "    # print(index)\n",
    "    URL_CAPPI = f'{DIR_save}CAPPI_{index}_hdf5.npy'\n",
    "    URL_mask = f'{DIR_save}CAPPI_MASK_{index}_hdf5.npy'\n",
    "    URL_urls = f'{DIR_save}urls{index}_hdf5.npy'\n",
    "    URL_problematic_indexes = f'{DIR_save}problematic_indexes{index}_hdf5.npy'\n",
    "    URL_descriptive_data = f'{DIR_save}descriptive_data{index}_hdf5.npy'\n",
    "    \n",
    "    if len(glob(URL_descriptive_data)) > 0:\n",
    "        continue\n",
    "    \n",
    "    # timestamps for first and last images of month\n",
    "    start = row['start']\n",
    "    end = row['end']    \n",
    "    \n",
    "    # Subset of month\n",
    "    monthly_subset = df_meta_hdf5_group_lists.loc[start:end]\n",
    "\n",
    "    len_subset = len(monthly_subset)\n",
    "    monthly_vols = []\n",
    "    monthly_masks = []\n",
    "    urls = []\n",
    "    problematic_indexes = []\n",
    "    descriptive_data = {}\n",
    "\n",
    "    n_subset = len(monthly_subset)\n",
    "    # Iterate over radar slices\n",
    "    \n",
    "    pbar = tqdm(range(n_subset))\n",
    "    pbar.set_description(\"Processing %s\" % index)\n",
    "    for indx,single_scan_indexes in zip(pbar,monthly_subset):\n",
    "        \n",
    "        # print(indx,indx % 25 == 0)\n",
    "        single_scan = df_meta.loc[single_scan_indexes]\n",
    "        single_scan = single_scan.sort_values('angle')\n",
    "        \n",
    "        # find coordinates from each scan (Likely redundant)\n",
    "        tmp_urls = single_scan.loc[:,'url'].values\n",
    "        \n",
    "        # Can crash if a file is corrupted\n",
    "        try:\n",
    "            raw = wrl.io.read_generic_hdf5(tmp_urls[0])\n",
    "        except KeyboardInterrupt: # for early stopping\n",
    "            assert False\n",
    "        except: # For other kinds of errors\n",
    "            # problematic_indexes.append(single_scan_indexes)\n",
    "            continue # just skip the whole thing\n",
    "        \n",
    "        # find elevation angles\n",
    "        elangles = get_hdf5_elangles(raw)\n",
    "        n_scans = len(elangles)\n",
    "        elangle_string = str(elangles)\n",
    "        \n",
    "        if (elangle_string not in gridder_dict.keys()) or (elangle_string not in trgshape_dict.keys()):\n",
    "            # print('new strategy:',elangles)\n",
    "            gridder,trgshape = get_new_gridder_hdf5(raw)\n",
    "            gridder_dict[elangle_string] = gridder\n",
    "            trgshape_dict[elangle_string] = trgshape\n",
    "            \n",
    "        gridder = gridder_dict[elangle_string]\n",
    "        trgshape = trgshape_dict[elangle_string]\n",
    "        \n",
    "        \n",
    "        data = get_hdf5_data(raw)\n",
    "        data[data == 255] = np.nan\n",
    "        vol = np.ma.masked_invalid(gridder(data).reshape(trgshape[1:]))\n",
    "        mask = np.ma.getmask(vol)\n",
    "        vol = np.round(np.array(vol),0).astype('uint8')\n",
    "        \n",
    "        # only save these together so one isn't without the other\n",
    "        monthly_vols.append(vol)\n",
    "        monthly_masks.append(mask)\n",
    "        urls.append(tmp_urls) \n",
    "        \n",
    "    CAPPI_tensor = np.round(np.array(monthly_vols),0).astype('uint8')\n",
    "    CAPPI_tensor_mask = np.array(monthly_masks)\n",
    "    \n",
    "\n",
    "    np.save(URL_CAPPI,CAPPI_tensor,allow_pickle=True)\n",
    "    np.save(URL_mask,CAPPI_tensor_mask,allow_pickle=True)\n",
    "    np.save(URL_urls,urls,allow_pickle=True)\n",
    "    np.save(URL_problematic_indexes,problematic_indexes,allow_pickle=True)\n",
    "    np.save(URL_descriptive_data,descriptive_data,allow_pickle=True)\n",
    "\n",
    "    data = None\n",
    "    gridder = None\n",
    "    trgshape = None\n",
    "    vol = None\n",
    "    mask = None\n",
    "    CAPPI_tensor = None\n",
    "    CAPPI_tensor_mask = None\n",
    "    monthly_masks = None\n",
    "    monthly_vols = None\n",
    "    urls = None\n",
    "    problematic_indexes = None\n",
    "    descriptive_data = None"
   ]
  },
  {
   "cell_type": "code",
   "execution_count": null,
   "metadata": {},
   "outputs": [],
   "source": []
  },
  {
   "cell_type": "code",
   "execution_count": null,
   "metadata": {},
   "outputs": [],
   "source": [
    "get_new_gridder_hdf5(raw)"
   ]
  },
  {
   "cell_type": "code",
   "execution_count": null,
   "metadata": {},
   "outputs": [],
   "source": [
    "raw['dataset1/where']"
   ]
  },
  {
   "cell_type": "code",
   "execution_count": null,
   "metadata": {},
   "outputs": [],
   "source": [
    "raw.keys()"
   ]
  },
  {
   "cell_type": "code",
   "execution_count": null,
   "metadata": {},
   "outputs": [],
   "source": [
    "raw = raw_list[0]\n",
    "\n",
    "\n"
   ]
  },
  {
   "cell_type": "code",
   "execution_count": null,
   "metadata": {},
   "outputs": [],
   "source": [
    "data = np.array([])\n",
    "\n",
    "descriptive_data_tmp = {}\n",
    "for i,raw in enumerate(raw_list):\n",
    "    # Data \n",
    "    gain = raw['scan1/what']['attrs']['gain']\n",
    "    offset = raw['scan1/what']['attrs']['offset']\n",
    "    raw_data = raw['scan1/data']['data']\n",
    "    descriptive_data_tmp[i] = {}\n",
    "    descriptive_data_tmp[i]['gain'] = gain\n",
    "    descriptive_data_tmp[i]['offset'] = offset\n",
    "    \n",
    "    # data_ = offset + gain * raw_data\n",
    "    data_ = raw_data # For cheaper storage\n",
    "    \n",
    "    data = np.append(data, data_.ravel())"
   ]
  },
  {
   "cell_type": "code",
   "execution_count": null,
   "metadata": {},
   "outputs": [],
   "source": [
    "100*20"
   ]
  },
  {
   "cell_type": "markdown",
   "metadata": {},
   "source": [
    "# Sanity check for CAPPI"
   ]
  },
  {
   "cell_type": "code",
   "execution_count": null,
   "metadata": {},
   "outputs": [],
   "source": [
    "# generate 3-D Cartesian target grid coordinates\n",
    "maxrange = 250_000. #meters?\n",
    "minelev = np.min(elangles) # degrees?\n",
    "maxelev = np.max(elangles) # degrees?\n",
    "maxalt = 12000. # metere?\n",
    "horiz_res = 833.\n",
    "vert_res = 100.\n",
    "\n",
    "\n",
    "trgxyz, trgshape = wrl.vpr.make_3d_grid(sitecoords  = sitecoords,\n",
    "                                    proj = proj,\n",
    "                                    maxrange = maxrange,\n",
    "                                    maxalt = maxalt,\n",
    "                                    horiz_res = horiz_res,\n",
    "                                    vert_res = vert_res)\n",
    "\n",
    "CAPPI_layer_idx = int((2000 - 0)/(maxalt - 0) * trgshape[0]) # 2000 meters\n",
    "\n",
    "trgxyz_subset = trgxyz.reshape(list(trgshape) + [3])[CAPPI_layer_idx]\n",
    "trgxyz_subset = trgxyz_subset.reshape(-1,3)\n",
    "\n",
    "gridder = wrl.vpr.PseudoCAPPI(polcoords = xyz,\n",
    "                        gridcoords = trgxyz,\n",
    "                        gridshape = trgshape, \n",
    "                        maxrange = maxrange,\n",
    "                        minelev = minelev,\n",
    "                        maxelev = maxelev)\n",
    "\n",
    "vol = np.ma.masked_invalid(gridder(data).reshape(trgshape))\n"
   ]
  },
  {
   "cell_type": "code",
   "execution_count": null,
   "metadata": {},
   "outputs": [],
   "source": [
    "vol.shape"
   ]
  },
  {
   "cell_type": "code",
   "execution_count": null,
   "metadata": {},
   "outputs": [],
   "source": [
    "f,axes = plt.subplots(11,11,figsize=(30,30))\n",
    "for i,(ax,layer) in enumerate(zip(axes.ravel(),vol)):\n",
    "    ax.imshow(layer)\n",
    "    ax.set_title(i)\n",
    "plt.show()"
   ]
  },
  {
   "cell_type": "code",
   "execution_count": null,
   "metadata": {},
   "outputs": [],
   "source": [
    "for i,layer in enumerate(vol):\n",
    "    plt.imshow(layer)\n",
    "    plt.title(i)\n",
    "    plt.savefig(f'./images/cappi_tests/CAPPI_slices_{i}.png')"
   ]
  },
  {
   "cell_type": "code",
   "execution_count": null,
   "metadata": {},
   "outputs": [],
   "source": [
    "df_start_end.loc[['201711']]"
   ]
  },
  {
   "cell_type": "markdown",
   "metadata": {},
   "source": [
    "# Check for missing data"
   ]
  },
  {
   "cell_type": "code",
   "execution_count": null,
   "metadata": {},
   "outputs": [],
   "source": [
    "# Monthly indicators for filtering\n",
    "df_start_end = pd.concat([df_meta_h5.groupby('year and month').min().loc[:,'ctime'],df_meta_h5.groupby('year and month').max().loc[:,'ctime']],axis=1)\n",
    "df_start_end.columns = ['start','end']\n",
    "\n",
    "# initialization so the variables are defined outside the scope of the for loop\n",
    "gridder, trgshape = None,None \n",
    "current_strategy = list() # No starting strategy\n",
    "\n",
    "raw_data_list = []\n",
    "raw_full_file_list = []\n",
    "\n",
    "# one month at a time for easier debugging\n",
    "for index,row in df_start_end.loc[['201711']].iterrows():\n",
    "    # print(index)\n",
    "    # URL_CAPPI = f'{DIR_save}CAPPI_{index}.npy'\n",
    "    # URL_urls = f'{DIR_save}urls{index}.npy'\n",
    "    # URL_problematic_indexes = f'{DIR_save}problematic_indexes{index}.npy'\n",
    "    # URL_descriptive_data = f'{DIR_save}descriptive_data{index}.npy'\n",
    "    \n",
    "    # if len(glob(URL_descriptive_data)) > 0:\n",
    "    #     continue\n",
    "    \n",
    "    # timestamps for first and last images of month\n",
    "    start = row['start']\n",
    "    end = row['end']\n",
    "    \n",
    "    # Subset of month\n",
    "    monthly_subset = df_meta_h5_group_lists.loc[start:end]\n",
    "    print()\n",
    "    len_subset = len(monthly_subset)\n",
    "    monthly_vols = []\n",
    "    urls = []\n",
    "    problematic_indexes = []\n",
    "    descriptive_data = {}\n",
    "    # Iterate over radar slices\n",
    "    for indx,single_scan_indexes in enumerate(monthly_subset):\n",
    "        if indx % 25 == 0:        \n",
    "            print(f'{indx} of {len_subset}',end='\\r')\n",
    "        single_scan = df_meta.loc[single_scan_indexes]\n",
    "        single_scan = single_scan.sort_values('angle')\n",
    "        tmp_urls = single_scan.loc[:,'url'].values\n",
    "        \n",
    "        # find elevation angles\n",
    "        n_scans = len(single_scan)\n",
    "        elangles = list(single_scan.angle.values)\n",
    "        \n",
    "        # Stop the run if the angles have changed\n",
    "        if elangles != current_strategy:\n",
    "            print('new strategy:',elangles)\n",
    "            gridder,trgshape = get_new_gridder(raw_list)\n",
    "            current_strategy = elangles\n",
    "        \n",
    "        # Can crash if a file is corrupted\n",
    "        try:\n",
    "            raw_list = [wrl.io.read_generic_hdf5(i) for i in tmp_urls]\n",
    "        except KeyboardInterrupt: # for early stopping\n",
    "            assert False\n",
    "        except: # For other kinds of errors\n",
    "            problematic_indexes.append(single_scan_indexes)\n",
    "            continue # just skip the whole thing\n",
    "        \n",
    "        data = np.array([])\n",
    "        \n",
    "        descriptive_data_tmp = {}\n",
    "        for i,raw in enumerate(raw_list):\n",
    "            # Data \n",
    "            gain = raw['scan1/what']['attrs']['gain']\n",
    "            offset = raw['scan1/what']['attrs']['offset']\n",
    "            raw_data = raw['scan1/data']['data']\n",
    "            descriptive_data_tmp[i] = {}\n",
    "            descriptive_data_tmp[i]['gain'] = gain\n",
    "            descriptive_data_tmp[i]['offset'] = offset\n",
    "            \n",
    "            # data_ = offset + gain * raw_data\n",
    "            data_ = raw_data # For cheaper storage\n",
    "            \n",
    "            data = np.append(data, data_.ravel())\n",
    "            \n",
    "        descriptive_data[index] = descriptive_data_tmp\n",
    "        # compute CAPPI At 2km\n",
    "        vol = np.ma.masked_invalid(gridder(data).reshape(trgshape[1:]))\n",
    "        raw_data_list.append(data)\n",
    "        raw_full_file_list.append(raw_list)\n",
    "        \n",
    "    #     # only save these together so one isn't without the other\n",
    "    #     monthly_vols.append(vol)\n",
    "    #     urls.append(tmp_urls) \n",
    "    # # except:\n",
    "        \n",
    "    # CAPPI_tensor = np.round(np.array(monthly_vols),0).astype('uint8')\n",
    "\n",
    "    \n",
    "    # np.save(URL_CAPPI,CAPPI_tensor)\n",
    "    # np.save(URL_urls,urls)\n",
    "    # np.save(URL_problematic_indexes,problematic_indexes)\n",
    "    # np.save(URL_descriptive_data,descriptive_data)"
   ]
  },
  {
   "cell_type": "code",
   "execution_count": null,
   "metadata": {},
   "outputs": [],
   "source": [
    "raw_data = np.array(raw_data_list)"
   ]
  },
  {
   "cell_type": "code",
   "execution_count": null,
   "metadata": {},
   "outputs": [],
   "source": [
    "len(raw_data)"
   ]
  },
  {
   "cell_type": "code",
   "execution_count": null,
   "metadata": {},
   "outputs": [],
   "source": [
    "argwhere_tmp = np.argwhere(raw_data == 255)"
   ]
  },
  {
   "cell_type": "code",
   "execution_count": null,
   "metadata": {},
   "outputs": [],
   "source": [
    "argwhere_tmp[12240]"
   ]
  },
  {
   "cell_type": "code",
   "execution_count": null,
   "metadata": {},
   "outputs": [],
   "source": [
    "(argwhere_tmp[:,1]/(420*120)).argmin()"
   ]
  },
  {
   "cell_type": "code",
   "execution_count": null,
   "metadata": {},
   "outputs": [],
   "source": [
    "np.argwhere(raw_data == 255)/raw_data.shape[1],np.argwhere(raw_data == 255)%raw_data.shape[1]"
   ]
  },
  {
   "cell_type": "code",
   "execution_count": null,
   "metadata": {},
   "outputs": [],
   "source": [
    "raw_data.min()"
   ]
  },
  {
   "cell_type": "code",
   "execution_count": null,
   "metadata": {},
   "outputs": [],
   "source": [
    "len(raw_full_file_list)"
   ]
  },
  {
   "cell_type": "code",
   "execution_count": null,
   "metadata": {},
   "outputs": [],
   "source": [
    "argwhere_tmp"
   ]
  },
  {
   "cell_type": "code",
   "execution_count": null,
   "metadata": {},
   "outputs": [],
   "source": [
    "for i,sl in enumerate(raw_full_file_list[2483]):\n",
    "    max_value = sl['scan1/data']['data'].max()\n",
    "    print(i,max_value)"
   ]
  },
  {
   "cell_type": "code",
   "execution_count": null,
   "metadata": {},
   "outputs": [],
   "source": [
    "plt.imshow(raw_full_file_list[2483][2]['scan1/data']['data'])"
   ]
  },
  {
   "cell_type": "code",
   "execution_count": null,
   "metadata": {},
   "outputs": [],
   "source": [
    "raw_data.ravel().shape"
   ]
  },
  {
   "cell_type": "code",
   "execution_count": null,
   "metadata": {},
   "outputs": [],
   "source": [
    "# del no_missing\n",
    "no_missing = raw_data[raw_data<218]"
   ]
  },
  {
   "cell_type": "code",
   "execution_count": null,
   "metadata": {},
   "outputs": [],
   "source": [
    "np.sum(no_missing>180)"
   ]
  },
  {
   "cell_type": "code",
   "execution_count": null,
   "metadata": {},
   "outputs": [],
   "source": [
    "no_missing_2"
   ]
  },
  {
   "cell_type": "code",
   "execution_count": null,
   "metadata": {},
   "outputs": [],
   "source": [
    "hist_vals = plt.hist(raw_data.ravel(),bins = np.arange(0,256))\n",
    "plt.yscale('log')"
   ]
  },
  {
   "cell_type": "code",
   "execution_count": null,
   "metadata": {},
   "outputs": [],
   "source": [
    "plt.plot(hist_vals[0])\n",
    "plt.yscale('log')"
   ]
  },
  {
   "cell_type": "code",
   "execution_count": null,
   "metadata": {},
   "outputs": [],
   "source": [
    "list(zip(hist_vals[0],hist_vals[1]))"
   ]
  },
  {
   "cell_type": "code",
   "execution_count": null,
   "metadata": {},
   "outputs": [],
   "source": [
    "plt.imshow(raw_full_file_list[467][9]['scan1/data']['data'])"
   ]
  },
  {
   "cell_type": "code",
   "execution_count": null,
   "metadata": {},
   "outputs": [],
   "source": [
    "plt.imshow(raw_full_file_list[467][9]['scan1/data']['data'])"
   ]
  },
  {
   "cell_type": "code",
   "execution_count": null,
   "metadata": {},
   "outputs": [],
   "source": [
    "# one month at a time for easier debugging\n",
    "\n",
    "raw_data_list = []\n",
    "raw_list = []\n",
    "for index,row in df_start_end.loc['201711':].iterrows():\n",
    "    # print(index)\n",
    "    URL_CAPPI = f'{DIR_save}CAPPI_{index}_hdf5.npy'\n",
    "    URL_urls = f'{DIR_save}urls{index}_hdf5.npy'\n",
    "    URL_problematic_indexes = f'{DIR_save}problematic_indexes{index}_hdf5.npy'\n",
    "    URL_descriptive_data = f'{DIR_save}descriptive_data{index}_hdf5.npy'\n",
    "    \n",
    "    if len(glob(URL_descriptive_data)) > 0:\n",
    "        continue\n",
    "    \n",
    "    # timestamps for first and last images of month\n",
    "    start = row['start']\n",
    "    end = row['end']    \n",
    "    \n",
    "    # Subset of month\n",
    "    monthly_subset = df_meta_hdf5_group_lists.loc[start:end]\n",
    "\n",
    "    len_subset = len(monthly_subset)\n",
    "    monthly_vols = []\n",
    "    urls = []\n",
    "    problematic_indexes = []\n",
    "    descriptive_data = {}\n",
    "\n",
    "    n_subset = len(monthly_subset)\n",
    "    # Iterate over radar slices\n",
    "    \n",
    "    pbar = tqdm(range(n_subset))\n",
    "    pbar.set_description(\"Processing %s\" % index)\n",
    "    for indx,single_scan_indexes in zip(pbar,monthly_subset):\n",
    "        \n",
    "        # print(indx,indx % 25 == 0)\n",
    "        single_scan = df_meta.loc[single_scan_indexes]\n",
    "        single_scan = single_scan.sort_values('angle')\n",
    "        \n",
    "        # find coordinates from each scan (Likely redundant)\n",
    "        tmp_urls = single_scan.loc[:,'url'].values\n",
    "        \n",
    "        # Can crash if a file is corrupted\n",
    "        try:\n",
    "            raw = wrl.io.read_generic_hdf5(tmp_urls[0])\n",
    "        except KeyboardInterrupt: # for early stopping\n",
    "            assert False\n",
    "        except: # For other kinds of errors\n",
    "            problematic_indexes.append(single_scan_indexes)\n",
    "            continue # just skip the whole thing\n",
    "        \n",
    "        # find elevation angles\n",
    "        elangles = get_hdf5_elangles(raw)\n",
    "        n_scans = len(elangles)\n",
    "        elangle_string = str(elangles)\n",
    "        \n",
    "        if (elangle_string not in gridder_dict.keys()) or (elangle_string not in trgshape_dict.keys()):\n",
    "            # print('new strategy:',elangles)\n",
    "            gridder,trgshape = get_new_gridder_hdf5(raw)\n",
    "            gridder_dict[elangle_string] = gridder\n",
    "            trgshape_dict[elangle_string] = trgshape\n",
    "            \n",
    "        gridder = gridder_dict[elangle_string]\n",
    "        trgshape = trgshape_dict[elangle_string]\n",
    "        \n",
    "        \n",
    "        data = get_hdf5_data(raw)\n",
    "        raw_data_list.append(data)\n",
    "        raw_list.append(raw)\n",
    "    #     vol = np.ma.masked_invalid(gridder(data).reshape(trgshape[1:]))\n",
    "        \n",
    "    #     # only save these together so one isn't without the other\n",
    "    #     monthly_vols.append(vol)\n",
    "    #     urls.append(tmp_urls) \n",
    "        \n",
    "    # CAPPI_tensor = np.round(np.array(monthly_vols),0).astype('uint8')\n",
    "\n",
    "    # np.save(URL_CAPPI,CAPPI_tensor)\n",
    "    # np.save(URL_urls,urls)\n",
    "    # np.save(URL_problematic_indexes,problematic_indexes)\n",
    "    # np.save(URL_descriptive_data,descriptive_data)"
   ]
  },
  {
   "cell_type": "code",
   "execution_count": null,
   "metadata": {},
   "outputs": [],
   "source": []
  },
  {
   "cell_type": "code",
   "execution_count": null,
   "metadata": {},
   "outputs": [],
   "source": []
  }
 ],
 "metadata": {
  "interpreter": {
   "hash": "37b26b0919f3eebb53e1fb9d1c196dfd7351d15ccc4a50e8438da0372db545ef"
  },
  "kernelspec": {
   "display_name": "Python 3.8.10 64-bit ('gis_wradlib_torch': conda)",
   "name": "python3"
  },
  "language_info": {
   "codemirror_mode": {
    "name": "ipython",
    "version": 3
   },
   "file_extension": ".py",
   "mimetype": "text/x-python",
   "name": "python",
   "nbconvert_exporter": "python",
   "pygments_lexer": "ipython3",
   "version": "3.8.10"
  },
  "orig_nbformat": 4
 },
 "nbformat": 4,
 "nbformat_minor": 2
}

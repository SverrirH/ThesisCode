{
 "cells": [
  {
   "cell_type": "code",
   "execution_count": 1,
   "metadata": {},
   "outputs": [],
   "source": [
    "import pandas as pd\n",
    "import numpy as np\n",
    "import matplotlib.pyplot as plt\n",
    "from glob import glob\n",
    "import wradlib as wrl\n",
    "import datetime\n",
    "from pyproj import Transformer\n",
    "from osgeo import osr\n"
   ]
  },
  {
   "cell_type": "code",
   "execution_count": 2,
   "metadata": {},
   "outputs": [],
   "source": [
    "DIR_data = 'F:/CAPPI/'\n",
    "# DIR_data = 'C:/Users/sverrirhd/OneDrive/CAPPI/'"
   ]
  },
  {
   "cell_type": "code",
   "execution_count": 3,
   "metadata": {},
   "outputs": [],
   "source": [
    "urls_cappi = glob(DIR_data + 'CAPPI*')\n",
    "urls_descr = glob(DIR_data + 'descriptive_data*')\n",
    "urls_probl = glob(DIR_data + 'problematic_indexes*')\n",
    "urls_urls = glob(DIR_data + 'urls*')"
   ]
  },
  {
   "cell_type": "code",
   "execution_count": 4,
   "metadata": {},
   "outputs": [],
   "source": [
    "df_file_urls = pd.DataFrame([urls_cappi,urls_descr,urls_probl,urls_urls]).T\n",
    "df_file_urls.columns = ['CAPPI','descriptive_data','problematic_indexes','urls']"
   ]
  },
  {
   "cell_type": "code",
   "execution_count": 5,
   "metadata": {},
   "outputs": [
    {
     "data": {
      "text/html": [
       "<div>\n",
       "<style scoped>\n",
       "    .dataframe tbody tr th:only-of-type {\n",
       "        vertical-align: middle;\n",
       "    }\n",
       "\n",
       "    .dataframe tbody tr th {\n",
       "        vertical-align: top;\n",
       "    }\n",
       "\n",
       "    .dataframe thead th {\n",
       "        text-align: right;\n",
       "    }\n",
       "</style>\n",
       "<table border=\"1\" class=\"dataframe\">\n",
       "  <thead>\n",
       "    <tr style=\"text-align: right;\">\n",
       "      <th></th>\n",
       "      <th>CAPPI</th>\n",
       "      <th>descriptive_data</th>\n",
       "      <th>problematic_indexes</th>\n",
       "      <th>urls</th>\n",
       "    </tr>\n",
       "  </thead>\n",
       "  <tbody>\n",
       "    <tr>\n",
       "      <th>0</th>\n",
       "      <td>C:/Users/sverrirhd/OneDrive/CAPPI\\CAPPI_201501...</td>\n",
       "      <td>C:/Users/sverrirhd/OneDrive/CAPPI\\descriptive_...</td>\n",
       "      <td>C:/Users/sverrirhd/OneDrive/CAPPI\\problematic_...</td>\n",
       "      <td>C:/Users/sverrirhd/OneDrive/CAPPI\\urls201501.npy</td>\n",
       "    </tr>\n",
       "    <tr>\n",
       "      <th>1</th>\n",
       "      <td>C:/Users/sverrirhd/OneDrive/CAPPI\\CAPPI_201502...</td>\n",
       "      <td>C:/Users/sverrirhd/OneDrive/CAPPI\\descriptive_...</td>\n",
       "      <td>C:/Users/sverrirhd/OneDrive/CAPPI\\problematic_...</td>\n",
       "      <td>C:/Users/sverrirhd/OneDrive/CAPPI\\urls201502.npy</td>\n",
       "    </tr>\n",
       "    <tr>\n",
       "      <th>2</th>\n",
       "      <td>C:/Users/sverrirhd/OneDrive/CAPPI\\CAPPI_201503...</td>\n",
       "      <td>C:/Users/sverrirhd/OneDrive/CAPPI\\descriptive_...</td>\n",
       "      <td>C:/Users/sverrirhd/OneDrive/CAPPI\\problematic_...</td>\n",
       "      <td>C:/Users/sverrirhd/OneDrive/CAPPI\\urls201503.npy</td>\n",
       "    </tr>\n",
       "    <tr>\n",
       "      <th>3</th>\n",
       "      <td>C:/Users/sverrirhd/OneDrive/CAPPI\\CAPPI_201504...</td>\n",
       "      <td>C:/Users/sverrirhd/OneDrive/CAPPI\\descriptive_...</td>\n",
       "      <td>C:/Users/sverrirhd/OneDrive/CAPPI\\problematic_...</td>\n",
       "      <td>C:/Users/sverrirhd/OneDrive/CAPPI\\urls201504.npy</td>\n",
       "    </tr>\n",
       "    <tr>\n",
       "      <th>4</th>\n",
       "      <td>C:/Users/sverrirhd/OneDrive/CAPPI\\CAPPI_201505...</td>\n",
       "      <td>C:/Users/sverrirhd/OneDrive/CAPPI\\descriptive_...</td>\n",
       "      <td>C:/Users/sverrirhd/OneDrive/CAPPI\\problematic_...</td>\n",
       "      <td>C:/Users/sverrirhd/OneDrive/CAPPI\\urls201505.npy</td>\n",
       "    </tr>\n",
       "    <tr>\n",
       "      <th>...</th>\n",
       "      <td>...</td>\n",
       "      <td>...</td>\n",
       "      <td>...</td>\n",
       "      <td>...</td>\n",
       "    </tr>\n",
       "    <tr>\n",
       "      <th>70</th>\n",
       "      <td>C:/Users/sverrirhd/OneDrive/CAPPI\\CAPPI_202008...</td>\n",
       "      <td>C:/Users/sverrirhd/OneDrive/CAPPI\\descriptive_...</td>\n",
       "      <td>C:/Users/sverrirhd/OneDrive/CAPPI\\problematic_...</td>\n",
       "      <td>C:/Users/sverrirhd/OneDrive/CAPPI\\urls202008_h...</td>\n",
       "    </tr>\n",
       "    <tr>\n",
       "      <th>71</th>\n",
       "      <td>C:/Users/sverrirhd/OneDrive/CAPPI\\CAPPI_202009...</td>\n",
       "      <td>C:/Users/sverrirhd/OneDrive/CAPPI\\descriptive_...</td>\n",
       "      <td>C:/Users/sverrirhd/OneDrive/CAPPI\\problematic_...</td>\n",
       "      <td>C:/Users/sverrirhd/OneDrive/CAPPI\\urls202009_h...</td>\n",
       "    </tr>\n",
       "    <tr>\n",
       "      <th>72</th>\n",
       "      <td>C:/Users/sverrirhd/OneDrive/CAPPI\\CAPPI_202010...</td>\n",
       "      <td>C:/Users/sverrirhd/OneDrive/CAPPI\\descriptive_...</td>\n",
       "      <td>C:/Users/sverrirhd/OneDrive/CAPPI\\problematic_...</td>\n",
       "      <td>C:/Users/sverrirhd/OneDrive/CAPPI\\urls202010_h...</td>\n",
       "    </tr>\n",
       "    <tr>\n",
       "      <th>73</th>\n",
       "      <td>C:/Users/sverrirhd/OneDrive/CAPPI\\CAPPI_202011...</td>\n",
       "      <td>C:/Users/sverrirhd/OneDrive/CAPPI\\descriptive_...</td>\n",
       "      <td>C:/Users/sverrirhd/OneDrive/CAPPI\\problematic_...</td>\n",
       "      <td>C:/Users/sverrirhd/OneDrive/CAPPI\\urls202011_h...</td>\n",
       "    </tr>\n",
       "    <tr>\n",
       "      <th>74</th>\n",
       "      <td>C:/Users/sverrirhd/OneDrive/CAPPI\\CAPPI_202012...</td>\n",
       "      <td>C:/Users/sverrirhd/OneDrive/CAPPI\\descriptive_...</td>\n",
       "      <td>C:/Users/sverrirhd/OneDrive/CAPPI\\problematic_...</td>\n",
       "      <td>C:/Users/sverrirhd/OneDrive/CAPPI\\urls202012_h...</td>\n",
       "    </tr>\n",
       "  </tbody>\n",
       "</table>\n",
       "<p>75 rows × 4 columns</p>\n",
       "</div>"
      ],
      "text/plain": [
       "                                                CAPPI  \\\n",
       "0   C:/Users/sverrirhd/OneDrive/CAPPI\\CAPPI_201501...   \n",
       "1   C:/Users/sverrirhd/OneDrive/CAPPI\\CAPPI_201502...   \n",
       "2   C:/Users/sverrirhd/OneDrive/CAPPI\\CAPPI_201503...   \n",
       "3   C:/Users/sverrirhd/OneDrive/CAPPI\\CAPPI_201504...   \n",
       "4   C:/Users/sverrirhd/OneDrive/CAPPI\\CAPPI_201505...   \n",
       "..                                                ...   \n",
       "70  C:/Users/sverrirhd/OneDrive/CAPPI\\CAPPI_202008...   \n",
       "71  C:/Users/sverrirhd/OneDrive/CAPPI\\CAPPI_202009...   \n",
       "72  C:/Users/sverrirhd/OneDrive/CAPPI\\CAPPI_202010...   \n",
       "73  C:/Users/sverrirhd/OneDrive/CAPPI\\CAPPI_202011...   \n",
       "74  C:/Users/sverrirhd/OneDrive/CAPPI\\CAPPI_202012...   \n",
       "\n",
       "                                     descriptive_data  \\\n",
       "0   C:/Users/sverrirhd/OneDrive/CAPPI\\descriptive_...   \n",
       "1   C:/Users/sverrirhd/OneDrive/CAPPI\\descriptive_...   \n",
       "2   C:/Users/sverrirhd/OneDrive/CAPPI\\descriptive_...   \n",
       "3   C:/Users/sverrirhd/OneDrive/CAPPI\\descriptive_...   \n",
       "4   C:/Users/sverrirhd/OneDrive/CAPPI\\descriptive_...   \n",
       "..                                                ...   \n",
       "70  C:/Users/sverrirhd/OneDrive/CAPPI\\descriptive_...   \n",
       "71  C:/Users/sverrirhd/OneDrive/CAPPI\\descriptive_...   \n",
       "72  C:/Users/sverrirhd/OneDrive/CAPPI\\descriptive_...   \n",
       "73  C:/Users/sverrirhd/OneDrive/CAPPI\\descriptive_...   \n",
       "74  C:/Users/sverrirhd/OneDrive/CAPPI\\descriptive_...   \n",
       "\n",
       "                                  problematic_indexes  \\\n",
       "0   C:/Users/sverrirhd/OneDrive/CAPPI\\problematic_...   \n",
       "1   C:/Users/sverrirhd/OneDrive/CAPPI\\problematic_...   \n",
       "2   C:/Users/sverrirhd/OneDrive/CAPPI\\problematic_...   \n",
       "3   C:/Users/sverrirhd/OneDrive/CAPPI\\problematic_...   \n",
       "4   C:/Users/sverrirhd/OneDrive/CAPPI\\problematic_...   \n",
       "..                                                ...   \n",
       "70  C:/Users/sverrirhd/OneDrive/CAPPI\\problematic_...   \n",
       "71  C:/Users/sverrirhd/OneDrive/CAPPI\\problematic_...   \n",
       "72  C:/Users/sverrirhd/OneDrive/CAPPI\\problematic_...   \n",
       "73  C:/Users/sverrirhd/OneDrive/CAPPI\\problematic_...   \n",
       "74  C:/Users/sverrirhd/OneDrive/CAPPI\\problematic_...   \n",
       "\n",
       "                                                 urls  \n",
       "0    C:/Users/sverrirhd/OneDrive/CAPPI\\urls201501.npy  \n",
       "1    C:/Users/sverrirhd/OneDrive/CAPPI\\urls201502.npy  \n",
       "2    C:/Users/sverrirhd/OneDrive/CAPPI\\urls201503.npy  \n",
       "3    C:/Users/sverrirhd/OneDrive/CAPPI\\urls201504.npy  \n",
       "4    C:/Users/sverrirhd/OneDrive/CAPPI\\urls201505.npy  \n",
       "..                                                ...  \n",
       "70  C:/Users/sverrirhd/OneDrive/CAPPI\\urls202008_h...  \n",
       "71  C:/Users/sverrirhd/OneDrive/CAPPI\\urls202009_h...  \n",
       "72  C:/Users/sverrirhd/OneDrive/CAPPI\\urls202010_h...  \n",
       "73  C:/Users/sverrirhd/OneDrive/CAPPI\\urls202011_h...  \n",
       "74  C:/Users/sverrirhd/OneDrive/CAPPI\\urls202012_h...  \n",
       "\n",
       "[75 rows x 4 columns]"
      ]
     },
     "execution_count": 5,
     "metadata": {},
     "output_type": "execute_result"
    }
   ],
   "source": [
    "df_file_urls"
   ]
  },
  {
   "cell_type": "code",
   "execution_count": null,
   "metadata": {},
   "outputs": [],
   "source": []
  },
  {
   "cell_type": "code",
   "execution_count": 6,
   "metadata": {},
   "outputs": [],
   "source": [
    "cappi_test_0 = np.load(df_file_urls.loc[0,'CAPPI'])\n",
    "cappi_test_1 = np.load(df_file_urls.loc[1,'CAPPI'])\n",
    "cappi_test_2 = np.load(df_file_urls.loc[21,'CAPPI'])\n",
    "cappi_test_3 = np.load(df_file_urls.loc[22,'CAPPI'])\n",
    "\n",
    "cappi_test_same_1 = np.load(df_file_urls.loc[36,'CAPPI'])\n",
    "cappi_test_same_2 = np.load(df_file_urls.loc[37,'CAPPI'])\n",
    "\n",
    "descr_test_0 = np.load(df_file_urls.loc[0,'descriptive_data'],allow_pickle=True).item()\n",
    "descr_test_1 = np.load(df_file_urls.loc[1,'descriptive_data'],allow_pickle=True).item()\n",
    "descr_test_2 = np.load(df_file_urls.loc[21,'descriptive_data'],allow_pickle=True).item()\n",
    "descr_test_3 = np.load(df_file_urls.loc[22,'descriptive_data'],allow_pickle=True).item()\n",
    "\n",
    "descr_test_same_1 = np.load(df_file_urls.loc[36,'descriptive_data'],allow_pickle=True).item()\n",
    "descr_test_same_2 = np.load(df_file_urls.loc[37,'descriptive_data'],allow_pickle=True).item()\n",
    "\n",
    "urls_test_same_1 = np.load(df_file_urls.loc[36,'urls'],allow_pickle=True)\n",
    "urls_test_same_2 = np.load(df_file_urls.loc[37,'urls'],allow_pickle=True)"
   ]
  },
  {
   "cell_type": "code",
   "execution_count": 7,
   "metadata": {},
   "outputs": [],
   "source": [
    "import wradlib as wrl\n",
    "raw1 = wrl.io.read_generic_hdf5('C:/Users/sverrirhd/vedurgogn//radar\\\\201801\\\\NORPOL240_MIDNESHE_00_5_20180101_0025_O.H5')\n",
    "raw2 = wrl.io.read_generic_hdf5('C:/Users/sverrirhd/vedurgogn//radar\\\\201801\\\\2018010100250000dBZ.vol.hdf5')"
   ]
  },
  {
   "cell_type": "code",
   "execution_count": 8,
   "metadata": {},
   "outputs": [
    {
     "data": {
      "text/plain": [
       "({'attrs': {'gain': 0.4,\n",
       "   'nodata': 255.0,\n",
       "   'offset': -30.0,\n",
       "   'product': b'SCAN',\n",
       "   'quantity': b'DBZ',\n",
       "   'startdate': b'20180101',\n",
       "   'starttime': b'003115',\n",
       "   'stopdate': b'20180101',\n",
       "   'stoptime': b'003145',\n",
       "   'undetect': 0.0}},\n",
       " {'attrs': {'gain': 0.5,\n",
       "   'nodata': -1.0,\n",
       "   'offset': -32.0,\n",
       "   'quantity': b'DBZH',\n",
       "   'undetect': 0.0}})"
      ]
     },
     "execution_count": 8,
     "metadata": {},
     "output_type": "execute_result"
    }
   ],
   "source": [
    "raw1['scan1/what'],raw2['dataset1/data1/what']"
   ]
  },
  {
   "cell_type": "code",
   "execution_count": 9,
   "metadata": {},
   "outputs": [
    {
     "data": {
      "text/plain": [
       "dict_keys(['dataset1/data1/data', 'dataset1/data1/what', 'dataset1/how', 'dataset1/what', 'dataset1/where', 'dataset10/data1/data', 'dataset10/data1/what', 'dataset10/how', 'dataset10/what', 'dataset10/where', 'dataset11/data1/data', 'dataset11/data1/what', 'dataset11/how', 'dataset11/what', 'dataset11/where', 'dataset12/data1/data', 'dataset12/data1/what', 'dataset12/how', 'dataset12/what', 'dataset12/where', 'dataset2/data1/data', 'dataset2/data1/what', 'dataset2/how', 'dataset2/what', 'dataset2/where', 'dataset3/data1/data', 'dataset3/data1/what', 'dataset3/how', 'dataset3/what', 'dataset3/where', 'dataset4/data1/data', 'dataset4/data1/what', 'dataset4/how', 'dataset4/what', 'dataset4/where', 'dataset5/data1/data', 'dataset5/data1/what', 'dataset5/how', 'dataset5/what', 'dataset5/where', 'dataset6/data1/data', 'dataset6/data1/what', 'dataset6/how', 'dataset6/what', 'dataset6/where', 'dataset7/data1/data', 'dataset7/data1/what', 'dataset7/how', 'dataset7/what', 'dataset7/where', 'dataset8/data1/data', 'dataset8/data1/what', 'dataset8/how', 'dataset8/what', 'dataset8/where', 'dataset9/data1/data', 'dataset9/data1/what', 'dataset9/how', 'dataset9/what', 'dataset9/where', 'how', 'what', 'where'])"
      ]
     },
     "execution_count": 9,
     "metadata": {},
     "output_type": "execute_result"
    }
   ],
   "source": [
    "raw2.keys()"
   ]
  },
  {
   "cell_type": "code",
   "execution_count": 10,
   "metadata": {},
   "outputs": [
    {
     "data": {
      "text/plain": [
       "('C:/Users/sverrirhd/vedurgogn//radar\\\\201801\\\\NORPOL240_MIDNESHE_00_5_20180101_0025_O.H5',\n",
       " array(['C:/Users/sverrirhd/vedurgogn//radar\\\\201801\\\\2018010100250000dBZ.vol.hdf5'],\n",
       "       dtype=object))"
      ]
     },
     "execution_count": 10,
     "metadata": {},
     "output_type": "execute_result"
    }
   ],
   "source": [
    "urls_test_same_1[1][0],urls_test_same_2[1]\n"
   ]
  },
  {
   "cell_type": "code",
   "execution_count": 11,
   "metadata": {},
   "outputs": [
    {
     "data": {
      "image/png": "[encoded data removed]",
      "text/plain": [
       "<Figure size 432x288 with 1 Axes>"
      ]
     },
     "metadata": {
      "needs_background": "light"
     },
     "output_type": "display_data"
    }
   ],
   "source": [
    "plt.plot(cappi_test_same_1[1].sum(axis=1)*0.4 - 30)\n",
    "plt.plot(cappi_test_same_2[1].sum(axis=1)*0.5 - 32)\n",
    "plt.show()"
   ]
  },
  {
   "cell_type": "code",
   "execution_count": 51,
   "metadata": {},
   "outputs": [
    {
     "data": {
      "image/png": "[encoded data removed]",
      "text/plain": [
       "<Figure size 432x288 with 1 Axes>"
      ]
     },
     "metadata": {
      "needs_background": "light"
     },
     "output_type": "display_data"
    }
   ],
   "source": [
    "plt.imshow(cappi_test_same_1[1] == cappi_test_same_2[1])\n",
    "plt.show()"
   ]
  },
  {
   "cell_type": "markdown",
   "metadata": {},
   "source": [
    "# Images"
   ]
  },
  {
   "cell_type": "code",
   "execution_count": null,
   "metadata": {},
   "outputs": [],
   "source": [
    "URL_imgs = './images/cappi_samples/'\n",
    "\n",
    "for i in range(100,900):\n",
    "    f,axes = plt.subplots(2,2,figsize=(12,12))\n",
    "    axes = axes.ravel()\n",
    "    axes[0].imshow(cappi_test_0[i])\n",
    "    axes[1].imshow(cappi_test_1[i])\n",
    "    axes[2].imshow(cappi_test_2[i])\n",
    "    axes[3].imshow(cappi_test_3[i])\n",
    "    plt.savefig(f'{URL_imgs}samples_{i}.png')"
   ]
  },
  {
   "cell_type": "markdown",
   "metadata": {},
   "source": [
    "# Cross-section"
   ]
  },
  {
   "cell_type": "code",
   "execution_count": null,
   "metadata": {},
   "outputs": [],
   "source": [
    "CAPPI_list = []\n",
    "for i in range(24):\n",
    "    CAPPI = np.load(urls_cappi[i])\n",
    "    CAPPI_list.append(CAPPI)\n",
    "CAPPI_tensor = np.concatenate(CAPPI_list)\n",
    "del CAPPI_list\n",
    "# del CAPPI_tensor"
   ]
  },
  {
   "cell_type": "code",
   "execution_count": null,
   "metadata": {},
   "outputs": [],
   "source": [
    "random_number = np.random.choice(range(len(CAPPI_tensor)))\n",
    "random_image = CAPPI_tensor[random_number]\n",
    "plt.imshow(random_image)"
   ]
  },
  {
   "cell_type": "code",
   "execution_count": null,
   "metadata": {},
   "outputs": [],
   "source": [
    "plt.hist(CAPPI_tensor[:,200:280,200:280].ravel(),bins = range(255))\n",
    "plt.yscale('log')\n",
    "plt.show()"
   ]
  },
  {
   "cell_type": "code",
   "execution_count": null,
   "metadata": {},
   "outputs": [],
   "source": [
    "arbitrary_pixel = CAPPI_tensor[:,250,250]\n",
    "\n",
    "f,axes = plt.subplots(1,2,figsize=(12,5))\n",
    "axes = axes.ravel()\n",
    "axes[0].plot(arbitrary_pixel)\n",
    "\n",
    "axes[1].hist(arbitrary_pixel,bins = range(255))\n",
    "axes[1].set_yscale('log')\n",
    "\n",
    "\n",
    "plt.show()"
   ]
  }
 ],
 "metadata": {
  "interpreter": {
   "hash": "37b26b0919f3eebb53e1fb9d1c196dfd7351d15ccc4a50e8438da0372db545ef"
  },
  "kernelspec": {
   "display_name": "Python 3.8.10 64-bit ('gis_wradlib_torch': conda)",
   "name": "python3"
  },
  "language_info": {
   "codemirror_mode": {
    "name": "ipython",
    "version": 3
   },
   "file_extension": ".py",
   "mimetype": "text/x-python",
   "name": "python",
   "nbconvert_exporter": "python",
   "pygments_lexer": "ipython3",
   "version": "3.8.10"
  },
  "orig_nbformat": 4
 },
 "nbformat": 4,
 "nbformat_minor": 2
}

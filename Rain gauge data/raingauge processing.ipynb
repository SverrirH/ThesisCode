{
 "cells": [
  {
   "cell_type": "code",
   "execution_count": 1,
   "metadata": {},
   "outputs": [],
   "source": [
    "import scipy\n",
    "import datetime\n",
    "import re\n",
    "import wandb\n",
    "import os\n",
    "import sklearn\n",
    "\n",
    "import matplotlib.pyplot as plt\n",
    "import pandas as pd\n",
    "import numpy as np\n",
    "import tensorflow as tf\n",
    "import tensorflow_probability as tfp\n",
    "import seaborn as sns\n",
    "\n",
    "from glob import glob\n"
   ]
  },
  {
   "cell_type": "code",
   "execution_count": 2,
   "metadata": {},
   "outputs": [],
   "source": [
    "URL_gauge_data = 'C:/Users/sverrirhd/Google Drive/Skóli/DTU/Thesis/Data/Fyrir sverri folderinn/'\n",
    "\n",
    "# DIR_rain_gauges_raw = glob(URL_gauge_data + '*cleaned*')"
   ]
  },
  {
   "cell_type": "code",
   "execution_count": 3,
   "metadata": {},
   "outputs": [
    {
     "name": "stderr",
     "output_type": "stream",
     "text": [
      "C:\\Users\\SVERRI~1\\AppData\\Local\\Temp/ipykernel_8212/1518193704.py:3: DtypeWarning: Columns (2) have mixed types.Specify dtype option on import or set low_memory=False.\n",
      "  tmp_list = [pd.read_csv(i,sep='\\t') for i in DIR_rain_gauges_raw]\n"
     ]
    }
   ],
   "source": [
    "DIR_rain_gauges_raw = glob(URL_gauge_data + '*hragogn.csv')\n",
    "rain_gauage_ids = [re.findall('[0-9][0-9][0-9][0-9]',i)[0] for i in DIR_rain_gauges_raw]\n",
    "tmp_list = [pd.read_csv(i,sep='\\t') for i in DIR_rain_gauges_raw]\n",
    "gauges_raw = pd.concat(tmp_list)\n",
    "gauges_raw.R = gauges_raw.R.replace({'(null)':np.nan}).astype('float')\n",
    "gauges_raw.loc[:,'TIMI'] = pd.to_datetime(gauges_raw.loc[:,'TIMI'])\n",
    "gauges = gauges_raw.pivot_table(values='R',columns='STOD',index = 'TIMI')\n",
    "gauges = gauges.sort_index()"
   ]
  },
  {
   "cell_type": "code",
   "execution_count": 4,
   "metadata": {},
   "outputs": [],
   "source": [
    "rainfall_raw = gauges.diff()\n",
    "rainfall_raw[rainfall_raw < 0] = 0\n",
    "rainfall_raw[rainfall_raw > 50] = 0"
   ]
  },
  {
   "cell_type": "code",
   "execution_count": 5,
   "metadata": {},
   "outputs": [],
   "source": [
    "# plt.figure(figsize=(25,8))\n",
    "# plt.plot(gauges.loc[:,1475])"
   ]
  },
  {
   "cell_type": "code",
   "execution_count": 6,
   "metadata": {},
   "outputs": [],
   "source": [
    "# plt.figure(figsize=(25,8))\n",
    "# plt.plot(gauges.loc[:,1475])\n",
    "# plt.ylim(460,520)\n",
    "# plt.xlim(datetime.datetime(2020,12,6),datetime.datetime(2020,12,8))\n",
    "# plt.twinx().plot(gauges.loc[:,1475].diff(),color='red')\n",
    "# plt.ylim(-1,1)\n"
   ]
  },
  {
   "cell_type": "code",
   "execution_count": 7,
   "metadata": {},
   "outputs": [],
   "source": [
    "# plt.figure(figsize=(25,8))\n",
    "# plt.plot(gauges.loc[:,1475])\n",
    "# plt.ylim(460,520)\n",
    "# plt.xlim(datetime.datetime(2021,1,1),datetime.datetime(2021,1,10))\n",
    "# plt.twinx().plot(gauges.loc[:,1475].diff(),color='red')\n",
    "# plt.ylim(-1,1)\n"
   ]
  },
  {
   "cell_type": "code",
   "execution_count": 8,
   "metadata": {},
   "outputs": [],
   "source": [
    "# plt.figure(figsize=(15,5))\n",
    "# plt.plot(rainfall_raw.cumsum())\n",
    "# plt.legend(rainfall_raw.columns)\n",
    "# plt.ylim(0,20_000)\n",
    "# plt.show()"
   ]
  },
  {
   "cell_type": "code",
   "execution_count": 9,
   "metadata": {},
   "outputs": [],
   "source": [
    "# rainfall_raw = gauges.diff()\n",
    "# rainfall_raw[rainfall_raw < 3] = 0"
   ]
  },
  {
   "cell_type": "code",
   "execution_count": 10,
   "metadata": {},
   "outputs": [],
   "source": [
    "# plt.figure(figsize=(15,5))\n",
    "# plt.plot(rainfall_raw.cumsum())\n",
    "# plt.legend(rainfall_raw.columns)\n",
    "# plt.show()"
   ]
  },
  {
   "cell_type": "code",
   "execution_count": 11,
   "metadata": {},
   "outputs": [],
   "source": [
    "# gauges"
   ]
  },
  {
   "cell_type": "code",
   "execution_count": 12,
   "metadata": {},
   "outputs": [
    {
     "data": {
      "image/png": "[encoded data removed]",
      "text/plain": [
       "<Figure size 432x288 with 1 Axes>"
      ]
     },
     "metadata": {
      "needs_background": "light"
     },
     "output_type": "display_data"
    }
   ],
   "source": [
    "rainfall_raw = gauges.diff()\n",
    "plt.hist(rainfall_raw.values.ravel(),bins= np.arange(-20,0,0.2))\n",
    "plt.yscale('log')\n",
    "plt.show()"
   ]
  },
  {
   "cell_type": "code",
   "execution_count": 13,
   "metadata": {},
   "outputs": [
    {
     "data": {
      "image/png": "[encoded data removed]",
      "text/plain": [
       "<Figure size 432x288 with 1 Axes>"
      ]
     },
     "metadata": {
      "needs_background": "light"
     },
     "output_type": "display_data"
    }
   ],
   "source": [
    "rainfall_raw = gauges.diff()\n",
    "plt.hist(rainfall_raw.values.ravel(),bins= np.arange(-20,20,0.1))\n",
    "plt.yscale('log')\n",
    "plt.show()"
   ]
  },
  {
   "cell_type": "code",
   "execution_count": 14,
   "metadata": {},
   "outputs": [],
   "source": [
    "hour_start = gauges.index.minute == 0\n",
    "hourly_rainfall = gauges.loc[hour_start].diff()\n",
    "hourly_rainfall[hourly_rainfall<0] = 0\n",
    "# hourly_rainfall.plot()"
   ]
  },
  {
   "cell_type": "code",
   "execution_count": 15,
   "metadata": {},
   "outputs": [],
   "source": [
    "# (~hourly_rainfall.isna()).sum()"
   ]
  },
  {
   "cell_type": "code",
   "execution_count": 16,
   "metadata": {},
   "outputs": [],
   "source": [
    "# gauges.resample('1h').mean().diff().plot()"
   ]
  },
  {
   "cell_type": "code",
   "execution_count": 17,
   "metadata": {},
   "outputs": [],
   "source": [
    "# gauges.diff(6).resample('1h').mean().plot()"
   ]
  },
  {
   "cell_type": "code",
   "execution_count": 18,
   "metadata": {},
   "outputs": [],
   "source": [
    "# from missingno import matrix \n",
    "# matrix(gauges)"
   ]
  },
  {
   "cell_type": "code",
   "execution_count": 19,
   "metadata": {},
   "outputs": [],
   "source": [
    "\n",
    "DIR_rain_gauges_raw = glob(URL_gauge_data + '*yfirfarid*')\n",
    "df_yfirfarid = pd.concat([pd.read_csv(DIR_rain_gauges_raw[0],sep = '\\t'),pd.read_csv(DIR_rain_gauges_raw[1],sep = '\\t')])"
   ]
  },
  {
   "cell_type": "code",
   "execution_count": 20,
   "metadata": {},
   "outputs": [],
   "source": [
    "df_yfirfarid.R = df_yfirfarid.R.replace({'(null)':np.nan}).astype('float')\n",
    "df_yfirfarid.loc[:,'TIMI'] = pd.to_datetime(df_yfirfarid.loc[:,'TIMI'])\n",
    "hourly_rainfall_manual = df_yfirfarid.pivot_table(values='R',columns='STOD',index = 'TIMI')\n",
    "hourly_rainfall_manual = hourly_rainfall_manual.sort_index()"
   ]
  },
  {
   "cell_type": "code",
   "execution_count": null,
   "metadata": {},
   "outputs": [],
   "source": [
    "hourly_rainfall_manual = hourly_rainfall_manual.rename(lambda x : str(x) + '_R_manual',axis=1)\n",
    "hourly_rainfall = hourly_rainfall.rename(lambda x : str(x) + '_R_raw',axis=1)"
   ]
  },
  {
   "cell_type": "code",
   "execution_count": null,
   "metadata": {},
   "outputs": [],
   "source": [
    "gauges = pd.concat([hourly_rainfall_manual,hourly_rainfall],axis=1)\n",
    "gauges_subset = gauges.loc[datetime.datetime(2015,1,1):datetime.datetime(2020,12,31,23,59,59)]\n",
    "bad_sensors = gauges_subset.isna().mean() < 0.1\n",
    "gauges_subset = gauges_subset.loc[:,bad_sensors]\n",
    "# matrix(gauges_subset)"
   ]
  },
  {
   "cell_type": "code",
   "execution_count": null,
   "metadata": {},
   "outputs": [],
   "source": [
    "gauges_subset.to_pickle('C:/Users/sverrirhd/Google Drive/Skóli/DTU/Thesis/Programming/Experiments/Data/rain_gauges_combined.pkl')"
   ]
  },
  {
   "cell_type": "code",
   "execution_count": null,
   "metadata": {},
   "outputs": [],
   "source": []
  },
  {
   "cell_type": "code",
   "execution_count": null,
   "metadata": {},
   "outputs": [],
   "source": [
    "\n",
    "plt.scatter(gauges_subset.loc[:,'1475_R_raw'],gauges_subset.loc[:,'1475_R_manual'],s = 0.5)\n",
    "plt.xlim(0,10)\n",
    "plt.ylim(0,10)"
   ]
  },
  {
   "cell_type": "code",
   "execution_count": 408,
   "metadata": {},
   "outputs": [],
   "source": [
    "# hourly_rainfall"
   ]
  },
  {
   "cell_type": "code",
   "execution_count": 403,
   "metadata": {},
   "outputs": [
    {
     "data": {
      "text/plain": [
       "(-0.5, 0.5)"
      ]
     },
     "execution_count": 403,
     "metadata": {},
     "output_type": "execute_result"
    },
    {
     "data": {
      "image/png": "[encoded data removed]",
      "text/plain": [
       "<Figure size 432x288 with 1 Axes>"
      ]
     },
     "metadata": {
      "needs_background": "light"
     },
     "output_type": "display_data"
    }
   ],
   "source": [
    "rainfall_raw = gauges.copy().diff()\n",
    "rainfall_raw[rainfall_raw < 0] = 0\n",
    "rainfall_raw[rainfall_raw > 50] = 0\n",
    "\n",
    "hour_start = gauges.index.minute == 0\n",
    "hourly_rainfall = gauges.loc[hour_start].diff()\n",
    "# hourly_rainfall.index =  gauges.loc[gauges.index.minute == 0]\n",
    "# hourly_rainfall = gauges.diff().resample('1h').mean()\n",
    "# hourly_rainfall[hourly_rainfall<0] = 0\n",
    "# hourly_rainfall.plot()\n",
    "\n",
    "\n",
    "\n",
    "DIR_rain_gauges_raw = glob(URL_gauge_data + '*yfirfarid*')\n",
    "df_yfirfarid = pd.concat([pd.read_csv(DIR_rain_gauges_raw[0],sep = '\\t'),pd.read_csv(DIR_rain_gauges_raw[1],sep = '\\t')])\n",
    "\n",
    "df_yfirfarid.R = df_yfirfarid.R.replace({'(null)':np.nan}).astype('float')\n",
    "df_yfirfarid.loc[:,'TIMI'] = pd.to_datetime(df_yfirfarid.loc[:,'TIMI'])\n",
    "hourly_rainfall_manual = df_yfirfarid.pivot_table(values='R',columns='STOD',index = 'TIMI')\n",
    "hourly_rainfall_manual = hourly_rainfall_manual.sort_index()\n",
    "\n",
    "hourly_rainfall_manual = hourly_rainfall_manual.rename(lambda x : str(x) + '_R_manual',axis=1)\n",
    "hourly_rainfall = hourly_rainfall.rename(lambda x : str(x) + '_R_raw',axis=1)\n",
    "\n",
    "combined_manual_raw = pd.concat([hourly_rainfall_manual,hourly_rainfall],axis=1)\n",
    "gauges_subset = combined_manual_raw.loc[datetime.datetime(2015,1,1):datetime.datetime(2020,12,31,23,59,59)]\n",
    "bad_sensors = gauges_subset.isna().mean() < 0.1\n",
    "gauges_subset = gauges_subset.loc[:,bad_sensors]\n",
    "\n",
    "\n",
    "plt.plot(gauges_subset.loc[:,'1475_R_raw']-gauges_subset.loc[:,'1475_R_manual'])\n",
    "plt.ylim(-0.5,0.5)"
   ]
  },
  {
   "cell_type": "code",
   "execution_count": 404,
   "metadata": {},
   "outputs": [
    {
     "data": {
      "image/png": "[encoded data removed]",
      "text/plain": [
       "<Figure size 432x288 with 1 Axes>"
      ]
     },
     "metadata": {
      "needs_background": "light"
     },
     "output_type": "display_data"
    }
   ],
   "source": [
    "plt.hist(gauges_subset.loc[:,'1475_R_manual'],bins=np.arange(-5,5,0.2))\n",
    "plt.hist(gauges_subset.loc[:,'1475_R_raw'],bins=np.arange(-5,5,0.2))\n",
    "plt.yscale('log')"
   ]
  },
  {
   "cell_type": "code",
   "execution_count": 405,
   "metadata": {},
   "outputs": [
    {
     "data": {
      "text/plain": [
       "STOD\n",
       "1475_R_raw                      NaT\n",
       "1475_R_manual   2016-01-22 13:00:00\n",
       "dtype: datetime64[ns]"
      ]
     },
     "execution_count": 405,
     "metadata": {},
     "output_type": "execute_result"
    }
   ],
   "source": [
    "gauges_subset.loc[:,['1475_R_raw','1475_R_manual']].iloc[:10000].diff(axis=1).idxmax()"
   ]
  },
  {
   "cell_type": "code",
   "execution_count": 407,
   "metadata": {},
   "outputs": [
    {
     "data": {
      "text/html": [
       "<div>\n",
       "<style scoped>\n",
       "    .dataframe tbody tr th:only-of-type {\n",
       "        vertical-align: middle;\n",
       "    }\n",
       "\n",
       "    .dataframe tbody tr th {\n",
       "        vertical-align: top;\n",
       "    }\n",
       "\n",
       "    .dataframe thead th {\n",
       "        text-align: right;\n",
       "    }\n",
       "</style>\n",
       "<table border=\"1\" class=\"dataframe\">\n",
       "  <thead>\n",
       "    <tr style=\"text-align: right;\">\n",
       "      <th>STOD</th>\n",
       "      <th>1475_R_raw</th>\n",
       "      <th>1475_R_manual</th>\n",
       "    </tr>\n",
       "    <tr>\n",
       "      <th>TIMI</th>\n",
       "      <th></th>\n",
       "      <th></th>\n",
       "    </tr>\n",
       "  </thead>\n",
       "  <tbody>\n",
       "    <tr>\n",
       "      <th>2016-01-22 13:00:00</th>\n",
       "      <td>-404.7</td>\n",
       "      <td>0.4</td>\n",
       "    </tr>\n",
       "    <tr>\n",
       "      <th>2016-01-22 14:00:00</th>\n",
       "      <td>0.0</td>\n",
       "      <td>0.0</td>\n",
       "    </tr>\n",
       "    <tr>\n",
       "      <th>2016-01-22 15:00:00</th>\n",
       "      <td>0.7</td>\n",
       "      <td>0.7</td>\n",
       "    </tr>\n",
       "    <tr>\n",
       "      <th>2016-01-22 16:00:00</th>\n",
       "      <td>0.3</td>\n",
       "      <td>0.3</td>\n",
       "    </tr>\n",
       "    <tr>\n",
       "      <th>2016-01-22 17:00:00</th>\n",
       "      <td>0.0</td>\n",
       "      <td>0.0</td>\n",
       "    </tr>\n",
       "    <tr>\n",
       "      <th>2016-01-22 18:00:00</th>\n",
       "      <td>-0.1</td>\n",
       "      <td>0.0</td>\n",
       "    </tr>\n",
       "    <tr>\n",
       "      <th>2016-01-22 19:00:00</th>\n",
       "      <td>0.0</td>\n",
       "      <td>0.0</td>\n",
       "    </tr>\n",
       "    <tr>\n",
       "      <th>2016-01-22 20:00:00</th>\n",
       "      <td>0.4</td>\n",
       "      <td>0.4</td>\n",
       "    </tr>\n",
       "    <tr>\n",
       "      <th>2016-01-22 21:00:00</th>\n",
       "      <td>0.3</td>\n",
       "      <td>0.3</td>\n",
       "    </tr>\n",
       "    <tr>\n",
       "      <th>2016-01-22 22:00:00</th>\n",
       "      <td>0.0</td>\n",
       "      <td>0.0</td>\n",
       "    </tr>\n",
       "    <tr>\n",
       "      <th>2016-01-22 23:00:00</th>\n",
       "      <td>0.2</td>\n",
       "      <td>0.2</td>\n",
       "    </tr>\n",
       "    <tr>\n",
       "      <th>2016-01-23 00:00:00</th>\n",
       "      <td>0.0</td>\n",
       "      <td>0.0</td>\n",
       "    </tr>\n",
       "    <tr>\n",
       "      <th>2016-01-23 01:00:00</th>\n",
       "      <td>0.0</td>\n",
       "      <td>0.0</td>\n",
       "    </tr>\n",
       "    <tr>\n",
       "      <th>2016-01-23 02:00:00</th>\n",
       "      <td>-0.1</td>\n",
       "      <td>0.0</td>\n",
       "    </tr>\n",
       "    <tr>\n",
       "      <th>2016-01-23 03:00:00</th>\n",
       "      <td>0.2</td>\n",
       "      <td>0.2</td>\n",
       "    </tr>\n",
       "    <tr>\n",
       "      <th>2016-01-23 04:00:00</th>\n",
       "      <td>-0.1</td>\n",
       "      <td>0.0</td>\n",
       "    </tr>\n",
       "    <tr>\n",
       "      <th>2016-01-23 05:00:00</th>\n",
       "      <td>0.4</td>\n",
       "      <td>0.4</td>\n",
       "    </tr>\n",
       "    <tr>\n",
       "      <th>2016-01-23 06:00:00</th>\n",
       "      <td>0.0</td>\n",
       "      <td>0.0</td>\n",
       "    </tr>\n",
       "    <tr>\n",
       "      <th>2016-01-23 07:00:00</th>\n",
       "      <td>0.1</td>\n",
       "      <td>0.0</td>\n",
       "    </tr>\n",
       "    <tr>\n",
       "      <th>2016-01-23 08:00:00</th>\n",
       "      <td>0.0</td>\n",
       "      <td>0.0</td>\n",
       "    </tr>\n",
       "  </tbody>\n",
       "</table>\n",
       "</div>"
      ],
      "text/plain": [
       "STOD                 1475_R_raw  1475_R_manual\n",
       "TIMI                                          \n",
       "2016-01-22 13:00:00      -404.7            0.4\n",
       "2016-01-22 14:00:00         0.0            0.0\n",
       "2016-01-22 15:00:00         0.7            0.7\n",
       "2016-01-22 16:00:00         0.3            0.3\n",
       "2016-01-22 17:00:00         0.0            0.0\n",
       "2016-01-22 18:00:00        -0.1            0.0\n",
       "2016-01-22 19:00:00         0.0            0.0\n",
       "2016-01-22 20:00:00         0.4            0.4\n",
       "2016-01-22 21:00:00         0.3            0.3\n",
       "2016-01-22 22:00:00         0.0            0.0\n",
       "2016-01-22 23:00:00         0.2            0.2\n",
       "2016-01-23 00:00:00         0.0            0.0\n",
       "2016-01-23 01:00:00         0.0            0.0\n",
       "2016-01-23 02:00:00        -0.1            0.0\n",
       "2016-01-23 03:00:00         0.2            0.2\n",
       "2016-01-23 04:00:00        -0.1            0.0\n",
       "2016-01-23 05:00:00         0.4            0.4\n",
       "2016-01-23 06:00:00         0.0            0.0\n",
       "2016-01-23 07:00:00         0.1            0.0\n",
       "2016-01-23 08:00:00         0.0            0.0"
      ]
     },
     "execution_count": 407,
     "metadata": {},
     "output_type": "execute_result"
    }
   ],
   "source": [
    "gauges_subset.loc['2016-01-22 13:00:00':,['1475_R_raw','1475_R_manual']].head(20)"
   ]
  },
  {
   "cell_type": "code",
   "execution_count": 371,
   "metadata": {},
   "outputs": [
    {
     "data": {
      "text/html": [
       "<div>\n",
       "<style scoped>\n",
       "    .dataframe tbody tr th:only-of-type {\n",
       "        vertical-align: middle;\n",
       "    }\n",
       "\n",
       "    .dataframe tbody tr th {\n",
       "        vertical-align: top;\n",
       "    }\n",
       "\n",
       "    .dataframe thead th {\n",
       "        text-align: right;\n",
       "    }\n",
       "</style>\n",
       "<table border=\"1\" class=\"dataframe\">\n",
       "  <thead>\n",
       "    <tr style=\"text-align: right;\">\n",
       "      <th>STOD</th>\n",
       "      <th>1475_R_raw</th>\n",
       "      <th>1475_R_manual</th>\n",
       "    </tr>\n",
       "    <tr>\n",
       "      <th>TIMI</th>\n",
       "      <th></th>\n",
       "      <th></th>\n",
       "    </tr>\n",
       "  </thead>\n",
       "  <tbody>\n",
       "    <tr>\n",
       "      <th>2016-10-05 16:00:00</th>\n",
       "      <td>1.3</td>\n",
       "      <td>1.30</td>\n",
       "    </tr>\n",
       "    <tr>\n",
       "      <th>2016-10-05 17:00:00</th>\n",
       "      <td>-308.2</td>\n",
       "      <td>2.16</td>\n",
       "    </tr>\n",
       "    <tr>\n",
       "      <th>2016-10-05 18:00:00</th>\n",
       "      <td>3.4</td>\n",
       "      <td>3.40</td>\n",
       "    </tr>\n",
       "    <tr>\n",
       "      <th>2016-10-05 19:00:00</th>\n",
       "      <td>2.5</td>\n",
       "      <td>2.50</td>\n",
       "    </tr>\n",
       "    <tr>\n",
       "      <th>2016-10-05 20:00:00</th>\n",
       "      <td>2.7</td>\n",
       "      <td>2.70</td>\n",
       "    </tr>\n",
       "    <tr>\n",
       "      <th>2016-10-05 21:00:00</th>\n",
       "      <td>2.1</td>\n",
       "      <td>2.10</td>\n",
       "    </tr>\n",
       "    <tr>\n",
       "      <th>2016-10-05 22:00:00</th>\n",
       "      <td>1.5</td>\n",
       "      <td>1.50</td>\n",
       "    </tr>\n",
       "    <tr>\n",
       "      <th>2016-10-05 23:00:00</th>\n",
       "      <td>1.5</td>\n",
       "      <td>1.50</td>\n",
       "    </tr>\n",
       "    <tr>\n",
       "      <th>2016-10-06 00:00:00</th>\n",
       "      <td>0.8</td>\n",
       "      <td>0.80</td>\n",
       "    </tr>\n",
       "    <tr>\n",
       "      <th>2016-10-06 01:00:00</th>\n",
       "      <td>0.8</td>\n",
       "      <td>0.80</td>\n",
       "    </tr>\n",
       "    <tr>\n",
       "      <th>2016-10-06 02:00:00</th>\n",
       "      <td>0.5</td>\n",
       "      <td>0.50</td>\n",
       "    </tr>\n",
       "    <tr>\n",
       "      <th>2016-10-06 03:00:00</th>\n",
       "      <td>0.5</td>\n",
       "      <td>0.50</td>\n",
       "    </tr>\n",
       "    <tr>\n",
       "      <th>2016-10-06 04:00:00</th>\n",
       "      <td>0.1</td>\n",
       "      <td>0.00</td>\n",
       "    </tr>\n",
       "    <tr>\n",
       "      <th>2016-10-06 05:00:00</th>\n",
       "      <td>0.0</td>\n",
       "      <td>0.00</td>\n",
       "    </tr>\n",
       "    <tr>\n",
       "      <th>2016-10-06 06:00:00</th>\n",
       "      <td>0.0</td>\n",
       "      <td>0.00</td>\n",
       "    </tr>\n",
       "    <tr>\n",
       "      <th>2016-10-06 07:00:00</th>\n",
       "      <td>0.0</td>\n",
       "      <td>0.00</td>\n",
       "    </tr>\n",
       "    <tr>\n",
       "      <th>2016-10-06 08:00:00</th>\n",
       "      <td>0.0</td>\n",
       "      <td>0.00</td>\n",
       "    </tr>\n",
       "    <tr>\n",
       "      <th>2016-10-06 09:00:00</th>\n",
       "      <td>0.0</td>\n",
       "      <td>0.00</td>\n",
       "    </tr>\n",
       "    <tr>\n",
       "      <th>2016-10-06 10:00:00</th>\n",
       "      <td>0.0</td>\n",
       "      <td>0.00</td>\n",
       "    </tr>\n",
       "    <tr>\n",
       "      <th>2016-10-06 11:00:00</th>\n",
       "      <td>-0.1</td>\n",
       "      <td>0.00</td>\n",
       "    </tr>\n",
       "  </tbody>\n",
       "</table>\n",
       "</div>"
      ],
      "text/plain": [
       "STOD                 1475_R_raw  1475_R_manual\n",
       "TIMI                                          \n",
       "2016-10-05 16:00:00         1.3           1.30\n",
       "2016-10-05 17:00:00      -308.2           2.16\n",
       "2016-10-05 18:00:00         3.4           3.40\n",
       "2016-10-05 19:00:00         2.5           2.50\n",
       "2016-10-05 20:00:00         2.7           2.70\n",
       "2016-10-05 21:00:00         2.1           2.10\n",
       "2016-10-05 22:00:00         1.5           1.50\n",
       "2016-10-05 23:00:00         1.5           1.50\n",
       "2016-10-06 00:00:00         0.8           0.80\n",
       "2016-10-06 01:00:00         0.8           0.80\n",
       "2016-10-06 02:00:00         0.5           0.50\n",
       "2016-10-06 03:00:00         0.5           0.50\n",
       "2016-10-06 04:00:00         0.1           0.00\n",
       "2016-10-06 05:00:00         0.0           0.00\n",
       "2016-10-06 06:00:00         0.0           0.00\n",
       "2016-10-06 07:00:00         0.0           0.00\n",
       "2016-10-06 08:00:00         0.0           0.00\n",
       "2016-10-06 09:00:00         0.0           0.00\n",
       "2016-10-06 10:00:00         0.0           0.00\n",
       "2016-10-06 11:00:00        -0.1           0.00"
      ]
     },
     "execution_count": 371,
     "metadata": {},
     "output_type": "execute_result"
    }
   ],
   "source": [
    "gauges_subset.loc['2016-10-05 16:00:00':,['1475_R_raw','1475_R_manual']].head(20)"
   ]
  },
  {
   "cell_type": "code",
   "execution_count": 391,
   "metadata": {},
   "outputs": [
    {
     "data": {
      "text/plain": [
       "TIMI\n",
       "2016-10-05 15:00:00    NaN\n",
       "2016-10-05 15:10:00    NaN\n",
       "2016-10-05 15:20:00    NaN\n",
       "2016-10-05 15:30:00    NaN\n",
       "2016-10-05 15:40:00    NaN\n",
       "2016-10-05 15:50:00    NaN\n",
       "2016-10-05 16:00:00    2.8\n",
       "2016-10-05 16:10:00    3.0\n",
       "2016-10-05 16:20:00    4.2\n",
       "2016-10-05 16:30:00    4.2\n",
       "2016-10-05 16:40:00    2.9\n",
       "2016-10-05 16:50:00    2.9\n",
       "2016-10-05 17:00:00    3.4\n",
       "2016-10-05 17:10:00    2.9\n",
       "2016-10-05 17:20:00    2.2\n",
       "2016-10-05 17:30:00    2.7\n",
       "2016-10-05 17:40:00    2.8\n",
       "2016-10-05 17:50:00    3.4\n",
       "2016-10-05 18:00:00    3.4\n",
       "Name: 1475, dtype: float64"
      ]
     },
     "execution_count": 391,
     "metadata": {},
     "output_type": "execute_result"
    }
   ],
   "source": [
    "tmp = gauges.loc['2016-10-05 15:00:00':'2016-10-05 18:00:00',1475].diff()\n",
    "tmp[tmp < 0] = 0\n",
    "# np.nan\n",
    "# tmp.interpolate()\n",
    "tmp.rolling(6).sum()\n",
    "# tmp"
   ]
  },
  {
   "cell_type": "code",
   "execution_count": null,
   "metadata": {},
   "outputs": [],
   "source": []
  },
  {
   "cell_type": "code",
   "execution_count": 274,
   "metadata": {},
   "outputs": [
    {
     "data": {
      "text/plain": [
       "(0.0, 10.0)"
      ]
     },
     "execution_count": 274,
     "metadata": {},
     "output_type": "execute_result"
    },
    {
     "data": {
      "image/png": "[encoded data removed]",
      "text/plain": [
       "<Figure size 432x288 with 1 Axes>"
      ]
     },
     "metadata": {
      "needs_background": "light"
     },
     "output_type": "display_data"
    }
   ],
   "source": [
    "\n",
    "plt.scatter(gauges_subset.loc[:,'1475_R_raw'],gauges_subset.loc[:,'1475_R_manual'],s = 0.5)\n",
    "plt.xlim(0,10)\n",
    "plt.ylim(0,10)"
   ]
  },
  {
   "cell_type": "code",
   "execution_count": 257,
   "metadata": {},
   "outputs": [
    {
     "data": {
      "text/plain": [
       "(-0.1, 0.5)"
      ]
     },
     "execution_count": 257,
     "metadata": {},
     "output_type": "execute_result"
    },
    {
     "data": {
      "image/png": "[encoded data removed]",
      "text/plain": [
       "<Figure size 432x288 with 1 Axes>"
      ]
     },
     "metadata": {
      "needs_background": "light"
     },
     "output_type": "display_data"
    }
   ],
   "source": [
    "plt.plot(gauges_subset.loc[:,'1475_R_raw']-gauges_subset.loc[:,'1475_R_manual'])\n",
    "plt.ylim(-0.1,0.5)"
   ]
  },
  {
   "cell_type": "code",
   "execution_count": null,
   "metadata": {},
   "outputs": [
    {
     "data": {
      "text/plain": [
       "(309, 315, 344, 350)"
      ]
     },
     "metadata": {},
     "output_type": "display_data"
    }
   ],
   "source": [
    "GEL_gauge_idx-gel_margin,GEL_gauge_idx+gel_margin,GEL_gauge_idy-gel_margin,GEL_gauge_idy+gel_margin"
   ]
  }
 ],
 "metadata": {
  "interpreter": {
   "hash": "e808359d6018b265e552fe2e6dacfcb43580f64fd34b17ba0141ad3129b8a5ae"
  },
  "kernelspec": {
   "display_name": "Python 3.9.5 64-bit ('thesis': conda)",
   "name": "python3"
  },
  "language_info": {
   "codemirror_mode": {
    "name": "ipython",
    "version": 3
   },
   "file_extension": ".py",
   "mimetype": "text/x-python",
   "name": "python",
   "nbconvert_exporter": "python",
   "pygments_lexer": "ipython3",
   "version": "3.9.5"
  },
  "orig_nbformat": 4
 },
 "nbformat": 4,
 "nbformat_minor": 2
}

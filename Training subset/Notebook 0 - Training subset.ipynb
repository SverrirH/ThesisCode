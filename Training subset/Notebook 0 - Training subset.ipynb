{
 "cells": [
  {
   "cell_type": "code",
   "execution_count": 313,
   "metadata": {},
   "outputs": [],
   "source": [
    "import pandas as pd\n",
    "import numpy as np\n",
    "import matplotlib.pyplot as plt\n",
    "from glob import glob\n",
    "import re\n",
    "import datetime\n",
    "from missingno import matrix"
   ]
  },
  {
   "cell_type": "code",
   "execution_count": 314,
   "metadata": {},
   "outputs": [],
   "source": [
    "URL_gauge_data = 'C:/Users/sverrirhd/Google Drive/Skóli/DTU/Thesis/Data/Rain gauges/'\n",
    "URL_gauge_2020_file = URL_gauge_data + 'clean2020data1475.csv'\n",
    "URL_saved_sensor_data = URL_gauge_data + 'hbs_lysigogn.csv'\n",
    "DIR_data = 'C:/Users/sverrirhd/vedurgogn/'\n",
    "DIR_rain_gauges = glob(URL_gauge_data + '*cleaned*')"
   ]
  },
  {
   "cell_type": "code",
   "execution_count": 315,
   "metadata": {},
   "outputs": [],
   "source": [
    "# Rain gauge metadata\n",
    "df_sensors = pd.read_csv(URL_saved_sensor_data, sep='\\t', encoding='Windows-1252')\n",
    "\n",
    "# Rain gauges - Review processing of this data before proceeding \n",
    "rain_gauage_ids = [re.findall('[0-9][0-9][0-9][0-9]',i)[0] for i in DIR_rain_gauges]\n",
    "gauges_raw = pd.DataFrame([pd.read_pickle(i) for i in DIR_rain_gauges],index = rain_gauage_ids).T\n",
    "gauges_raw_hour = gauges_raw.resample('1h').sum().rename(lambda x : str(x) + '_R_raw',axis=1)\n",
    "\n",
    "# Processed rain gauge data\n",
    "gauges_clean_long = pd.read_csv(URL_gauge_data + 'yfirfarid_hbs.csv',sep='\\t')\n",
    "gauges_clean_long.TIMI = pd.to_datetime(gauges_clean_long.TIMI)\n",
    "gauges_clean = gauges_clean_long.pivot_table(values='R',index='TIMI',columns='STOD')\n",
    "gauges_clean = gauges_clean.rename(lambda x : str(x) + '_R_manual',axis=1)\n",
    "\n",
    "# All rain gauge data \n",
    "gauges = pd.concat([gauges_raw_hour,gauges_clean],axis=1)\n",
    "first_non_0 = gauges.fillna(0).apply(lambda x : np.argwhere(x.values != 0)[0])\n",
    "gauges = gauges.apply(lambda x : x.iloc[first_non_0.loc[:,x.name][0]:])  \n",
    "\n",
    "# Remove rediculous outliers (53 is larges in manual dataset)\n",
    "gauges[gauges.values > 55]= np.nan\n",
    "\n",
    "# other variables\n",
    "df_temperature =  pd.read_pickle('../Rainfall - runoff/temperature_data.pkl')\n",
    "df_temperature = df_temperature.rename(lambda x : str(x) + '_T',axis=1)\n",
    "\n",
    "# Drainage flow data\n",
    "df_target = pd.read_pickle('../Drainage data/all_drainage_data_uncorrected.pkl')\n",
    "df_target = df_target.drop(['MOS-HOL','KOP-HAB'],axis=1)\n"
   ]
  },
  {
   "cell_type": "code",
   "execution_count": 316,
   "metadata": {},
   "outputs": [],
   "source": [
    "d_start = datetime.datetime(2015,1,1)\n",
    "d_end = datetime.datetime(2020,12,31,23,59,59)\n"
   ]
  },
  {
   "cell_type": "code",
   "execution_count": 317,
   "metadata": {},
   "outputs": [
    {
     "data": {
      "text/html": [
       "<div>\n",
       "<style scoped>\n",
       "    .dataframe tbody tr th:only-of-type {\n",
       "        vertical-align: middle;\n",
       "    }\n",
       "\n",
       "    .dataframe tbody tr th {\n",
       "        vertical-align: top;\n",
       "    }\n",
       "\n",
       "    .dataframe thead th {\n",
       "        text-align: right;\n",
       "    }\n",
       "</style>\n",
       "<table border=\"1\" class=\"dataframe\">\n",
       "  <thead>\n",
       "    <tr style=\"text-align: right;\">\n",
       "      <th></th>\n",
       "      <th>1473_R_raw</th>\n",
       "      <th>1474_R_raw</th>\n",
       "      <th>1475_R_raw</th>\n",
       "      <th>1478_R_raw</th>\n",
       "      <th>1481_R_raw</th>\n",
       "      <th>1482_R_raw</th>\n",
       "      <th>1485_R_raw</th>\n",
       "      <th>1578_R_raw</th>\n",
       "      <th>1473_R_manual</th>\n",
       "      <th>1474_R_manual</th>\n",
       "      <th>1475_R_manual</th>\n",
       "      <th>1478_R_manual</th>\n",
       "      <th>1485_R_manual</th>\n",
       "    </tr>\n",
       "    <tr>\n",
       "      <th>TIMI</th>\n",
       "      <th></th>\n",
       "      <th></th>\n",
       "      <th></th>\n",
       "      <th></th>\n",
       "      <th></th>\n",
       "      <th></th>\n",
       "      <th></th>\n",
       "      <th></th>\n",
       "      <th></th>\n",
       "      <th></th>\n",
       "      <th></th>\n",
       "      <th></th>\n",
       "      <th></th>\n",
       "    </tr>\n",
       "  </thead>\n",
       "  <tbody>\n",
       "    <tr>\n",
       "      <th>2005-08-22 12:00:00</th>\n",
       "      <td>NaN</td>\n",
       "      <td>NaN</td>\n",
       "      <td>NaN</td>\n",
       "      <td>NaN</td>\n",
       "      <td>NaN</td>\n",
       "      <td>NaN</td>\n",
       "      <td>1.2</td>\n",
       "      <td>NaN</td>\n",
       "      <td>NaN</td>\n",
       "      <td>NaN</td>\n",
       "      <td>NaN</td>\n",
       "      <td>NaN</td>\n",
       "      <td>NaN</td>\n",
       "    </tr>\n",
       "    <tr>\n",
       "      <th>2005-08-22 13:00:00</th>\n",
       "      <td>NaN</td>\n",
       "      <td>NaN</td>\n",
       "      <td>NaN</td>\n",
       "      <td>NaN</td>\n",
       "      <td>NaN</td>\n",
       "      <td>NaN</td>\n",
       "      <td>0.0</td>\n",
       "      <td>NaN</td>\n",
       "      <td>NaN</td>\n",
       "      <td>NaN</td>\n",
       "      <td>NaN</td>\n",
       "      <td>NaN</td>\n",
       "      <td>NaN</td>\n",
       "    </tr>\n",
       "    <tr>\n",
       "      <th>2005-08-22 14:00:00</th>\n",
       "      <td>NaN</td>\n",
       "      <td>NaN</td>\n",
       "      <td>NaN</td>\n",
       "      <td>NaN</td>\n",
       "      <td>NaN</td>\n",
       "      <td>NaN</td>\n",
       "      <td>0.0</td>\n",
       "      <td>NaN</td>\n",
       "      <td>NaN</td>\n",
       "      <td>NaN</td>\n",
       "      <td>NaN</td>\n",
       "      <td>NaN</td>\n",
       "      <td>NaN</td>\n",
       "    </tr>\n",
       "    <tr>\n",
       "      <th>2005-08-22 15:00:00</th>\n",
       "      <td>NaN</td>\n",
       "      <td>NaN</td>\n",
       "      <td>NaN</td>\n",
       "      <td>NaN</td>\n",
       "      <td>NaN</td>\n",
       "      <td>NaN</td>\n",
       "      <td>0.0</td>\n",
       "      <td>NaN</td>\n",
       "      <td>NaN</td>\n",
       "      <td>NaN</td>\n",
       "      <td>NaN</td>\n",
       "      <td>NaN</td>\n",
       "      <td>NaN</td>\n",
       "    </tr>\n",
       "    <tr>\n",
       "      <th>2005-08-22 16:00:00</th>\n",
       "      <td>NaN</td>\n",
       "      <td>NaN</td>\n",
       "      <td>NaN</td>\n",
       "      <td>NaN</td>\n",
       "      <td>NaN</td>\n",
       "      <td>NaN</td>\n",
       "      <td>0.2</td>\n",
       "      <td>NaN</td>\n",
       "      <td>NaN</td>\n",
       "      <td>NaN</td>\n",
       "      <td>NaN</td>\n",
       "      <td>NaN</td>\n",
       "      <td>NaN</td>\n",
       "    </tr>\n",
       "    <tr>\n",
       "      <th>...</th>\n",
       "      <td>...</td>\n",
       "      <td>...</td>\n",
       "      <td>...</td>\n",
       "      <td>...</td>\n",
       "      <td>...</td>\n",
       "      <td>...</td>\n",
       "      <td>...</td>\n",
       "      <td>...</td>\n",
       "      <td>...</td>\n",
       "      <td>...</td>\n",
       "      <td>...</td>\n",
       "      <td>...</td>\n",
       "      <td>...</td>\n",
       "    </tr>\n",
       "    <tr>\n",
       "      <th>2021-06-03 09:00:00</th>\n",
       "      <td>0.0</td>\n",
       "      <td>0.0</td>\n",
       "      <td>0.40</td>\n",
       "      <td>0.0</td>\n",
       "      <td>0.0</td>\n",
       "      <td>0.0</td>\n",
       "      <td>0.0</td>\n",
       "      <td>0.00</td>\n",
       "      <td>NaN</td>\n",
       "      <td>NaN</td>\n",
       "      <td>NaN</td>\n",
       "      <td>NaN</td>\n",
       "      <td>NaN</td>\n",
       "    </tr>\n",
       "    <tr>\n",
       "      <th>2021-06-03 10:00:00</th>\n",
       "      <td>0.0</td>\n",
       "      <td>0.0</td>\n",
       "      <td>0.20</td>\n",
       "      <td>0.0</td>\n",
       "      <td>0.0</td>\n",
       "      <td>0.0</td>\n",
       "      <td>0.0</td>\n",
       "      <td>0.20</td>\n",
       "      <td>NaN</td>\n",
       "      <td>NaN</td>\n",
       "      <td>NaN</td>\n",
       "      <td>NaN</td>\n",
       "      <td>NaN</td>\n",
       "    </tr>\n",
       "    <tr>\n",
       "      <th>2021-06-03 11:00:00</th>\n",
       "      <td>0.0</td>\n",
       "      <td>0.0</td>\n",
       "      <td>0.60</td>\n",
       "      <td>0.0</td>\n",
       "      <td>0.0</td>\n",
       "      <td>0.0</td>\n",
       "      <td>0.0</td>\n",
       "      <td>0.20</td>\n",
       "      <td>NaN</td>\n",
       "      <td>NaN</td>\n",
       "      <td>NaN</td>\n",
       "      <td>NaN</td>\n",
       "      <td>NaN</td>\n",
       "    </tr>\n",
       "    <tr>\n",
       "      <th>2021-06-03 12:00:00</th>\n",
       "      <td>0.0</td>\n",
       "      <td>0.0</td>\n",
       "      <td>0.35</td>\n",
       "      <td>0.0</td>\n",
       "      <td>0.0</td>\n",
       "      <td>0.0</td>\n",
       "      <td>0.0</td>\n",
       "      <td>0.05</td>\n",
       "      <td>NaN</td>\n",
       "      <td>NaN</td>\n",
       "      <td>NaN</td>\n",
       "      <td>NaN</td>\n",
       "      <td>NaN</td>\n",
       "    </tr>\n",
       "    <tr>\n",
       "      <th>2021-06-03 13:00:00</th>\n",
       "      <td>0.0</td>\n",
       "      <td>0.0</td>\n",
       "      <td>0.00</td>\n",
       "      <td>0.0</td>\n",
       "      <td>0.0</td>\n",
       "      <td>0.0</td>\n",
       "      <td>0.0</td>\n",
       "      <td>0.45</td>\n",
       "      <td>NaN</td>\n",
       "      <td>NaN</td>\n",
       "      <td>NaN</td>\n",
       "      <td>NaN</td>\n",
       "      <td>NaN</td>\n",
       "    </tr>\n",
       "  </tbody>\n",
       "</table>\n",
       "<p>138338 rows × 13 columns</p>\n",
       "</div>"
      ],
      "text/plain": [
       "                     1473_R_raw  1474_R_raw  1475_R_raw  1478_R_raw  \\\n",
       "TIMI                                                                  \n",
       "2005-08-22 12:00:00         NaN         NaN         NaN         NaN   \n",
       "2005-08-22 13:00:00         NaN         NaN         NaN         NaN   \n",
       "2005-08-22 14:00:00         NaN         NaN         NaN         NaN   \n",
       "2005-08-22 15:00:00         NaN         NaN         NaN         NaN   \n",
       "2005-08-22 16:00:00         NaN         NaN         NaN         NaN   \n",
       "...                         ...         ...         ...         ...   \n",
       "2021-06-03 09:00:00         0.0         0.0        0.40         0.0   \n",
       "2021-06-03 10:00:00         0.0         0.0        0.20         0.0   \n",
       "2021-06-03 11:00:00         0.0         0.0        0.60         0.0   \n",
       "2021-06-03 12:00:00         0.0         0.0        0.35         0.0   \n",
       "2021-06-03 13:00:00         0.0         0.0        0.00         0.0   \n",
       "\n",
       "                     1481_R_raw  1482_R_raw  1485_R_raw  1578_R_raw  \\\n",
       "TIMI                                                                  \n",
       "2005-08-22 12:00:00         NaN         NaN         1.2         NaN   \n",
       "2005-08-22 13:00:00         NaN         NaN         0.0         NaN   \n",
       "2005-08-22 14:00:00         NaN         NaN         0.0         NaN   \n",
       "2005-08-22 15:00:00         NaN         NaN         0.0         NaN   \n",
       "2005-08-22 16:00:00         NaN         NaN         0.2         NaN   \n",
       "...                         ...         ...         ...         ...   \n",
       "2021-06-03 09:00:00         0.0         0.0         0.0        0.00   \n",
       "2021-06-03 10:00:00         0.0         0.0         0.0        0.20   \n",
       "2021-06-03 11:00:00         0.0         0.0         0.0        0.20   \n",
       "2021-06-03 12:00:00         0.0         0.0         0.0        0.05   \n",
       "2021-06-03 13:00:00         0.0         0.0         0.0        0.45   \n",
       "\n",
       "                     1473_R_manual  1474_R_manual  1475_R_manual  \\\n",
       "TIMI                                                               \n",
       "2005-08-22 12:00:00            NaN            NaN            NaN   \n",
       "2005-08-22 13:00:00            NaN            NaN            NaN   \n",
       "2005-08-22 14:00:00            NaN            NaN            NaN   \n",
       "2005-08-22 15:00:00            NaN            NaN            NaN   \n",
       "2005-08-22 16:00:00            NaN            NaN            NaN   \n",
       "...                            ...            ...            ...   \n",
       "2021-06-03 09:00:00            NaN            NaN            NaN   \n",
       "2021-06-03 10:00:00            NaN            NaN            NaN   \n",
       "2021-06-03 11:00:00            NaN            NaN            NaN   \n",
       "2021-06-03 12:00:00            NaN            NaN            NaN   \n",
       "2021-06-03 13:00:00            NaN            NaN            NaN   \n",
       "\n",
       "                     1478_R_manual  1485_R_manual  \n",
       "TIMI                                               \n",
       "2005-08-22 12:00:00            NaN            NaN  \n",
       "2005-08-22 13:00:00            NaN            NaN  \n",
       "2005-08-22 14:00:00            NaN            NaN  \n",
       "2005-08-22 15:00:00            NaN            NaN  \n",
       "2005-08-22 16:00:00            NaN            NaN  \n",
       "...                            ...            ...  \n",
       "2021-06-03 09:00:00            NaN            NaN  \n",
       "2021-06-03 10:00:00            NaN            NaN  \n",
       "2021-06-03 11:00:00            NaN            NaN  \n",
       "2021-06-03 12:00:00            NaN            NaN  \n",
       "2021-06-03 13:00:00            NaN            NaN  \n",
       "\n",
       "[138338 rows x 13 columns]"
      ]
     },
     "execution_count": 317,
     "metadata": {},
     "output_type": "execute_result"
    }
   ],
   "source": [
    "gauges"
   ]
  },
  {
   "cell_type": "markdown",
   "metadata": {},
   "source": [
    "# We use 1475_R_manual to select the top 1000 rainy days from and including 2015 based on total daily rainfall"
   ]
  },
  {
   "cell_type": "code",
   "execution_count": 323,
   "metadata": {},
   "outputs": [],
   "source": [
    "# g = gauges.loc[d_start:d_end,['1475_R_manual','1485_R_manual']]\n",
    "g = gauges.loc[d_start:d_end,'1475_R_manual']"
   ]
  },
  {
   "cell_type": "code",
   "execution_count": 324,
   "metadata": {},
   "outputs": [
    {
     "data": {
      "text/plain": [
       "<AxesSubplot:>"
      ]
     },
     "execution_count": 324,
     "metadata": {},
     "output_type": "execute_result"
    },
    {
     "data": {
      "image/png": "[encoded data removed]",
      "text/plain": [
       "<Figure size 1800x720 with 2 Axes>"
      ]
     },
     "metadata": {
      "needs_background": "light"
     },
     "output_type": "display_data"
    }
   ],
   "source": [
    "matrix(pd.DataFrame(g))"
   ]
  },
  {
   "cell_type": "code",
   "execution_count": 325,
   "metadata": {},
   "outputs": [
    {
     "data": {
      "text/plain": [
       "[<matplotlib.lines.Line2D at 0x25348112dc0>]"
      ]
     },
     "execution_count": 325,
     "metadata": {},
     "output_type": "execute_result"
    },
    {
     "data": {
      "image/png": "[encoded data removed]",
      "text/plain": [
       "<Figure size 432x288 with 1 Axes>"
      ]
     },
     "metadata": {
      "needs_background": "light"
     },
     "output_type": "display_data"
    }
   ],
   "source": [
    "plt.plot(g)"
   ]
  },
  {
   "cell_type": "code",
   "execution_count": 327,
   "metadata": {},
   "outputs": [
    {
     "data": {
      "image/png": "[encoded data removed]",
      "text/plain": [
       "<Figure size 432x288 with 1 Axes>"
      ]
     },
     "metadata": {
      "needs_background": "light"
     },
     "output_type": "display_data"
    },
    {
     "data": {
      "image/png": "[encoded data removed]",
      "text/plain": [
       "<Figure size 432x288 with 1 Axes>"
      ]
     },
     "metadata": {
      "needs_background": "light"
     },
     "output_type": "display_data"
    }
   ],
   "source": [
    "g_daily = g.resample('1d').sum()\n",
    "g_daily_sorted = g_daily.sort_values()\n",
    "plt.plot(g_daily)\n",
    "plt.show()\n",
    "plt.plot(g_daily_sorted.values[::-1])\n",
    "plt.show()"
   ]
  },
  {
   "cell_type": "code",
   "execution_count": 331,
   "metadata": {},
   "outputs": [
    {
     "data": {
      "text/plain": [
       "<matplotlib.collections.LineCollection at 0x2534bc403d0>"
      ]
     },
     "execution_count": 331,
     "metadata": {},
     "output_type": "execute_result"
    },
    {
     "data": {
      "image/png": "[encoded data removed]",
      "text/plain": [
       "<Figure size 432x288 with 1 Axes>"
      ]
     },
     "metadata": {
      "needs_background": "light"
     },
     "output_type": "display_data"
    }
   ],
   "source": [
    "plt.plot(np.cumsum(g_daily_sorted.values[::-1]))\n",
    "plt.vlines(1000,0,5500,color='r')"
   ]
  },
  {
   "cell_type": "code",
   "execution_count": 335,
   "metadata": {},
   "outputs": [],
   "source": [
    "drainage_flow_daily_mean = df_target.resample('1d').mean()#*24\n",
    "drainage_flow_daily_min = df_target.resample('1d').min()#*24\n",
    "drainage_flow_daily_max = df_target.resample('1d').max()#*24\n",
    "g_daily_1000 = g_daily.sort_values()[::-1][:1000]"
   ]
  },
  {
   "cell_type": "code",
   "execution_count": 332,
   "metadata": {},
   "outputs": [
    {
     "name": "stdout",
     "output_type": "stream",
     "text": [
      "[0.5, 0.17, 0.17, 0.1, 0.06, 0.0]\n"
     ]
    }
   ],
   "source": [
    "rainfall_bins = [(0,0.5),(0.5,2),(2,5),(5,10),(10,30),(30,100)]\n",
    "gs = []\n",
    "for low,high in rainfall_bins:\n",
    "    g_sub = g_daily[((g_daily<high) & (g_daily >= low))]\n",
    "    gs.append(len(g_sub))\n",
    "gs = np.array(gs)\n",
    "print((gs/len(g_daily)).round(2).tolist())"
   ]
  },
  {
   "cell_type": "code",
   "execution_count": 336,
   "metadata": {},
   "outputs": [],
   "source": [
    "drainage_daily_sorted_mean = drainage_flow_daily_mean.loc[d_start:d_end,'RVK-GEL'].sort_values()\n",
    "drainage_daily_sorted_min = drainage_flow_daily_min.loc[d_start:d_end,'RVK-GEL'].sort_values()\n",
    "drainage_daily_sorted_max = drainage_flow_daily_max.loc[d_start:d_end,'RVK-GEL'].sort_values()"
   ]
  },
  {
   "cell_type": "code",
   "execution_count": null,
   "metadata": {},
   "outputs": [],
   "source": []
  },
  {
   "cell_type": "code",
   "execution_count": 345,
   "metadata": {},
   "outputs": [
    {
     "data": {
      "image/png": "[encoded data removed]",
      "text/plain": [
       "<Figure size 432x288 with 1 Axes>"
      ]
     },
     "metadata": {
      "needs_background": "light"
     },
     "output_type": "display_data"
    }
   ],
   "source": [
    "plt.plot(drainage_daily_sorted_mean.loc[g_daily_1000.index].values)\n",
    "plt.plot(drainage_daily_sorted_min.loc[g_daily_1000.index].values)\n",
    "plt.plot(drainage_daily_sorted_max.loc[g_daily_1000.index].values)\n",
    "plt.legend(['Mean','Max','Min'])\n",
    "plt.title('Drainage flow in order of most to least\\ndaily rainfall from rain gauge')\n",
    "plt.show()"
   ]
  },
  {
   "cell_type": "code",
   "execution_count": 340,
   "metadata": {},
   "outputs": [],
   "source": [
    "# plt.plot(drainage_daily_sorted.values[::-1])"
   ]
  },
  {
   "cell_type": "code",
   "execution_count": 309,
   "metadata": {},
   "outputs": [
    {
     "data": {
      "text/plain": [
       "[<matplotlib.lines.Line2D at 0x2534d038df0>]"
      ]
     },
     "execution_count": 309,
     "metadata": {},
     "output_type": "execute_result"
    },
    {
     "data": {
      "image/png": "[encoded data removed]",
      "text/plain": [
       "<Figure size 432x288 with 1 Axes>"
      ]
     },
     "metadata": {
      "needs_background": "light"
     },
     "output_type": "display_data"
    }
   ],
   "source": [
    "# plt.plot(drainage_daily_sorted.values[::-1])\n",
    "plt.plot(g_daily_sorted.loc[drainage_daily_sorted.index].values[::-1],c='r')"
   ]
  },
  {
   "cell_type": "code",
   "execution_count": 310,
   "metadata": {},
   "outputs": [],
   "source": [
    "baseline = g_daily_sorted.values[::-1]*13000/50 + 2500\n",
    "residual = drainage_flow_daily.loc[g_daily_sorted.index[::-1],'RVK-GEL'].values - baseline"
   ]
  },
  {
   "cell_type": "code",
   "execution_count": 312,
   "metadata": {},
   "outputs": [
    {
     "data": {
      "text/plain": [
       "[('RVK-SEI', 0.18707699974523948),\n",
       " ('RVK-BOD', 0.4122235973560834),\n",
       " ('RVK-VES', 0.30702828336976423),\n",
       " ('RVK-SKE', 0.23505424037615574),\n",
       " ('RVK-FAX', 0.20433925196244537),\n",
       " ('RVK-ANA', 0.28624928634986074),\n",
       " ('RVK-ING', 0.29244391232273714),\n",
       " ('RVK-LAU', 0.4839880621927418),\n",
       " ('RVK-GUF', 0.24236876537297508),\n",
       " ('RVK-GEL', 0.6686198469875975),\n",
       " ('RVK-KLE', 0.2884290594692998)]"
      ]
     },
     "execution_count": 312,
     "metadata": {},
     "output_type": "execute_result"
    }
   ],
   "source": [
    "[(col,g_daily_sorted.corr(drainage_flow_daily.loc[g_daily_1000.index[::-1],col])) for col in drainage_flow_daily]"
   ]
  }
 ],
 "metadata": {
  "interpreter": {
   "hash": "e808359d6018b265e552fe2e6dacfcb43580f64fd34b17ba0141ad3129b8a5ae"
  },
  "kernelspec": {
   "display_name": "Python 3.9.5 64-bit ('thesis': conda)",
   "name": "python3"
  },
  "language_info": {
   "codemirror_mode": {
    "name": "ipython",
    "version": 3
   },
   "file_extension": ".py",
   "mimetype": "text/x-python",
   "name": "python",
   "nbconvert_exporter": "python",
   "pygments_lexer": "ipython3",
   "version": "3.9.5"
  },
  "orig_nbformat": 4
 },
 "nbformat": 4,
 "nbformat_minor": 2
}

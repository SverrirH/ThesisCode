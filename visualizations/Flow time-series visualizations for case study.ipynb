{
 "cells": [
  {
   "cell_type": "code",
   "execution_count": 10,
   "metadata": {},
   "outputs": [],
   "source": [
    "import pandas as pd\n",
    "import numpy as np\n",
    "import matplotlib.pyplot as plt\n",
    "import datetime"
   ]
  },
  {
   "cell_type": "code",
   "execution_count": 27,
   "metadata": {},
   "outputs": [],
   "source": [
    "def set_size(width, fraction=1):\n",
    "    \"\"\"Set figure dimensions to avoid scaling in LaTeX.\n",
    "\n",
    "    Parameters\n",
    "    ----------\n",
    "    width: float\n",
    "            Document textwidth or columnwidth in pts\n",
    "    fraction: float, optional\n",
    "            Fraction of the width which you wish the figure to occupy\n",
    "\n",
    "    Returns\n",
    "    -------\n",
    "    fig_dim: tuple\n",
    "            Dimensions of figure in inches\n",
    "    \"\"\"\n",
    "    # Width of figure (in pts)\n",
    "    fig_width_pt = width * fraction\n",
    "\n",
    "    # Convert from pt to inches\n",
    "    inches_per_pt = 1 / 72.27\n",
    "\n",
    "    # Golden ratio to set aesthetic figure height\n",
    "    # https://disq.us/p/2940ij3\n",
    "    golden_ratio = (5**.5 - 1) / 2\n",
    "\n",
    "    # Figure width in inches\n",
    "    fig_width_in = fig_width_pt * inches_per_pt\n",
    "    # Figure height in inches\n",
    "    fig_height_in = fig_width_in * golden_ratio\n",
    "\n",
    "    fig_dim = (fig_width_in, fig_height_in)\n",
    "\n",
    "    return fig_dim\n",
    "\n",
    "# width = 345\n",
    "width = 426\n",
    "# fig, ax = plt.subplots(1, 1, figsize=set_size(width))"
   ]
  },
  {
   "cell_type": "code",
   "execution_count": 3,
   "metadata": {},
   "outputs": [],
   "source": [
    "df_drainage = pd.read_pickle('../Experiments/Data/drainage_flow.pkl')"
   ]
  },
  {
   "cell_type": "code",
   "execution_count": 7,
   "metadata": {},
   "outputs": [],
   "source": [
    "series_flow = df_drainage.loc[:,'RVK-GEL']"
   ]
  },
  {
   "cell_type": "code",
   "execution_count": 34,
   "metadata": {},
   "outputs": [
    {
     "data": {
      "image/png": "[encoded data removed]",
      "text/plain": [
       "<Figure size 127.323x78.6897 with 3 Axes>"
      ]
     },
     "metadata": {
      "needs_background": "light"
     },
     "output_type": "display_data"
    }
   ],
   "source": [
    "y_label = 'Average flow [l/s]'\n",
    "X_label = 'Time'\n",
    "year_start = datetime.datetime(2017,1,1)\n",
    "year_end = datetime.datetime(2017,12,31,23,59,59)\n",
    "month_start = datetime.datetime(2017,8,1)\n",
    "month_end = datetime.datetime(2017,9,1)\n",
    "\n",
    "f,axes = plt.subplots(3,1,figsize=set_size(width,0.3))\n",
    "h1 = axes[0].plot(series_flow)\n",
    "h2 = axes[0].plot(series_flow.loc[year_start:year_end])\n",
    "h3 = axes[0].plot(series_flow.loc[month_start:month_end])\n",
    "\n",
    "\n",
    "h4 = axes[1].plot(series_flow.loc[year_start:year_end],color = h2[0].get_color())\n",
    "h5 = axes[1].plot(series_flow.loc[month_start:month_end],color = h3[0].get_color())\n",
    "\n",
    "\n",
    "h6 = axes[2].plot(series_flow.loc[month_start:month_end],color = h5[0].get_color())\n",
    "\n",
    "# Labels\n",
    "for ax in axes:\n",
    "    ax.set_ylabel(y_label)\n",
    "    ax.set_xlabel(X_label)\n",
    "\n",
    "\n"
   ]
  },
  {
   "cell_type": "code",
   "execution_count": null,
   "metadata": {},
   "outputs": [],
   "source": []
  },
  {
   "cell_type": "code",
   "execution_count": null,
   "metadata": {},
   "outputs": [],
   "source": []
  }
 ],
 "metadata": {
  "interpreter": {
   "hash": "e808359d6018b265e552fe2e6dacfcb43580f64fd34b17ba0141ad3129b8a5ae"
  },
  "kernelspec": {
   "display_name": "Python 3.9.5 64-bit ('thesis': conda)",
   "language": "python",
   "name": "python3"
  },
  "language_info": {
   "codemirror_mode": {
    "name": "ipython",
    "version": 3
   },
   "file_extension": ".py",
   "mimetype": "text/x-python",
   "name": "python",
   "nbconvert_exporter": "python",
   "pygments_lexer": "ipython3",
   "version": "3.9.5"
  },
  "orig_nbformat": 4
 },
 "nbformat": 4,
 "nbformat_minor": 2
}

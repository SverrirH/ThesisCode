{
 "cells": [
  {
   "cell_type": "code",
   "execution_count": 9,
   "metadata": {},
   "outputs": [],
   "source": [
    "import numpy as np\n",
    "\n",
    "import datetime\n",
    "from Experiments.helpers import get_NWP_data,get_rain_gauge_or_radar_data, sw_func,find_experiment_directory"
   ]
  },
  {
   "cell_type": "code",
   "execution_count": 11,
   "metadata": {},
   "outputs": [],
   "source": [
    "threshold_dict = {\n",
    "    \"RVK-GEL\": [0, 100, 200, 300, 400, 500, 600, 700, 800, 900, 1000],\n",
    "    \"RVK-BOD\": [0, 15,  30,  45,  60,  75,  90,  105, 120, 135, 150],\n",
    "}\n",
    "\n",
    "temperature_name = \"1475_T\"\n",
    "n_obs = 1\n",
    "d_start = datetime.datetime(2015, 1, 1)\n",
    "d_end = datetime.datetime(2019, 12, 31, 23, 59, 59)\n",
    "\n",
    "pred_dist_tmp = 1\n",
    "_,X1,X2,X3,Y12 = get_rain_gauge_or_radar_data(\n",
    "    threshold_dict,\n",
    "    temperature_name,\n",
    "    n_obs,\n",
    "    d_start,d_end)\n",
    "rain_shape = (-1, n_obs, 1)\n",
    "temp_shape = (-1, n_obs, 1)\n",
    "patt_shape = (-1, n_obs, 24)"
   ]
  },
  {
   "cell_type": "code",
   "execution_count": 12,
   "metadata": {},
   "outputs": [
    {
     "name": "stdout",
     "output_type": "stream",
     "text": [
      "$0\\leq{y}<100$ $5.41$\n",
      "$100\\leq{y}<200$ $55.35$\n",
      "$200\\leq{y}<300$ $30.67$\n",
      "$300\\leq{y}<400$ $4.26$\n",
      "$400\\leq{y}<500$ $1.65$\n",
      "$500\\leq{y}<600$ $0.89$\n",
      "$600\\leq{y}<700$ $0.56$\n",
      "$700\\leq{y}<800$ $0.41$\n",
      "$800\\leq{y}<900$ $0.25$\n",
      "$900\\leq{y}<1000$ $0.17$\n",
      "$1000<$ $0.37$\n",
      "\n",
      "$0\\leq{y}<15$ $0.03$\n",
      "$15\\leq{y}<30$ $6.05$\n",
      "$30\\leq{y}<45$ $32.35$\n",
      "$45\\leq{y}<60$ $30.82$\n",
      "$60\\leq{y}<75$ $20.17$\n",
      "$75\\leq{y}<90$ $4.82$\n",
      "$90\\leq{y}<105$ $1.87$\n",
      "$105\\leq{y}<120$ $1.43$\n",
      "$120\\leq{y}<135$ $1.22$\n",
      "$135\\leq{y}<150$ $0.63$\n",
      "$150<$ $0.61$\n"
     ]
    }
   ],
   "source": [
    "\n",
    "thresholds = np.array(list(threshold_dict.values())).T\n",
    "\n",
    "t1_last = 0\n",
    "t2_last = 0\n",
    "for ts in thresholds[1:]:\n",
    "    (t1, t2) = ts\n",
    "    counts = (([t1_last,t2_last]< Y12) & (Y12 < [t1, t2])).sum(axis=0)\n",
    "    length = len(Y12)\n",
    "    proportion = counts/length*100\n",
    "    print('$'+str(t1_last)+'\\leq{y}<'+str(t1)+'$', '$'+str(proportion[0].round(2))+'$')\n",
    "    \n",
    "    t1_last = t1\n",
    "    t2_last = t2\n",
    "\n",
    "counts = (([t1_last,t2_last]< Y12)).sum(axis=0)\n",
    "length = len(Y12)\n",
    "proportion = counts/length*100\n",
    "print('$'+str(t1_last)+'<$', '$'+str(proportion[0].round(2))+'$')\n",
    "\n",
    "print()\n",
    "\n",
    "t1_last = 0\n",
    "t2_last = 0\n",
    "for ts in thresholds[1:]:\n",
    "    (t1, t2) = ts\n",
    "\n",
    "    counts = (([t1_last,t2_last]< Y12) & (Y12 < [t1, t2])).sum(axis=0)\n",
    "    length = len(Y12)\n",
    "    proportion = counts/length*100\n",
    "    print('$'+str(t2_last)+'\\leq{y}<'+str(t2)+'$', '$'+str(proportion[1].round(2))+'$')\n",
    "    \n",
    "    t1_last = t1\n",
    "    t2_last = t2\n",
    "\n",
    "counts = (([t1_last,t2_last]< Y12)).sum(axis=0)\n",
    "length = len(Y12)\n",
    "proportion = counts/length*100\n",
    "print('$'+str(t2_last)+'<$', '$'+str(proportion[1].round(2))+'$')"
   ]
  },
  {
   "cell_type": "code",
   "execution_count": null,
   "metadata": {},
   "outputs": [],
   "source": [
    "$0\\leq{y}<100$           $5.41$     \n",
    "$100\\leq{y}<200$         $55.35$    \n",
    "$200\\leq{y}<300$         $30.67$    \n",
    "$300\\leq{y}<400$         $4.26$     \n",
    "$400\\leq{y}<500$         $1.65$     \n",
    "$500\\leq{y}<600$         $0.89$     \n",
    "$600\\leq{y}<700$         $0.56$     \n",
    "$700\\leq{y}<800$         $0.41$     \n",
    "$800\\leq{y}<900$         $0.25$     \n",
    "$900\\leq{y}<1000$        $0.17$     \n",
    "$1000<$                  $0.37$      \n"
   ]
  },
  {
   "cell_type": "code",
   "execution_count": null,
   "metadata": {},
   "outputs": [],
   "source": [
    "$0\\leq{y}<15$            $0.03$     \n",
    "$15\\leq{y}<30$           $6.05$     \n",
    "$30\\leq{y}<45$           $32.35$        \n",
    "$45\\leq{y}<60$           $30.82$        \n",
    "$60\\leq{y}<75$           $20.17$        \n",
    "$75\\leq{y}<90$           $4.82$     \n",
    "$90\\leq{y}<105$          $1.87$     \n",
    "$105\\leq{y}<120$         $1.43$     \n",
    "$120\\leq{y}<135$         $1.22$     \n",
    "$135\\leq{y}<150$         $0.63$     \n",
    "$150<$                   $0.61$       "
   ]
  },
  {
   "cell_type": "code",
   "execution_count": null,
   "metadata": {},
   "outputs": [],
   "source": [
    "\\begin{table}[h]\n",
    "\\centering\n",
    "\\begin{tabular}{cccc}\n",
    "\\hline\n",
    "                  &              & \\multicolumn{2}{c}{Weight schemes} \\\\ \\cline{3-4} \n",
    "{Flowrate}        & {Proportion} & {1}              & {1}             \\\\ \\hline\n",
    "$0\\leq{y}<100$     & $5.41$       & 1                & 0.5             \\\\\n",
    "$100\\leq{y}<200$   & $55.35$      & 1                & 1               \\\\\n",
    "$200\\leq{y}<300$   & $30.67$      & 1                & 1.5             \\\\\n",
    "$300\\leq{y}<400$   & $4.26$       & 1                & 2               \\\\\n",
    "$400\\leq{y}<500$   & $1.65$       & 1                & 4               \\\\\n",
    "$500\\leq{y}<600$   & $0.89$       & 1                & 6               \\\\\n",
    "$600\\leq{y}<700$   & $0.56$       & 1                & 8               \\\\\n",
    "$700\\leq{y}<800$   & $0.41$       & 1                & 10              \\\\\n",
    "$800\\leq{y}<900$   & $0.25$       & 1                & 12              \\\\\n",
    "$900\\leq{y}<1000$  & $0.17$       & 1                & 15              \\\\\n",
    "$1000<             $ $0.37$       & $0.28$       & 1                & 20             \n",
    "\\end{tabular}\n",
    "\\caption{Gelgjutangi thresholds and weights}\n",
    "\\label{tab:tableThresholdsGel}\n",
    "\\end{table}"
   ]
  }
 ],
 "metadata": {
  "interpreter": {
   "hash": "e808359d6018b265e552fe2e6dacfcb43580f64fd34b17ba0141ad3129b8a5ae"
  },
  "kernelspec": {
   "display_name": "Python 3.9.5 64-bit ('thesis': conda)",
   "language": "python",
   "name": "python3"
  },
  "language_info": {
   "codemirror_mode": {
    "name": "ipython",
    "version": 3
   },
   "file_extension": ".py",
   "mimetype": "text/x-python",
   "name": "python",
   "nbconvert_exporter": "python",
   "pygments_lexer": "ipython3",
   "version": "3.9.5"
  },
  "orig_nbformat": 4
 },
 "nbformat": 4,
 "nbformat_minor": 2
}
